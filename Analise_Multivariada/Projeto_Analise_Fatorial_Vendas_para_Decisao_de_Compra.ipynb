{
 "cells": [
  {
   "cell_type": "markdown",
   "id": "f076ec67",
   "metadata": {},
   "source": [
    "## <font color='blue'>Data Science Para Análise Multivariada de Dados</font>\n",
    "### <font color='blue'>Projeto para área de Vendas - Identificando Fatores Latentes Que Influenciam Decisões de Compra</font>"
   ]
  },
  {
   "cell_type": "markdown",
   "id": "cb6b00b8",
   "metadata": {},
   "source": [
    "## Definição do Problema de Negócio\n",
    "- Grande empresa de varejo onde os gestores desejam entender quais são os principais fatores que determinam o comportamento de compra dos clientes.\n",
    "- A empresa tem diversas métricas coletadas sobre os hábitos de compra, mas os gestores não têm clareza sobre quais dimensões são as mais relevantes.\n",
    "- Variáveis disponíveis:\n",
    "    - **frequencia_compra:** quantidade de vezes que o cliente compra por mês.\n",
    "    - **valor_medio:** valor médio gasto por compra.\n",
    "    - **categoria_mais_comprada:** valor de 1 a 10 indicando a categoria do produto.\n",
    "    - **tempo_loja:** tempo médio (em minutos) que o cliente passa na loja por visita.\n",
    "    - **uso_app:** pontuação (1 a 10) indicando a frequencia de uso do aplicativo da loja.\n",
    "    \n",
    "**Objetivo:** realizar uma análise fatorial para reduzir a dimensionalidade dos dados e identificar os fatores latentes que explicama maior parte da variância no comportamento do cliente."
   ]
  },
  {
   "cell_type": "code",
   "execution_count": 3,
   "id": "f230c551",
   "metadata": {},
   "outputs": [],
   "source": [
    "# Imports\n",
    "import pandas as pd\n",
    "import numpy as np\n",
    "import factor_analyzer\n",
    "from factor_analyzer import FactorAnalyzer\n",
    "from factor_analyzer.factor_analyzer import calculate_bartlett_sphericity\n",
    "from factor_analyzer.factor_analyzer import calculate_kmo\n",
    "import matplotlib.pyplot as plt"
   ]
  },
  {
   "cell_type": "code",
   "execution_count": 4,
   "id": "ca13e954",
   "metadata": {},
   "outputs": [
    {
     "name": "stdout",
     "output_type": "stream",
     "text": [
      "Author: Henrique Bardella\n",
      "\n",
      "Python implementation: CPython\n",
      "Python version       : 3.9.12\n",
      "IPython version      : 8.4.0\n",
      "\n",
      "Compiler    : MSC v.1916 64 bit (AMD64)\n",
      "OS          : Windows\n",
      "Release     : 10\n",
      "Machine     : AMD64\n",
      "Processor   : AMD64 Family 25 Model 80 Stepping 0, AuthenticAMD\n",
      "CPU cores   : 16\n",
      "Architecture: 64bit\n",
      "\n",
      "numpy          : 1.21.5\n",
      "factor_analyzer: 0.5.1\n",
      "pandas         : 1.5.0\n",
      "matplotlib     : 3.7.1\n",
      "\n"
     ]
    }
   ],
   "source": [
    "# Versões dos pacotes usados neste jupyter notebook\n",
    "%reload_ext watermark\n",
    "%watermark -a \"Henrique Bardella\" \n",
    "%watermark -v -m\n",
    "%watermark --iversions"
   ]
  },
  {
   "cell_type": "markdown",
   "id": "2243baca",
   "metadata": {},
   "source": [
    "## Carregando os Dados'"
   ]
  },
  {
   "cell_type": "code",
   "execution_count": 5,
   "id": "2822b118",
   "metadata": {},
   "outputs": [],
   "source": [
    "# Carrega o dataset\n",
    "df_dsa = pd.read_csv('dados/Vendas/dataset_vendas.csv')"
   ]
  },
  {
   "cell_type": "code",
   "execution_count": 6,
   "id": "a176e9e8",
   "metadata": {},
   "outputs": [
    {
     "data": {
      "text/plain": [
       "(500, 5)"
      ]
     },
     "execution_count": 6,
     "metadata": {},
     "output_type": "execute_result"
    }
   ],
   "source": [
    "df_dsa.shape"
   ]
  },
  {
   "cell_type": "code",
   "execution_count": 7,
   "id": "c9518472",
   "metadata": {},
   "outputs": [
    {
     "data": {
      "text/html": [
       "<div>\n",
       "<style scoped>\n",
       "    .dataframe tbody tr th:only-of-type {\n",
       "        vertical-align: middle;\n",
       "    }\n",
       "\n",
       "    .dataframe tbody tr th {\n",
       "        vertical-align: top;\n",
       "    }\n",
       "\n",
       "    .dataframe thead th {\n",
       "        text-align: right;\n",
       "    }\n",
       "</style>\n",
       "<table border=\"1\" class=\"dataframe\">\n",
       "  <thead>\n",
       "    <tr style=\"text-align: right;\">\n",
       "      <th></th>\n",
       "      <th>frequencia_compras</th>\n",
       "      <th>valor_medio</th>\n",
       "      <th>categoria_mais_comprada</th>\n",
       "      <th>tempo_loja</th>\n",
       "      <th>uso_app</th>\n",
       "    </tr>\n",
       "  </thead>\n",
       "  <tbody>\n",
       "    <tr>\n",
       "      <th>0</th>\n",
       "      <td>6</td>\n",
       "      <td>264.693919</td>\n",
       "      <td>1</td>\n",
       "      <td>10.741316</td>\n",
       "      <td>2</td>\n",
       "    </tr>\n",
       "    <tr>\n",
       "      <th>1</th>\n",
       "      <td>6</td>\n",
       "      <td>154.865295</td>\n",
       "      <td>2</td>\n",
       "      <td>54.727444</td>\n",
       "      <td>2</td>\n",
       "    </tr>\n",
       "    <tr>\n",
       "      <th>2</th>\n",
       "      <td>5</td>\n",
       "      <td>212.729267</td>\n",
       "      <td>4</td>\n",
       "      <td>9.244390</td>\n",
       "      <td>4</td>\n",
       "    </tr>\n",
       "    <tr>\n",
       "      <th>3</th>\n",
       "      <td>5</td>\n",
       "      <td>270.765917</td>\n",
       "      <td>3</td>\n",
       "      <td>11.176717</td>\n",
       "      <td>5</td>\n",
       "    </tr>\n",
       "    <tr>\n",
       "      <th>4</th>\n",
       "      <td>4</td>\n",
       "      <td>85.332091</td>\n",
       "      <td>2</td>\n",
       "      <td>17.059377</td>\n",
       "      <td>2</td>\n",
       "    </tr>\n",
       "  </tbody>\n",
       "</table>\n",
       "</div>"
      ],
      "text/plain": [
       "   frequencia_compras  valor_medio  categoria_mais_comprada  tempo_loja  \\\n",
       "0                   6   264.693919                        1   10.741316   \n",
       "1                   6   154.865295                        2   54.727444   \n",
       "2                   5   212.729267                        4    9.244390   \n",
       "3                   5   270.765917                        3   11.176717   \n",
       "4                   4    85.332091                        2   17.059377   \n",
       "\n",
       "   uso_app  \n",
       "0        2  \n",
       "1        2  \n",
       "2        4  \n",
       "3        5  \n",
       "4        2  "
      ]
     },
     "execution_count": 7,
     "metadata": {},
     "output_type": "execute_result"
    }
   ],
   "source": [
    "df_dsa.head()"
   ]
  },
  {
   "cell_type": "code",
   "execution_count": 8,
   "id": "d3950f1c",
   "metadata": {},
   "outputs": [
    {
     "name": "stdout",
     "output_type": "stream",
     "text": [
      "<class 'pandas.core.frame.DataFrame'>\n",
      "RangeIndex: 500 entries, 0 to 499\n",
      "Data columns (total 5 columns):\n",
      " #   Column                   Non-Null Count  Dtype  \n",
      "---  ------                   --------------  -----  \n",
      " 0   frequencia_compras       500 non-null    int64  \n",
      " 1   valor_medio              500 non-null    float64\n",
      " 2   categoria_mais_comprada  500 non-null    int64  \n",
      " 3   tempo_loja               500 non-null    float64\n",
      " 4   uso_app                  500 non-null    int64  \n",
      "dtypes: float64(2), int64(3)\n",
      "memory usage: 19.7 KB\n"
     ]
    }
   ],
   "source": [
    "df_dsa.info()"
   ]
  },
  {
   "cell_type": "code",
   "execution_count": 10,
   "id": "b94931e5",
   "metadata": {},
   "outputs": [
    {
     "data": {
      "text/html": [
       "<div>\n",
       "<style scoped>\n",
       "    .dataframe tbody tr th:only-of-type {\n",
       "        vertical-align: middle;\n",
       "    }\n",
       "\n",
       "    .dataframe tbody tr th {\n",
       "        vertical-align: top;\n",
       "    }\n",
       "\n",
       "    .dataframe thead th {\n",
       "        text-align: right;\n",
       "    }\n",
       "</style>\n",
       "<table border=\"1\" class=\"dataframe\">\n",
       "  <thead>\n",
       "    <tr style=\"text-align: right;\">\n",
       "      <th></th>\n",
       "      <th>frequencia_compras</th>\n",
       "      <th>valor_medio</th>\n",
       "      <th>categoria_mais_comprada</th>\n",
       "      <th>tempo_loja</th>\n",
       "      <th>uso_app</th>\n",
       "    </tr>\n",
       "  </thead>\n",
       "  <tbody>\n",
       "    <tr>\n",
       "      <th>count</th>\n",
       "      <td>500.000000</td>\n",
       "      <td>500.000000</td>\n",
       "      <td>500.000000</td>\n",
       "      <td>500.000000</td>\n",
       "      <td>500.000000</td>\n",
       "    </tr>\n",
       "    <tr>\n",
       "      <th>mean</th>\n",
       "      <td>7.640000</td>\n",
       "      <td>272.260268</td>\n",
       "      <td>5.394000</td>\n",
       "      <td>61.455360</td>\n",
       "      <td>5.496000</td>\n",
       "    </tr>\n",
       "    <tr>\n",
       "      <th>std</th>\n",
       "      <td>4.007808</td>\n",
       "      <td>130.564835</td>\n",
       "      <td>2.907175</td>\n",
       "      <td>33.507112</td>\n",
       "      <td>2.867478</td>\n",
       "    </tr>\n",
       "    <tr>\n",
       "      <th>min</th>\n",
       "      <td>1.000000</td>\n",
       "      <td>50.037980</td>\n",
       "      <td>1.000000</td>\n",
       "      <td>5.320179</td>\n",
       "      <td>1.000000</td>\n",
       "    </tr>\n",
       "    <tr>\n",
       "      <th>25%</th>\n",
       "      <td>4.000000</td>\n",
       "      <td>159.885049</td>\n",
       "      <td>3.000000</td>\n",
       "      <td>32.109911</td>\n",
       "      <td>3.000000</td>\n",
       "    </tr>\n",
       "    <tr>\n",
       "      <th>50%</th>\n",
       "      <td>7.500000</td>\n",
       "      <td>275.572690</td>\n",
       "      <td>5.500000</td>\n",
       "      <td>60.119543</td>\n",
       "      <td>5.500000</td>\n",
       "    </tr>\n",
       "    <tr>\n",
       "      <th>75%</th>\n",
       "      <td>11.000000</td>\n",
       "      <td>380.644122</td>\n",
       "      <td>8.000000</td>\n",
       "      <td>90.633574</td>\n",
       "      <td>8.000000</td>\n",
       "    </tr>\n",
       "    <tr>\n",
       "      <th>max</th>\n",
       "      <td>14.000000</td>\n",
       "      <td>499.580864</td>\n",
       "      <td>10.000000</td>\n",
       "      <td>119.782696</td>\n",
       "      <td>10.000000</td>\n",
       "    </tr>\n",
       "  </tbody>\n",
       "</table>\n",
       "</div>"
      ],
      "text/plain": [
       "       frequencia_compras  valor_medio  categoria_mais_comprada  tempo_loja  \\\n",
       "count          500.000000   500.000000               500.000000  500.000000   \n",
       "mean             7.640000   272.260268                 5.394000   61.455360   \n",
       "std              4.007808   130.564835                 2.907175   33.507112   \n",
       "min              1.000000    50.037980                 1.000000    5.320179   \n",
       "25%              4.000000   159.885049                 3.000000   32.109911   \n",
       "50%              7.500000   275.572690                 5.500000   60.119543   \n",
       "75%             11.000000   380.644122                 8.000000   90.633574   \n",
       "max             14.000000   499.580864                10.000000  119.782696   \n",
       "\n",
       "          uso_app  \n",
       "count  500.000000  \n",
       "mean     5.496000  \n",
       "std      2.867478  \n",
       "min      1.000000  \n",
       "25%      3.000000  \n",
       "50%      5.500000  \n",
       "75%      8.000000  \n",
       "max     10.000000  "
      ]
     },
     "execution_count": 10,
     "metadata": {},
     "output_type": "execute_result"
    }
   ],
   "source": [
    "df_dsa.describe()"
   ]
  },
  {
   "cell_type": "markdown",
   "id": "c53665d4",
   "metadata": {},
   "source": [
    "## Verificando a Adequação dos Dados com o Teste de Bartlett\n",
    "A função calculate_bartlett_sphericity() é frequentemente usada no contexto da Análise Fatorial para testar a hipótese de esfericidade de Bartlett. A esfericidade refere-se à adequação dos dados para a análise fatorial. Se os dados são perfeitamente esféricos, isso indica que a análise fatorial pode não ser adequada porque as variáveis não estão correlacionadas.\n",
    "\n",
    "Aqui está como interpretar o resultado dessa função:\n",
    "\n",
    "**Estatística de teste**: É uma quantificação de quanto os seus dados diferem da esfericidade. Valores maiores indicam que as variáveis têm correlações significativas entre si, tornando a análise fatorial potencialmente adequada.\n",
    "\n",
    "**Valor-p**: Como na maioria dos testes estatísticos, o valor-p ajuda a determinar a significância do teste. Um valor-p baixo (tipicamente menor que 0.05) rejeita a hipótese nula de esfericidade, indicando que as variáveis estão correlacionadas e a análise fatorial pode ser apropriada. Um valor-p alto sugere que os dados são próximos da esfericidade e que as variáveis não estão fortemente correlacionadas, o que pode tornar a análise fatorial menos adequada.\n",
    "\n",
    "Em resumo, para proceder com a análise fatorial:\n",
    "\n",
    "- Se o valor-p for menor que 0.05 (ou outro limiar de significância escolhido), isso indica que as variáveis estão suficientemente correlacionadas para que a análise fatorial seja considerada apropriada.\n",
    "- Se o valor-p for maior que 0.05, deve-se ter cautela ao proceder com a análise fatorial, pois as variáveis podem não estar suficientemente correlacionadas.\n",
    "\n",
    "Lembre-se, no entanto, que a decisão de prosseguir ou não com a análise fatorial não deve ser baseada apenas no teste de esfericidade de Bartlett. Outras considerações e testes, como o teste de Kaiser-Meyer-Olkin (KMO), também devem ser levados em conta ao avaliar a adequação da análise fatorial."
   ]
  },
  {
   "cell_type": "code",
   "execution_count": 11,
   "id": "b1fd7873",
   "metadata": {},
   "outputs": [],
   "source": [
    "# Verificando a adequação dos dados\n",
    "chi_square_value, p_value = calculate_bartlett_sphericity(df_dsa)"
   ]
  },
  {
   "cell_type": "code",
   "execution_count": 12,
   "id": "8e2c764e",
   "metadata": {},
   "outputs": [
    {
     "name": "stdout",
     "output_type": "stream",
     "text": [
      "Estatística do Teste: 2052.9294481847896 \n",
      "Valor-p: 0.0\n"
     ]
    }
   ],
   "source": [
    "print('Estatística do Teste:', chi_square_value, '\\nValor-p:', p_value)"
   ]
  },
  {
   "cell_type": "markdown",
   "id": "f88af636",
   "metadata": {},
   "source": [
    "> Se o valor-p for menor que 0,05, os dados são adequados para análise fatorial."
   ]
  },
  {
   "cell_type": "markdown",
   "id": "84b37a85",
   "metadata": {},
   "source": [
    "## Verificando a Adequação dos Dados com o Teste de Kaiser-Meyer-Olkin (KMO)\n",
    "<!-- Projeto Desenvolvido na Data Science Academy - www.datascienceacademy.com.br -->\n",
    "O teste Kaiser-Meyer-Olkin (KMO) é outra medida de adequação para a Análise Fatorial (ou Análise de Componentes Principais). O teste KMO avalia a proporção de variação entre as variáveis observadas que pode ser atribuída a fatores subjacentes.\n",
    "\n",
    "A medida KMO é um valor que varia entre 0 e 1. Valores próximos a 1 indicam que as correlações parciais entre variáveis são pequenas em comparação com as correlações totais, sugerindo que a estrutura de fatores é forte e clara. Valores próximos a 0 sugerem o contrário.\n",
    "\n",
    "Aqui está como interpretar os valores de KMO:\n",
    "\n",
    "- Valor de KMO Menos de 0,50: Inadequado para a análise fatorial.\n",
    "\n",
    "- Valor de KMO entre 0,50 e 0,70: Mediocre. A análise fatorial pode não ser útil, mas ainda assim pode ser realizada.\n",
    "\n",
    "- Valor de KMO entre 0,70 e 0,80: Bom. Isso sugere que a análise fatorial deve ser útil com os dados.\n",
    "\n",
    "- Valor de KMO entre 0,80 e 0,90: Ótimo. Indica que a estrutura fatorial dos dados é forte.\n",
    "\n",
    "- Valor de KMO acima de 0,90: Excelente. Uma excelente indicação para a análise fatorial.\n",
    "\n",
    "Além da medida global de KMO, muitas implementações do teste KMO também fornecem medidas individuais de KMO para cada variável. Variáveis individuais com valores de KMO abaixo de 0,50 podem ser consideradas para exclusão da análise, pois elas não estão bem correlacionadas com as outras variáveis."
   ]
  },
  {
   "cell_type": "code",
   "execution_count": 13,
   "id": "2c88c378",
   "metadata": {},
   "outputs": [],
   "source": [
    "# Verificando a adequação dos dados usando o teste de Kaiser-Meyer-Olkin (KMO)\n",
    "kmo_all, kmo_model = calculate_kmo(df_dsa)"
   ]
  },
  {
   "cell_type": "code",
   "execution_count": 14,
   "id": "85a5d90e",
   "metadata": {},
   "outputs": [
    {
     "name": "stdout",
     "output_type": "stream",
     "text": [
      "KMO Global: 0.911997790598894\n"
     ]
    }
   ],
   "source": [
    "print('KMO Global:', kmo_model)"
   ]
  },
  {
   "cell_type": "code",
   "execution_count": 15,
   "id": "80b44464",
   "metadata": {},
   "outputs": [
    {
     "name": "stdout",
     "output_type": "stream",
     "text": [
      "KMO Por Variável: [0.91498647 0.91967945 0.90208801 0.91444814 0.90950008]\n"
     ]
    }
   ],
   "source": [
    "print('KMO Por Variável:', kmo_all)"
   ]
  },
  {
   "cell_type": "markdown",
   "id": "9f4ca941",
   "metadata": {},
   "source": [
    "## Análise Fatorial\n",
    "\n",
    "Quando utilizado a FactorAnalyzer para realizar uma Análise Fatorial, você está tentando identificar fatores latentes (não observados diretamente) que podem explicar a variação e covariação entre as variáveis observadas em seu conjunto de dados."
   ]
  },
  {
   "cell_type": "code",
   "execution_count": 16,
   "id": "c15b51e9",
   "metadata": {},
   "outputs": [],
   "source": [
    "# Cria o analisador\n",
    "fa = FactorAnalyzer(rotation = 'varimax')"
   ]
  },
  {
   "cell_type": "code",
   "execution_count": 17,
   "id": "045bf131",
   "metadata": {},
   "outputs": [
    {
     "data": {
      "text/html": [
       "<style>#sk-container-id-1 {color: black;background-color: white;}#sk-container-id-1 pre{padding: 0;}#sk-container-id-1 div.sk-toggleable {background-color: white;}#sk-container-id-1 label.sk-toggleable__label {cursor: pointer;display: block;width: 100%;margin-bottom: 0;padding: 0.3em;box-sizing: border-box;text-align: center;}#sk-container-id-1 label.sk-toggleable__label-arrow:before {content: \"▸\";float: left;margin-right: 0.25em;color: #696969;}#sk-container-id-1 label.sk-toggleable__label-arrow:hover:before {color: black;}#sk-container-id-1 div.sk-estimator:hover label.sk-toggleable__label-arrow:before {color: black;}#sk-container-id-1 div.sk-toggleable__content {max-height: 0;max-width: 0;overflow: hidden;text-align: left;background-color: #f0f8ff;}#sk-container-id-1 div.sk-toggleable__content pre {margin: 0.2em;color: black;border-radius: 0.25em;background-color: #f0f8ff;}#sk-container-id-1 input.sk-toggleable__control:checked~div.sk-toggleable__content {max-height: 200px;max-width: 100%;overflow: auto;}#sk-container-id-1 input.sk-toggleable__control:checked~label.sk-toggleable__label-arrow:before {content: \"▾\";}#sk-container-id-1 div.sk-estimator input.sk-toggleable__control:checked~label.sk-toggleable__label {background-color: #d4ebff;}#sk-container-id-1 div.sk-label input.sk-toggleable__control:checked~label.sk-toggleable__label {background-color: #d4ebff;}#sk-container-id-1 input.sk-hidden--visually {border: 0;clip: rect(1px 1px 1px 1px);clip: rect(1px, 1px, 1px, 1px);height: 1px;margin: -1px;overflow: hidden;padding: 0;position: absolute;width: 1px;}#sk-container-id-1 div.sk-estimator {font-family: monospace;background-color: #f0f8ff;border: 1px dotted black;border-radius: 0.25em;box-sizing: border-box;margin-bottom: 0.5em;}#sk-container-id-1 div.sk-estimator:hover {background-color: #d4ebff;}#sk-container-id-1 div.sk-parallel-item::after {content: \"\";width: 100%;border-bottom: 1px solid gray;flex-grow: 1;}#sk-container-id-1 div.sk-label:hover label.sk-toggleable__label {background-color: #d4ebff;}#sk-container-id-1 div.sk-serial::before {content: \"\";position: absolute;border-left: 1px solid gray;box-sizing: border-box;top: 0;bottom: 0;left: 50%;z-index: 0;}#sk-container-id-1 div.sk-serial {display: flex;flex-direction: column;align-items: center;background-color: white;padding-right: 0.2em;padding-left: 0.2em;position: relative;}#sk-container-id-1 div.sk-item {position: relative;z-index: 1;}#sk-container-id-1 div.sk-parallel {display: flex;align-items: stretch;justify-content: center;background-color: white;position: relative;}#sk-container-id-1 div.sk-item::before, #sk-container-id-1 div.sk-parallel-item::before {content: \"\";position: absolute;border-left: 1px solid gray;box-sizing: border-box;top: 0;bottom: 0;left: 50%;z-index: -1;}#sk-container-id-1 div.sk-parallel-item {display: flex;flex-direction: column;z-index: 1;position: relative;background-color: white;}#sk-container-id-1 div.sk-parallel-item:first-child::after {align-self: flex-end;width: 50%;}#sk-container-id-1 div.sk-parallel-item:last-child::after {align-self: flex-start;width: 50%;}#sk-container-id-1 div.sk-parallel-item:only-child::after {width: 0;}#sk-container-id-1 div.sk-dashed-wrapped {border: 1px dashed gray;margin: 0 0.4em 0.5em 0.4em;box-sizing: border-box;padding-bottom: 0.4em;background-color: white;}#sk-container-id-1 div.sk-label label {font-family: monospace;font-weight: bold;display: inline-block;line-height: 1.2em;}#sk-container-id-1 div.sk-label-container {text-align: center;}#sk-container-id-1 div.sk-container {/* jupyter's `normalize.less` sets `[hidden] { display: none; }` but bootstrap.min.css set `[hidden] { display: none !important; }` so we also need the `!important` here to be able to override the default hidden behavior on the sphinx rendered scikit-learn.org. See: https://github.com/scikit-learn/scikit-learn/issues/21755 */display: inline-block !important;position: relative;}#sk-container-id-1 div.sk-text-repr-fallback {display: none;}</style><div id=\"sk-container-id-1\" class=\"sk-top-container\"><div class=\"sk-text-repr-fallback\"><pre>FactorAnalyzer(rotation=&#x27;varimax&#x27;, rotation_kwargs={})</pre><b>In a Jupyter environment, please rerun this cell to show the HTML representation or trust the notebook. <br />On GitHub, the HTML representation is unable to render, please try loading this page with nbviewer.org.</b></div><div class=\"sk-container\" hidden><div class=\"sk-item\"><div class=\"sk-estimator sk-toggleable\"><input class=\"sk-toggleable__control sk-hidden--visually\" id=\"sk-estimator-id-1\" type=\"checkbox\" checked><label for=\"sk-estimator-id-1\" class=\"sk-toggleable__label sk-toggleable__label-arrow\">FactorAnalyzer</label><div class=\"sk-toggleable__content\"><pre>FactorAnalyzer(rotation=&#x27;varimax&#x27;, rotation_kwargs={})</pre></div></div></div></div></div>"
      ],
      "text/plain": [
       "FactorAnalyzer(rotation='varimax', rotation_kwargs={})"
      ]
     },
     "execution_count": 17,
     "metadata": {},
     "output_type": "execute_result"
    }
   ],
   "source": [
    "# Treina o analisador\n",
    "fa.fit(df_dsa)"
   ]
  },
  {
   "cell_type": "markdown",
   "id": "606a8a47",
   "metadata": {},
   "source": [
    "> Baseado no gráfico de cotovelo, podemos escolher o número de fatores onde o valor começa a se estabilizar."
   ]
  },
  {
   "cell_type": "code",
   "execution_count": 18,
   "id": "991c6c08",
   "metadata": {},
   "outputs": [
    {
     "data": {
      "image/png": "[encoded data removed]",
      "text/plain": [
       "<Figure size 432x288 with 1 Axes>"
      ]
     },
     "metadata": {
      "needs_background": "light"
     },
     "output_type": "display_data"
    }
   ],
   "source": [
    "# Verificando os autovalores\n",
    "eigen_values, vectors = fa.get_eigenvalues()\n",
    "plt.scatter(range(1, df_dsa.shape[1]+1), eigen_values)\n",
    "plt.plot(range(1, df_dsa.shape[1]+1), eigen_values)\n",
    "plt.title('Gráfico de Cotovelo')\n",
    "plt.xlabel('Fatores')\n",
    "plt.ylabel('Autovalor')\n",
    "plt.grid()\n",
    "plt.show()"
   ]
  },
  {
   "cell_type": "code",
   "execution_count": 19,
   "id": "c527f2b1",
   "metadata": {},
   "outputs": [],
   "source": [
    "# para reprodução dos resultados\n",
    "import random\n",
    "random.seed(1)"
   ]
  },
  {
   "cell_type": "code",
   "execution_count": 20,
   "id": "eac41fd0",
   "metadata": {},
   "outputs": [
    {
     "data": {
      "text/html": [
       "<style>#sk-container-id-2 {color: black;background-color: white;}#sk-container-id-2 pre{padding: 0;}#sk-container-id-2 div.sk-toggleable {background-color: white;}#sk-container-id-2 label.sk-toggleable__label {cursor: pointer;display: block;width: 100%;margin-bottom: 0;padding: 0.3em;box-sizing: border-box;text-align: center;}#sk-container-id-2 label.sk-toggleable__label-arrow:before {content: \"▸\";float: left;margin-right: 0.25em;color: #696969;}#sk-container-id-2 label.sk-toggleable__label-arrow:hover:before {color: black;}#sk-container-id-2 div.sk-estimator:hover label.sk-toggleable__label-arrow:before {color: black;}#sk-container-id-2 div.sk-toggleable__content {max-height: 0;max-width: 0;overflow: hidden;text-align: left;background-color: #f0f8ff;}#sk-container-id-2 div.sk-toggleable__content pre {margin: 0.2em;color: black;border-radius: 0.25em;background-color: #f0f8ff;}#sk-container-id-2 input.sk-toggleable__control:checked~div.sk-toggleable__content {max-height: 200px;max-width: 100%;overflow: auto;}#sk-container-id-2 input.sk-toggleable__control:checked~label.sk-toggleable__label-arrow:before {content: \"▾\";}#sk-container-id-2 div.sk-estimator input.sk-toggleable__control:checked~label.sk-toggleable__label {background-color: #d4ebff;}#sk-container-id-2 div.sk-label input.sk-toggleable__control:checked~label.sk-toggleable__label {background-color: #d4ebff;}#sk-container-id-2 input.sk-hidden--visually {border: 0;clip: rect(1px 1px 1px 1px);clip: rect(1px, 1px, 1px, 1px);height: 1px;margin: -1px;overflow: hidden;padding: 0;position: absolute;width: 1px;}#sk-container-id-2 div.sk-estimator {font-family: monospace;background-color: #f0f8ff;border: 1px dotted black;border-radius: 0.25em;box-sizing: border-box;margin-bottom: 0.5em;}#sk-container-id-2 div.sk-estimator:hover {background-color: #d4ebff;}#sk-container-id-2 div.sk-parallel-item::after {content: \"\";width: 100%;border-bottom: 1px solid gray;flex-grow: 1;}#sk-container-id-2 div.sk-label:hover label.sk-toggleable__label {background-color: #d4ebff;}#sk-container-id-2 div.sk-serial::before {content: \"\";position: absolute;border-left: 1px solid gray;box-sizing: border-box;top: 0;bottom: 0;left: 50%;z-index: 0;}#sk-container-id-2 div.sk-serial {display: flex;flex-direction: column;align-items: center;background-color: white;padding-right: 0.2em;padding-left: 0.2em;position: relative;}#sk-container-id-2 div.sk-item {position: relative;z-index: 1;}#sk-container-id-2 div.sk-parallel {display: flex;align-items: stretch;justify-content: center;background-color: white;position: relative;}#sk-container-id-2 div.sk-item::before, #sk-container-id-2 div.sk-parallel-item::before {content: \"\";position: absolute;border-left: 1px solid gray;box-sizing: border-box;top: 0;bottom: 0;left: 50%;z-index: -1;}#sk-container-id-2 div.sk-parallel-item {display: flex;flex-direction: column;z-index: 1;position: relative;background-color: white;}#sk-container-id-2 div.sk-parallel-item:first-child::after {align-self: flex-end;width: 50%;}#sk-container-id-2 div.sk-parallel-item:last-child::after {align-self: flex-start;width: 50%;}#sk-container-id-2 div.sk-parallel-item:only-child::after {width: 0;}#sk-container-id-2 div.sk-dashed-wrapped {border: 1px dashed gray;margin: 0 0.4em 0.5em 0.4em;box-sizing: border-box;padding-bottom: 0.4em;background-color: white;}#sk-container-id-2 div.sk-label label {font-family: monospace;font-weight: bold;display: inline-block;line-height: 1.2em;}#sk-container-id-2 div.sk-label-container {text-align: center;}#sk-container-id-2 div.sk-container {/* jupyter's `normalize.less` sets `[hidden] { display: none; }` but bootstrap.min.css set `[hidden] { display: none !important; }` so we also need the `!important` here to be able to override the default hidden behavior on the sphinx rendered scikit-learn.org. See: https://github.com/scikit-learn/scikit-learn/issues/21755 */display: inline-block !important;position: relative;}#sk-container-id-2 div.sk-text-repr-fallback {display: none;}</style><div id=\"sk-container-id-2\" class=\"sk-top-container\"><div class=\"sk-text-repr-fallback\"><pre>FactorAnalyzer(n_factors=2, rotation=&#x27;varimax&#x27;, rotation_kwargs={})</pre><b>In a Jupyter environment, please rerun this cell to show the HTML representation or trust the notebook. <br />On GitHub, the HTML representation is unable to render, please try loading this page with nbviewer.org.</b></div><div class=\"sk-container\" hidden><div class=\"sk-item\"><div class=\"sk-estimator sk-toggleable\"><input class=\"sk-toggleable__control sk-hidden--visually\" id=\"sk-estimator-id-2\" type=\"checkbox\" checked><label for=\"sk-estimator-id-2\" class=\"sk-toggleable__label sk-toggleable__label-arrow\">FactorAnalyzer</label><div class=\"sk-toggleable__content\"><pre>FactorAnalyzer(n_factors=2, rotation=&#x27;varimax&#x27;, rotation_kwargs={})</pre></div></div></div></div></div>"
      ],
      "text/plain": [
       "FactorAnalyzer(n_factors=2, rotation='varimax', rotation_kwargs={})"
      ]
     },
     "execution_count": 20,
     "metadata": {},
     "output_type": "execute_result"
    }
   ],
   "source": [
    "# Realizando análise fatorial com 2 fatores \n",
    "fa = FactorAnalyzer(n_factors = 2, rotation = \"varimax\")\n",
    "fa.fit(df_dsa)"
   ]
  },
  {
   "cell_type": "code",
   "execution_count": 22,
   "id": "b20b1ae6",
   "metadata": {},
   "outputs": [
    {
     "name": "stdout",
     "output_type": "stream",
     "text": [
      "[[0.77025527 0.3985401 ]\n",
      " [0.73479724 0.4260281 ]\n",
      " [0.53652225 0.84092422]\n",
      " [0.74905294 0.42623636]\n",
      " [0.7418765  0.44453942]]\n"
     ]
    }
   ],
   "source": [
    "# Verificando a carga fatorial\n",
    "loadings = fa.loadings_\n",
    "print(loadings)"
   ]
  },
  {
   "cell_type": "code",
   "execution_count": 23,
   "id": "888d384a",
   "metadata": {},
   "outputs": [
    {
     "data": {
      "text/plain": [
       "array([0.7521274 , 0.72142692, 0.99500967, 0.74275775, 0.74799604])"
      ]
     },
     "execution_count": 23,
     "metadata": {},
     "output_type": "execute_result"
    }
   ],
   "source": [
    "# Comunalidades \n",
    "fa.get_communalities()"
   ]
  },
  {
   "cell_type": "markdown",
   "id": "d2ebceac",
   "metadata": {},
   "source": [
    "Vamos analisar a saída e interpretá-la passo a passo:\n",
    "\n",
    "**Cargas Fatoriais (Factor Loadings):**\n",
    "\n",
    "Após treinar o analisador (fa.fit(df_dsa)), você pode obter as cargas fatoriais com fa.loadings_. As cargas fatoriais indicam a relação linear entre cada variável e o fator. Uma carga fatorial alta (em valor absoluto) indica que a variável está fortemente relacionada com o fator. O sinal da carga fatorial indica a direção da relação.\n",
    "\n",
    "**Valores Próprios (Eigenvalues):**\n",
    "\n",
    "Você pode verificar os valores próprios com fa.eigenvalues_. Eles representam a quantidade de variação explicada por cada fator. Comumente, um critério chamado \"critério de Kaiser\" é usado, onde apenas fatores com valores próprios próximos de 1 são considerados significativos. No entanto, essa é apenas uma heurística e outras técnicas, como a análise do gráfico de cotovelo, também podem ser usadas.\n",
    "\n",
    "**Variação Explicada:**\n",
    "\n",
    "Isso indica a proporção da variação total nos dados que é explicada pelos fatores extraídos. Geralmente, em análises fatoriais, buscamos um conjunto menor de fatores que ainda capture uma boa proporção da variação total nos dados.\n",
    "\n",
    "**Rotação:**\n",
    "\n",
    "A rotação é uma técnica usada para tornar a saída da análise fatorial mais interpretável. A rotação Varimax tenta maximizar a variação das cargas fatoriais, tornando algumas cargas fatoriais o mais próximo possível de 0 e outras o mais próximo possível de 1 ou -1. Isso torna mais fácil identificar quais variáveis estão associadas a quais fatores.\n",
    "\n",
    "**Scores Fatoriais:**\n",
    "\n",
    "Após treinar o analisador, você pode usar fa.transform(df) para obter os scores fatoriais para cada observação em seu conjunto de dados. Os scores fatoriais representam a pontuação de cada observação em cada fator.\n",
    "\n",
    "**Comunalidades (Communalities):**\n",
    "\n",
    "As comunalidades, que podem ser acessadas com fa.get_communalities(), representam a proporção da variação em cada variável que é explicada pelos fatores. Um valor próximo de 1 indica que a variável é bem explicada pelos fatores, enquanto um valor próximo de 0 indica o contrário."
   ]
  },
  {
   "cell_type": "code",
   "execution_count": 24,
   "id": "bbd62962",
   "metadata": {},
   "outputs": [
    {
     "name": "stdout",
     "output_type": "stream",
     "text": [
      "[[0.77025527 0.3985401 ]\n",
      " [0.73479724 0.4260281 ]\n",
      " [0.53652225 0.84092422]\n",
      " [0.74905294 0.42623636]\n",
      " [0.7418765  0.44453942]]\n"
     ]
    }
   ],
   "source": [
    "# Verificando a carga fatorial\n",
    "loadings = fa.loadings_\n",
    "print(loadings)"
   ]
  },
  {
   "cell_type": "code",
   "execution_count": 25,
   "id": "aad5a88f",
   "metadata": {},
   "outputs": [
    {
     "data": {
      "text/plain": [
       "Index(['frequencia_compras', 'valor_medio', 'categoria_mais_comprada',\n",
       "       'tempo_loja', 'uso_app'],\n",
       "      dtype='object')"
      ]
     },
     "execution_count": 25,
     "metadata": {},
     "output_type": "execute_result"
    }
   ],
   "source": [
    "df_dsa.columns"
   ]
  },
  {
   "cell_type": "markdown",
   "id": "9e81c91c",
   "metadata": {},
   "source": [
    "**Interpretação:**\n",
    "\n",
    "Fator 1 (F1): Este fator tem cargas fatoriais fortes para **frequencia_compras**, **valor_medio**, **tempo_loja** e **uso_app**, o que sugere que este fator pode estar relacionado ao \"envolvimento geral do cliente\" ou \"intensidade da relação do cliente com a loja\". Pode representar clientes que não apenas compram frequentemente, mas também passam mais tempo na loja, gastam o mesmo valor em média e usam o aplicativo com frequência.\n",
    "\n",
    "Fator 2 (F2): Este fator tem uma carga fatorial muito forte para **categoria_mais_comprada**, sugerindo que pode estar relacionado à \"lealdade do cliente a um tipo de produto ou marca\". Pode representar clientes que buscam produto ou marca específicos e não focam apenas no valor do produto.\n",
    "\n",
    "Lembre-se de que a interpretação dos fatores depende não apenas dos loadings, mas também do contexto do negócio e do conhecimento substancial do domínio. A interpretação acima é baseada estritamente nos valores da carga fatorial do nosso modelo e deve ser ajustada com base em informações adicionais sobre os clientes e a loja."
   ]
  }
 ],
 "metadata": {
  "kernelspec": {
   "display_name": "Python 3 (ipykernel)",
   "language": "python",
   "name": "python3"
  },
  "language_info": {
   "codemirror_mode": {
    "name": "ipython",
    "version": 3
   },
   "file_extension": ".py",
   "mimetype": "text/x-python",
   "name": "python",
   "nbconvert_exporter": "python",
   "pygments_lexer": "ipython3",
   "version": "3.9.12"
  }
 },
 "nbformat": 4,
 "nbformat_minor": 5
}
