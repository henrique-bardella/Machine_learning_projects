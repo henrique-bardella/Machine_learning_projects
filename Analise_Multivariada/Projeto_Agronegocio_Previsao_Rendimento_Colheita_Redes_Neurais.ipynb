{
 "cells": [
  {
   "cell_type": "markdown",
   "id": "38c89027",
   "metadata": {},
   "source": [
    "## <font color='blue'>Data Science Para Análise Multivariada de Dados</font>\n",
    "### <font color='blue'>Data Science no Agronegócio</font>\n",
    "### <font color='blue'>Previsão de Rendimento de Colheita e Otimização da Irrigação</font>"
   ]
  },
  {
   "cell_type": "markdown",
   "id": "8fa56b00",
   "metadata": {},
   "source": [
    "## Instalando e Carregando os Pacotes"
   ]
  },
  {
   "cell_type": "code",
   "execution_count": 1,
   "id": "290e9e64",
   "metadata": {},
   "outputs": [
    {
     "name": "stdout",
     "output_type": "stream",
     "text": [
      "env: TF_CPP_MIN_LOG_LEVEL=3\n"
     ]
    }
   ],
   "source": [
    "# Define o nível de log no tensor flow\n",
    "%env TF_CPP_MIN_LOG_LEVEL=3"
   ]
  },
  {
   "cell_type": "code",
   "execution_count": 2,
   "id": "65769cd0",
   "metadata": {},
   "outputs": [],
   "source": [
    "# Imports\n",
    "import joblib\n",
    "import sklearn\n",
    "import pandas as pd\n",
    "import tensorflow as tf\n",
    "from sklearn.model_selection import train_test_split\n",
    "from sklearn.preprocessing import StandardScaler\n",
    "from tensorflow.keras.models import Sequential\n",
    "from tensorflow.keras.layers import Dense, Dropout\n",
    "from tensorflow.keras.callbacks import EarlyStopping, ModelCheckpoint\n",
    "import warnings\n",
    "warnings.filterwarnings('ignore')"
   ]
  },
  {
   "cell_type": "code",
   "execution_count": 3,
   "id": "a7f2d213",
   "metadata": {},
   "outputs": [
    {
     "name": "stdout",
     "output_type": "stream",
     "text": [
      "Author: Henrique Bardella\n",
      "\n",
      "Python implementation: CPython\n",
      "Python version       : 3.9.12\n",
      "IPython version      : 8.4.0\n",
      "\n",
      "Compiler    : MSC v.1916 64 bit (AMD64)\n",
      "OS          : Windows\n",
      "Release     : 10\n",
      "Machine     : AMD64\n",
      "Processor   : AMD64 Family 25 Model 80 Stepping 0, AuthenticAMD\n",
      "CPU cores   : 16\n",
      "Architecture: 64bit\n",
      "\n",
      "joblib    : 1.2.0\n",
      "pandas    : 1.5.0\n",
      "tensorflow: 2.11.0\n",
      "sklearn   : 0.0\n",
      "\n"
     ]
    }
   ],
   "source": [
    "# Versões dos pacotes usados neste jupyter notebook\n",
    "%reload_ext watermark\n",
    "%watermark -a \"Henrique Bardella\" \n",
    "%watermark -v -m\n",
    "%watermark --iversions"
   ]
  },
  {
   "cell_type": "markdown",
   "id": "6abc93a6",
   "metadata": {},
   "source": [
    "## Carregando o Conjunto de Dados"
   ]
  },
  {
   "cell_type": "code",
   "execution_count": 4,
   "id": "d4a6c318",
   "metadata": {},
   "outputs": [],
   "source": [
    "# Carregar o dataset\n",
    "df_dsa = pd.read_csv('dataset_agro.csv')"
   ]
  },
  {
   "cell_type": "code",
   "execution_count": 5,
   "id": "72f48f0a",
   "metadata": {},
   "outputs": [
    {
     "data": {
      "text/plain": [
       "(124, 12)"
      ]
     },
     "execution_count": 5,
     "metadata": {},
     "output_type": "execute_result"
    }
   ],
   "source": [
    "df_dsa.shape"
   ]
  },
  {
   "cell_type": "code",
   "execution_count": 6,
   "id": "67b9d462",
   "metadata": {},
   "outputs": [
    {
     "data": {
      "text/html": [
       "<div>\n",
       "<style scoped>\n",
       "    .dataframe tbody tr th:only-of-type {\n",
       "        vertical-align: middle;\n",
       "    }\n",
       "\n",
       "    .dataframe tbody tr th {\n",
       "        vertical-align: top;\n",
       "    }\n",
       "\n",
       "    .dataframe thead th {\n",
       "        text-align: right;\n",
       "    }\n",
       "</style>\n",
       "<table border=\"1\" class=\"dataframe\">\n",
       "  <thead>\n",
       "    <tr style=\"text-align: right;\">\n",
       "      <th></th>\n",
       "      <th>data</th>\n",
       "      <th>indice_vegetacao</th>\n",
       "      <th>capacidade_solo</th>\n",
       "      <th>concentracao_co2</th>\n",
       "      <th>nivel_nutrientes</th>\n",
       "      <th>indice_fertilizantes</th>\n",
       "      <th>profundidade_raiz</th>\n",
       "      <th>radiacao_solar</th>\n",
       "      <th>precipitacao</th>\n",
       "      <th>estagio_crescimento</th>\n",
       "      <th>historico_rendimento</th>\n",
       "      <th>umidade</th>\n",
       "    </tr>\n",
       "  </thead>\n",
       "  <tbody>\n",
       "    <tr>\n",
       "      <th>0</th>\n",
       "      <td>2012-12-01</td>\n",
       "      <td>323</td>\n",
       "      <td>455</td>\n",
       "      <td>3102.61</td>\n",
       "      <td>423.45</td>\n",
       "      <td>844.0</td>\n",
       "      <td>468.0</td>\n",
       "      <td>578.0</td>\n",
       "      <td>28.67</td>\n",
       "      <td>207.70504</td>\n",
       "      <td>117.7</td>\n",
       "      <td>79.261905</td>\n",
       "    </tr>\n",
       "    <tr>\n",
       "      <th>1</th>\n",
       "      <td>2013-01-01</td>\n",
       "      <td>345</td>\n",
       "      <td>546</td>\n",
       "      <td>3100.45</td>\n",
       "      <td>415.85</td>\n",
       "      <td>799.0</td>\n",
       "      <td>485.0</td>\n",
       "      <td>557.0</td>\n",
       "      <td>24.49</td>\n",
       "      <td>228.94287</td>\n",
       "      <td>4.5</td>\n",
       "      <td>82.193548</td>\n",
       "    </tr>\n",
       "    <tr>\n",
       "      <th>2</th>\n",
       "      <td>2013-02-01</td>\n",
       "      <td>362</td>\n",
       "      <td>595</td>\n",
       "      <td>3199.41</td>\n",
       "      <td>410.77</td>\n",
       "      <td>718.0</td>\n",
       "      <td>466.0</td>\n",
       "      <td>552.0</td>\n",
       "      <td>22.06</td>\n",
       "      <td>238.41747</td>\n",
       "      <td>25.1</td>\n",
       "      <td>74.839286</td>\n",
       "    </tr>\n",
       "    <tr>\n",
       "      <th>3</th>\n",
       "      <td>2013-03-01</td>\n",
       "      <td>376</td>\n",
       "      <td>636</td>\n",
       "      <td>3281.67</td>\n",
       "      <td>414.82</td>\n",
       "      <td>614.0</td>\n",
       "      <td>442.0</td>\n",
       "      <td>574.0</td>\n",
       "      <td>21.64</td>\n",
       "      <td>218.47599</td>\n",
       "      <td>53.6</td>\n",
       "      <td>77.935484</td>\n",
       "    </tr>\n",
       "    <tr>\n",
       "      <th>4</th>\n",
       "      <td>2013-04-01</td>\n",
       "      <td>383</td>\n",
       "      <td>738</td>\n",
       "      <td>3261.65</td>\n",
       "      <td>451.04</td>\n",
       "      <td>619.0</td>\n",
       "      <td>429.0</td>\n",
       "      <td>595.0</td>\n",
       "      <td>22.30</td>\n",
       "      <td>226.15010</td>\n",
       "      <td>166.0</td>\n",
       "      <td>80.450000</td>\n",
       "    </tr>\n",
       "  </tbody>\n",
       "</table>\n",
       "</div>"
      ],
      "text/plain": [
       "         data  indice_vegetacao  capacidade_solo  concentracao_co2  \\\n",
       "0  2012-12-01               323              455           3102.61   \n",
       "1  2013-01-01               345              546           3100.45   \n",
       "2  2013-02-01               362              595           3199.41   \n",
       "3  2013-03-01               376              636           3281.67   \n",
       "4  2013-04-01               383              738           3261.65   \n",
       "\n",
       "   nivel_nutrientes  indice_fertilizantes  profundidade_raiz  radiacao_solar  \\\n",
       "0            423.45                 844.0              468.0           578.0   \n",
       "1            415.85                 799.0              485.0           557.0   \n",
       "2            410.77                 718.0              466.0           552.0   \n",
       "3            414.82                 614.0              442.0           574.0   \n",
       "4            451.04                 619.0              429.0           595.0   \n",
       "\n",
       "   precipitacao  estagio_crescimento  historico_rendimento    umidade  \n",
       "0         28.67            207.70504                 117.7  79.261905  \n",
       "1         24.49            228.94287                   4.5  82.193548  \n",
       "2         22.06            238.41747                  25.1  74.839286  \n",
       "3         21.64            218.47599                  53.6  77.935484  \n",
       "4         22.30            226.15010                 166.0  80.450000  "
      ]
     },
     "execution_count": 6,
     "metadata": {},
     "output_type": "execute_result"
    }
   ],
   "source": [
    "df_dsa.head()"
   ]
  },
  {
   "cell_type": "markdown",
   "id": "a363e771",
   "metadata": {},
   "source": [
    "## Análise Exploratória\n"
   ]
  },
  {
   "cell_type": "code",
   "execution_count": 7,
   "id": "a9f38b92",
   "metadata": {},
   "outputs": [
    {
     "data": {
      "text/plain": [
       "data                     object\n",
       "indice_vegetacao          int64\n",
       "capacidade_solo           int64\n",
       "concentracao_co2        float64\n",
       "nivel_nutrientes        float64\n",
       "indice_fertilizantes    float64\n",
       "profundidade_raiz       float64\n",
       "radiacao_solar          float64\n",
       "precipitacao            float64\n",
       "estagio_crescimento     float64\n",
       "historico_rendimento    float64\n",
       "umidade                 float64\n",
       "dtype: object"
      ]
     },
     "execution_count": 7,
     "metadata": {},
     "output_type": "execute_result"
    }
   ],
   "source": [
    "# Verificar os tiposde da dados das colunas\n",
    "df_dsa.dtypes"
   ]
  },
  {
   "cell_type": "code",
   "execution_count": 8,
   "id": "48c9bdb1",
   "metadata": {},
   "outputs": [
    {
     "data": {
      "text/plain": [
       "Index(['data', 'indice_vegetacao', 'capacidade_solo', 'concentracao_co2',\n",
       "       'nivel_nutrientes', 'indice_fertilizantes', 'profundidade_raiz',\n",
       "       'radiacao_solar', 'precipitacao', 'estagio_crescimento',\n",
       "       'historico_rendimento', 'umidade'],\n",
       "      dtype='object')"
      ]
     },
     "execution_count": 8,
     "metadata": {},
     "output_type": "execute_result"
    }
   ],
   "source": [
    "# Exibir as colunas do dataset\n",
    "df_dsa.columns"
   ]
  },
  {
   "cell_type": "code",
   "execution_count": 9,
   "id": "725d8dd9",
   "metadata": {},
   "outputs": [
    {
     "name": "stdout",
     "output_type": "stream",
     "text": [
      "Colunas não numéricas: Index(['data'], dtype='object')\n"
     ]
    }
   ],
   "source": [
    "# Identificar colunas não numéricas\n",
    "non_numeric_columns = df_dsa.select_dtypes(include = ['object']).columns\n",
    "print(f'Colunas não numéricas: {non_numeric_columns}')"
   ]
  },
  {
   "cell_type": "markdown",
   "id": "a528c1f3",
   "metadata": {},
   "source": [
    "## Limpeza e Transformação"
   ]
  },
  {
   "cell_type": "code",
   "execution_count": 10,
   "id": "a6ccc727",
   "metadata": {},
   "outputs": [],
   "source": [
    "# Remover colunas não numéricas (se não forem necessárias)\n",
    "df_dsa = df_dsa.drop(columns = non_numeric_columns)"
   ]
  },
  {
   "cell_type": "code",
   "execution_count": 11,
   "id": "77279d2e",
   "metadata": {},
   "outputs": [],
   "source": [
    "# Verificar se a coluna 'umidade' contém valores numéricos\n",
    "if df_dsa['umidade'].dtype == 'object':\n",
    "    df_dsa['umidade'] = pd.to_numeric(df_dsa['umidade'], errors = 'coerce')"
   ]
  },
  {
   "cell_type": "code",
   "execution_count": 12,
   "id": "94f4775e",
   "metadata": {},
   "outputs": [],
   "source": [
    "# Remover linhas com valores faltantes\n",
    "df_dsa = df_dsa.dropna()"
   ]
  },
  {
   "cell_type": "markdown",
   "id": "2b58bf6b",
   "metadata": {},
   "source": [
    "## Padronização dos Dados"
   ]
  },
  {
   "cell_type": "code",
   "execution_count": 13,
   "id": "eb8aaf1e",
   "metadata": {},
   "outputs": [],
   "source": [
    "# Separar preditores e variável alvo\n",
    "X = df_dsa.drop(columns = 'umidade')\n",
    "y = df_dsa['umidade']"
   ]
  },
  {
   "cell_type": "code",
   "execution_count": 14,
   "id": "b6209085",
   "metadata": {},
   "outputs": [],
   "source": [
    "# Dividir os dados em conjunto de treino  teste\n",
    "X_treino, X_teste, y_treino, y_teste = train_test_split(X, y, test_size = 0.2, random_state = 42)"
   ]
  },
  {
   "cell_type": "code",
   "execution_count": 15,
   "id": "f7fae57e",
   "metadata": {},
   "outputs": [],
   "source": [
    "# Cria o padronizador \n",
    "scaler = StandardScaler()"
   ]
  },
  {
   "cell_type": "code",
   "execution_count": 16,
   "id": "50228ec6",
   "metadata": {},
   "outputs": [],
   "source": [
    "# Padroniza os dados\n",
    "X_treino_scaled = scaler.fit_transform(X_treino)\n",
    "X_teste_scaled = scaler.transform(X_teste)"
   ]
  },
  {
   "cell_type": "code",
   "execution_count": 17,
   "id": "2215f96a",
   "metadata": {},
   "outputs": [
    {
     "data": {
      "text/plain": [
       "['scaler.joblib']"
      ]
     },
     "execution_count": 17,
     "metadata": {},
     "output_type": "execute_result"
    }
   ],
   "source": [
    "# Salva o padronizador no disco\n",
    "joblib.dump(scaler, 'scaler.joblib')"
   ]
  },
  {
   "cell_type": "code",
   "execution_count": 18,
   "id": "1151523b",
   "metadata": {},
   "outputs": [
    {
     "data": {
      "text/html": [
       "<style>#sk-container-id-1 {color: black;background-color: white;}#sk-container-id-1 pre{padding: 0;}#sk-container-id-1 div.sk-toggleable {background-color: white;}#sk-container-id-1 label.sk-toggleable__label {cursor: pointer;display: block;width: 100%;margin-bottom: 0;padding: 0.3em;box-sizing: border-box;text-align: center;}#sk-container-id-1 label.sk-toggleable__label-arrow:before {content: \"▸\";float: left;margin-right: 0.25em;color: #696969;}#sk-container-id-1 label.sk-toggleable__label-arrow:hover:before {color: black;}#sk-container-id-1 div.sk-estimator:hover label.sk-toggleable__label-arrow:before {color: black;}#sk-container-id-1 div.sk-toggleable__content {max-height: 0;max-width: 0;overflow: hidden;text-align: left;background-color: #f0f8ff;}#sk-container-id-1 div.sk-toggleable__content pre {margin: 0.2em;color: black;border-radius: 0.25em;background-color: #f0f8ff;}#sk-container-id-1 input.sk-toggleable__control:checked~div.sk-toggleable__content {max-height: 200px;max-width: 100%;overflow: auto;}#sk-container-id-1 input.sk-toggleable__control:checked~label.sk-toggleable__label-arrow:before {content: \"▾\";}#sk-container-id-1 div.sk-estimator input.sk-toggleable__control:checked~label.sk-toggleable__label {background-color: #d4ebff;}#sk-container-id-1 div.sk-label input.sk-toggleable__control:checked~label.sk-toggleable__label {background-color: #d4ebff;}#sk-container-id-1 input.sk-hidden--visually {border: 0;clip: rect(1px 1px 1px 1px);clip: rect(1px, 1px, 1px, 1px);height: 1px;margin: -1px;overflow: hidden;padding: 0;position: absolute;width: 1px;}#sk-container-id-1 div.sk-estimator {font-family: monospace;background-color: #f0f8ff;border: 1px dotted black;border-radius: 0.25em;box-sizing: border-box;margin-bottom: 0.5em;}#sk-container-id-1 div.sk-estimator:hover {background-color: #d4ebff;}#sk-container-id-1 div.sk-parallel-item::after {content: \"\";width: 100%;border-bottom: 1px solid gray;flex-grow: 1;}#sk-container-id-1 div.sk-label:hover label.sk-toggleable__label {background-color: #d4ebff;}#sk-container-id-1 div.sk-serial::before {content: \"\";position: absolute;border-left: 1px solid gray;box-sizing: border-box;top: 0;bottom: 0;left: 50%;z-index: 0;}#sk-container-id-1 div.sk-serial {display: flex;flex-direction: column;align-items: center;background-color: white;padding-right: 0.2em;padding-left: 0.2em;position: relative;}#sk-container-id-1 div.sk-item {position: relative;z-index: 1;}#sk-container-id-1 div.sk-parallel {display: flex;align-items: stretch;justify-content: center;background-color: white;position: relative;}#sk-container-id-1 div.sk-item::before, #sk-container-id-1 div.sk-parallel-item::before {content: \"\";position: absolute;border-left: 1px solid gray;box-sizing: border-box;top: 0;bottom: 0;left: 50%;z-index: -1;}#sk-container-id-1 div.sk-parallel-item {display: flex;flex-direction: column;z-index: 1;position: relative;background-color: white;}#sk-container-id-1 div.sk-parallel-item:first-child::after {align-self: flex-end;width: 50%;}#sk-container-id-1 div.sk-parallel-item:last-child::after {align-self: flex-start;width: 50%;}#sk-container-id-1 div.sk-parallel-item:only-child::after {width: 0;}#sk-container-id-1 div.sk-dashed-wrapped {border: 1px dashed gray;margin: 0 0.4em 0.5em 0.4em;box-sizing: border-box;padding-bottom: 0.4em;background-color: white;}#sk-container-id-1 div.sk-label label {font-family: monospace;font-weight: bold;display: inline-block;line-height: 1.2em;}#sk-container-id-1 div.sk-label-container {text-align: center;}#sk-container-id-1 div.sk-container {/* jupyter's `normalize.less` sets `[hidden] { display: none; }` but bootstrap.min.css set `[hidden] { display: none !important; }` so we also need the `!important` here to be able to override the default hidden behavior on the sphinx rendered scikit-learn.org. See: https://github.com/scikit-learn/scikit-learn/issues/21755 */display: inline-block !important;position: relative;}#sk-container-id-1 div.sk-text-repr-fallback {display: none;}</style><div id=\"sk-container-id-1\" class=\"sk-top-container\"><div class=\"sk-text-repr-fallback\"><pre>StandardScaler()</pre><b>In a Jupyter environment, please rerun this cell to show the HTML representation or trust the notebook. <br />On GitHub, the HTML representation is unable to render, please try loading this page with nbviewer.org.</b></div><div class=\"sk-container\" hidden><div class=\"sk-item\"><div class=\"sk-estimator sk-toggleable\"><input class=\"sk-toggleable__control sk-hidden--visually\" id=\"sk-estimator-id-1\" type=\"checkbox\" checked><label for=\"sk-estimator-id-1\" class=\"sk-toggleable__label sk-toggleable__label-arrow\">StandardScaler</label><div class=\"sk-toggleable__content\"><pre>StandardScaler()</pre></div></div></div></div></div>"
      ],
      "text/plain": [
       "StandardScaler()"
      ]
     },
     "execution_count": 18,
     "metadata": {},
     "output_type": "execute_result"
    }
   ],
   "source": [
    "scaler"
   ]
  },
  {
   "cell_type": "markdown",
   "id": "c87b040c",
   "metadata": {},
   "source": [
    "## Construção do Modelo"
   ]
  },
  {
   "cell_type": "code",
   "execution_count": 20,
   "id": "0188988e",
   "metadata": {},
   "outputs": [],
   "source": [
    "# Definir a arquitetura do modelo\n",
    "modelo_dsa = Sequential([Dense(64, activation = 'relu', input_shape = (X_treino.shape[1],)),\n",
    "                         Dropout(0.3),\n",
    "                         Dense(32, activation = 'relu'),\n",
    "                         Dropout(0.3),\n",
    "                         Dense(16, activation = 'relu'),\n",
    "                         Dense(1)])"
   ]
  },
  {
   "cell_type": "markdown",
   "id": "7c7da1cb",
   "metadata": {},
   "source": [
    "O código acima define a arquitetura de um modelo de rede neural sequencial utilizando a biblioteca Keras. Aqui está uma explicação detalhada de cada linha:\n",
    "\n",
    "**modelo_dsa = Sequential([ ... ])**: Cria um modelo sequencial, que é uma pilha linear de camadas.\n",
    "\n",
    "**Dense(64, activation='relu', input_shape=(X_treino.shape[1],))**: Adiciona uma camada densa (totalmente conectada) com 64 neurônios e função de ativação ReLU (Rectified Linear Unit). A input_shape especifica a forma dos dados de entrada, que corresponde ao número de características (colunas) em X_treino.\n",
    "\n",
    "**Dropout(0.3)**: Adiciona uma camada de dropout com uma taxa de 30%. Dropout é uma técnica de regularização que desativa aleatoriamente 30% dos neurônios durante o treinamento para prevenir o overfitting.\n",
    "\n",
    "**Dense(32, activation='relu')**: Adiciona outra camada densa com 32 neurônios e função de ativação ReLU.\n",
    "\n",
    "**Dropout(0.3)**: Adiciona mais uma camada de dropout com uma taxa de 30%.\n",
    "\n",
    "**Dense(16, activation='relu')**: Adiciona mais uma camada densa com 16 neurônios e função de ativação ReLU.\n",
    "\n",
    "**Dense(1)**: Adiciona a camada de saída com um único neurônio. Não é especificada uma função de ativação, o que é comum em problemas de regressão, onde a saída é um valor contínuo. Se fosse um problema de classificação binária, uma ativação sigmoid poderia ser usada nesta camada.\n",
    "\n",
    "Essa arquitetura é típica para problemas de regressão onde se deseja prever um único valor contínuo a partir de múltiplas características de entrada."
   ]
  },
  {
   "cell_type": "markdown",
   "id": "855411a4",
   "metadata": {},
   "source": [
    "## Compilação do Modelo"
   ]
  },
  {
   "cell_type": "code",
   "execution_count": 21,
   "id": "43eb840e",
   "metadata": {},
   "outputs": [],
   "source": [
    "# Compilar o modelo\n",
    "modelo_dsa.compile(optimizer = 'adam', loss = 'mse', metrics = ['mae'])"
   ]
  },
  {
   "cell_type": "markdown",
   "id": "ba5186c7",
   "metadata": {},
   "source": [
    "O código acima compila o modelo de rede neural que foi definido anteriormente. A compilação é um passo necessário antes de treinar o modelo. Aqui está uma explicação de cada parte do código:\n",
    "\n",
    "**modelo_dsa.compile(...)**: Compila o modelo, configurando-o para treinamento com um otimizador, uma função de perda e métricas.\n",
    "\n",
    "**optimizer='adam'**: Define o otimizador como 'adam'. O Adam (Adaptive Moment Estimation) é um otimizador eficiente e amplamente utilizado em redes neurais, combinando as vantagens dos algoritmos de Gradient Descent com Momentum e RMSProp. Ele ajusta dinamicamente a taxa de aprendizado durante o treinamento.\n",
    "\n",
    "**loss='mse'**: Define a função de perda como 'mse' (Mean Squared Error). MSE é uma função de perda comum em problemas de regressão, que calcula a média dos quadrados das diferenças entre os valores previstos e os valores reais. É usada para medir o desempenho do modelo, com valores menores indicando um melhor ajuste.\n",
    "\n",
    "**metrics=['mae']**: Especifica que a métrica a ser monitorada durante o treinamento é 'mae' (Mean Absolute Error). MAE é a média dos valores absolutos das diferenças entre os valores previstos e os valores reais. Assim como MSE, valores menores de MAE indicam um melhor desempenho do modelo, mas MAE é menos sensível a grandes erros do que MSE.\n",
    "\n",
    "Compilar o modelo é um passo essencial que define como o modelo será otimizado e avaliado durante o treinamento."
   ]
  },
  {
   "cell_type": "markdown",
   "id": "8d23cab4",
   "metadata": {},
   "source": [
    "## Definindo os Callbacks"
   ]
  },
  {
   "cell_type": "code",
   "execution_count": 26,
   "id": "8ccdc1e2",
   "metadata": {},
   "outputs": [],
   "source": [
    "# Callbacks\n",
    "early_stopping = EarlyStopping(monitor = 'val_loss', patience = 10, restore_best_weights = True)\n",
    "model_checkpoint = ModelCheckpoint('modelo_dsa.keras', save_best_only = True)"
   ]
  },
  {
   "cell_type": "markdown",
   "id": "a3039635",
   "metadata": {},
   "source": [
    "Este trecho de código define dois callbacks para o treinamento do modelo: EarlyStopping e ModelCheckpoint. Callbacks são ferramentas que permitem realizar certas ações em pontos específicos durante o treinamento.\n",
    "\n",
    "**early_stopping = EarlyStopping(...)**: Define um callback de parada antecipada (early stopping).\n",
    "\n",
    "**monitor='val_loss'**: Monitora a perda de validação (val_loss) durante o treinamento. A validação é um processo onde um conjunto separado de dados (dados de validação) é usado para avaliar o desempenho do modelo, ajudando a evitar o overfitting.\n",
    "\n",
    "**patience=10**: Define a paciência em 10 épocas. Isso significa que se a perda de validação não melhorar por 10 épocas consecutivas, o treinamento será interrompido.\n",
    "\n",
    "**restore_best_weights=True**: Restabelece os pesos do modelo para o estado em que apresentaram a melhor perda de validação. Isso garante que os pesos finais do modelo sejam os melhores encontrados durante o treinamento.\n",
    "\n",
    "**model_checkpoint = ModelCheckpoint(...)**: Define um callback de checkpoint do modelo.\n",
    "\n",
    "**'modelo_dsa.keras'**: Especifica o nome do arquivo onde o modelo será salvo.\n",
    "\n",
    "**save_best_only=True**: Salva o modelo apenas quando ele apresentar a melhor perda de validação até o momento. Isso evita salvar várias versões do modelo e garante que o melhor modelo encontrado durante o treinamento seja salvo.\n",
    "\n",
    "Em resumo, esses callbacks ajudam a:\n",
    "\n",
    "- Parar o treinamento antecipadamente se o modelo não estiver melhorando, economizando tempo e recursos computacionais.\n",
    "\n",
    "- Salvar automaticamente o melhor modelo encontrado durante o treinamento, garantindo que você tenha uma versão do modelo com o melhor desempenho."
   ]
  },
  {
   "cell_type": "markdown",
   "id": "bc095713",
   "metadata": {},
   "source": [
    "## Treinamento do Modelo"
   ]
  },
  {
   "cell_type": "code",
   "execution_count": 27,
   "id": "071a1240",
   "metadata": {},
   "outputs": [
    {
     "name": "stdout",
     "output_type": "stream",
     "text": [
      "Model: \"sequential_1\"\n",
      "_________________________________________________________________\n",
      " Layer (type)                Output Shape              Param #   \n",
      "=================================================================\n",
      " dense_4 (Dense)             (None, 64)                704       \n",
      "                                                                 \n",
      " dropout_2 (Dropout)         (None, 64)                0         \n",
      "                                                                 \n",
      " dense_5 (Dense)             (None, 32)                2080      \n",
      "                                                                 \n",
      " dropout_3 (Dropout)         (None, 32)                0         \n",
      "                                                                 \n",
      " dense_6 (Dense)             (None, 16)                528       \n",
      "                                                                 \n",
      " dense_7 (Dense)             (None, 1)                 17        \n",
      "                                                                 \n",
      "=================================================================\n",
      "Total params: 3,329\n",
      "Trainable params: 3,329\n",
      "Non-trainable params: 0\n",
      "_________________________________________________________________\n"
     ]
    }
   ],
   "source": [
    "modelo_dsa.summary()"
   ]
  },
  {
   "cell_type": "code",
   "execution_count": 28,
   "id": "8f4d84d5",
   "metadata": {},
   "outputs": [
    {
     "name": "stdout",
     "output_type": "stream",
     "text": [
      "Epoch 1/100\n",
      "3/3 [==============================] - 3s 127ms/step - loss: 5233.7153 - mae: 72.2074 - val_loss: 5217.2798 - val_mae: 72.1263\n",
      "Epoch 2/100\n",
      "3/3 [==============================] - 0s 30ms/step - loss: 5212.4639 - mae: 72.0583 - val_loss: 5200.3911 - val_mae: 72.0091\n",
      "Epoch 3/100\n",
      "3/3 [==============================] - 0s 30ms/step - loss: 5184.4932 - mae: 71.8643 - val_loss: 5182.0679 - val_mae: 71.8817\n",
      "Epoch 4/100\n",
      "3/3 [==============================] - 0s 26ms/step - loss: 5172.0029 - mae: 71.7786 - val_loss: 5162.2744 - val_mae: 71.7439\n",
      "Epoch 5/100\n",
      "3/3 [==============================] - 0s 29ms/step - loss: 5142.5195 - mae: 71.5730 - val_loss: 5140.9639 - val_mae: 71.5950\n",
      "Epoch 6/100\n",
      "3/3 [==============================] - 0s 26ms/step - loss: 5129.9995 - mae: 71.4799 - val_loss: 5118.0562 - val_mae: 71.4345\n",
      "Epoch 7/100\n",
      "3/3 [==============================] - 0s 28ms/step - loss: 5096.5928 - mae: 71.2504 - val_loss: 5093.0806 - val_mae: 71.2593\n",
      "Epoch 8/100\n",
      "3/3 [==============================] - 0s 29ms/step - loss: 5087.0381 - mae: 71.1788 - val_loss: 5066.0205 - val_mae: 71.0691\n",
      "Epoch 9/100\n",
      "3/3 [==============================] - 0s 27ms/step - loss: 5036.5044 - mae: 70.8220 - val_loss: 5036.5674 - val_mae: 70.8613\n",
      "Epoch 10/100\n",
      "3/3 [==============================] - 0s 27ms/step - loss: 5021.9277 - mae: 70.7205 - val_loss: 5004.0103 - val_mae: 70.6307\n",
      "Epoch 11/100\n",
      "3/3 [==============================] - 0s 32ms/step - loss: 4993.0518 - mae: 70.5231 - val_loss: 4967.9600 - val_mae: 70.3744\n",
      "Epoch 12/100\n",
      "3/3 [==============================] - 0s 28ms/step - loss: 4959.0176 - mae: 70.2757 - val_loss: 4927.7529 - val_mae: 70.0874\n",
      "Epoch 13/100\n",
      "3/3 [==============================] - 0s 28ms/step - loss: 4896.5176 - mae: 69.8301 - val_loss: 4882.3701 - val_mae: 69.7620\n",
      "Epoch 14/100\n",
      "3/3 [==============================] - 0s 30ms/step - loss: 4849.2476 - mae: 69.4766 - val_loss: 4830.3921 - val_mae: 69.3875\n",
      "Epoch 15/100\n",
      "3/3 [==============================] - 0s 28ms/step - loss: 4792.6982 - mae: 69.0652 - val_loss: 4771.8569 - val_mae: 68.9632\n",
      "Epoch 16/100\n",
      "3/3 [==============================] - 0s 31ms/step - loss: 4728.6362 - mae: 68.5960 - val_loss: 4706.2485 - val_mae: 68.4846\n",
      "Epoch 17/100\n",
      "3/3 [==============================] - 0s 33ms/step - loss: 4696.1890 - mae: 68.3684 - val_loss: 4633.5654 - val_mae: 67.9502\n",
      "Epoch 18/100\n",
      "3/3 [==============================] - 0s 28ms/step - loss: 4605.5762 - mae: 67.6929 - val_loss: 4552.8677 - val_mae: 67.3517\n",
      "Epoch 19/100\n",
      "3/3 [==============================] - 0s 29ms/step - loss: 4495.0903 - mae: 66.8472 - val_loss: 4462.9248 - val_mae: 66.6778\n",
      "Epoch 20/100\n",
      "3/3 [==============================] - 0s 27ms/step - loss: 4448.4888 - mae: 66.5107 - val_loss: 4363.3584 - val_mae: 65.9235\n",
      "Epoch 21/100\n",
      "3/3 [==============================] - 0s 31ms/step - loss: 4212.5845 - mae: 64.6460 - val_loss: 4251.5249 - val_mae: 65.0653\n",
      "Epoch 22/100\n",
      "3/3 [==============================] - 0s 28ms/step - loss: 4158.7358 - mae: 64.2210 - val_loss: 4126.4834 - val_mae: 64.0907\n",
      "Epoch 23/100\n",
      "3/3 [==============================] - 0s 31ms/step - loss: 4031.1365 - mae: 63.2154 - val_loss: 3988.0918 - val_mae: 62.9937\n",
      "Epoch 24/100\n",
      "3/3 [==============================] - 0s 28ms/step - loss: 3854.0203 - mae: 61.8251 - val_loss: 3834.6616 - val_mae: 61.7535\n",
      "Epoch 25/100\n",
      "3/3 [==============================] - 0s 26ms/step - loss: 3713.1982 - mae: 60.6299 - val_loss: 3666.1602 - val_mae: 60.3600\n",
      "Epoch 26/100\n",
      "3/3 [==============================] - 0s 30ms/step - loss: 3587.5281 - mae: 59.4422 - val_loss: 3482.1868 - val_mae: 58.7991\n",
      "Epoch 27/100\n",
      "3/3 [==============================] - 0s 29ms/step - loss: 3345.1709 - mae: 57.4195 - val_loss: 3282.8164 - val_mae: 57.0562\n",
      "Epoch 28/100\n",
      "3/3 [==============================] - 0s 27ms/step - loss: 3074.1658 - mae: 54.8644 - val_loss: 3068.0671 - val_mae: 55.1143\n",
      "Epoch 29/100\n",
      "3/3 [==============================] - 0s 30ms/step - loss: 2786.5166 - mae: 52.0518 - val_loss: 2838.2261 - val_mae: 52.9521\n",
      "Epoch 30/100\n",
      "3/3 [==============================] - 0s 28ms/step - loss: 2638.0312 - mae: 50.7187 - val_loss: 2594.0083 - val_mae: 50.5475\n",
      "Epoch 31/100\n",
      "3/3 [==============================] - 0s 31ms/step - loss: 2363.1494 - mae: 47.7558 - val_loss: 2339.3950 - val_mae: 47.9055\n",
      "Epoch 32/100\n",
      "3/3 [==============================] - 0s 26ms/step - loss: 2147.0938 - mae: 45.2595 - val_loss: 2081.2749 - val_mae: 45.0574\n",
      "Epoch 33/100\n",
      "3/3 [==============================] - 0s 26ms/step - loss: 1930.6772 - mae: 42.4868 - val_loss: 1821.5569 - val_mae: 41.9825\n",
      "Epoch 34/100\n",
      "3/3 [==============================] - 0s 25ms/step - loss: 1590.6111 - mae: 38.0994 - val_loss: 1565.4629 - val_mae: 38.6928\n",
      "Epoch 35/100\n",
      "3/3 [==============================] - 0s 25ms/step - loss: 1262.2539 - mae: 32.8740 - val_loss: 1319.1437 - val_mae: 35.2211\n",
      "Epoch 36/100\n",
      "3/3 [==============================] - 0s 24ms/step - loss: 1105.8502 - mae: 30.1737 - val_loss: 1090.2637 - val_mae: 31.6246\n",
      "Epoch 37/100\n",
      "3/3 [==============================] - 0s 24ms/step - loss: 927.6590 - mae: 26.8854 - val_loss: 880.4868 - val_mae: 27.9012\n",
      "Epoch 38/100\n",
      "3/3 [==============================] - 0s 24ms/step - loss: 747.3080 - mae: 24.1908 - val_loss: 697.1356 - val_mae: 24.2879\n",
      "Epoch 39/100\n",
      "3/3 [==============================] - 0s 26ms/step - loss: 559.3237 - mae: 19.7100 - val_loss: 544.7864 - val_mae: 21.0659\n",
      "Epoch 40/100\n",
      "3/3 [==============================] - 0s 26ms/step - loss: 570.9933 - mae: 20.1432 - val_loss: 424.3795 - val_mae: 18.0077\n",
      "Epoch 41/100\n",
      "3/3 [==============================] - 0s 24ms/step - loss: 498.5463 - mae: 17.7816 - val_loss: 336.6596 - val_mae: 15.3014\n",
      "Epoch 42/100\n",
      "3/3 [==============================] - 0s 25ms/step - loss: 473.0925 - mae: 17.9836 - val_loss: 280.9564 - val_mae: 13.2979\n",
      "Epoch 43/100\n",
      "3/3 [==============================] - 0s 25ms/step - loss: 397.5626 - mae: 16.9058 - val_loss: 245.2257 - val_mae: 11.9756\n",
      "Epoch 44/100\n",
      "3/3 [==============================] - 0s 25ms/step - loss: 381.5425 - mae: 15.7313 - val_loss: 220.0683 - val_mae: 10.9842\n",
      "Epoch 45/100\n",
      "3/3 [==============================] - 0s 25ms/step - loss: 370.7762 - mae: 15.9036 - val_loss: 202.6572 - val_mae: 10.5664\n",
      "Epoch 46/100\n",
      "3/3 [==============================] - 0s 24ms/step - loss: 412.2909 - mae: 15.5971 - val_loss: 191.8701 - val_mae: 10.3940\n",
      "Epoch 47/100\n",
      "3/3 [==============================] - 0s 25ms/step - loss: 393.7133 - mae: 15.8726 - val_loss: 186.8749 - val_mae: 10.4225\n",
      "Epoch 48/100\n",
      "3/3 [==============================] - 0s 25ms/step - loss: 354.5235 - mae: 15.8287 - val_loss: 185.1803 - val_mae: 10.5346\n",
      "Epoch 49/100\n",
      "3/3 [==============================] - 0s 25ms/step - loss: 360.4078 - mae: 14.7705 - val_loss: 183.5935 - val_mae: 10.5888\n",
      "Epoch 50/100\n",
      "3/3 [==============================] - 0s 15ms/step - loss: 380.0963 - mae: 15.1151 - val_loss: 186.4917 - val_mae: 10.7336\n",
      "Epoch 51/100\n",
      "3/3 [==============================] - 0s 15ms/step - loss: 339.6906 - mae: 15.5488 - val_loss: 195.4296 - val_mae: 11.1620\n",
      "Epoch 52/100\n",
      "3/3 [==============================] - 0s 15ms/step - loss: 255.3070 - mae: 13.4923 - val_loss: 204.7387 - val_mae: 11.6413\n",
      "Epoch 53/100\n",
      "3/3 [==============================] - 0s 15ms/step - loss: 272.1295 - mae: 13.2248 - val_loss: 213.3886 - val_mae: 12.0875\n",
      "Epoch 54/100\n",
      "3/3 [==============================] - 0s 15ms/step - loss: 327.4273 - mae: 14.4773 - val_loss: 218.2651 - val_mae: 12.3219\n",
      "Epoch 55/100\n",
      "3/3 [==============================] - 0s 14ms/step - loss: 327.7333 - mae: 14.9464 - val_loss: 220.5799 - val_mae: 12.4409\n",
      "Epoch 56/100\n",
      "3/3 [==============================] - 0s 14ms/step - loss: 329.9796 - mae: 14.8662 - val_loss: 224.2146 - val_mae: 12.5663\n",
      "Epoch 57/100\n",
      "3/3 [==============================] - 0s 14ms/step - loss: 304.5568 - mae: 14.2517 - val_loss: 223.6724 - val_mae: 12.5413\n",
      "Epoch 58/100\n",
      "3/3 [==============================] - 0s 16ms/step - loss: 344.2876 - mae: 15.1556 - val_loss: 222.2249 - val_mae: 12.4951\n",
      "Epoch 59/100\n",
      "3/3 [==============================] - 0s 20ms/step - loss: 311.7043 - mae: 14.4068 - val_loss: 217.2968 - val_mae: 12.3453\n"
     ]
    }
   ],
   "source": [
    "# Treinar o modelo\n",
    "history = modelo_dsa.fit(X_treino_scaled, \n",
    "                         y_treino,\n",
    "                         validation_split = 0.2,\n",
    "                         epochs = 100,\n",
    "                         batch_size = 32,\n",
    "                         callbacks = [early_stopping, model_checkpoint])"
   ]
  },
  {
   "cell_type": "markdown",
   "id": "3ce2e353",
   "metadata": {},
   "source": [
    "## Avaliação do Modelo"
   ]
  },
  {
   "cell_type": "code",
   "execution_count": 29,
   "id": "204063ac",
   "metadata": {},
   "outputs": [
    {
     "name": "stdout",
     "output_type": "stream",
     "text": [
      "1/1 [==============================] - 0s 20ms/step - loss: 176.8334 - mae: 11.3193\n"
     ]
    }
   ],
   "source": [
    "# Avaliar o modelo no conjunto de teste\n",
    "teste_loss, teste_mae = modelo_dsa.evaluate(X_teste_scaled, y_teste)"
   ]
  },
  {
   "cell_type": "code",
   "execution_count": 30,
   "id": "495d9557",
   "metadata": {},
   "outputs": [
    {
     "name": "stdout",
     "output_type": "stream",
     "text": [
      "Teste Loss: 176.83340454101562\n",
      "Teste MAE: 11.319253921508789\n"
     ]
    }
   ],
   "source": [
    "print(f'Teste Loss: {teste_loss}')\n",
    "print(f'Teste MAE: {teste_mae}')"
   ]
  }
 ],
 "metadata": {
  "kernelspec": {
   "display_name": "Python 3 (ipykernel)",
   "language": "python",
   "name": "python3"
  },
  "language_info": {
   "codemirror_mode": {
    "name": "ipython",
    "version": 3
   },
   "file_extension": ".py",
   "mimetype": "text/x-python",
   "name": "python",
   "nbconvert_exporter": "python",
   "pygments_lexer": "ipython3",
   "version": "3.9.12"
  }
 },
 "nbformat": 4,
 "nbformat_minor": 5
}
