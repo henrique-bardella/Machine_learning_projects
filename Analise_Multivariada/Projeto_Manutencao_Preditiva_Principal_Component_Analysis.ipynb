{
 "cells": [
  {
   "cell_type": "markdown",
   "id": "db52b46f",
   "metadata": {},
   "source": [
    "### <font color='blue'>Data Science na Indústria</font>\n",
    "#### <font color='blue'>Previsão de falhasr potenciais ou necessidades de manutenção a partir de dados de sensores.</font>"
   ]
  },
  {
   "cell_type": "markdown",
   "id": "7b8b7400",
   "metadata": {},
   "source": [
    "**Objetivo:**\n",
    "- Nesse projeto, para prever falhas potenciais ou necessidades de manutenção em máquinas, será aplicado a técnica de análise de Componentes Principais (PCA) ao dataset oritignal para reduzir sua dimensionaldidade, preservando as informações críticas, para facilitar a construção e eficiência do modelo preditivo, desempenho e ajudando a prevenir o sobreajuste (overfitting)."
   ]
  },
  {
   "cell_type": "markdown",
   "id": "6e12f896",
   "metadata": {},
   "source": [
    "## Instalando e Carregando os Pacotes\n"
   ]
  },
  {
   "cell_type": "code",
   "execution_count": 1,
   "id": "7d50c486",
   "metadata": {},
   "outputs": [],
   "source": [
    "# Imports\n",
    "import numpy as np\n",
    "import pandas as pd\n",
    "import sklearn\n",
    "import matplotlib.pyplot as plt\n",
    "from sklearn.preprocessing import StandardScaler\n",
    "from sklearn.decomposition import PCA\n",
    "from sklearn.model_selection import cross_val_score\n",
    "from sklearn.linear_model import LogisticRegression\n",
    "from sklearn.model_selection import LeaveOneOut\n",
    "import warnings\n",
    "warnings.filterwarnings('ignore')"
   ]
  },
  {
   "cell_type": "code",
   "execution_count": 2,
   "id": "86f08822",
   "metadata": {},
   "outputs": [
    {
     "name": "stdout",
     "output_type": "stream",
     "text": [
      "Author: Henrique Bardella\n",
      "\n",
      "Python implementation: CPython\n",
      "Python version       : 3.9.12\n",
      "IPython version      : 8.4.0\n",
      "\n",
      "Compiler    : MSC v.1916 64 bit (AMD64)\n",
      "OS          : Windows\n",
      "Release     : 10\n",
      "Machine     : AMD64\n",
      "Processor   : AMD64 Family 25 Model 80 Stepping 0, AuthenticAMD\n",
      "CPU cores   : 16\n",
      "Architecture: 64bit\n",
      "\n",
      "matplotlib: 3.7.1\n",
      "pandas    : 1.5.0\n",
      "sklearn   : 0.0\n",
      "numpy     : 1.21.5\n",
      "\n"
     ]
    }
   ],
   "source": [
    "# Versões dos pacotes usados neste jupyter notebook\n",
    "%reload_ext watermark\n",
    "%watermark -a \"Henrique Bardella\" \n",
    "%watermark -v -m\n",
    "%watermark --iversions"
   ]
  },
  {
   "cell_type": "markdown",
   "id": "e2da620d",
   "metadata": {},
   "source": [
    "## Carregando e Compreendendo os Dados\n",
    "- Primeiro, criaremos um conjunto de dados fictício com 8 características e 1000 observações usando o numpy, representando dados de sensores de máquinas industriais."
   ]
  },
  {
   "cell_type": "code",
   "execution_count": 3,
   "id": "4073c253",
   "metadata": {},
   "outputs": [],
   "source": [
    "# Para reprodutibilidade\n",
    "np.random.seed(42)"
   ]
  },
  {
   "cell_type": "code",
   "execution_count": 4,
   "id": "88eb08c7",
   "metadata": {},
   "outputs": [],
   "source": [
    "# Gera os dados\n",
    "dados = np.random.randn(1000,8)\n",
    "df_dsa = pd.DataFrame(dados, columns=[f'Atributo_{i}' for i in range(1, 9)])"
   ]
  },
  {
   "cell_type": "code",
   "execution_count": 5,
   "id": "74602ae7",
   "metadata": {},
   "outputs": [
    {
     "data": {
      "text/plain": [
       "(1000, 8)"
      ]
     },
     "execution_count": 5,
     "metadata": {},
     "output_type": "execute_result"
    }
   ],
   "source": [
    "df_dsa.shape"
   ]
  },
  {
   "cell_type": "code",
   "execution_count": 6,
   "id": "11e2267c",
   "metadata": {},
   "outputs": [
    {
     "data": {
      "text/html": [
       "<div>\n",
       "<style scoped>\n",
       "    .dataframe tbody tr th:only-of-type {\n",
       "        vertical-align: middle;\n",
       "    }\n",
       "\n",
       "    .dataframe tbody tr th {\n",
       "        vertical-align: top;\n",
       "    }\n",
       "\n",
       "    .dataframe thead th {\n",
       "        text-align: right;\n",
       "    }\n",
       "</style>\n",
       "<table border=\"1\" class=\"dataframe\">\n",
       "  <thead>\n",
       "    <tr style=\"text-align: right;\">\n",
       "      <th></th>\n",
       "      <th>Atributo_1</th>\n",
       "      <th>Atributo_2</th>\n",
       "      <th>Atributo_3</th>\n",
       "      <th>Atributo_4</th>\n",
       "      <th>Atributo_5</th>\n",
       "      <th>Atributo_6</th>\n",
       "      <th>Atributo_7</th>\n",
       "      <th>Atributo_8</th>\n",
       "    </tr>\n",
       "  </thead>\n",
       "  <tbody>\n",
       "    <tr>\n",
       "      <th>0</th>\n",
       "      <td>0.496714</td>\n",
       "      <td>-0.138264</td>\n",
       "      <td>0.647689</td>\n",
       "      <td>1.523030</td>\n",
       "      <td>-0.234153</td>\n",
       "      <td>-0.234137</td>\n",
       "      <td>1.579213</td>\n",
       "      <td>0.767435</td>\n",
       "    </tr>\n",
       "    <tr>\n",
       "      <th>1</th>\n",
       "      <td>-0.469474</td>\n",
       "      <td>0.542560</td>\n",
       "      <td>-0.463418</td>\n",
       "      <td>-0.465730</td>\n",
       "      <td>0.241962</td>\n",
       "      <td>-1.913280</td>\n",
       "      <td>-1.724918</td>\n",
       "      <td>-0.562288</td>\n",
       "    </tr>\n",
       "    <tr>\n",
       "      <th>2</th>\n",
       "      <td>-1.012831</td>\n",
       "      <td>0.314247</td>\n",
       "      <td>-0.908024</td>\n",
       "      <td>-1.412304</td>\n",
       "      <td>1.465649</td>\n",
       "      <td>-0.225776</td>\n",
       "      <td>0.067528</td>\n",
       "      <td>-1.424748</td>\n",
       "    </tr>\n",
       "    <tr>\n",
       "      <th>3</th>\n",
       "      <td>-0.544383</td>\n",
       "      <td>0.110923</td>\n",
       "      <td>-1.150994</td>\n",
       "      <td>0.375698</td>\n",
       "      <td>-0.600639</td>\n",
       "      <td>-0.291694</td>\n",
       "      <td>-0.601707</td>\n",
       "      <td>1.852278</td>\n",
       "    </tr>\n",
       "    <tr>\n",
       "      <th>4</th>\n",
       "      <td>-0.013497</td>\n",
       "      <td>-1.057711</td>\n",
       "      <td>0.822545</td>\n",
       "      <td>-1.220844</td>\n",
       "      <td>0.208864</td>\n",
       "      <td>-1.959670</td>\n",
       "      <td>-1.328186</td>\n",
       "      <td>0.196861</td>\n",
       "    </tr>\n",
       "  </tbody>\n",
       "</table>\n",
       "</div>"
      ],
      "text/plain": [
       "   Atributo_1  Atributo_2  Atributo_3  Atributo_4  Atributo_5  Atributo_6  \\\n",
       "0    0.496714   -0.138264    0.647689    1.523030   -0.234153   -0.234137   \n",
       "1   -0.469474    0.542560   -0.463418   -0.465730    0.241962   -1.913280   \n",
       "2   -1.012831    0.314247   -0.908024   -1.412304    1.465649   -0.225776   \n",
       "3   -0.544383    0.110923   -1.150994    0.375698   -0.600639   -0.291694   \n",
       "4   -0.013497   -1.057711    0.822545   -1.220844    0.208864   -1.959670   \n",
       "\n",
       "   Atributo_7  Atributo_8  \n",
       "0    1.579213    0.767435  \n",
       "1   -1.724918   -0.562288  \n",
       "2    0.067528   -1.424748  \n",
       "3   -0.601707    1.852278  \n",
       "4   -1.328186    0.196861  "
      ]
     },
     "execution_count": 6,
     "metadata": {},
     "output_type": "execute_result"
    }
   ],
   "source": [
    "df_dsa.head()"
   ]
  },
  {
   "cell_type": "markdown",
   "id": "efdbb547",
   "metadata": {},
   "source": [
    "## Padronização dos Dados\n",
    "\n",
    "A padronização dos dados é uma técnica de pré-processamento em Machine Learning que transforma os valores de uma variável para que tenham média zero e desvio padrão de um. Isso é especialmente útil para algoritmos que dependem da distância entre as observações ou métodos baseados em gradiente, como redes neurais, pois ajuda a melhorar a convergência durante o treinamento. **O PCA requer os dados padronizados.**\n",
    "\n",
    "Após a padronização, os dados resultantes têm uma média muito próxima de zero e um desvio padrão igual a um. Isso não apenas facilita a análise e o treinamento de modelos mas também ajuda a reduzir qualquer viés que possa ser introduzido por variáveis em escalas significativamente diferentes."
   ]
  },
  {
   "cell_type": "code",
   "execution_count": 7,
   "id": "d9e244be",
   "metadata": {},
   "outputs": [],
   "source": [
    "# Cria o padronizador\n",
    "dsa_scaler = StandardScaler()"
   ]
  },
  {
   "cell_type": "code",
   "execution_count": 8,
   "id": "65ec276a",
   "metadata": {},
   "outputs": [],
   "source": [
    "# Aplica o padronizados\n",
    "dados_padronizados = dsa_scaler.fit_transform(df_dsa)"
   ]
  },
  {
   "cell_type": "code",
   "execution_count": 9,
   "id": "e581b34f",
   "metadata": {},
   "outputs": [
    {
     "data": {
      "text/plain": [
       "array([[ 0.50005258, -0.1079961 ,  0.69137884, ..., -0.2174599 ,\n",
       "         1.54266063,  0.72124761],\n",
       "       [-0.46570918,  0.57203085, -0.43181987, ..., -1.87318757,\n",
       "        -1.65304186, -0.57797922],\n",
       "       [-1.00882591,  0.34398554, -0.88126503, ..., -0.20921584,\n",
       "         0.08058337, -1.42066048],\n",
       "       ...,\n",
       "       [-0.98387173,  0.75229737,  0.12308532, ..., -0.48368659,\n",
       "        -0.05519563,  1.81736367],\n",
       "       [ 0.24162393, -0.8096809 ,  0.25967332, ...,  0.5858837 ,\n",
       "         1.18481977, -0.05231653],\n",
       "       [ 1.6417944 ,  0.93706544, -0.67849748, ..., -0.81006669,\n",
       "         1.61394232,  2.00153949]])"
      ]
     },
     "execution_count": 9,
     "metadata": {},
     "output_type": "execute_result"
    }
   ],
   "source": [
    "dados_padronizados"
   ]
  },
  {
   "cell_type": "markdown",
   "id": "87dcce0e",
   "metadata": {},
   "source": [
    "## Aplicando PCA às Variáveis de Entrada\n",
    "-https://scikit-learn.org/stable/modules/generated/sklearn.decomposition.PCA.html"
   ]
  },
  {
   "cell_type": "code",
   "execution_count": 12,
   "id": "2325c5e8",
   "metadata": {},
   "outputs": [],
   "source": [
    "# Cria o modelo\n",
    "dsa_pca = PCA()"
   ]
  },
  {
   "cell_type": "code",
   "execution_count": 13,
   "id": "1966c6d8",
   "metadata": {},
   "outputs": [],
   "source": [
    "# Treina e aplica o modelo aos dados padronizados\n",
    "dados_pca = dsa_pca.fit_transform(dados_padronizados)"
   ]
  },
  {
   "cell_type": "code",
   "execution_count": 14,
   "id": "38bbd125",
   "metadata": {},
   "outputs": [
    {
     "data": {
      "text/plain": [
       "array([[-1.00191225,  1.08652608,  0.70735925, ...,  0.04277897,\n",
       "         0.46090549,  1.41207008],\n",
       "       [ 1.56243282, -0.39897564, -1.94944629, ...,  0.79636812,\n",
       "         0.20001234, -0.42570692],\n",
       "       [ 1.86313495, -0.5654041 , -0.05326957, ..., -0.57754214,\n",
       "         0.87677555, -0.399163  ],\n",
       "       ...,\n",
       "       [ 1.17332664,  0.20633089,  0.01206161, ..., -1.1537082 ,\n",
       "        -0.72878039, -1.49490119],\n",
       "       [-0.52775583, -0.30376184,  1.25823946, ..., -0.48839252,\n",
       "         0.70099184,  0.11597958],\n",
       "       [ 0.18891   ,  1.76142352,  1.47240733, ...,  1.55164509,\n",
       "        -0.62971354,  2.29420302]])"
      ]
     },
     "execution_count": 14,
     "metadata": {},
     "output_type": "execute_result"
    }
   ],
   "source": [
    "dados_pca"
   ]
  },
  {
   "cell_type": "markdown",
   "id": "1186ca06",
   "metadata": {},
   "source": [
    "## Calculando a Matriz de Covariância\n",
    "\n",
    "No contexto do PCA, a matriz de covariância desempenha um papel vital. Para entender sua importância, vamos primeiro abordar o que ela é e como se relaciona com o PCA.\n",
    "\n",
    "A matriz de covariância é uma matriz quadrada que mede a covariância entre cada par de variáveis em um conjunto de dados. Covariância, em termos simples, é uma medida de como duas variáveis variam juntas. Se ambas as variáveis tendem a aumentar ou diminuir juntas, a covariância é positiva; se uma variável tende a aumentar quando a outra diminui, a covariância é negativa; e se as variáveis não exibem qualquer tendência consistente de variação conjunta, a covariância é próxima de zero.\n",
    "\n",
    "A principal motivação por trás do PCA é reduzir a dimensionalidade de um conjunto de dados mantendo o máximo de informação possível. O PCA busca identificar \"direções\" no espaço de dados que capturam a maior variância nos dados. Essas direções são os chamados componentes principais.\n",
    "\n",
    "A relação entre a matriz de covariância e o PCA é que os componentes principais são determinados a partir dos autovetores da matriz de covariância. O primeiro componente principal é a direção (ou autovetor) que corresponde ao maior autovalor da matriz de covariância e, portanto, captura a maior variância nos dados. O segundo componente principal é a direção que captura a segunda maior variância, e assim por diante."
   ]
  },
  {
   "cell_type": "code",
   "execution_count": 15,
   "id": "c869c7e9",
   "metadata": {},
   "outputs": [
    {
     "name": "stdout",
     "output_type": "stream",
     "text": [
      "[[ 1.00100100e+00 -3.69357111e-02  3.06924109e-03 -3.40509104e-02\n",
      "  -2.46119766e-02  1.71832531e-02  1.04925691e-02 -2.19223880e-02]\n",
      " [-3.69357111e-02  1.00100100e+00 -4.84707341e-02 -3.25134657e-02\n",
      "  -6.87427050e-03 -5.40529525e-02  1.51251647e-02 -2.03757820e-02]\n",
      " [ 3.06924109e-03 -4.84707341e-02  1.00100100e+00 -2.26662376e-03\n",
      "  -3.83098518e-02  2.49333208e-02 -3.98294504e-02 -8.44378492e-03]\n",
      " [-3.40509104e-02 -3.25134657e-02 -2.26662376e-03  1.00100100e+00\n",
      "  -7.38873848e-02  2.97271555e-02 -8.86529733e-03  8.37242871e-04]\n",
      " [-2.46119766e-02 -6.87427050e-03 -3.83098518e-02 -7.38873848e-02\n",
      "   1.00100100e+00 -1.17331628e-02 -2.74971107e-02  2.51417888e-02]\n",
      " [ 1.71832531e-02 -5.40529525e-02  2.49333208e-02  2.97271555e-02\n",
      "  -1.17331628e-02  1.00100100e+00  3.13041748e-02 -1.05193266e-02]\n",
      " [ 1.04925691e-02  1.51251647e-02 -3.98294504e-02 -8.86529733e-03\n",
      "  -2.74971107e-02  3.13041748e-02  1.00100100e+00  2.38964840e-02]\n",
      " [-2.19223880e-02 -2.03757820e-02 -8.44378492e-03  8.37242871e-04\n",
      "   2.51417888e-02 -1.05193266e-02  2.38964840e-02  1.00100100e+00]]\n"
     ]
    }
   ],
   "source": [
    "# Calcula a matriz de Covariância \n",
    "cov_matrix = np.cov(dados_padronizados, rowvar = False)\n",
    "print(cov_matrix)"
   ]
  },
  {
   "cell_type": "markdown",
   "id": "552c40e5",
   "metadata": {},
   "source": [
    "## Visualizando a Variância Explicada"
   ]
  },
  {
   "cell_type": "code",
   "execution_count": 17,
   "id": "e6c13130",
   "metadata": {},
   "outputs": [],
   "source": [
    "# Extrai a valiancia explicada\n",
    "explained_variance = dsa_pca.explained_variance_ratio_"
   ]
  },
  {
   "cell_type": "code",
   "execution_count": 18,
   "id": "f4a4b5fd",
   "metadata": {},
   "outputs": [],
   "source": [
    "# Ajustar o range para começar de 1\n",
    "componentes = range(1, len(explained_variance) + 1)"
   ]
  },
  {
   "cell_type": "code",
   "execution_count": 19,
   "id": "810041df",
   "metadata": {},
   "outputs": [
    {
     "data": {
      "image/png": "[encoded data removed]",
      "text/plain": [
       "<Figure size 432x288 with 1 Axes>"
      ]
     },
     "metadata": {
      "needs_background": "light"
     },
     "output_type": "display_data"
    }
   ],
   "source": [
    "# Plot\n",
    "plt.bar(componentes, explained_variance)\n",
    "\n",
    "# Ajustar os ticks no eixo x\n",
    "plt.xticks(componentes)\n",
    "\n",
    "plt.xlabel('Componente Principal')\n",
    "plt.ylabel('Variância Explicada')\n",
    "plt.title('Variância Explicada por Cada Componente')\n",
    "plt.show()"
   ]
  },
  {
   "cell_type": "markdown",
   "id": "ed8a1296",
   "metadata": {},
   "source": [
    "\n",
    "## Identificação e Interpretação de Cada Componente"
   ]
  },
  {
   "cell_type": "code",
   "execution_count": 20,
   "id": "8a333f03",
   "metadata": {},
   "outputs": [],
   "source": [
    "# Extraindo os componentes principais\n",
    "componentes = pd.DataFrame(dsa_pca.components_, \n",
    "                           columns = df_dsa.columns, \n",
    "                           index = [f'PC-{i}' for i in range(1, 9)])"
   ]
  },
  {
   "cell_type": "code",
   "execution_count": 21,
   "id": "ba6bf781",
   "metadata": {},
   "outputs": [
    {
     "data": {
      "text/html": [
       "<div>\n",
       "<style scoped>\n",
       "    .dataframe tbody tr th:only-of-type {\n",
       "        vertical-align: middle;\n",
       "    }\n",
       "\n",
       "    .dataframe tbody tr th {\n",
       "        vertical-align: top;\n",
       "    }\n",
       "\n",
       "    .dataframe thead th {\n",
       "        text-align: right;\n",
       "    }\n",
       "</style>\n",
       "<table border=\"1\" class=\"dataframe\">\n",
       "  <thead>\n",
       "    <tr style=\"text-align: right;\">\n",
       "      <th></th>\n",
       "      <th>Atributo_1</th>\n",
       "      <th>Atributo_2</th>\n",
       "      <th>Atributo_3</th>\n",
       "      <th>Atributo_4</th>\n",
       "      <th>Atributo_5</th>\n",
       "      <th>Atributo_6</th>\n",
       "      <th>Atributo_7</th>\n",
       "      <th>Atributo_8</th>\n",
       "    </tr>\n",
       "  </thead>\n",
       "  <tbody>\n",
       "    <tr>\n",
       "      <th>PC-1</th>\n",
       "      <td>-0.196388</td>\n",
       "      <td>0.468139</td>\n",
       "      <td>-0.405046</td>\n",
       "      <td>-0.417747</td>\n",
       "      <td>0.436951</td>\n",
       "      <td>-0.448249</td>\n",
       "      <td>0.010965</td>\n",
       "      <td>0.108297</td>\n",
       "    </tr>\n",
       "    <tr>\n",
       "      <th>PC-2</th>\n",
       "      <td>-0.275254</td>\n",
       "      <td>0.406774</td>\n",
       "      <td>-0.350551</td>\n",
       "      <td>0.470875</td>\n",
       "      <td>-0.485621</td>\n",
       "      <td>-0.042320</td>\n",
       "      <td>0.420036</td>\n",
       "      <td>-0.010603</td>\n",
       "    </tr>\n",
       "    <tr>\n",
       "      <th>PC-3</th>\n",
       "      <td>0.389133</td>\n",
       "      <td>-0.176295</td>\n",
       "      <td>-0.305869</td>\n",
       "      <td>-0.250275</td>\n",
       "      <td>0.137979</td>\n",
       "      <td>0.371768</td>\n",
       "      <td>0.654928</td>\n",
       "      <td>0.274085</td>\n",
       "    </tr>\n",
       "    <tr>\n",
       "      <th>PC-4</th>\n",
       "      <td>0.542503</td>\n",
       "      <td>0.297805</td>\n",
       "      <td>0.009931</td>\n",
       "      <td>-0.296110</td>\n",
       "      <td>-0.291527</td>\n",
       "      <td>-0.101594</td>\n",
       "      <td>0.043470</td>\n",
       "      <td>-0.657285</td>\n",
       "    </tr>\n",
       "    <tr>\n",
       "      <th>PC-5</th>\n",
       "      <td>-0.263291</td>\n",
       "      <td>-0.017466</td>\n",
       "      <td>-0.357604</td>\n",
       "      <td>0.145364</td>\n",
       "      <td>0.401602</td>\n",
       "      <td>0.537062</td>\n",
       "      <td>-0.112864</td>\n",
       "      <td>-0.564716</td>\n",
       "    </tr>\n",
       "    <tr>\n",
       "      <th>PC-6</th>\n",
       "      <td>0.446916</td>\n",
       "      <td>-0.310198</td>\n",
       "      <td>-0.585621</td>\n",
       "      <td>0.388296</td>\n",
       "      <td>0.030855</td>\n",
       "      <td>-0.316280</td>\n",
       "      <td>-0.325487</td>\n",
       "      <td>0.058223</td>\n",
       "    </tr>\n",
       "    <tr>\n",
       "      <th>PC-7</th>\n",
       "      <td>-0.265614</td>\n",
       "      <td>-0.548444</td>\n",
       "      <td>0.058386</td>\n",
       "      <td>-0.008642</td>\n",
       "      <td>0.092213</td>\n",
       "      <td>-0.495751</td>\n",
       "      <td>0.462134</td>\n",
       "      <td>-0.396654</td>\n",
       "    </tr>\n",
       "    <tr>\n",
       "      <th>PC-8</th>\n",
       "      <td>0.316742</td>\n",
       "      <td>0.313520</td>\n",
       "      <td>0.380994</td>\n",
       "      <td>0.530533</td>\n",
       "      <td>0.546333</td>\n",
       "      <td>-0.120463</td>\n",
       "      <td>0.245726</td>\n",
       "      <td>-0.037217</td>\n",
       "    </tr>\n",
       "  </tbody>\n",
       "</table>\n",
       "</div>"
      ],
      "text/plain": [
       "      Atributo_1  Atributo_2  Atributo_3  Atributo_4  Atributo_5  Atributo_6  \\\n",
       "PC-1   -0.196388    0.468139   -0.405046   -0.417747    0.436951   -0.448249   \n",
       "PC-2   -0.275254    0.406774   -0.350551    0.470875   -0.485621   -0.042320   \n",
       "PC-3    0.389133   -0.176295   -0.305869   -0.250275    0.137979    0.371768   \n",
       "PC-4    0.542503    0.297805    0.009931   -0.296110   -0.291527   -0.101594   \n",
       "PC-5   -0.263291   -0.017466   -0.357604    0.145364    0.401602    0.537062   \n",
       "PC-6    0.446916   -0.310198   -0.585621    0.388296    0.030855   -0.316280   \n",
       "PC-7   -0.265614   -0.548444    0.058386   -0.008642    0.092213   -0.495751   \n",
       "PC-8    0.316742    0.313520    0.380994    0.530533    0.546333   -0.120463   \n",
       "\n",
       "      Atributo_7  Atributo_8  \n",
       "PC-1    0.010965    0.108297  \n",
       "PC-2    0.420036   -0.010603  \n",
       "PC-3    0.654928    0.274085  \n",
       "PC-4    0.043470   -0.657285  \n",
       "PC-5   -0.112864   -0.564716  \n",
       "PC-6   -0.325487    0.058223  \n",
       "PC-7    0.462134   -0.396654  \n",
       "PC-8    0.245726   -0.037217  "
      ]
     },
     "execution_count": 21,
     "metadata": {},
     "output_type": "execute_result"
    }
   ],
   "source": [
    "componentes"
   ]
  },
  {
   "cell_type": "markdown",
   "id": "93b8c027",
   "metadata": {},
   "source": [
    "A tabela acima mostra os coeficientes (ou cargas) de cada componente principal em relação a cada um dos atributos originais (Atributo_1, Atributo_2, etc.). Cada linha (PC-1, PC-2, etc.) representa um componente principal, e cada valor na linha indica a contribuição relativa de cada atributo original para esse componente principal. Aqui está como você pode interpretar esses valores:\n",
    "\n",
    "**PC-1, PC-2, ..., PC-8**: Estes são os componentes principais obtidos da PCA. Cada componente é uma combinação linear dos atributos originais.\n",
    "\n",
    "**Valores na tabela (por exemplo, para PC-1: -0.196388 para Atributo_1, 0.468139 para Atributo_2, etc.)**: Esses números mostram como cada atributo original contribui para o componente principal correspondente. Um valor alto (positivo ou negativo) indica uma contribuição significativa desse atributo ao componente principal, enquanto um valor próximo de zero indica pouca ou nenhuma contribuição.\n",
    "\n",
    "Como interpretar cada componente:\n",
    "\n",
    "**PC-1**: Tem altas cargas (em magnitude) para os Atributos 2, 3, 4, 5 e 6, indicando que esses atributos são importantes para este componente. Os sinais opostos (positivo e negativo) podem indicar correlações inversas entre estes atributos no contexto deste componente.\n",
    "\n",
    "**PC-2**: Mostra cargas significativas e contrárias para os Atributos 4 e 5, e também tem contribuições consideráveis de Atributos 2 e 3.\n",
    "\n",
    "**PC-3**: É dominado pelos Atributos 6 e 7, com contribuições positivas substanciais, indicando que esses atributos variam juntos de forma significativa nesta dimensão.\n",
    "\n",
    "**PC-4 a PC-8**: Cada um destes tem um padrão distinto de contribuições dos atributos, indicando diferentes inter-relações entre os atributos quando vistos através desses componentes."
   ]
  },
  {
   "cell_type": "markdown",
   "id": "780f8d52",
   "metadata": {},
   "source": [
    "## Escolhendo o Número Ideal de Componentes com Validação Cruzada\n",
    "\n",
    "Usaremos um modelo de regressão logística e verificaremos o desempenho do modelo com diferentes números de componentes.\n",
    "\n",
    "Vamos adcionar uma nova coluna com dois valores possíveis:\n",
    "\n",
    "- 0 indicando que a máquina não precisou de manutenção preditiva (classe negativa).\n",
    "- 1 indicando que a máquina precisou de manutenção preditiva (classe positiva)."
   ]
  },
  {
   "cell_type": "code",
   "execution_count": 23,
   "id": "b4c69b9f",
   "metadata": {},
   "outputs": [],
   "source": [
    "# Adicionando a variável target\n",
    "df_dsa['target'] = np.random.randint(0, 2, df_dsa.shape[0])"
   ]
  },
  {
   "cell_type": "code",
   "execution_count": 24,
   "id": "c64f7fb7",
   "metadata": {},
   "outputs": [
    {
     "data": {
      "text/html": [
       "<div>\n",
       "<style scoped>\n",
       "    .dataframe tbody tr th:only-of-type {\n",
       "        vertical-align: middle;\n",
       "    }\n",
       "\n",
       "    .dataframe tbody tr th {\n",
       "        vertical-align: top;\n",
       "    }\n",
       "\n",
       "    .dataframe thead th {\n",
       "        text-align: right;\n",
       "    }\n",
       "</style>\n",
       "<table border=\"1\" class=\"dataframe\">\n",
       "  <thead>\n",
       "    <tr style=\"text-align: right;\">\n",
       "      <th></th>\n",
       "      <th>Atributo_1</th>\n",
       "      <th>Atributo_2</th>\n",
       "      <th>Atributo_3</th>\n",
       "      <th>Atributo_4</th>\n",
       "      <th>Atributo_5</th>\n",
       "      <th>Atributo_6</th>\n",
       "      <th>Atributo_7</th>\n",
       "      <th>Atributo_8</th>\n",
       "      <th>target</th>\n",
       "    </tr>\n",
       "  </thead>\n",
       "  <tbody>\n",
       "    <tr>\n",
       "      <th>0</th>\n",
       "      <td>0.496714</td>\n",
       "      <td>-0.138264</td>\n",
       "      <td>0.647689</td>\n",
       "      <td>1.523030</td>\n",
       "      <td>-0.234153</td>\n",
       "      <td>-0.234137</td>\n",
       "      <td>1.579213</td>\n",
       "      <td>0.767435</td>\n",
       "      <td>1</td>\n",
       "    </tr>\n",
       "    <tr>\n",
       "      <th>1</th>\n",
       "      <td>-0.469474</td>\n",
       "      <td>0.542560</td>\n",
       "      <td>-0.463418</td>\n",
       "      <td>-0.465730</td>\n",
       "      <td>0.241962</td>\n",
       "      <td>-1.913280</td>\n",
       "      <td>-1.724918</td>\n",
       "      <td>-0.562288</td>\n",
       "      <td>0</td>\n",
       "    </tr>\n",
       "    <tr>\n",
       "      <th>2</th>\n",
       "      <td>-1.012831</td>\n",
       "      <td>0.314247</td>\n",
       "      <td>-0.908024</td>\n",
       "      <td>-1.412304</td>\n",
       "      <td>1.465649</td>\n",
       "      <td>-0.225776</td>\n",
       "      <td>0.067528</td>\n",
       "      <td>-1.424748</td>\n",
       "      <td>1</td>\n",
       "    </tr>\n",
       "    <tr>\n",
       "      <th>3</th>\n",
       "      <td>-0.544383</td>\n",
       "      <td>0.110923</td>\n",
       "      <td>-1.150994</td>\n",
       "      <td>0.375698</td>\n",
       "      <td>-0.600639</td>\n",
       "      <td>-0.291694</td>\n",
       "      <td>-0.601707</td>\n",
       "      <td>1.852278</td>\n",
       "      <td>1</td>\n",
       "    </tr>\n",
       "    <tr>\n",
       "      <th>4</th>\n",
       "      <td>-0.013497</td>\n",
       "      <td>-1.057711</td>\n",
       "      <td>0.822545</td>\n",
       "      <td>-1.220844</td>\n",
       "      <td>0.208864</td>\n",
       "      <td>-1.959670</td>\n",
       "      <td>-1.328186</td>\n",
       "      <td>0.196861</td>\n",
       "      <td>0</td>\n",
       "    </tr>\n",
       "  </tbody>\n",
       "</table>\n",
       "</div>"
      ],
      "text/plain": [
       "   Atributo_1  Atributo_2  Atributo_3  Atributo_4  Atributo_5  Atributo_6  \\\n",
       "0    0.496714   -0.138264    0.647689    1.523030   -0.234153   -0.234137   \n",
       "1   -0.469474    0.542560   -0.463418   -0.465730    0.241962   -1.913280   \n",
       "2   -1.012831    0.314247   -0.908024   -1.412304    1.465649   -0.225776   \n",
       "3   -0.544383    0.110923   -1.150994    0.375698   -0.600639   -0.291694   \n",
       "4   -0.013497   -1.057711    0.822545   -1.220844    0.208864   -1.959670   \n",
       "\n",
       "   Atributo_7  Atributo_8  target  \n",
       "0    1.579213    0.767435       1  \n",
       "1   -1.724918   -0.562288       0  \n",
       "2    0.067528   -1.424748       1  \n",
       "3   -0.601707    1.852278       1  \n",
       "4   -1.328186    0.196861       0  "
      ]
     },
     "execution_count": 24,
     "metadata": {},
     "output_type": "execute_result"
    }
   ],
   "source": [
    "df_dsa.head()"
   ]
  },
  {
   "cell_type": "code",
   "execution_count": 25,
   "id": "f822b1b2",
   "metadata": {},
   "outputs": [],
   "source": [
    "scores = []"
   ]
  },
  {
   "cell_type": "code",
   "execution_count": 26,
   "id": "a7e18fc3",
   "metadata": {},
   "outputs": [],
   "source": [
    "# Loop sobre o número de componentes do PCA de 1 a 8\n",
    "for i in range(1, 9):\n",
    "    \n",
    "    # Cria um objeto PCA com i componentes\n",
    "    pca = PCA(n_components = i)\n",
    "    \n",
    "    # Ajusta o PCA aos dados escalonados e transforma os dados\n",
    "    pca_data = pca.fit_transform(dados_padronizados)\n",
    "    \n",
    "    # Cria um objeto de regressão logística\n",
    "    lr = LogisticRegression()\n",
    "    \n",
    "    # Avalia a regressão logística usando validação cruzada e calcula a média das pontuações\n",
    "    score = cross_val_score(lr, pca_data, df_dsa['target'], cv = 5).mean()\n",
    "    \n",
    "    # Adiciona a média das pontuações à lista de pontuações\n",
    "    scores.append(score)"
   ]
  },
  {
   "cell_type": "code",
   "execution_count": 27,
   "id": "a4f9a5cd",
   "metadata": {},
   "outputs": [
    {
     "data": {
      "image/png": "[encoded data removed]",
      "text/plain": [
       "<Figure size 432x288 with 1 Axes>"
      ]
     },
     "metadata": {
      "needs_background": "light"
     },
     "output_type": "display_data"
    }
   ],
   "source": [
    "# Plot\n",
    "plt.plot(range(1, 9), scores)\n",
    "plt.xlabel('Número de Componentes')\n",
    "plt.ylabel('Desempenho Médio em Validação Cruzada')\n",
    "plt.title('Desempenho vs. Número de Componentes')\n",
    "plt.show()"
   ]
  },
  {
   "cell_type": "markdown",
   "id": "dc14d378",
   "metadata": {},
   "source": [
    "## Criando o Modelo Final com os Componentes Principais\n",
    "\n",
    "Aqui, escolhemos o número ideal de componentes com base no gráfico anterior e treinamos nosso modelo com esse número."
   ]
  },
  {
   "cell_type": "code",
   "execution_count": 28,
   "id": "a34a85a0",
   "metadata": {},
   "outputs": [
    {
     "data": {
      "text/html": [
       "<style>#sk-container-id-1 {color: black;background-color: white;}#sk-container-id-1 pre{padding: 0;}#sk-container-id-1 div.sk-toggleable {background-color: white;}#sk-container-id-1 label.sk-toggleable__label {cursor: pointer;display: block;width: 100%;margin-bottom: 0;padding: 0.3em;box-sizing: border-box;text-align: center;}#sk-container-id-1 label.sk-toggleable__label-arrow:before {content: \"▸\";float: left;margin-right: 0.25em;color: #696969;}#sk-container-id-1 label.sk-toggleable__label-arrow:hover:before {color: black;}#sk-container-id-1 div.sk-estimator:hover label.sk-toggleable__label-arrow:before {color: black;}#sk-container-id-1 div.sk-toggleable__content {max-height: 0;max-width: 0;overflow: hidden;text-align: left;background-color: #f0f8ff;}#sk-container-id-1 div.sk-toggleable__content pre {margin: 0.2em;color: black;border-radius: 0.25em;background-color: #f0f8ff;}#sk-container-id-1 input.sk-toggleable__control:checked~div.sk-toggleable__content {max-height: 200px;max-width: 100%;overflow: auto;}#sk-container-id-1 input.sk-toggleable__control:checked~label.sk-toggleable__label-arrow:before {content: \"▾\";}#sk-container-id-1 div.sk-estimator input.sk-toggleable__control:checked~label.sk-toggleable__label {background-color: #d4ebff;}#sk-container-id-1 div.sk-label input.sk-toggleable__control:checked~label.sk-toggleable__label {background-color: #d4ebff;}#sk-container-id-1 input.sk-hidden--visually {border: 0;clip: rect(1px 1px 1px 1px);clip: rect(1px, 1px, 1px, 1px);height: 1px;margin: -1px;overflow: hidden;padding: 0;position: absolute;width: 1px;}#sk-container-id-1 div.sk-estimator {font-family: monospace;background-color: #f0f8ff;border: 1px dotted black;border-radius: 0.25em;box-sizing: border-box;margin-bottom: 0.5em;}#sk-container-id-1 div.sk-estimator:hover {background-color: #d4ebff;}#sk-container-id-1 div.sk-parallel-item::after {content: \"\";width: 100%;border-bottom: 1px solid gray;flex-grow: 1;}#sk-container-id-1 div.sk-label:hover label.sk-toggleable__label {background-color: #d4ebff;}#sk-container-id-1 div.sk-serial::before {content: \"\";position: absolute;border-left: 1px solid gray;box-sizing: border-box;top: 0;bottom: 0;left: 50%;z-index: 0;}#sk-container-id-1 div.sk-serial {display: flex;flex-direction: column;align-items: center;background-color: white;padding-right: 0.2em;padding-left: 0.2em;position: relative;}#sk-container-id-1 div.sk-item {position: relative;z-index: 1;}#sk-container-id-1 div.sk-parallel {display: flex;align-items: stretch;justify-content: center;background-color: white;position: relative;}#sk-container-id-1 div.sk-item::before, #sk-container-id-1 div.sk-parallel-item::before {content: \"\";position: absolute;border-left: 1px solid gray;box-sizing: border-box;top: 0;bottom: 0;left: 50%;z-index: -1;}#sk-container-id-1 div.sk-parallel-item {display: flex;flex-direction: column;z-index: 1;position: relative;background-color: white;}#sk-container-id-1 div.sk-parallel-item:first-child::after {align-self: flex-end;width: 50%;}#sk-container-id-1 div.sk-parallel-item:last-child::after {align-self: flex-start;width: 50%;}#sk-container-id-1 div.sk-parallel-item:only-child::after {width: 0;}#sk-container-id-1 div.sk-dashed-wrapped {border: 1px dashed gray;margin: 0 0.4em 0.5em 0.4em;box-sizing: border-box;padding-bottom: 0.4em;background-color: white;}#sk-container-id-1 div.sk-label label {font-family: monospace;font-weight: bold;display: inline-block;line-height: 1.2em;}#sk-container-id-1 div.sk-label-container {text-align: center;}#sk-container-id-1 div.sk-container {/* jupyter's `normalize.less` sets `[hidden] { display: none; }` but bootstrap.min.css set `[hidden] { display: none !important; }` so we also need the `!important` here to be able to override the default hidden behavior on the sphinx rendered scikit-learn.org. See: https://github.com/scikit-learn/scikit-learn/issues/21755 */display: inline-block !important;position: relative;}#sk-container-id-1 div.sk-text-repr-fallback {display: none;}</style><div id=\"sk-container-id-1\" class=\"sk-top-container\"><div class=\"sk-text-repr-fallback\"><pre>LogisticRegression()</pre><b>In a Jupyter environment, please rerun this cell to show the HTML representation or trust the notebook. <br />On GitHub, the HTML representation is unable to render, please try loading this page with nbviewer.org.</b></div><div class=\"sk-container\" hidden><div class=\"sk-item\"><div class=\"sk-estimator sk-toggleable\"><input class=\"sk-toggleable__control sk-hidden--visually\" id=\"sk-estimator-id-1\" type=\"checkbox\" checked><label for=\"sk-estimator-id-1\" class=\"sk-toggleable__label sk-toggleable__label-arrow\">LogisticRegression</label><div class=\"sk-toggleable__content\"><pre>LogisticRegression()</pre></div></div></div></div></div>"
      ],
      "text/plain": [
       "LogisticRegression()"
      ]
     },
     "execution_count": 28,
     "metadata": {},
     "output_type": "execute_result"
    }
   ],
   "source": [
    "# Considerando que 6 é o número ideal de componentes\n",
    "pca_final = PCA(n_components = 6)\n",
    "pca_data_final = pca_final.fit_transform(dados_padronizados)\n",
    "modelo_dsa_lr_final = LogisticRegression()\n",
    "modelo_dsa_lr_final.fit(pca_data_final, df_dsa['target'])"
   ]
  },
  {
   "cell_type": "code",
   "execution_count": 29,
   "id": "ba716ffd",
   "metadata": {},
   "outputs": [],
   "source": [
    "# Simulando novos dados de sensores de uma máquina industrial\n",
    "novos_dados_sensores = np.random.randn(1, 8)"
   ]
  },
  {
   "cell_type": "code",
   "execution_count": 30,
   "id": "20ff7fa7",
   "metadata": {},
   "outputs": [
    {
     "data": {
      "text/plain": [
       "array([[ 0.63122436, -1.15122666,  1.1049972 , -0.37753115,  1.25761311,\n",
       "        -0.53345245, -1.02662548, -0.45813699]])"
      ]
     },
     "execution_count": 30,
     "metadata": {},
     "output_type": "execute_result"
    }
   ],
   "source": [
    "novos_dados_sensores"
   ]
  },
  {
   "cell_type": "code",
   "execution_count": 31,
   "id": "d398ac3f",
   "metadata": {},
   "outputs": [],
   "source": [
    "# Padroniza os dados de entrada\n",
    "novos_dados_padronizados = dsa_scaler.transform(novos_dados_sensores)"
   ]
  },
  {
   "cell_type": "code",
   "execution_count": 32,
   "id": "66fb6ef3",
   "metadata": {},
   "outputs": [],
   "source": [
    "# Aplica o PCA\n",
    "pca_new_data = pca_final.transform(novos_dados_padronizados)"
   ]
  },
  {
   "cell_type": "code",
   "execution_count": 33,
   "id": "5d7941f8",
   "metadata": {},
   "outputs": [
    {
     "name": "stdout",
     "output_type": "stream",
     "text": [
      "[1]\n"
     ]
    }
   ],
   "source": [
    "# Previsão com novos dados\n",
    "previsao = modelo_dsa_lr_final.predict(pca_new_data)\n",
    "print(previsao)"
   ]
  },
  {
   "cell_type": "markdown",
   "id": "9d57082a",
   "metadata": {},
   "source": [
    "> De acordo com os dados de entrada essa máquina precisa de manutenção preventiva."
   ]
  }
 ],
 "metadata": {
  "kernelspec": {
   "display_name": "Python 3 (ipykernel)",
   "language": "python",
   "name": "python3"
  },
  "language_info": {
   "codemirror_mode": {
    "name": "ipython",
    "version": 3
   },
   "file_extension": ".py",
   "mimetype": "text/x-python",
   "name": "python",
   "nbconvert_exporter": "python",
   "pygments_lexer": "ipython3",
   "version": "3.9.12"
  }
 },
 "nbformat": 4,
 "nbformat_minor": 5
}
