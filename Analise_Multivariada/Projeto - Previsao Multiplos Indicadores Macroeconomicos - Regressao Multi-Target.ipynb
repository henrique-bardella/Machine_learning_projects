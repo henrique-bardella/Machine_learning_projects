{
 "cells": [
  {
   "cell_type": "markdown",
   "id": "3af0536c",
   "metadata": {},
   "source": [
    "## <font color='black'>Data Science Para Análise Multivariada de Dados</font>\n",
    "#### <font color='blue'>Prevendo a Expectativa de Vida Através de Indicadores Socioeconômicos</font>"
   ]
  },
  {
   "cell_type": "markdown",
   "id": "84eb7a2f",
   "metadata": {},
   "source": [
    "**Objetivo**\n",
    "- Previsão da expectativa de vida através de indicadores socioecônomicos.\n",
    "- Dados fictícios para o entendimento da aplicação de regressão multitarget."
   ]
  },
  {
   "cell_type": "markdown",
   "id": "985afc94",
   "metadata": {},
   "source": [
    "## Instalando e Carregando os Pacotes"
   ]
  },
  {
   "cell_type": "code",
   "execution_count": 17,
   "id": "3c9c5dea",
   "metadata": {},
   "outputs": [],
   "source": [
    "# Imports\n",
    "import sklearn\n",
    "import numpy as np\n",
    "import pandas as pd\n",
    "from sklearn.model_selection import train_test_split\n",
    "from sklearn.preprocessing import StandardScaler\n",
    "from sklearn.multioutput import MultiOutputRegressor\n",
    "from sklearn.ensemble import RandomForestRegressor\n",
    "from sklearn.metrics import mean_squared_error\n",
    "from sklearn.metrics import r2_score\n",
    "import warnings\n",
    "warnings.filterwarnings('ignore')"
   ]
  },
  {
   "cell_type": "code",
   "execution_count": 34,
   "id": "6bd17158",
   "metadata": {},
   "outputs": [
    {
     "name": "stdout",
     "output_type": "stream",
     "text": [
      "Author: Henrique Bardella\n",
      "\n",
      "seaborn   : 0.11.2\n",
      "joblib    : 1.2.0\n",
      "pandas    : 1.5.0\n",
      "sklearn   : 0.0\n",
      "numpy     : 1.26.4\n",
      "matplotlib: 3.7.1\n",
      "\n"
     ]
    }
   ],
   "source": [
    "%reload_ext watermark\n",
    "%watermark -a \"Henrique Bardella\"\n",
    "%watermark --iversions"
   ]
  },
  {
   "cell_type": "markdown",
   "id": "1c89dfd0",
   "metadata": {},
   "source": [
    "## Carregando e Compreendendo os Dados"
   ]
  },
  {
   "cell_type": "code",
   "execution_count": 4,
   "id": "a545b868",
   "metadata": {},
   "outputs": [],
   "source": [
    "# Gera massa de dados de Exemplo\n",
    "np.random.seed(42)\n",
    "num_samples = 1000"
   ]
  },
  {
   "cell_type": "code",
   "execution_count": 5,
   "id": "44605bff",
   "metadata": {},
   "outputs": [],
   "source": [
    "# Variáveis macroeconomicas (variaveis de entrada)\n",
    "taxa_juros = np.random.uniform(0, 15, num_samples)\n",
    "taxa_cambio = np.random.uniform(1, 5, num_samples)\n",
    "producao_industrial = np.random.uniform(50, 200, num_samples)"
   ]
  },
  {
   "cell_type": "code",
   "execution_count": 6,
   "id": "fdd66f57",
   "metadata": {},
   "outputs": [],
   "source": [
    "# Indicadores econômicos (variáveis de saída - target)\n",
    "pib = 2 * taxa_juros + 3 * taxa_cambio + 0.5 * producao_industrial + np.random.normal(0, 5, num_samples)\n",
    "inflacao = 0.5 * taxa_juros + 2 * taxa_cambio + 0.2 * producao_industrial + np.random.normal(0, 2, num_samples)\n",
    "taxa_desemprego = -0.1 * taxa_juros + 0.3 * taxa_cambio + 0.4 * producao_industrial + np.random.normal(0, 1, num_samples)"
   ]
  },
  {
   "cell_type": "code",
   "execution_count": 7,
   "id": "45ff4832",
   "metadata": {},
   "outputs": [],
   "source": [
    "# Cria o DataFrame\n",
    "df_dsa = pd.DataFrame({'taxa_juros': taxa_juros,\n",
    "                       'taxa_cambio': taxa_cambio,\n",
    "                       'producao_industrial': producao_industrial,\n",
    "                       'pib': pib,\n",
    "                       'inflacao': inflacao,\n",
    "                       'taxa_desemprego': taxa_desemprego})"
   ]
  },
  {
   "cell_type": "code",
   "execution_count": 8,
   "id": "e1d295dd",
   "metadata": {},
   "outputs": [
    {
     "data": {
      "text/html": [
       "<div>\n",
       "<style scoped>\n",
       "    .dataframe tbody tr th:only-of-type {\n",
       "        vertical-align: middle;\n",
       "    }\n",
       "\n",
       "    .dataframe tbody tr th {\n",
       "        vertical-align: top;\n",
       "    }\n",
       "\n",
       "    .dataframe thead th {\n",
       "        text-align: right;\n",
       "    }\n",
       "</style>\n",
       "<table border=\"1\" class=\"dataframe\">\n",
       "  <thead>\n",
       "    <tr style=\"text-align: right;\">\n",
       "      <th></th>\n",
       "      <th>taxa_juros</th>\n",
       "      <th>taxa_cambio</th>\n",
       "      <th>producao_industrial</th>\n",
       "      <th>pib</th>\n",
       "      <th>inflacao</th>\n",
       "      <th>taxa_desemprego</th>\n",
       "    </tr>\n",
       "  </thead>\n",
       "  <tbody>\n",
       "    <tr>\n",
       "      <th>0</th>\n",
       "      <td>5.618102</td>\n",
       "      <td>1.740532</td>\n",
       "      <td>89.255853</td>\n",
       "      <td>66.385407</td>\n",
       "      <td>23.102492</td>\n",
       "      <td>33.626470</td>\n",
       "    </tr>\n",
       "    <tr>\n",
       "      <th>1</th>\n",
       "      <td>14.260715</td>\n",
       "      <td>3.167604</td>\n",
       "      <td>87.046820</td>\n",
       "      <td>84.632680</td>\n",
       "      <td>30.193113</td>\n",
       "      <td>34.390431</td>\n",
       "    </tr>\n",
       "    <tr>\n",
       "      <th>2</th>\n",
       "      <td>10.979909</td>\n",
       "      <td>4.491783</td>\n",
       "      <td>185.938187</td>\n",
       "      <td>131.822108</td>\n",
       "      <td>52.517792</td>\n",
       "      <td>74.375747</td>\n",
       "    </tr>\n",
       "    <tr>\n",
       "      <th>3</th>\n",
       "      <td>8.979877</td>\n",
       "      <td>3.928900</td>\n",
       "      <td>87.431930</td>\n",
       "      <td>66.632640</td>\n",
       "      <td>29.988437</td>\n",
       "      <td>33.580560</td>\n",
       "    </tr>\n",
       "    <tr>\n",
       "      <th>4</th>\n",
       "      <td>2.340280</td>\n",
       "      <td>4.226245</td>\n",
       "      <td>90.792459</td>\n",
       "      <td>68.815242</td>\n",
       "      <td>26.593498</td>\n",
       "      <td>37.755042</td>\n",
       "    </tr>\n",
       "  </tbody>\n",
       "</table>\n",
       "</div>"
      ],
      "text/plain": [
       "   taxa_juros  taxa_cambio  producao_industrial         pib   inflacao  \\\n",
       "0    5.618102     1.740532            89.255853   66.385407  23.102492   \n",
       "1   14.260715     3.167604            87.046820   84.632680  30.193113   \n",
       "2   10.979909     4.491783           185.938187  131.822108  52.517792   \n",
       "3    8.979877     3.928900            87.431930   66.632640  29.988437   \n",
       "4    2.340280     4.226245            90.792459   68.815242  26.593498   \n",
       "\n",
       "   taxa_desemprego  \n",
       "0        33.626470  \n",
       "1        34.390431  \n",
       "2        74.375747  \n",
       "3        33.580560  \n",
       "4        37.755042  "
      ]
     },
     "execution_count": 8,
     "metadata": {},
     "output_type": "execute_result"
    }
   ],
   "source": [
    "df_dsa.head()"
   ]
  },
  {
   "cell_type": "markdown",
   "id": "1d0d55a9",
   "metadata": {},
   "source": [
    "## Separando atributos e target"
   ]
  },
  {
   "cell_type": "code",
   "execution_count": 14,
   "id": "563a41f7",
   "metadata": {},
   "outputs": [],
   "source": [
    "## Separando atributos e targets - Previsão do PIB, Inflacao e taxa de desemprego\n",
    "X = df_dsa[['taxa_juros', 'taxa_cambio', 'producao_industrial']]\n",
    "y = df_dsa[['pib', 'inflacao', 'taxa_desemprego']]"
   ]
  },
  {
   "cell_type": "code",
   "execution_count": 10,
   "id": "0c9c8638",
   "metadata": {},
   "outputs": [],
   "source": [
    "# Dividir os dados em conjuntos de treino e teste\n",
    "X_treino, X_teste, y_treino, y_teste = train_test_split(X, y, test_size = 0.2, random_state = 42)"
   ]
  },
  {
   "cell_type": "markdown",
   "id": "65e45263",
   "metadata": {},
   "source": [
    "## Padronização dos Atributos"
   ]
  },
  {
   "cell_type": "code",
   "execution_count": 26,
   "id": "87b19e44",
   "metadata": {},
   "outputs": [],
   "source": [
    "# Padronizar as features\n",
    "scaler = StandardScaler()\n",
    "X_treino_scaled = scaler.fit_transform(X_treino)\n",
    "X_teste_scaled = scaler.transform(X_teste)"
   ]
  },
  {
   "cell_type": "markdown",
   "id": "2b19827f",
   "metadata": {},
   "source": [
    "## Construção do Modelo Multi-Target\n",
    "A Regressão Multi-Target, ou Regressão Multi-Saída, é uma abordagem usada para prever múltiplas variáveis dependentes simultaneamente. Em vez de prever uma única variável de saída, o modelo faz previsões para diversas variáveis de saída. Essa abordagem pode ser vantajosa quando há correlações entre as variáveis de saída, permitindo que o modelo capture essas dependências e forneça previsões mais precisas.\n",
    "\n",
    "Existem várias maneiras de implementar a Regressão Multi-Target:\n",
    "\n",
    "**Modelos Independentes**: Treinar um modelo de regressão separado para cada variável de saída. Isso é simples, mas ignora possíveis correlações entre as variáveis de saída.\n",
    "\n",
    "**MultiOutputRegressor**: Utiliza um modelo de regressão base e estende para múltiplas saídas. Cada saída é tratada como uma regressão separada, mas o mesmo algoritmo de regressão é usado para todas as saídas. Por exemplo, MultiOutputRegressor(RandomForestRegressor(...)).\n",
    "\n",
    "**Modelos Multivariados**: Alguns algoritmos de regressão são naturalmente capazes de lidar com múltiplas saídas, como Redes Neurais e alguns métodos de aprendizado profundo. Esses modelos podem capturar melhor as dependências entre as variáveis de saída.\n",
    "\n",
    "**Modelos de Regressão Conjunta**: Utilizar uma abordagem que trata todas as variáveis de saída simultaneamente em um único modelo. Por exemplo, o algoritmo PLS (Partial Least Squares) pode ser usado para regressão multi-target."
   ]
  },
  {
   "cell_type": "code",
   "execution_count": 27,
   "id": "9b732681",
   "metadata": {},
   "outputs": [],
   "source": [
    "# Construir e treinar o modelo\n",
    "modelo_socioeconomico = MultiOutputRegressor(RandomForestRegressor(n_estimators = 100, random_state = 42))"
   ]
  },
  {
   "cell_type": "markdown",
   "id": "6017f8bb",
   "metadata": {},
   "source": [
    "A célula acima define um modelo de regressão multi-saída usando uma combinação do MultiOutputRegressor e do RandomForestRegressor.\n",
    "\n",
    "- **RandomForestRegressor(n_estimators = 100, random_state = 42)**: Este é o modelo de regressão base que será utilizado. Ele consiste em uma floresta de 100 árvores de decisão (indicadas por n_estimators = 100). O parâmetro random_state = 42 é usado para garantir a reprodutibilidade dos resultados, fixando a semente do gerador de números aleatórios.\n",
    "\n",
    "- **MultiOutputRegressor(...)**: Esta classe permite estender um modelo de regressão para lidar com múltiplas variáveis dependentes (multi-saída). Cada saída é tratada como uma regressão separada.\n",
    "\n",
    "Portanto, modelo_socioeconomico é um modelo que utiliza uma floresta aleatória para prever múltiplas variáveis dependentes simultaneamente."
   ]
  },
  {
   "cell_type": "markdown",
   "id": "c68d7d51",
   "metadata": {},
   "source": [
    "> **Documentação:**\n",
    ">\n",
    "> https://scikit-learn.org/stable/modules/generated/sklearn.multioutput.MultiOutputRegressor.html\n",
    ">    \n",
    "> https://scikit-learn.org/stable/modules/generated/sklearn.multioutput.RegressorChain.html\n",
    ">\n",
    "> https://scikit-learn.org/stable/modules/generated/sklearn.multioutput.MultiOutputClassifier.html"
   ]
  },
  {
   "cell_type": "code",
   "execution_count": 20,
   "id": "72d6c304",
   "metadata": {},
   "outputs": [],
   "source": [
    "## Treinamento e Avaliação do Modelo"
   ]
  },
  {
   "cell_type": "code",
   "execution_count": 28,
   "id": "a512b0ef",
   "metadata": {},
   "outputs": [
    {
     "data": {
      "text/html": [
       "<style>#sk-container-id-2 {color: black;background-color: white;}#sk-container-id-2 pre{padding: 0;}#sk-container-id-2 div.sk-toggleable {background-color: white;}#sk-container-id-2 label.sk-toggleable__label {cursor: pointer;display: block;width: 100%;margin-bottom: 0;padding: 0.3em;box-sizing: border-box;text-align: center;}#sk-container-id-2 label.sk-toggleable__label-arrow:before {content: \"▸\";float: left;margin-right: 0.25em;color: #696969;}#sk-container-id-2 label.sk-toggleable__label-arrow:hover:before {color: black;}#sk-container-id-2 div.sk-estimator:hover label.sk-toggleable__label-arrow:before {color: black;}#sk-container-id-2 div.sk-toggleable__content {max-height: 0;max-width: 0;overflow: hidden;text-align: left;background-color: #f0f8ff;}#sk-container-id-2 div.sk-toggleable__content pre {margin: 0.2em;color: black;border-radius: 0.25em;background-color: #f0f8ff;}#sk-container-id-2 input.sk-toggleable__control:checked~div.sk-toggleable__content {max-height: 200px;max-width: 100%;overflow: auto;}#sk-container-id-2 input.sk-toggleable__control:checked~label.sk-toggleable__label-arrow:before {content: \"▾\";}#sk-container-id-2 div.sk-estimator input.sk-toggleable__control:checked~label.sk-toggleable__label {background-color: #d4ebff;}#sk-container-id-2 div.sk-label input.sk-toggleable__control:checked~label.sk-toggleable__label {background-color: #d4ebff;}#sk-container-id-2 input.sk-hidden--visually {border: 0;clip: rect(1px 1px 1px 1px);clip: rect(1px, 1px, 1px, 1px);height: 1px;margin: -1px;overflow: hidden;padding: 0;position: absolute;width: 1px;}#sk-container-id-2 div.sk-estimator {font-family: monospace;background-color: #f0f8ff;border: 1px dotted black;border-radius: 0.25em;box-sizing: border-box;margin-bottom: 0.5em;}#sk-container-id-2 div.sk-estimator:hover {background-color: #d4ebff;}#sk-container-id-2 div.sk-parallel-item::after {content: \"\";width: 100%;border-bottom: 1px solid gray;flex-grow: 1;}#sk-container-id-2 div.sk-label:hover label.sk-toggleable__label {background-color: #d4ebff;}#sk-container-id-2 div.sk-serial::before {content: \"\";position: absolute;border-left: 1px solid gray;box-sizing: border-box;top: 0;bottom: 0;left: 50%;z-index: 0;}#sk-container-id-2 div.sk-serial {display: flex;flex-direction: column;align-items: center;background-color: white;padding-right: 0.2em;padding-left: 0.2em;position: relative;}#sk-container-id-2 div.sk-item {position: relative;z-index: 1;}#sk-container-id-2 div.sk-parallel {display: flex;align-items: stretch;justify-content: center;background-color: white;position: relative;}#sk-container-id-2 div.sk-item::before, #sk-container-id-2 div.sk-parallel-item::before {content: \"\";position: absolute;border-left: 1px solid gray;box-sizing: border-box;top: 0;bottom: 0;left: 50%;z-index: -1;}#sk-container-id-2 div.sk-parallel-item {display: flex;flex-direction: column;z-index: 1;position: relative;background-color: white;}#sk-container-id-2 div.sk-parallel-item:first-child::after {align-self: flex-end;width: 50%;}#sk-container-id-2 div.sk-parallel-item:last-child::after {align-self: flex-start;width: 50%;}#sk-container-id-2 div.sk-parallel-item:only-child::after {width: 0;}#sk-container-id-2 div.sk-dashed-wrapped {border: 1px dashed gray;margin: 0 0.4em 0.5em 0.4em;box-sizing: border-box;padding-bottom: 0.4em;background-color: white;}#sk-container-id-2 div.sk-label label {font-family: monospace;font-weight: bold;display: inline-block;line-height: 1.2em;}#sk-container-id-2 div.sk-label-container {text-align: center;}#sk-container-id-2 div.sk-container {/* jupyter's `normalize.less` sets `[hidden] { display: none; }` but bootstrap.min.css set `[hidden] { display: none !important; }` so we also need the `!important` here to be able to override the default hidden behavior on the sphinx rendered scikit-learn.org. See: https://github.com/scikit-learn/scikit-learn/issues/21755 */display: inline-block !important;position: relative;}#sk-container-id-2 div.sk-text-repr-fallback {display: none;}</style><div id=\"sk-container-id-2\" class=\"sk-top-container\"><div class=\"sk-text-repr-fallback\"><pre>MultiOutputRegressor(estimator=RandomForestRegressor(random_state=42))</pre><b>In a Jupyter environment, please rerun this cell to show the HTML representation or trust the notebook. <br />On GitHub, the HTML representation is unable to render, please try loading this page with nbviewer.org.</b></div><div class=\"sk-container\" hidden><div class=\"sk-item sk-dashed-wrapped\"><div class=\"sk-label-container\"><div class=\"sk-label sk-toggleable\"><input class=\"sk-toggleable__control sk-hidden--visually\" id=\"sk-estimator-id-4\" type=\"checkbox\" ><label for=\"sk-estimator-id-4\" class=\"sk-toggleable__label sk-toggleable__label-arrow\">MultiOutputRegressor</label><div class=\"sk-toggleable__content\"><pre>MultiOutputRegressor(estimator=RandomForestRegressor(random_state=42))</pre></div></div></div><div class=\"sk-parallel\"><div class=\"sk-parallel-item\"><div class=\"sk-item\"><div class=\"sk-label-container\"><div class=\"sk-label sk-toggleable\"><input class=\"sk-toggleable__control sk-hidden--visually\" id=\"sk-estimator-id-5\" type=\"checkbox\" ><label for=\"sk-estimator-id-5\" class=\"sk-toggleable__label sk-toggleable__label-arrow\">estimator: RandomForestRegressor</label><div class=\"sk-toggleable__content\"><pre>RandomForestRegressor(random_state=42)</pre></div></div></div><div class=\"sk-serial\"><div class=\"sk-item\"><div class=\"sk-estimator sk-toggleable\"><input class=\"sk-toggleable__control sk-hidden--visually\" id=\"sk-estimator-id-6\" type=\"checkbox\" ><label for=\"sk-estimator-id-6\" class=\"sk-toggleable__label sk-toggleable__label-arrow\">RandomForestRegressor</label><div class=\"sk-toggleable__content\"><pre>RandomForestRegressor(random_state=42)</pre></div></div></div></div></div></div></div></div></div></div>"
      ],
      "text/plain": [
       "MultiOutputRegressor(estimator=RandomForestRegressor(random_state=42))"
      ]
     },
     "execution_count": 28,
     "metadata": {},
     "output_type": "execute_result"
    }
   ],
   "source": [
    "modelo_socioeconomico.fit(X_treino_scaled, y_treino)"
   ]
  },
  {
   "cell_type": "code",
   "execution_count": 29,
   "id": "43fb69db",
   "metadata": {},
   "outputs": [],
   "source": [
    "# Fazendo previsões\n",
    "y_pred = modelo_socioeconomico.predict(X_teste_scaled)\n"
   ]
  },
  {
   "cell_type": "code",
   "execution_count": 30,
   "id": "c6e65d25",
   "metadata": {},
   "outputs": [
    {
     "name": "stdout",
     "output_type": "stream",
     "text": [
      "MSE de cada variável alvo: [38.86388322  4.93906348  1.20767905]\n"
     ]
    }
   ],
   "source": [
    "# Mean Squared Error\n",
    "mse = mean_squared_error(y_teste, y_pred, multioutput = 'raw_values')\n",
    "print('MSE de cada variável alvo:', mse)"
   ]
  },
  {
   "cell_type": "markdown",
   "id": "9f07bde6",
   "metadata": {},
   "source": [
    "> O Mean Squared Error (MSE) é uma métrica de avaliação usada para medir a diferença entre os valores previstos por um modelo e os valores reais observados.  O MSE calcula a média dos quadrados dos erros, ou seja, a média das diferenças quadráticas entre os valores reais e previstos. Um MSE menor indica um modelo mais preciso."
   ]
  },
  {
   "cell_type": "code",
   "execution_count": 31,
   "id": "32cf78c6",
   "metadata": {},
   "outputs": [
    {
     "name": "stdout",
     "output_type": "stream",
     "text": [
      "R2 de cada variável alvo: [0.94231126 0.94961794 0.99611608]\n"
     ]
    }
   ],
   "source": [
    "# Coeficiente de determinação\n",
    "r2 = r2_score(y_teste, y_pred, multioutput = 'raw_values')\n",
    "print(\"R2 de cada variável alvo:\", r2)"
   ]
  },
  {
   "cell_type": "markdown",
   "id": "fbc83196",
   "metadata": {},
   "source": [
    "> O coeficiente de determinação, também conhecido como 𝑅2, é uma métrica que avalia a proporção da variabilidade da variável dependente que é explicada pelo modelo. Ele é amplamente usado para medir a qualidade do ajuste de modelos de regressão. \n",
    ">\n",
    ">O 𝑅2 varia entre 0 e 1, onde:\n",
    ">\n",
    ">- 0 indica que o modelo não explica nenhuma variabilidade da variável alvo.\n",
    ">- 1 indica que o modelo explica toda a variabilidade da variável alvo."
   ]
  },
  {
   "cell_type": "markdown",
   "id": "ab20e74e",
   "metadata": {},
   "source": [
    "## Visualizando as previsões"
   ]
  },
  {
   "cell_type": "code",
   "execution_count": 32,
   "id": "86913ec6",
   "metadata": {},
   "outputs": [],
   "source": [
    "# Visualizar alguns resultados\n",
    "resultados = pd.DataFrame(y_teste, columns = ['pib', 'inflacao', 'taxa_desemprego'])\n",
    "resultados['pib_pred'] = y_pred[:, 0]\n",
    "resultados['inflacao_pred'] = y_pred[:, 1]\n",
    "resultados['taxa_desemprego_pred'] = y_pred[:, 2]"
   ]
  },
  {
   "cell_type": "code",
   "execution_count": 33,
   "id": "584ce46d",
   "metadata": {},
   "outputs": [
    {
     "data": {
      "text/html": [
       "<div>\n",
       "<style scoped>\n",
       "    .dataframe tbody tr th:only-of-type {\n",
       "        vertical-align: middle;\n",
       "    }\n",
       "\n",
       "    .dataframe tbody tr th {\n",
       "        vertical-align: top;\n",
       "    }\n",
       "\n",
       "    .dataframe thead th {\n",
       "        text-align: right;\n",
       "    }\n",
       "</style>\n",
       "<table border=\"1\" class=\"dataframe\">\n",
       "  <thead>\n",
       "    <tr style=\"text-align: right;\">\n",
       "      <th></th>\n",
       "      <th>pib</th>\n",
       "      <th>inflacao</th>\n",
       "      <th>taxa_desemprego</th>\n",
       "      <th>pib_pred</th>\n",
       "      <th>inflacao_pred</th>\n",
       "      <th>taxa_desemprego_pred</th>\n",
       "    </tr>\n",
       "  </thead>\n",
       "  <tbody>\n",
       "    <tr>\n",
       "      <th>521</th>\n",
       "      <td>63.014526</td>\n",
       "      <td>26.680746</td>\n",
       "      <td>30.276211</td>\n",
       "      <td>54.654841</td>\n",
       "      <td>25.079532</td>\n",
       "      <td>28.152093</td>\n",
       "    </tr>\n",
       "    <tr>\n",
       "      <th>737</th>\n",
       "      <td>101.764482</td>\n",
       "      <td>36.175549</td>\n",
       "      <td>52.482609</td>\n",
       "      <td>96.803324</td>\n",
       "      <td>35.607149</td>\n",
       "      <td>51.887139</td>\n",
       "    </tr>\n",
       "    <tr>\n",
       "      <th>740</th>\n",
       "      <td>70.147008</td>\n",
       "      <td>30.863583</td>\n",
       "      <td>40.719110</td>\n",
       "      <td>78.477116</td>\n",
       "      <td>31.769310</td>\n",
       "      <td>41.675455</td>\n",
       "    </tr>\n",
       "    <tr>\n",
       "      <th>660</th>\n",
       "      <td>80.842988</td>\n",
       "      <td>33.689196</td>\n",
       "      <td>50.421798</td>\n",
       "      <td>83.755337</td>\n",
       "      <td>34.332910</td>\n",
       "      <td>49.269336</td>\n",
       "    </tr>\n",
       "    <tr>\n",
       "      <th>411</th>\n",
       "      <td>64.364788</td>\n",
       "      <td>24.215227</td>\n",
       "      <td>28.111229</td>\n",
       "      <td>73.112515</td>\n",
       "      <td>23.484329</td>\n",
       "      <td>28.844566</td>\n",
       "    </tr>\n",
       "  </tbody>\n",
       "</table>\n",
       "</div>"
      ],
      "text/plain": [
       "            pib   inflacao  taxa_desemprego   pib_pred  inflacao_pred  \\\n",
       "521   63.014526  26.680746        30.276211  54.654841      25.079532   \n",
       "737  101.764482  36.175549        52.482609  96.803324      35.607149   \n",
       "740   70.147008  30.863583        40.719110  78.477116      31.769310   \n",
       "660   80.842988  33.689196        50.421798  83.755337      34.332910   \n",
       "411   64.364788  24.215227        28.111229  73.112515      23.484329   \n",
       "\n",
       "     taxa_desemprego_pred  \n",
       "521             28.152093  \n",
       "737             51.887139  \n",
       "740             41.675455  \n",
       "660             49.269336  \n",
       "411             28.844566  "
      ]
     },
     "execution_count": 33,
     "metadata": {},
     "output_type": "execute_result"
    }
   ],
   "source": [
    "resultados.head()"
   ]
  },
  {
   "cell_type": "markdown",
   "id": "f10248f0",
   "metadata": {},
   "source": [
    "# Fim"
   ]
  }
 ],
 "metadata": {
  "kernelspec": {
   "display_name": "Python 3 (ipykernel)",
   "language": "python",
   "name": "python3"
  },
  "language_info": {
   "codemirror_mode": {
    "name": "ipython",
    "version": 3
   },
   "file_extension": ".py",
   "mimetype": "text/x-python",
   "name": "python",
   "nbconvert_exporter": "python",
   "pygments_lexer": "ipython3",
   "version": "3.9.12"
  }
 },
 "nbformat": 4,
 "nbformat_minor": 5
}
