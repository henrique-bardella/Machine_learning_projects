{
 "cells": [
  {
   "cell_type": "code",
   "execution_count": 1,
   "id": "832e0219",
   "metadata": {},
   "outputs": [],
   "source": [
    "from google_play_scraper import reviews as google_reviews\n",
    "from google_play_scraper import app, Sort, reviews_all\n",
    "from app_store_scraper import AppStore\n",
    "import numpy as np\n",
    "import pandas as pd\n",
    "import json, os, uuid\n",
    "import matplotlib.pyplot as plt\n",
    "import time\n"
   ]
  },
  {
   "cell_type": "code",
   "execution_count": null,
   "id": "ce98167f",
   "metadata": {},
   "outputs": [],
   "source": [
    "# Lista de IDs de aplicativos para extrair reviews\n",
    "app_ids = [\n",
    "    'br.com.bradesco.netempresa',  \n",
    "    'br.com.bradesco.pdpjapp',      \n",
    "    'com.itau.empresas',\n",
    "    'com.btg.business',\n",
    "    'br.livetouch.safra.empresas'\n",
    "]"
   ]
  },
  {
   "cell_type": "code",
   "execution_count": null,
   "id": "b3e6e450",
   "metadata": {},
   "outputs": [],
   "source": [
    "def extracao_reviews_google_store(app_ids):\n",
    "    all_reviews = []\n",
    "\n",
    "    for app_id in app_ids:\n",
    "        print(f'Extraindo reviews para o app: {app_id}')\n",
    "\n",
    "        app_reviews = reviews_all(\n",
    "            app_id,\n",
    "            sleep_milliseconds=0, # defaults to 0\n",
    "            lang='pt', # defaults to 'en'\n",
    "            country='br', # defaults to 'us'\n",
    "            sort=Sort.NEWEST, # defaults to Sort.MOST_RELEVANT\n",
    "        )\n",
    "        # Adicionar uma coluna indicando o aplicativo\n",
    "        for review in app_reviews:\n",
    "            review['app_id'] = app_id\n",
    "            review[\"store\"] = \"Google Play\"\n",
    "\n",
    "        # Adicionar os reviews à lista total\n",
    "        all_reviews.extend(app_reviews)\n",
    "        \n",
    "    return pd.DataFrame(all_reviews)"
   ]
  },
  {
   "cell_type": "code",
   "execution_count": null,
   "id": "e0de6d5f",
   "metadata": {},
   "outputs": [],
   "source": [
    "# Chamada da função para extrair reviews de todos os aplicativos\n",
    "reviews_df = extracao_reviews_google_store(app_ids)"
   ]
  },
  {
   "cell_type": "code",
   "execution_count": null,
   "id": "87226d6b",
   "metadata": {},
   "outputs": [],
   "source": [
    "reviews_df.info()"
   ]
  },
  {
   "cell_type": "code",
   "execution_count": null,
   "id": "18d9bee2",
   "metadata": {},
   "outputs": [],
   "source": [
    "reviews_df"
   ]
  },
  {
   "cell_type": "code",
   "execution_count": null,
   "id": "f0faac3b",
   "metadata": {},
   "outputs": [],
   "source": [
    "df_reviews_google = reviews_df "
   ]
  },
  {
   "cell_type": "code",
   "execution_count": null,
   "id": "8f310f35",
   "metadata": {},
   "outputs": [],
   "source": [
    "df_reviews_google = df_reviews_google.rename(columns={\n",
    "    \"userName\": \"user\",        \n",
    "    \"content\": \"review\",       \n",
    "    \"score\": \"score\",  \n",
    "    \"replyContent\":\"resposta\",\n",
    "    \"at\": \"data\",               \n",
    "    \"app_id\":\"app_name\"\n",
    "})"
   ]
  },
  {
   "cell_type": "code",
   "execution_count": null,
   "id": "f447e9a7",
   "metadata": {},
   "outputs": [],
   "source": [
    "df_reviews_google"
   ]
  },
  {
   "cell_type": "code",
   "execution_count": null,
   "id": "0bada33b",
   "metadata": {},
   "outputs": [],
   "source": [
    "# Selecionando colunas comuns para unificação\n",
    "common_columns = [\"user\", \"review\", \"score\",'resposta', \"data\", \"app_name\", \"store\"]"
   ]
  },
  {
   "cell_type": "code",
   "execution_count": null,
   "id": "2db711ef",
   "metadata": {},
   "outputs": [],
   "source": [
    "df_reviews_google_final = df_reviews_google[common_columns]"
   ]
  },
  {
   "cell_type": "code",
   "execution_count": null,
   "id": "0f4c9f55",
   "metadata": {},
   "outputs": [],
   "source": [
    "df_reviews_google_final"
   ]
  },
  {
   "cell_type": "markdown",
   "id": "e0f45523",
   "metadata": {},
   "source": [
    "### Extração Reviews Apple store"
   ]
  },
  {
   "cell_type": "markdown",
   "id": "6a2e1775",
   "metadata": {},
   "source": [
    "# Apple id\n",
    "https://apps.apple.com/br/app/bradesco-net-empresa/id462977200\n",
    "https://apps.apple.com/br/app/ita%C3%BA-empresas-conta-pj/id348274534\n",
    "https://apps.apple.com/br/app/btg-pactual-empresas-conta-pj/id1501414115\n",
    "https://apps.apple.com/br/app/safra-empresas-a-sua-conta-pj/id417297468\n",
    "    "
   ]
  },
  {
   "cell_type": "code",
   "execution_count": 2,
   "id": "4d3161cc",
   "metadata": {},
   "outputs": [],
   "source": [
    "apple_apps = {\n",
    "    \"Bradesco Net Empresa\": 462977200,\n",
    "    \"Itaú Empresas\": 348274534,\n",
    "    \"BTG Pactual Empresas\": 1501414115,\n",
    "    \"Safra Empresas\": 417297468\n",
    "}"
   ]
  },
  {
   "cell_type": "code",
   "execution_count": 3,
   "id": "4a208636",
   "metadata": {},
   "outputs": [
    {
     "name": "stdout",
     "output_type": "stream",
     "text": [
      "Extraindo reviews para: Bradesco Net Empresa...\n"
     ]
    },
    {
     "name": "stderr",
     "output_type": "stream",
     "text": [
      "2025-06-10 19:54:03,431 [INFO] Base - Initialised: AppStore('br', 'bradesco-net-empresa', 462977200)\n",
      "2025-06-10 19:54:03,432 [INFO] Base - Ready to fetch reviews from: https://apps.apple.com/br/app/bradesco-net-empresa/id462977200\n",
      "2025-06-10 19:54:04,028 [ERROR] Base - Something went wrong: Expecting value: line 1 column 1 (char 0)\n",
      "2025-06-10 19:54:04,029 [INFO] Base - [id:462977200] Fetched 0 reviews (0 fetched in total)\n"
     ]
    },
    {
     "name": "stdout",
     "output_type": "stream",
     "text": [
      "Extraindo reviews para: Itaú Empresas...\n"
     ]
    },
    {
     "name": "stderr",
     "output_type": "stream",
     "text": [
      "2025-06-10 19:54:05,538 [INFO] Base - Initialised: AppStore('br', 'itaú-empresas', 348274534)\n",
      "2025-06-10 19:54:05,540 [INFO] Base - Ready to fetch reviews from: https://apps.apple.com/br/app/itaú-empresas/id348274534\n",
      "2025-06-10 19:54:06,132 [ERROR] Base - Something went wrong: Expecting value: line 1 column 1 (char 0)\n",
      "2025-06-10 19:54:06,133 [INFO] Base - [id:348274534] Fetched 0 reviews (0 fetched in total)\n"
     ]
    },
    {
     "name": "stdout",
     "output_type": "stream",
     "text": [
      "Extraindo reviews para: BTG Pactual Empresas...\n"
     ]
    },
    {
     "name": "stderr",
     "output_type": "stream",
     "text": [
      "2025-06-10 19:54:07,445 [INFO] Base - Initialised: AppStore('br', 'btg-pactual-empresas', 1501414115)\n",
      "2025-06-10 19:54:07,447 [INFO] Base - Ready to fetch reviews from: https://apps.apple.com/br/app/btg-pactual-empresas/id1501414115\n",
      "2025-06-10 19:54:08,060 [ERROR] Base - Something went wrong: Expecting value: line 1 column 1 (char 0)\n",
      "2025-06-10 19:54:08,061 [INFO] Base - [id:1501414115] Fetched 0 reviews (0 fetched in total)\n"
     ]
    },
    {
     "name": "stdout",
     "output_type": "stream",
     "text": [
      "Extraindo reviews para: Safra Empresas...\n"
     ]
    },
    {
     "name": "stderr",
     "output_type": "stream",
     "text": [
      "2025-06-10 19:54:09,547 [INFO] Base - Initialised: AppStore('br', 'safra-empresas', 417297468)\n",
      "2025-06-10 19:54:09,548 [INFO] Base - Ready to fetch reviews from: https://apps.apple.com/br/app/safra-empresas/id417297468\n",
      "2025-06-10 19:54:10,131 [ERROR] Base - Something went wrong: Expecting value: line 1 column 1 (char 0)\n",
      "2025-06-10 19:54:10,132 [INFO] Base - [id:417297468] Fetched 0 reviews (0 fetched in total)\n"
     ]
    }
   ],
   "source": [
    "# Lista para armazenar os reviews de todos os apps\n",
    "all_reviews = []\n",
    "\n",
    "# Iterar sobre os aplicativos e coletar reviews\n",
    "for app_name, app_id in apple_apps.items():\n",
    "    print(f\"Extraindo reviews para: {app_name}...\")\n",
    "    \n",
    "    app = AppStore(country=\"br\", app_name=app_name, app_id=app_id)\n",
    "    app.review(how_many=5000)  # Tenta coletar o máximo de reviews disponíveis\n",
    "\n",
    "    # Criar um DataFrame para cada app\n",
    "    df = pd.DataFrame(app.reviews)\n",
    "    df[\"app_name\"] = app_name  # Adicionar a coluna do nome do app\n",
    "    df[\"store\"] = \"Apple Store\"\n",
    "\n",
    "    # Adicionar ao conjunto geral\n",
    "    all_reviews.append(df)\n",
    "\n",
    "# Concatenar todos os reviews em um único DataFrame\n",
    "reviews_df_apple = pd.concat(all_reviews, ignore_index=True)"
   ]
  },
  {
   "cell_type": "code",
   "execution_count": 4,
   "id": "ef3489d8",
   "metadata": {},
   "outputs": [
    {
     "name": "stderr",
     "output_type": "stream",
     "text": [
      "2025-06-10 19:54:24,504 [INFO] Base - Initialised: AppStore('br', 'bradesco-net-empresa', 462977200)\n",
      "2025-06-10 19:54:24,506 [INFO] Base - Ready to fetch reviews from: https://apps.apple.com/br/app/bradesco-net-empresa/id462977200\n",
      "2025-06-10 19:54:25,092 [ERROR] Base - Something went wrong: Expecting value: line 1 column 1 (char 0)\n",
      "2025-06-10 19:54:25,093 [INFO] Base - [id:462977200] Fetched 0 reviews (0 fetched in total)\n"
     ]
    },
    {
     "name": "stdout",
     "output_type": "stream",
     "text": [
      "Reviews de teste: 0\n"
     ]
    }
   ],
   "source": [
    "\n",
    "test_app = AppStore(country=\"br\", app_name=\"Bradesco Net Empresa\", app_id=462977200)\n",
    "test_app.review(how_many=10)\n",
    "print(f\"Reviews de teste: {len(test_app.reviews)}\")"
   ]
  },
  {
   "cell_type": "code",
   "execution_count": 6,
   "id": "ae395f7c",
   "metadata": {},
   "outputs": [
    {
     "name": "stdout",
     "output_type": "stream",
     "text": [
      "Extraindo reviews para: Bradesco Net Empresa (ID: 462977200)...\n"
     ]
    },
    {
     "name": "stderr",
     "output_type": "stream",
     "text": [
      "2025-06-10 19:56:23,401 [INFO] Base - Initialised: AppStore('br', 'bradesco-net-empresa', 462977200)\n",
      "2025-06-10 19:56:23,402 [INFO] Base - Ready to fetch reviews from: https://apps.apple.com/br/app/bradesco-net-empresa/id462977200\n",
      "2025-06-10 19:56:24,090 [ERROR] Base - Something went wrong: Expecting value: line 1 column 1 (char 0)\n",
      "2025-06-10 19:56:24,091 [INFO] Base - [id:462977200] Fetched 0 reviews (0 fetched in total)\n"
     ]
    },
    {
     "name": "stdout",
     "output_type": "stream",
     "text": [
      "Reviews encontrados: 0\n",
      "Nenhum review encontrado para este app\n",
      "Extraindo reviews para: Itaú Empresas (ID: 348274534)...\n"
     ]
    },
    {
     "name": "stderr",
     "output_type": "stream",
     "text": [
      "2025-06-10 19:56:26,612 [INFO] Base - Initialised: AppStore('br', 'itaú-empresas', 348274534)\n",
      "2025-06-10 19:56:26,613 [INFO] Base - Ready to fetch reviews from: https://apps.apple.com/br/app/itaú-empresas/id348274534\n",
      "2025-06-10 19:56:27,243 [ERROR] Base - Something went wrong: Expecting value: line 1 column 1 (char 0)\n",
      "2025-06-10 19:56:27,244 [INFO] Base - [id:348274534] Fetched 0 reviews (0 fetched in total)\n"
     ]
    },
    {
     "name": "stdout",
     "output_type": "stream",
     "text": [
      "Reviews encontrados: 0\n",
      "Nenhum review encontrado para este app\n",
      "Extraindo reviews para: BTG Pactual Empresas (ID: 1501414115)...\n"
     ]
    },
    {
     "name": "stderr",
     "output_type": "stream",
     "text": [
      "2025-06-10 19:56:29,751 [INFO] Base - Initialised: AppStore('br', 'btg-pactual-empresas', 1501414115)\n",
      "2025-06-10 19:56:29,754 [INFO] Base - Ready to fetch reviews from: https://apps.apple.com/br/app/btg-pactual-empresas/id1501414115\n",
      "2025-06-10 19:56:30,470 [ERROR] Base - Something went wrong: Expecting value: line 1 column 1 (char 0)\n",
      "2025-06-10 19:56:30,470 [INFO] Base - [id:1501414115] Fetched 0 reviews (0 fetched in total)\n"
     ]
    },
    {
     "name": "stdout",
     "output_type": "stream",
     "text": [
      "Reviews encontrados: 0\n",
      "Nenhum review encontrado para este app\n",
      "Extraindo reviews para: Safra Empresas (ID: 417297468)...\n"
     ]
    },
    {
     "name": "stderr",
     "output_type": "stream",
     "text": [
      "2025-06-10 19:56:32,979 [INFO] Base - Initialised: AppStore('br', 'safra-empresas', 417297468)\n",
      "2025-06-10 19:56:32,980 [INFO] Base - Ready to fetch reviews from: https://apps.apple.com/br/app/safra-empresas/id417297468\n",
      "2025-06-10 19:56:33,688 [ERROR] Base - Something went wrong: Expecting value: line 1 column 1 (char 0)\n",
      "2025-06-10 19:56:33,689 [INFO] Base - [id:417297468] Fetched 0 reviews (0 fetched in total)\n"
     ]
    },
    {
     "name": "stdout",
     "output_type": "stream",
     "text": [
      "Reviews encontrados: 0\n",
      "Nenhum review encontrado para este app\n"
     ]
    }
   ],
   "source": [
    "# Lista para armazenar os reviews de todos os apps\n",
    "all_reviews = []\n",
    "for app_name, app_id in apple_apps.items():\n",
    "    try:\n",
    "        print(f\"Extraindo reviews para: {app_name} (ID: {app_id})...\")\n",
    "        \n",
    "        # Adicione debug para ver se a conexão funciona\n",
    "        app = AppStore(country=\"br\", app_name=app_name, app_id=app_id)\n",
    "        \n",
    "        # Comece com menos reviews para testar\n",
    "        app.review(how_many=100)\n",
    "        \n",
    "        print(f\"Reviews encontrados: {len(app.reviews)}\")\n",
    "        \n",
    "        # Debug: veja o que está sendo retornado\n",
    "        if len(app.reviews) > 0:\n",
    "            print(\"Primeiro review:\", app.reviews[0])\n",
    "        else:\n",
    "            print(\"Nenhum review encontrado para este app\")\n",
    "            \n",
    "        # Criar DataFrame apenas se houver reviews\n",
    "        if app.reviews:\n",
    "            df = pd.DataFrame(app.reviews)\n",
    "            df[\"app_name\"] = app_name\n",
    "            df[\"store\"] = \"Apple Store\"\n",
    "            all_reviews.append(df)\n",
    "            print(f\"DataFrame criado com {len(df)} linhas\")\n",
    "        \n",
    "        # Adicione delay entre requisições\n",
    "        time.sleep(2)\n",
    "        \n",
    "    except Exception as e:\n",
    "        print(f\"Erro ao extrair {app_name}: {str(e)}\")"
   ]
  },
  {
   "cell_type": "code",
   "execution_count": 9,
   "id": "908d0daf",
   "metadata": {},
   "outputs": [
    {
     "name": "stderr",
     "output_type": "stream",
     "text": [
      "2025-06-10 19:59:20,854 [INFO] Base - Initialised: AppStore('br', 'itau-empresas', 348274534)\n",
      "2025-06-10 19:59:20,855 [INFO] Base - Ready to fetch reviews from: https://apps.apple.com/br/app/itau-empresas/id348274534\n"
     ]
    }
   ],
   "source": [
    "from app_store_scraper import AppStore\n",
    "\n",
    "app = AppStore(country=\"br\",\n",
    "               app_name=\"itau-empresas\",\n",
    "               app_id=348274534)"
   ]
  },
  {
   "cell_type": "code",
   "execution_count": 10,
   "id": "89e71887",
   "metadata": {},
   "outputs": [],
   "source": [
    "app._request_headers.update({\n",
    "    \"User-Agent\": \"Mozilla/5.0 (Windows NT 10.0; Win64; x64)\",\n",
    "    \"Accept\": \"application/json\",\n",
    "    \"Referer\": f\"https://apps.apple.com/br/app/ita%C3%BA-empresas/id{app.app_id}\",\n",
    "    \"Origin\": \"https://apps.apple.com\"\n",
    "})\n"
   ]
  },
  {
   "cell_type": "code",
   "execution_count": 11,
   "id": "4944d744",
   "metadata": {},
   "outputs": [
    {
     "name": "stderr",
     "output_type": "stream",
     "text": [
      "2025-06-10 19:59:37,094 [ERROR] Base - Something went wrong: Expecting value: line 1 column 1 (char 0)\n",
      "2025-06-10 19:59:37,095 [INFO] Base - [id:348274534] Fetched 0 reviews (0 fetched in total)\n"
     ]
    }
   ],
   "source": [
    "app.review(how_many=10, sleep=2)"
   ]
  },
  {
   "cell_type": "code",
   "execution_count": null,
   "id": "3124a255",
   "metadata": {},
   "outputs": [],
   "source": [
    "\n",
    "for slug, app_id in apple_apps.items():\n",
    "    print(f\"Extraindo reviews para: {slug} (id={app_id})…\")\n",
    "    app = AppStore(country=\"br\", app_name=slug, app_id=app_id)\n",
    "    app.review(how_many=5000)                        # tenta coletar até 5000\n",
    "    print(f\"  → {len(app.reviews)} reviews obtidas\")\n",
    "    \n",
    "    if app.reviews:\n",
    "        df = pd.DataFrame(app.reviews)\n",
    "        df[\"app_slug\"] = slug\n",
    "        df[\"store\"]    = \"Apple Store\"\n",
    "        all_reviews.append(df)\n",
    "\n",
    "# Só concatena se tiver algo\n",
    "if all_reviews:\n",
    "    reviews_df_apple = pd.concat(all_reviews, ignore_index=True)\n",
    "    print(f\"\\nTotal geral de reviews: {len(reviews_df_apple)}\")\n",
    "else:\n",
    "    print(\"Nenhuma review capturada em nenhum dos apps.\")\n"
   ]
  },
  {
   "cell_type": "code",
   "execution_count": null,
   "id": "912a8bc4",
   "metadata": {},
   "outputs": [],
   "source": [
    "reviews_df_apple"
   ]
  },
  {
   "cell_type": "code",
   "execution_count": null,
   "id": "27b05517",
   "metadata": {},
   "outputs": [],
   "source": [
    "reviews_df_apple"
   ]
  },
  {
   "cell_type": "code",
   "execution_count": null,
   "id": "aeb27128",
   "metadata": {},
   "outputs": [],
   "source": [
    "reviews_df_apple[\"content\"] = reviews_df_apple[\"developerResponse\"].apply(lambda x: x.get(\"body\") if isinstance(x, dict) else x)"
   ]
  },
  {
   "cell_type": "code",
   "execution_count": null,
   "id": "2dad578e",
   "metadata": {},
   "outputs": [],
   "source": [
    "df_reviews_apple = reviews_df_apple"
   ]
  },
  {
   "cell_type": "code",
   "execution_count": null,
   "id": "ddeac583",
   "metadata": {},
   "outputs": [],
   "source": [
    "# Renomeando colunas para padronizar\n",
    "df_reviews_apple = df_reviews_apple.rename(columns={\n",
    "    \"userName\": \"user\",         # Nome do usuário na Apple Store       # Review na Apple Store\n",
    "    \"rating\": \"score\",          # Nota na Apple Store\n",
    "    \"date\": \"data\",\n",
    "    \"content\":'resposta'\n",
    "})"
   ]
  },
  {
   "cell_type": "code",
   "execution_count": null,
   "id": "8fd4a9d4",
   "metadata": {},
   "outputs": [],
   "source": [
    "df_reviews_apple = df_reviews_apple.drop('developerResponse', axis=1)"
   ]
  },
  {
   "cell_type": "code",
   "execution_count": null,
   "id": "9ea6ffb1",
   "metadata": {},
   "outputs": [],
   "source": [
    "df_reviews_apple[\"store\"] = \"Apple Store\""
   ]
  },
  {
   "cell_type": "code",
   "execution_count": null,
   "id": "7806fd54",
   "metadata": {},
   "outputs": [],
   "source": [
    "df_reviews_apple"
   ]
  },
  {
   "cell_type": "code",
   "execution_count": null,
   "id": "03115afa",
   "metadata": {},
   "outputs": [],
   "source": [
    "df_reviews_apple_final = df_reviews_apple[common_columns]\n",
    "df_reviews_apple_final"
   ]
  },
  {
   "cell_type": "code",
   "execution_count": null,
   "id": "39208ba1",
   "metadata": {},
   "outputs": [],
   "source": [
    "df_reviews_apple_final.info()"
   ]
  },
  {
   "cell_type": "code",
   "execution_count": null,
   "id": "3f802098",
   "metadata": {},
   "outputs": [],
   "source": [
    "df_reviews_google_final.info()"
   ]
  },
  {
   "cell_type": "code",
   "execution_count": null,
   "id": "b7b16190",
   "metadata": {},
   "outputs": [],
   "source": [
    "# Concatenando os datasets\n",
    "df_reviews_final = pd.concat([df_reviews_google_final, df_reviews_apple_final], ignore_index=True)"
   ]
  },
  {
   "cell_type": "code",
   "execution_count": null,
   "id": "97eec81c",
   "metadata": {},
   "outputs": [],
   "source": [
    "df_reviews_final.info()"
   ]
  },
  {
   "cell_type": "code",
   "execution_count": null,
   "id": "6a4d1925",
   "metadata": {},
   "outputs": [],
   "source": [
    "df_reviews_final"
   ]
  },
  {
   "cell_type": "code",
   "execution_count": null,
   "id": "7207a82b",
   "metadata": {},
   "outputs": [],
   "source": [
    "df_reviews_final['app_name'].unique()"
   ]
  },
  {
   "cell_type": "code",
   "execution_count": null,
   "id": "ee029b06",
   "metadata": {},
   "outputs": [],
   "source": [
    "df_bancos = pd.DataFrame({\n",
    "    'app': [\n",
    "        'br.com.bradesco.netempresa', \n",
    "        'br.com.bradesco.pdpjapp',\n",
    "        'com.itau.empresas', \n",
    "        'com.btg.business',\n",
    "        'br.livetouch.safra.empresas', \n",
    "        'Bradesco Net Empresa',\n",
    "        'Itaú Empresas', \n",
    "        'BTG Pactual Empresas', \n",
    "        'Safra Empresas'\n",
    "    ]\n",
    "})"
   ]
  },
  {
   "cell_type": "code",
   "execution_count": null,
   "id": "bfd3fd72",
   "metadata": {},
   "outputs": [],
   "source": [
    "mapeamento = {\n",
    "    'br.com.bradesco.netempresa': 'Bradesco',\n",
    "    'br.com.bradesco.pdpjapp': 'Bradesco',\n",
    "    'Bradesco Net Empresa': 'Bradesco',\n",
    "    'com.itau.empresas': 'Itaú',\n",
    "    'Itaú Empresas': 'Itaú',\n",
    "    'com.btg.business': 'BTG',\n",
    "    'BTG Pactual Empresas': 'BTG',\n",
    "    'br.livetouch.safra.empresas': 'Safra',\n",
    "    'Safra Empresas': 'Safra'\n",
    "}"
   ]
  },
  {
   "cell_type": "code",
   "execution_count": null,
   "id": "461e5ca7",
   "metadata": {},
   "outputs": [],
   "source": [
    "df_reviews_final['banco'] = df_reviews_final['app_name'].map(mapeamento)"
   ]
  },
  {
   "cell_type": "code",
   "execution_count": null,
   "id": "2802a61d",
   "metadata": {},
   "outputs": [],
   "source": [
    "df_reviews_final"
   ]
  },
  {
   "cell_type": "code",
   "execution_count": null,
   "id": "118d98c9",
   "metadata": {},
   "outputs": [],
   "source": [
    "num_nulos = df_reviews_final['review'].isna().sum()\n",
    "print(f\"Quantidade de reviews nulos: {num_nulos}\")"
   ]
  },
  {
   "cell_type": "code",
   "execution_count": null,
   "id": "06dcf7e5",
   "metadata": {},
   "outputs": [],
   "source": [
    "# Substitui valores nulos por '' (string vazia) e converte tudo para str\n",
    "df_reviews_final['review'] = (\n",
    "    df_reviews_final['review']\n",
    "    .fillna('')      # preenche NaN ou None\n",
    "    .astype(str)\n",
    ")"
   ]
  },
  {
   "cell_type": "code",
   "execution_count": null,
   "id": "4d4d3ec2",
   "metadata": {},
   "outputs": [],
   "source": [
    "num_nulos = df_reviews_final['review'].isna().sum()\n",
    "print(f\"Quantidade de reviews nulos: {num_nulos}\")"
   ]
  },
  {
   "cell_type": "code",
   "execution_count": null,
   "id": "63332fa3",
   "metadata": {},
   "outputs": [],
   "source": [
    "# file_path = \"dataset.xlsx\"\n",
    "df_reviews_final.to_excel('df_reviews_novo.xlsx', index=False)"
   ]
  },
  {
   "cell_type": "code",
   "execution_count": null,
   "id": "b231f1e9",
   "metadata": {},
   "outputs": [],
   "source": [
    "df_reviews_final.to_csv('df_reviews_final.csv', index=False, encoding='utf-8-sig')"
   ]
  },
  {
   "cell_type": "code",
   "execution_count": null,
   "id": "25214c4f",
   "metadata": {},
   "outputs": [],
   "source": [
    "df_reviews_final_2=df_reviews_final.sample(1000)"
   ]
  },
  {
   "cell_type": "code",
   "execution_count": null,
   "id": "8e827145",
   "metadata": {},
   "outputs": [],
   "source": [
    "df_reviews_final_2"
   ]
  },
  {
   "cell_type": "code",
   "execution_count": null,
   "id": "9b5ce06c",
   "metadata": {},
   "outputs": [],
   "source": [
    "# file_path = \"dataset.xlsx\"\n",
    "df_reviews_final.to_excel('df_reviews_final_2.xlsx', index=False)"
   ]
  },
  {
   "cell_type": "code",
   "execution_count": null,
   "id": "d5f71f0c",
   "metadata": {},
   "outputs": [],
   "source": []
  },
  {
   "cell_type": "code",
   "execution_count": null,
   "id": "49b879c6",
   "metadata": {},
   "outputs": [],
   "source": [
    "df_reviews_final_sample = df_reviews_final.sample(200)"
   ]
  },
  {
   "cell_type": "code",
   "execution_count": null,
   "id": "14517ab8",
   "metadata": {},
   "outputs": [],
   "source": [
    "df_reviews_final_sample"
   ]
  },
  {
   "cell_type": "code",
   "execution_count": null,
   "id": "83a775d5",
   "metadata": {},
   "outputs": [],
   "source": [
    "df_reviews_final_2.to_csv('df_reviews_final_sample.csv', index=False, encoding='utf-8-sig')\n",
    "# file_path = \"dataset.xlsx\"\n",
    "# df_reviews_final_sample.to_excel('df_reviews_final_sample.xlsx', index=False)\n",
    "# print(\"Arquivo CSV salvo com sucesso!\")"
   ]
  },
  {
   "cell_type": "code",
   "execution_count": null,
   "id": "94288bc2",
   "metadata": {},
   "outputs": [],
   "source": []
  },
  {
   "cell_type": "code",
   "execution_count": null,
   "id": "2b704ebd",
   "metadata": {},
   "outputs": [],
   "source": []
  },
  {
   "cell_type": "code",
   "execution_count": null,
   "id": "cb97eda3",
   "metadata": {},
   "outputs": [],
   "source": [
    "from pysentimiento import create_analyzer"
   ]
  },
  {
   "cell_type": "code",
   "execution_count": null,
   "id": "4ada3f01",
   "metadata": {},
   "outputs": [],
   "source": [
    "model_analyser_sent = create_analyzer(\n",
    "    task=\"sentiment\",\n",
    "    lang=\"pt\")"
   ]
  },
  {
   "cell_type": "code",
   "execution_count": null,
   "id": "fd884584",
   "metadata": {},
   "outputs": [],
   "source": [
    "prev_result = model_analyser_sent.predict(df_reviews_final_sample['review'])"
   ]
  },
  {
   "cell_type": "code",
   "execution_count": null,
   "id": "f992f817",
   "metadata": {},
   "outputs": [],
   "source": [
    "prev_result"
   ]
  },
  {
   "cell_type": "code",
   "execution_count": null,
   "id": "4831a772",
   "metadata": {},
   "outputs": [],
   "source": [
    "sentimento = []\n",
    "for result in prev_result:\n",
    "    sentimento.append(result.output)"
   ]
  },
  {
   "cell_type": "code",
   "execution_count": null,
   "id": "e6cd102e",
   "metadata": {},
   "outputs": [],
   "source": [
    "df_reviews_final_sample['sentimento'] = sentimento\n",
    "df_reviews_final_sample"
   ]
  },
  {
   "cell_type": "code",
   "execution_count": null,
   "id": "e42d3a30",
   "metadata": {},
   "outputs": [],
   "source": [
    "# df_reviews_final_sample.to_csv('df_reviews_final_sample.csv', index=False, encoding='utf-8-sig')\n",
    "# file_path = \"dataset.xlsx\"\n",
    "df_reviews_final_sample.to_excel('df_reviews_final_sample.xlsx', index=False)\n",
    "print(\"Arquivo CSV salvo com sucesso!\")\n"
   ]
  },
  {
   "cell_type": "code",
   "execution_count": null,
   "id": "802b8839",
   "metadata": {},
   "outputs": [],
   "source": []
  },
  {
   "cell_type": "code",
   "execution_count": null,
   "id": "4c01802b",
   "metadata": {},
   "outputs": [],
   "source": []
  },
  {
   "cell_type": "code",
   "execution_count": null,
   "id": "843d1f89",
   "metadata": {},
   "outputs": [],
   "source": []
  },
  {
   "cell_type": "markdown",
   "id": "457d28a0",
   "metadata": {},
   "source": [
    "### Salva o arquivo"
   ]
  },
  {
   "cell_type": "code",
   "execution_count": null,
   "id": "fc768655",
   "metadata": {},
   "outputs": [],
   "source": [
    "# df_reviews_final.to_csv('df_reviews_final.csv', index=False, encoding='utf-8-sig')\n",
    "\n",
    "# print(\"Arquivo CSV salvo com sucesso!\")\n"
   ]
  },
  {
   "cell_type": "code",
   "execution_count": null,
   "id": "f72a05f1",
   "metadata": {},
   "outputs": [],
   "source": [
    "# df_reviews_final.info()"
   ]
  },
  {
   "cell_type": "code",
   "execution_count": null,
   "id": "aa88922a",
   "metadata": {},
   "outputs": [],
   "source": [
    "# file_path = \"dataset.xlsx\"\n",
    "# df_reviews_final.to_excel('df_reviews_final.xlsx', index=False)"
   ]
  },
  {
   "cell_type": "code",
   "execution_count": null,
   "id": "ed72a985",
   "metadata": {},
   "outputs": [],
   "source": []
  }
 ],
 "metadata": {
  "kernelspec": {
   "display_name": "Python 3 (ipykernel)",
   "language": "python",
   "name": "python3"
  },
  "language_info": {
   "codemirror_mode": {
    "name": "ipython",
    "version": 3
   },
   "file_extension": ".py",
   "mimetype": "text/x-python",
   "name": "python",
   "nbconvert_exporter": "python",
   "pygments_lexer": "ipython3",
   "version": "3.11.5"
  }
 },
 "nbformat": 4,
 "nbformat_minor": 5
}
