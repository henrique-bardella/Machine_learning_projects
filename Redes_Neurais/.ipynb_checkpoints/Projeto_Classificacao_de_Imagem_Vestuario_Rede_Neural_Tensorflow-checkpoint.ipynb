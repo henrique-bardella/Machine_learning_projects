{
 "cells": [
  {
   "cell_type": "markdown",
   "metadata": {},
   "source": [
    "### Rede Neural com TensorFlow Para Classificação de Imagens de Vestuário"
   ]
  },
  {
   "cell_type": "markdown",
   "metadata": {},
   "source": [
    "Objetivo\n",
    "- Rede neural artificial com TensorFlow para classificação de imagens, especificamente classificação de imagens de roupas e acessórios.\n"
   ]
  },
  {
   "cell_type": "code",
   "execution_count": 1,
   "metadata": {},
   "outputs": [
    {
     "name": "stdout",
     "output_type": "stream",
     "text": [
      "Versão da Linguagem Python Usada Neste Jupyter Notebook: 3.9.12\n"
     ]
    }
   ],
   "source": [
    "# Versão da Linguagem Python\n",
    "from platform import python_version\n",
    "print('Versão da Linguagem Python Usada Neste Jupyter Notebook:', python_version())"
   ]
  },
  {
   "cell_type": "markdown",
   "metadata": {},
   "source": [
    "## Instalando e Carregando os Pacotes"
   ]
  },
  {
   "cell_type": "code",
   "execution_count": 2,
   "metadata": {},
   "outputs": [],
   "source": [
    "# Imports\n",
    "import os\n",
    "import numpy as np\n",
    "import pandas as pd\n",
    "import tensorflow as tf\n",
    "from tensorflow import keras\n",
    "\n",
    "# Configuração de gráficos\n",
    "%matplotlib inline\n",
    "import matplotlib as mpl\n",
    "import matplotlib.pyplot as plt\n",
    "mpl.rc('axes', labelsize=14)\n",
    "mpl.rc('xtick', labelsize=12)\n",
    "mpl.rc('ytick', labelsize=12)\n",
    "\n",
    "# Para tornar a saída deste notebook estável em todas as execuções\n",
    "np.random.seed(42)\n",
    "tf.random.set_seed(42)"
   ]
  },
  {
   "cell_type": "code",
   "execution_count": 3,
   "metadata": {},
   "outputs": [],
   "source": [
    "# Aqui definimos os diretórios onde salvaremos as imagens\n",
    "PROJECT_ROOT_DIR = \".\"\n",
    "PROJECT_NUM = \"Mini-Projeto5\"\n",
    "IMAGES_PATH = os.path.join(PROJECT_ROOT_DIR, \"dados\", PROJECT_NUM)\n",
    "os.makedirs(IMAGES_PATH, exist_ok = True)"
   ]
  },
  {
   "cell_type": "code",
   "execution_count": 4,
   "metadata": {},
   "outputs": [
    {
     "name": "stdout",
     "output_type": "stream",
     "text": [
      "Author: Henrique Bardella\n",
      "\n",
      "tensorflow: 2.11.0\n",
      "pandas    : 1.5.0\n",
      "numpy     : 1.21.5\n",
      "keras     : 2.10.0\n",
      "matplotlib: 3.7.1\n",
      "\n"
     ]
    }
   ],
   "source": [
    "# Versões dos pacotes usados neste jupyter notebook\n",
    "%reload_ext watermark\n",
    "%watermark -a \"Henrique Bardella\" --iversions"
   ]
  },
  {
   "cell_type": "markdown",
   "metadata": {},
   "source": [
    "## Carregando e Preparando os Dados"
   ]
  },
  {
   "cell_type": "markdown",
   "metadata": {},
   "source": [
    "Vamos começar carregando o conjunto de dados Fashion MNIST com artigos de moda masculina e feminina. O Keras possui várias funções para carregar conjuntos de dados populares no `keras.datasets`. O conjunto de dados já está dividido para você entre um conjunto de treinamento e um conjunto de testes, mas pode ser útil dividir ainda mais o conjunto de treinamento para ter um conjunto de validação."
   ]
  },
  {
   "cell_type": "code",
   "execution_count": 5,
   "metadata": {},
   "outputs": [],
   "source": [
    "# Carrega o dataset\n",
    "fashion_mnist = keras.datasets.fashion_mnist"
   ]
  },
  {
   "cell_type": "code",
   "execution_count": 6,
   "metadata": {},
   "outputs": [
    {
     "name": "stdout",
     "output_type": "stream",
     "text": [
      "Downloading data from https://storage.googleapis.com/tensorflow/tf-keras-datasets/train-labels-idx1-ubyte.gz\n",
      "29515/29515 [==============================] - 0s 1us/step\n",
      "Downloading data from https://storage.googleapis.com/tensorflow/tf-keras-datasets/train-images-idx3-ubyte.gz\n",
      "26421880/26421880 [==============================] - 11s 0us/step\n",
      "Downloading data from https://storage.googleapis.com/tensorflow/tf-keras-datasets/t10k-labels-idx1-ubyte.gz\n",
      "5148/5148 [==============================] - 0s 0s/step\n",
      "Downloading data from https://storage.googleapis.com/tensorflow/tf-keras-datasets/t10k-images-idx3-ubyte.gz\n",
      "4422102/4422102 [==============================] - 4s 1us/step\n"
     ]
    }
   ],
   "source": [
    "# Extraímos os dados de treino e de teste\n",
    "(X_treino_full, y_treino_full), (X_teste, y_teste) = fashion_mnist.load_data()"
   ]
  },
  {
   "cell_type": "markdown",
   "metadata": {},
   "source": [
    "O conjunto de treinamento contém 60.000 imagens em escala de cinza, cada uma com 28x28 pixels:"
   ]
  },
  {
   "cell_type": "code",
   "execution_count": 7,
   "metadata": {},
   "outputs": [
    {
     "data": {
      "text/plain": [
       "(60000, 28, 28)"
      ]
     },
     "execution_count": 7,
     "metadata": {},
     "output_type": "execute_result"
    }
   ],
   "source": [
    "# Shape\n",
    "X_treino_full.shape"
   ]
  },
  {
   "cell_type": "markdown",
   "metadata": {},
   "source": [
    "Cada intensidade de pixel é representada como um byte (0 a 255):"
   ]
  },
  {
   "cell_type": "code",
   "execution_count": 8,
   "metadata": {},
   "outputs": [
    {
     "data": {
      "text/plain": [
       "dtype('uint8')"
      ]
     },
     "execution_count": 8,
     "metadata": {},
     "output_type": "execute_result"
    }
   ],
   "source": [
    "# Tipo de dados\n",
    "X_treino_full.dtype"
   ]
  },
  {
   "cell_type": "markdown",
   "metadata": {},
   "source": [
    "Vamos dividir o conjunto de treinamento completo em um conjunto de validação e um conjunto de treinamento (menor). Também dimensionamos as intensidades de pixel para o intervalo de 0-1 (padronização) e as convertemos em float, dividindo por 255."
   ]
  },
  {
   "cell_type": "code",
   "execution_count": 9,
   "metadata": {},
   "outputs": [],
   "source": [
    "# Preparação dos dados\n",
    "X_valid, X_treino = X_treino_full[:5000] / 255., X_treino_full[5000:] / 255.\n",
    "y_valid, y_treino = y_treino_full[:5000], y_treino_full[5000:]\n",
    "X_teste = X_teste / 255."
   ]
  },
  {
   "cell_type": "markdown",
   "metadata": {},
   "source": [
    "Você pode plotar uma imagem usando a função `imshow ()` do Matplotlib, com um mapa de cores **binary**."
   ]
  },
  {
   "cell_type": "code",
   "execution_count": 10,
   "metadata": {},
   "outputs": [
    {
     "data": {
      "image/png": "[encoded data removed]",
      "text/plain": [
       "<Figure size 432x288 with 1 Axes>"
      ]
     },
     "metadata": {
      "needs_background": "light"
     },
     "output_type": "display_data"
    }
   ],
   "source": [
    "# Plot de uma imagem\n",
    "plt.imshow(X_treino[0], cmap = \"binary\")\n",
    "plt.axis('off')\n",
    "plt.show()"
   ]
  },
  {
   "cell_type": "markdown",
   "metadata": {},
   "source": [
    "Os rótulos são os IDs de classe (representados como uint8), de 0 a 9:"
   ]
  },
  {
   "cell_type": "code",
   "execution_count": 11,
   "metadata": {},
   "outputs": [
    {
     "data": {
      "text/plain": [
       "array([4, 0, 7, ..., 3, 0, 5], dtype=uint8)"
      ]
     },
     "execution_count": 11,
     "metadata": {},
     "output_type": "execute_result"
    }
   ],
   "source": [
    "# Labels (dados de saída) de treino\n",
    "y_treino"
   ]
  },
  {
   "cell_type": "markdown",
   "metadata": {},
   "source": [
    "Aqui estão os nomes de classe correspondentes:"
   ]
  },
  {
   "cell_type": "code",
   "execution_count": 12,
   "metadata": {},
   "outputs": [],
   "source": [
    "# Nomes das classes\n",
    "nomes_classes = [\"T-shirt/top\", \n",
    "                 \"Trouser\", \n",
    "                 \"Pullover\", \n",
    "                 \"Dress\", \n",
    "                 \"Coat\", \n",
    "                 \"Sandal\", \n",
    "                 \"Shirt\", \n",
    "                 \"Sneaker\", \n",
    "                 \"Bag\", \n",
    "                 \"Ankle boot\"]"
   ]
  },
  {
   "cell_type": "markdown",
   "metadata": {},
   "source": [
    "Mais detalhes do dataset aqui: https://www.tensorflow.org/datasets/catalog/fashion_mnist"
   ]
  },
  {
   "cell_type": "markdown",
   "metadata": {},
   "source": [
    "Portanto, a primeira imagem no conjunto de treinamento é um casaco:"
   ]
  },
  {
   "cell_type": "code",
   "execution_count": 13,
   "metadata": {},
   "outputs": [
    {
     "data": {
      "text/plain": [
       "'Coat'"
      ]
     },
     "execution_count": 13,
     "metadata": {},
     "output_type": "execute_result"
    }
   ],
   "source": [
    "# Nome de classe\n",
    "nomes_classes[y_treino[0]]"
   ]
  },
  {
   "cell_type": "markdown",
   "metadata": {},
   "source": [
    "O conjunto de validação contém 5.000 imagens e o conjunto de testes contém 10.000 imagens:"
   ]
  },
  {
   "cell_type": "code",
   "execution_count": 14,
   "metadata": {},
   "outputs": [
    {
     "data": {
      "text/plain": [
       "(5000, 28, 28)"
      ]
     },
     "execution_count": 14,
     "metadata": {},
     "output_type": "execute_result"
    }
   ],
   "source": [
    "# Shape\n",
    "X_valid.shape"
   ]
  },
  {
   "cell_type": "code",
   "execution_count": 15,
   "metadata": {},
   "outputs": [
    {
     "data": {
      "text/plain": [
       "(10000, 28, 28)"
      ]
     },
     "execution_count": 15,
     "metadata": {},
     "output_type": "execute_result"
    }
   ],
   "source": [
    "# Shape\n",
    "X_teste.shape"
   ]
  },
  {
   "cell_type": "markdown",
   "metadata": {},
   "source": [
    "Vamos dar uma olhada em uma amostra das imagens no conjunto de dados."
   ]
  },
  {
   "cell_type": "code",
   "execution_count": 16,
   "metadata": {},
   "outputs": [],
   "source": [
    "# Função para salvar as imagens\n",
    "def salva_imagem(fig_id, tight_layout = True, fig_extension = \"png\", resolution = 300):\n",
    "    path = os.path.join(IMAGES_PATH, fig_id + \".\" + fig_extension)\n",
    "    print(\"Salvando a imagem...\", fig_id)\n",
    "    if tight_layout:\n",
    "        plt.tight_layout()\n",
    "    plt.savefig(path, format = fig_extension, dpi = resolution)"
   ]
  },
  {
   "cell_type": "code",
   "execution_count": 17,
   "metadata": {},
   "outputs": [
    {
     "name": "stdout",
     "output_type": "stream",
     "text": [
      "Salvando a imagem... plot_fashion_mnist\n"
     ]
    },
    {
     "data": {
      "image/png": "[encoded data removed]",
      "text/plain": [
       "<Figure size 864x345.6 with 40 Axes>"
      ]
     },
     "metadata": {
      "needs_background": "light"
     },
     "output_type": "display_data"
    }
   ],
   "source": [
    "# Plot de algumas imagens\n",
    "\n",
    "# Vamos plotar 4 linhas e 10 coluns\n",
    "n_rows = 4\n",
    "n_cols = 10\n",
    "\n",
    "# Área de plotagem\n",
    "plt.figure(figsize=(n_cols * 1.2, n_rows * 1.2))\n",
    "\n",
    "# Loop pelas linhas e colunas\n",
    "for row in range(n_rows):\n",
    "    for col in range(n_cols):\n",
    "        index = n_cols * row + col\n",
    "        plt.subplot(n_rows, n_cols, index + 1)\n",
    "        plt.imshow(X_treino[index], cmap = \"binary\", interpolation = \"nearest\")\n",
    "        plt.axis('off')\n",
    "        plt.title(nomes_classes[y_treino[index]], fontsize = 12)\n",
    "\n",
    "# Ajusta os plots\n",
    "plt.subplots_adjust(wspace = 0.2, hspace = 0.5)\n",
    "\n",
    "# Salva a imagem em disco\n",
    "salva_imagem('plot_fashion_mnist', tight_layout = False)\n",
    "\n",
    "# Mostra a imagem\n",
    "plt.show()"
   ]
  },
  {
   "cell_type": "markdown",
   "metadata": {},
   "source": [
    "Perfeito! Os dados estão prontos. Vamos construir e treinar o modelo."
   ]
  },
  {
   "cell_type": "markdown",
   "metadata": {},
   "source": [
    "## Construção do Modelo"
   ]
  },
  {
   "cell_type": "code",
   "execution_count": 18,
   "metadata": {},
   "outputs": [],
   "source": [
    "# Modelo de Rede Neural com 2 Camadas Densas\n",
    "\n",
    "# Cria o objeto do tipo sequência\n",
    "modelo = keras.models.Sequential()\n",
    "\n",
    "# Camada para receber os dados de entrada\n",
    "modelo.add(keras.layers.Flatten(input_shape = [28, 28]))\n",
    "\n",
    "# Primeira camada oculta com ativação relu\n",
    "modelo.add(keras.layers.Dense(300, activation = \"relu\"))\n",
    "\n",
    "# Segunda camada oculta com ativação relu\n",
    "modelo.add(keras.layers.Dense(100, activation = \"relu\"))\n",
    "\n",
    "# Camada de saída com ativação softmax\n",
    "# Teremos uma probabilidade prevista para cada classe\n",
    "modelo.add(keras.layers.Dense(10, activation = \"softmax\"))"
   ]
  },
  {
   "cell_type": "code",
   "execution_count": 19,
   "metadata": {},
   "outputs": [],
   "source": [
    "# Limpamos a sessão Keras e \n",
    "keras.backend.clear_session()"
   ]
  },
  {
   "cell_type": "code",
   "execution_count": 20,
   "metadata": {},
   "outputs": [
    {
     "data": {
      "text/plain": [
       "[<keras.layers.reshaping.flatten.Flatten at 0x1e03d3c0e50>,\n",
       " <keras.layers.core.dense.Dense at 0x1e03d3c0fa0>,\n",
       " <keras.layers.core.dense.Dense at 0x1e03d38ffa0>,\n",
       " <keras.layers.core.dense.Dense at 0x1e03d3c0fd0>]"
      ]
     },
     "execution_count": 20,
     "metadata": {},
     "output_type": "execute_result"
    }
   ],
   "source": [
    "# Camadas do modelo\n",
    "modelo.layers"
   ]
  },
  {
   "cell_type": "code",
   "execution_count": 21,
   "metadata": {},
   "outputs": [
    {
     "name": "stdout",
     "output_type": "stream",
     "text": [
      "Model: \"sequential\"\n",
      "_________________________________________________________________\n",
      " Layer (type)                Output Shape              Param #   \n",
      "=================================================================\n",
      " flatten (Flatten)           (None, 784)               0         \n",
      "                                                                 \n",
      " dense (Dense)               (None, 300)               235500    \n",
      "                                                                 \n",
      " dense_1 (Dense)             (None, 100)               30100     \n",
      "                                                                 \n",
      " dense_2 (Dense)             (None, 10)                1010      \n",
      "                                                                 \n",
      "=================================================================\n",
      "Total params: 266,610\n",
      "Trainable params: 266,610\n",
      "Non-trainable params: 0\n",
      "_________________________________________________________________\n"
     ]
    }
   ],
   "source": [
    "# Sumário do modelo\n",
    "modelo.summary()"
   ]
  },
  {
   "cell_type": "code",
   "execution_count": 22,
   "metadata": {},
   "outputs": [
    {
     "name": "stdout",
     "output_type": "stream",
     "text": [
      "You must install pydot (`pip install pydot`) and install graphviz (see instructions at https://graphviz.gitlab.io/download/) for plot_model to work.\n"
     ]
    }
   ],
   "source": [
    "# Vamos criar um plot com o modelo completo e salvar a imagem em disco\n",
    "keras.utils.plot_model(modelo, IMAGES_PATH + \"/modelo_fashion_mnist.png\", show_shapes = True)"
   ]
  },
  {
   "cell_type": "code",
   "execution_count": 23,
   "metadata": {},
   "outputs": [
    {
     "data": {
      "text/plain": [
       "'dense'"
      ]
     },
     "execution_count": 23,
     "metadata": {},
     "output_type": "execute_result"
    }
   ],
   "source": [
    "# Vamos nomear a primeira camada oculta do modelo\n",
    "hidden1 = modelo.layers[1]\n",
    "hidden1.name"
   ]
  },
  {
   "cell_type": "code",
   "execution_count": 24,
   "metadata": {},
   "outputs": [
    {
     "data": {
      "text/plain": [
       "True"
      ]
     },
     "execution_count": 24,
     "metadata": {},
     "output_type": "execute_result"
    }
   ],
   "source": [
    "# Verificamos se a camada com novo nome existe\n",
    "modelo.get_layer(hidden1.name) is hidden1"
   ]
  },
  {
   "cell_type": "code",
   "execution_count": 25,
   "metadata": {},
   "outputs": [],
   "source": [
    "# Extraímos pesos e bias da primeira camada oculta\n",
    "weights, biases = hidden1.get_weights()"
   ]
  },
  {
   "cell_type": "code",
   "execution_count": 26,
   "metadata": {},
   "outputs": [
    {
     "data": {
      "text/plain": [
       "array([[ 0.02440403, -0.04331352,  0.05865638, ..., -0.00220556,\n",
       "         0.00806421, -0.03769869],\n",
       "       [-0.0372443 ,  0.02558911, -0.00865033, ...,  0.05313981,\n",
       "        -0.03789778,  0.03979479],\n",
       "       [ 0.04987656, -0.00547924,  0.06062506, ..., -0.06803693,\n",
       "        -0.06469686, -0.00098191],\n",
       "       ...,\n",
       "       [ 0.00471282,  0.067598  , -0.0220716 , ..., -0.01463683,\n",
       "         0.04394653,  0.00372224],\n",
       "       [-0.0738722 , -0.0449631 , -0.03673449, ...,  0.0319109 ,\n",
       "        -0.05524573, -0.06824506],\n",
       "       [-0.02036675, -0.03444106,  0.03032563, ...,  0.06041826,\n",
       "        -0.05808594, -0.07312514]], dtype=float32)"
      ]
     },
     "execution_count": 26,
     "metadata": {},
     "output_type": "execute_result"
    }
   ],
   "source": [
    "# Pesos que serão usados no começo do treinamento e são gerados de forma aleatória pelo Keras/TensorFlow\n",
    "weights"
   ]
  },
  {
   "cell_type": "code",
   "execution_count": 27,
   "metadata": {},
   "outputs": [
    {
     "data": {
      "text/plain": [
       "(784, 300)"
      ]
     },
     "execution_count": 27,
     "metadata": {},
     "output_type": "execute_result"
    }
   ],
   "source": [
    "# Shape\n",
    "weights.shape"
   ]
  },
  {
   "cell_type": "code",
   "execution_count": 28,
   "metadata": {},
   "outputs": [
    {
     "data": {
      "text/plain": [
       "array([0., 0., 0., 0., 0., 0., 0., 0., 0., 0., 0., 0., 0., 0., 0., 0., 0.,\n",
       "       0., 0., 0., 0., 0., 0., 0., 0., 0., 0., 0., 0., 0., 0., 0., 0., 0.,\n",
       "       0., 0., 0., 0., 0., 0., 0., 0., 0., 0., 0., 0., 0., 0., 0., 0., 0.,\n",
       "       0., 0., 0., 0., 0., 0., 0., 0., 0., 0., 0., 0., 0., 0., 0., 0., 0.,\n",
       "       0., 0., 0., 0., 0., 0., 0., 0., 0., 0., 0., 0., 0., 0., 0., 0., 0.,\n",
       "       0., 0., 0., 0., 0., 0., 0., 0., 0., 0., 0., 0., 0., 0., 0., 0., 0.,\n",
       "       0., 0., 0., 0., 0., 0., 0., 0., 0., 0., 0., 0., 0., 0., 0., 0., 0.,\n",
       "       0., 0., 0., 0., 0., 0., 0., 0., 0., 0., 0., 0., 0., 0., 0., 0., 0.,\n",
       "       0., 0., 0., 0., 0., 0., 0., 0., 0., 0., 0., 0., 0., 0., 0., 0., 0.,\n",
       "       0., 0., 0., 0., 0., 0., 0., 0., 0., 0., 0., 0., 0., 0., 0., 0., 0.,\n",
       "       0., 0., 0., 0., 0., 0., 0., 0., 0., 0., 0., 0., 0., 0., 0., 0., 0.,\n",
       "       0., 0., 0., 0., 0., 0., 0., 0., 0., 0., 0., 0., 0., 0., 0., 0., 0.,\n",
       "       0., 0., 0., 0., 0., 0., 0., 0., 0., 0., 0., 0., 0., 0., 0., 0., 0.,\n",
       "       0., 0., 0., 0., 0., 0., 0., 0., 0., 0., 0., 0., 0., 0., 0., 0., 0.,\n",
       "       0., 0., 0., 0., 0., 0., 0., 0., 0., 0., 0., 0., 0., 0., 0., 0., 0.,\n",
       "       0., 0., 0., 0., 0., 0., 0., 0., 0., 0., 0., 0., 0., 0., 0., 0., 0.,\n",
       "       0., 0., 0., 0., 0., 0., 0., 0., 0., 0., 0., 0., 0., 0., 0., 0., 0.,\n",
       "       0., 0., 0., 0., 0., 0., 0., 0., 0., 0., 0.], dtype=float32)"
      ]
     },
     "execution_count": 28,
     "metadata": {},
     "output_type": "execute_result"
    }
   ],
   "source": [
    "# Bias que serão usados no começo do treinamento\n",
    "biases"
   ]
  },
  {
   "cell_type": "code",
   "execution_count": 29,
   "metadata": {},
   "outputs": [
    {
     "data": {
      "text/plain": [
       "(300,)"
      ]
     },
     "execution_count": 29,
     "metadata": {},
     "output_type": "execute_result"
    }
   ],
   "source": [
    "# Shape\n",
    "biases.shape"
   ]
  },
  {
   "cell_type": "code",
   "execution_count": 30,
   "metadata": {},
   "outputs": [],
   "source": [
    "# Agora compilamos o modelo com o otimizador, função de custo e a métrica\n",
    "# https://www.tensorflow.org/api_docs/python/tf/keras/optimizers/SGD\n",
    "# https://www.tensorflow.org/api_docs/python/tf/keras/losses/sparse_categorical_crossentropy\n",
    "modelo.compile(optimizer = \"sgd\", loss = \"sparse_categorical_crossentropy\", metrics = [\"accuracy\"])"
   ]
  },
  {
   "cell_type": "markdown",
   "metadata": {},
   "source": [
    "Podemos então treinar o modelo."
   ]
  },
  {
   "cell_type": "code",
   "execution_count": 31,
   "metadata": {},
   "outputs": [
    {
     "name": "stdout",
     "output_type": "stream",
     "text": [
      "Epoch 1/50\n",
      "1719/1719 [==============================] - 10s 4ms/step - loss: 0.7182 - accuracy: 0.7623 - val_loss: 0.5253 - val_accuracy: 0.8156\n",
      "Epoch 2/50\n",
      "1719/1719 [==============================] - 6s 4ms/step - loss: 0.4918 - accuracy: 0.8271 - val_loss: 0.4389 - val_accuracy: 0.8504\n",
      "Epoch 3/50\n",
      "1719/1719 [==============================] - 6s 4ms/step - loss: 0.4463 - accuracy: 0.8434 - val_loss: 0.5396 - val_accuracy: 0.8004\n",
      "Epoch 4/50\n",
      "1719/1719 [==============================] - 7s 4ms/step - loss: 0.4187 - accuracy: 0.8534 - val_loss: 0.3966 - val_accuracy: 0.8642\n",
      "Epoch 5/50\n",
      "1719/1719 [==============================] - 7s 4ms/step - loss: 0.3985 - accuracy: 0.8600 - val_loss: 0.3788 - val_accuracy: 0.8686\n",
      "Epoch 6/50\n",
      "1719/1719 [==============================] - 7s 4ms/step - loss: 0.3787 - accuracy: 0.8663 - val_loss: 0.3706 - val_accuracy: 0.8714\n",
      "Epoch 7/50\n",
      "1719/1719 [==============================] - 7s 4ms/step - loss: 0.3659 - accuracy: 0.8695 - val_loss: 0.3644 - val_accuracy: 0.8734\n",
      "Epoch 8/50\n",
      "1719/1719 [==============================] - 7s 4ms/step - loss: 0.3545 - accuracy: 0.8746 - val_loss: 0.3837 - val_accuracy: 0.8592\n",
      "Epoch 9/50\n",
      "1719/1719 [==============================] - 7s 4ms/step - loss: 0.3437 - accuracy: 0.8778 - val_loss: 0.3491 - val_accuracy: 0.8706\n",
      "Epoch 10/50\n",
      "1719/1719 [==============================] - 7s 4ms/step - loss: 0.3351 - accuracy: 0.8808 - val_loss: 0.3459 - val_accuracy: 0.8748\n",
      "Epoch 11/50\n",
      "1719/1719 [==============================] - 7s 4ms/step - loss: 0.3265 - accuracy: 0.8826 - val_loss: 0.3434 - val_accuracy: 0.8766\n",
      "Epoch 12/50\n",
      "1719/1719 [==============================] - 7s 4ms/step - loss: 0.3176 - accuracy: 0.8846 - val_loss: 0.3335 - val_accuracy: 0.8800\n",
      "Epoch 13/50\n",
      "1719/1719 [==============================] - 7s 4ms/step - loss: 0.3105 - accuracy: 0.8891 - val_loss: 0.3319 - val_accuracy: 0.8818\n",
      "Epoch 14/50\n",
      "1719/1719 [==============================] - 6s 4ms/step - loss: 0.3043 - accuracy: 0.8904 - val_loss: 0.3450 - val_accuracy: 0.8734\n",
      "Epoch 15/50\n",
      "1719/1719 [==============================] - 7s 4ms/step - loss: 0.2971 - accuracy: 0.8929 - val_loss: 0.3312 - val_accuracy: 0.8802\n",
      "Epoch 16/50\n",
      "1719/1719 [==============================] - 7s 4ms/step - loss: 0.2921 - accuracy: 0.8960 - val_loss: 0.3113 - val_accuracy: 0.8894\n",
      "Epoch 17/50\n",
      "1719/1719 [==============================] - 7s 4ms/step - loss: 0.2866 - accuracy: 0.8971 - val_loss: 0.3482 - val_accuracy: 0.8746\n",
      "Epoch 18/50\n",
      "1719/1719 [==============================] - 8s 4ms/step - loss: 0.2804 - accuracy: 0.8988 - val_loss: 0.3179 - val_accuracy: 0.8884\n",
      "Epoch 19/50\n",
      "1719/1719 [==============================] - 7s 4ms/step - loss: 0.2755 - accuracy: 0.9014 - val_loss: 0.3110 - val_accuracy: 0.8900\n",
      "Epoch 20/50\n",
      "1719/1719 [==============================] - 7s 4ms/step - loss: 0.2700 - accuracy: 0.9033 - val_loss: 0.3264 - val_accuracy: 0.8822\n",
      "Epoch 21/50\n",
      "1719/1719 [==============================] - 7s 4ms/step - loss: 0.2655 - accuracy: 0.9050 - val_loss: 0.3066 - val_accuracy: 0.8896\n",
      "Epoch 22/50\n",
      "1719/1719 [==============================] - 7s 4ms/step - loss: 0.2605 - accuracy: 0.9055 - val_loss: 0.2970 - val_accuracy: 0.8952\n",
      "Epoch 23/50\n",
      "1719/1719 [==============================] - 7s 4ms/step - loss: 0.2566 - accuracy: 0.9069 - val_loss: 0.3011 - val_accuracy: 0.8944\n",
      "Epoch 24/50\n",
      "1719/1719 [==============================] - 7s 4ms/step - loss: 0.2519 - accuracy: 0.9092 - val_loss: 0.3047 - val_accuracy: 0.8908\n",
      "Epoch 25/50\n",
      "1719/1719 [==============================] - 7s 4ms/step - loss: 0.2476 - accuracy: 0.9103 - val_loss: 0.2978 - val_accuracy: 0.8956\n",
      "Epoch 26/50\n",
      "1719/1719 [==============================] - 6s 4ms/step - loss: 0.2440 - accuracy: 0.9125 - val_loss: 0.3067 - val_accuracy: 0.8898\n",
      "Epoch 27/50\n",
      "1719/1719 [==============================] - 7s 4ms/step - loss: 0.2402 - accuracy: 0.9144 - val_loss: 0.3029 - val_accuracy: 0.8900\n",
      "Epoch 28/50\n",
      "1719/1719 [==============================] - 7s 4ms/step - loss: 0.2374 - accuracy: 0.9144 - val_loss: 0.2985 - val_accuracy: 0.8942\n",
      "Epoch 29/50\n",
      "1719/1719 [==============================] - 7s 4ms/step - loss: 0.2324 - accuracy: 0.9171 - val_loss: 0.3135 - val_accuracy: 0.8858\n",
      "Epoch 30/50\n",
      "1719/1719 [==============================] - 7s 4ms/step - loss: 0.2288 - accuracy: 0.9185 - val_loss: 0.3049 - val_accuracy: 0.8900\n",
      "Epoch 31/50\n",
      "1719/1719 [==============================] - 7s 4ms/step - loss: 0.2254 - accuracy: 0.9184 - val_loss: 0.2959 - val_accuracy: 0.8950\n",
      "Epoch 32/50\n",
      "1719/1719 [==============================] - 7s 4ms/step - loss: 0.2224 - accuracy: 0.9200 - val_loss: 0.2976 - val_accuracy: 0.8954\n",
      "Epoch 33/50\n",
      "1719/1719 [==============================] - 7s 4ms/step - loss: 0.2184 - accuracy: 0.9208 - val_loss: 0.3039 - val_accuracy: 0.8960\n",
      "Epoch 34/50\n",
      "1719/1719 [==============================] - 8s 4ms/step - loss: 0.2151 - accuracy: 0.9230 - val_loss: 0.3023 - val_accuracy: 0.8928\n",
      "Epoch 35/50\n",
      "1719/1719 [==============================] - 7s 4ms/step - loss: 0.2110 - accuracy: 0.9243 - val_loss: 0.2877 - val_accuracy: 0.8968\n",
      "Epoch 36/50\n",
      "1719/1719 [==============================] - 6s 4ms/step - loss: 0.2090 - accuracy: 0.9244 - val_loss: 0.2992 - val_accuracy: 0.8928\n",
      "Epoch 37/50\n",
      "1719/1719 [==============================] - 7s 4ms/step - loss: 0.2057 - accuracy: 0.9268 - val_loss: 0.2982 - val_accuracy: 0.8950\n",
      "Epoch 38/50\n",
      "1719/1719 [==============================] - 7s 4ms/step - loss: 0.2016 - accuracy: 0.9276 - val_loss: 0.2984 - val_accuracy: 0.8928\n",
      "Epoch 39/50\n",
      "1719/1719 [==============================] - 7s 4ms/step - loss: 0.2012 - accuracy: 0.9283 - val_loss: 0.2934 - val_accuracy: 0.8988\n",
      "Epoch 40/50\n",
      "1719/1719 [==============================] - 7s 4ms/step - loss: 0.1964 - accuracy: 0.9303 - val_loss: 0.2963 - val_accuracy: 0.8962\n",
      "Epoch 41/50\n",
      "1719/1719 [==============================] - 7s 4ms/step - loss: 0.1936 - accuracy: 0.9307 - val_loss: 0.2853 - val_accuracy: 0.8964\n",
      "Epoch 42/50\n",
      "1719/1719 [==============================] - 7s 4ms/step - loss: 0.1912 - accuracy: 0.9320 - val_loss: 0.2888 - val_accuracy: 0.8976\n",
      "Epoch 43/50\n",
      "1719/1719 [==============================] - 7s 4ms/step - loss: 0.1877 - accuracy: 0.9322 - val_loss: 0.3268 - val_accuracy: 0.8822\n",
      "Epoch 44/50\n",
      "1719/1719 [==============================] - 7s 4ms/step - loss: 0.1851 - accuracy: 0.9345 - val_loss: 0.3207 - val_accuracy: 0.8820\n",
      "Epoch 45/50\n",
      "1719/1719 [==============================] - 7s 4ms/step - loss: 0.1825 - accuracy: 0.9355 - val_loss: 0.2923 - val_accuracy: 0.8964\n",
      "Epoch 46/50\n",
      "1719/1719 [==============================] - 7s 4ms/step - loss: 0.1793 - accuracy: 0.9359 - val_loss: 0.3058 - val_accuracy: 0.8964\n",
      "Epoch 47/50\n",
      "1719/1719 [==============================] - 8s 4ms/step - loss: 0.1765 - accuracy: 0.9371 - val_loss: 0.3035 - val_accuracy: 0.8930\n",
      "Epoch 48/50\n",
      "1719/1719 [==============================] - 7s 4ms/step - loss: 0.1743 - accuracy: 0.9378 - val_loss: 0.3168 - val_accuracy: 0.8914\n",
      "Epoch 49/50\n",
      "1719/1719 [==============================] - 7s 4ms/step - loss: 0.1706 - accuracy: 0.9395 - val_loss: 0.3013 - val_accuracy: 0.8918\n",
      "Epoch 50/50\n",
      "1719/1719 [==============================] - 7s 4ms/step - loss: 0.1685 - accuracy: 0.9392 - val_loss: 0.3131 - val_accuracy: 0.8918\n"
     ]
    }
   ],
   "source": [
    "# Treinamento\n",
    "history = modelo.fit(X_treino, \n",
    "                     y_treino, \n",
    "                     epochs = 50, \n",
    "                     validation_data = (X_valid, y_valid))"
   ]
  },
  {
   "cell_type": "code",
   "execution_count": 32,
   "metadata": {},
   "outputs": [
    {
     "data": {
      "text/plain": [
       "{'verbose': 1, 'epochs': 50, 'steps': 1719}"
      ]
     },
     "execution_count": 32,
     "metadata": {},
     "output_type": "execute_result"
    }
   ],
   "source": [
    "# Hiperparâmetros do modelo\n",
    "history.params"
   ]
  },
  {
   "cell_type": "code",
   "execution_count": 33,
   "metadata": {},
   "outputs": [
    {
     "data": {
      "text/plain": [
       "dict_keys(['loss', 'accuracy', 'val_loss', 'val_accuracy'])"
      ]
     },
     "execution_count": 33,
     "metadata": {},
     "output_type": "execute_result"
    }
   ],
   "source": [
    "# Aqui estão as métricas disponíveis após o treinamento (erro e acurácia)\n",
    "history.history.keys()"
   ]
  },
  {
   "cell_type": "code",
   "execution_count": 34,
   "metadata": {},
   "outputs": [
    {
     "name": "stdout",
     "output_type": "stream",
     "text": [
      "Salvando a imagem... plot_keras_learning_curves\n"
     ]
    },
    {
     "data": {
      "image/png": "[encoded data removed]",
      "text/plain": [
       "<Figure size 576x360 with 1 Axes>"
      ]
     },
     "metadata": {
      "needs_background": "light"
     },
     "output_type": "display_data"
    }
   ],
   "source": [
    "# Colocamos o histórico de treinamento em um dataframe, plotamos e salvamos a figura\n",
    "pd.DataFrame(history.history).plot(figsize = (8, 5))\n",
    "plt.grid(True)\n",
    "plt.gca().set_ylim(0, 1)\n",
    "salva_imagem(\"plot_keras_learning_curves\")\n",
    "plt.show()"
   ]
  },
  {
   "cell_type": "markdown",
   "metadata": {},
   "source": [
    "## Avaliando o Modelo"
   ]
  },
  {
   "cell_type": "code",
   "execution_count": 35,
   "metadata": {},
   "outputs": [
    {
     "name": "stdout",
     "output_type": "stream",
     "text": [
      "313/313 [==============================] - 1s 3ms/step - loss: 0.3410 - accuracy: 0.8872\n"
     ]
    },
    {
     "data": {
      "text/plain": [
       "[0.3410373330116272, 0.8871999979019165]"
      ]
     },
     "execution_count": 35,
     "metadata": {},
     "output_type": "execute_result"
    }
   ],
   "source": [
    "# Avalia o modelo\n",
    "modelo.evaluate(X_teste, y_teste)"
   ]
  },
  {
   "cell_type": "markdown",
   "metadata": {},
   "source": [
    "Conseguimos mais de 88% de acurácia em teste. Vamos fazer a previsão de algumas imagens."
   ]
  },
  {
   "cell_type": "code",
   "execution_count": 36,
   "metadata": {},
   "outputs": [],
   "source": [
    "# Vamos extrair 5 imagens de teste\n",
    "X_new = X_teste[:5]"
   ]
  },
  {
   "cell_type": "code",
   "execution_count": 37,
   "metadata": {},
   "outputs": [
    {
     "name": "stdout",
     "output_type": "stream",
     "text": [
      "1/1 [==============================] - 0s 82ms/step\n"
     ]
    }
   ],
   "source": [
    "# E então prever a probabilidade de cada classe para cada imagem\n",
    "y_proba = modelo.predict(X_new)"
   ]
  },
  {
   "cell_type": "code",
   "execution_count": 38,
   "metadata": {},
   "outputs": [
    {
     "data": {
      "text/plain": [
       "array([[4.9067017e-07, 1.8727526e-08, 2.4139495e-06, 1.0680785e-06,\n",
       "        5.4917035e-07, 2.9192978e-04, 1.9337904e-07, 4.4325129e-03,\n",
       "        8.9837937e-05, 9.9518102e-01],\n",
       "       [3.0445441e-05, 9.3672137e-10, 9.9905819e-01, 5.1456728e-09,\n",
       "        7.5429009e-04, 3.8309687e-13, 1.5709807e-04, 6.4398209e-12,\n",
       "        2.0190843e-08, 1.8404431e-11],\n",
       "       [2.2342132e-07, 9.9999964e-01, 3.0933074e-09, 1.2128918e-07,\n",
       "        2.0581947e-09, 2.0427063e-14, 3.6619447e-11, 1.6966978e-12,\n",
       "        1.3624342e-10, 5.3258569e-13],\n",
       "       [1.7088132e-05, 9.9996448e-01, 3.4292083e-07, 1.7893271e-05,\n",
       "        1.4201132e-07, 5.6022153e-12, 1.4155120e-07, 4.8456367e-10,\n",
       "        4.6391384e-09, 5.0323840e-10],\n",
       "       [2.9474965e-01, 3.7710984e-07, 1.1571090e-03, 9.3758025e-04,\n",
       "        2.7581889e-03, 3.6727847e-08, 7.0039266e-01, 1.6556073e-09,\n",
       "        4.2275065e-06, 2.1858544e-07]], dtype=float32)"
      ]
     },
     "execution_count": 38,
     "metadata": {},
     "output_type": "execute_result"
    }
   ],
   "source": [
    "# Previsões de probabilidade\n",
    "y_proba"
   ]
  },
  {
   "cell_type": "code",
   "execution_count": 39,
   "metadata": {},
   "outputs": [
    {
     "data": {
      "text/plain": [
       "array([[0.  , 0.  , 0.  , 0.  , 0.  , 0.  , 0.  , 0.  , 0.  , 1.  ],\n",
       "       [0.  , 0.  , 1.  , 0.  , 0.  , 0.  , 0.  , 0.  , 0.  , 0.  ],\n",
       "       [0.  , 1.  , 0.  , 0.  , 0.  , 0.  , 0.  , 0.  , 0.  , 0.  ],\n",
       "       [0.  , 1.  , 0.  , 0.  , 0.  , 0.  , 0.  , 0.  , 0.  , 0.  ],\n",
       "       [0.29, 0.  , 0.  , 0.  , 0.  , 0.  , 0.7 , 0.  , 0.  , 0.  ]],\n",
       "      dtype=float32)"
      ]
     },
     "execution_count": 39,
     "metadata": {},
     "output_type": "execute_result"
    }
   ],
   "source": [
    "# As previsões de classes são mais fáceis de interpretar\n",
    "y_proba.round(2)"
   ]
  },
  {
   "cell_type": "code",
   "execution_count": 44,
   "metadata": {},
   "outputs": [
    {
     "name": "stdout",
     "output_type": "stream",
     "text": [
      "1/1 [==============================] - 0s 20ms/step\n"
     ]
    },
    {
     "data": {
      "text/plain": [
       "array([9, 2, 1, 1, 6], dtype=int64)"
      ]
     },
     "execution_count": 44,
     "metadata": {},
     "output_type": "execute_result"
    }
   ],
   "source": [
    "# Vamos gravar as previsões das 5 imagens\n",
    "y_pred = modelo.predict(X_new)\n",
    "\n",
    "y_pred=np.argmax(y_pred,axis=1)\n",
    "y_pred"
   ]
  },
  {
   "cell_type": "code",
   "execution_count": 45,
   "metadata": {},
   "outputs": [
    {
     "data": {
      "text/plain": [
       "array(['Ankle boot', 'Pullover', 'Trouser', 'Trouser', 'Shirt'],\n",
       "      dtype='<U11')"
      ]
     },
     "execution_count": 45,
     "metadata": {},
     "output_type": "execute_result"
    }
   ],
   "source": [
    "# E então extraímos os nomes das classes associados a cada previsão\n",
    "np.array(nomes_classes)[y_pred]"
   ]
  },
  {
   "cell_type": "markdown",
   "metadata": {},
   "source": [
    "Vamos plotar as previsões."
   ]
  },
  {
   "cell_type": "code",
   "execution_count": 46,
   "metadata": {},
   "outputs": [
    {
     "name": "stdout",
     "output_type": "stream",
     "text": [
      "Salvando a imagem... plot_previsoes_fashion_mnist_images\n"
     ]
    },
    {
     "data": {
      "image/png": "[encoded data removed]",
      "text/plain": [
       "<Figure size 576x360 with 5 Axes>"
      ]
     },
     "metadata": {
      "needs_background": "light"
     },
     "output_type": "display_data"
    }
   ],
   "source": [
    "# Plot\n",
    "plt.figure(figsize = (8, 5))\n",
    "for index, image in enumerate(X_new):\n",
    "    plt.subplot(1, 5, index + 1)\n",
    "    plt.imshow(image, cmap = \"binary\", interpolation = \"nearest\")\n",
    "    plt.axis('off')\n",
    "    plt.title(nomes_classes[y_teste[index]], fontsize = 12)\n",
    "plt.subplots_adjust(wspace = 0.2, hspace = 0.5)\n",
    "salva_imagem('plot_previsoes_fashion_mnist_images', tight_layout = False)\n",
    "plt.show()"
   ]
  },
  {
   "cell_type": "markdown",
   "metadata": {},
   "source": [
    "Previsões feitas com sucesso!"
   ]
  },
  {
   "cell_type": "markdown",
   "metadata": {},
   "source": [
    "# Fim"
   ]
  }
 ],
 "metadata": {
  "kernelspec": {
   "display_name": "Python 3 (ipykernel)",
   "language": "python",
   "name": "python3"
  },
  "language_info": {
   "codemirror_mode": {
    "name": "ipython",
    "version": 3
   },
   "file_extension": ".py",
   "mimetype": "text/x-python",
   "name": "python",
   "nbconvert_exporter": "python",
   "pygments_lexer": "ipython3",
   "version": "3.9.12"
  },
  "nav_menu": {
   "height": "264px",
   "width": "369px"
  },
  "toc": {
   "navigate_menu": true,
   "number_sections": true,
   "sideBar": true,
   "threshold": 6,
   "toc_cell": false,
   "toc_section_display": "block",
   "toc_window_display": false
  }
 },
 "nbformat": 4,
 "nbformat_minor": 4
}
