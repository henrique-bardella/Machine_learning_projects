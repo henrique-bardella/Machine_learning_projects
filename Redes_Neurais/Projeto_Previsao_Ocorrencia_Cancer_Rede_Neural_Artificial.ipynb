{
 "cells": [
  {
   "cell_type": "markdown",
   "metadata": {},
   "source": [
    "# <font color='blue'>Redes Neurais Artificiais</font>"
   ]
  },
  {
   "cell_type": "code",
   "execution_count": 1,
   "metadata": {},
   "outputs": [
    {
     "name": "stdout",
     "output_type": "stream",
     "text": [
      "Versão da Linguagem Python Usada Neste Jupyter Notebook: 3.9.12\n"
     ]
    }
   ],
   "source": [
    "# Versão da Linguagem Python\n",
    "from platform import python_version\n",
    "print('Versão da Linguagem Python Usada Neste Jupyter Notebook:', python_version())"
   ]
  },
  {
   "cell_type": "markdown",
   "metadata": {},
   "source": [
    "## A Matemática das Redes Neurais Artificiais\n",
    "\n",
    "### Construindo a Rede Neural com Programação e Matemática"
   ]
  },
  {
   "cell_type": "markdown",
   "metadata": {},
   "source": [
    "## A Arquitetura de Redes Neurais Artificiais"
   ]
  },
  {
   "cell_type": "markdown",
   "metadata": {},
   "source": [
    "Uma rede neural típica é constituída por um conjunto de neurônios interligados, infuenciando uns aos outros formando um sistema maior, capaz de armazenar conhecimento adquirido por meio de exemplos apresentados e, assim, podendo realizar inferências sobre novos conjuntos de dados. Vejamos a arquitetura de redes neurais artificiais.\n",
    "\n",
    "As redes neurais são comumente apresentadas como um grafo orientado, onde os vértices são os neurônios e as arestas as sinapses. A direção das arestas informa o tipo de alimentação, ou seja, como os neurônios são alimentados (recebem sinais de entrada). As redes neurais derivam seu poder devido a sua estrutura massiva e paralela e a habilidade de aprender por experiência. Essa experiência é transmitida por meio de exemplos obtidos do mundo real, definidos como um conjunto de características formados por dados de entrada e de saída. Se apresentamos esses dados de entrada e saída à rede, estamos diante de aprendizagem supervsionada e caso apresentemos apenas os dados de entrada, estamos diante de aprendizagem não supervisionada!\n",
    "\n",
    "O conhecimento obtido pela rede através dos exemplos é armazenado na forma de pesos das conexões, os quais serão ajustados a fim de tomar decisões corretas a partir de novas entradas, ou seja, novas situações do mundo real não conhecidas pela rede. O processo de ajuste dos pesos sinapticos é realizado pelo algoritmo de aprendizagem, responsável em armazenar na rede o conhecimento do mundo real obtido atraves de exemplos. Existem vários algoritmos de aprendizagem, dentre eles o backpropagation que é o algoritmo mais utilizado.\n",
    "\n",
    "![title](imagens/nnet.png)"
   ]
  },
  {
   "cell_type": "markdown",
   "metadata": {},
   "source": [
    "### Importando os Pacotes"
   ]
  },
  {
   "cell_type": "code",
   "execution_count": 2,
   "metadata": {},
   "outputs": [],
   "source": [
    "# Para atualizar um pacote, execute o comando abaixo no terminal ou prompt de comando:\n",
    "# pip install -U nome_pacote\n",
    "\n",
    "# Para instalar a versão exata de um pacote, execute o comando abaixo no terminal ou prompt de comando:\n",
    "# pip install nome_pacote==versão_desejada\n",
    "\n",
    "# Depois de instalar ou atualizar o pacote, reinicie o jupyter notebook."
   ]
  },
  {
   "cell_type": "code",
   "execution_count": 4,
   "metadata": {},
   "outputs": [],
   "source": [
    "# Por enquanto precisaremos somente do NumPy\n",
    "import numpy as np"
   ]
  },
  {
   "cell_type": "code",
   "execution_count": 68,
   "metadata": {},
   "outputs": [
    {
     "name": "stdout",
     "output_type": "stream",
     "text": [
      "Author: Henrique Bardella\n",
      "\n",
      "matplotlib: 3.7.1\n",
      "numpy     : 1.21.5\n",
      "sklearn   : 0.0\n",
      "pandas    : 1.5.0\n",
      "\n"
     ]
    }
   ],
   "source": [
    "# Versões dos pacotes usados neste jupyter notebook\n",
    "%reload_ext watermark\n",
    "%watermark -a \"Henrique Bardella\" --iversions"
   ]
  },
  {
   "cell_type": "markdown",
   "metadata": {},
   "source": [
    "### Parte 1 - Implementando Uma Rede Neural Artificial Somente com Fórmulas Matemáticas (Sem Frameworks)"
   ]
  },
  {
   "cell_type": "markdown",
   "metadata": {},
   "source": [
    "Faça a leitura do manual em pdf no próximo item de aprendizagem: Parâmetros x Hiperparâmetros."
   ]
  },
  {
   "cell_type": "markdown",
   "metadata": {},
   "source": [
    "### Parte 1A - Forward Propagation\n",
    "\n",
    "https://arxiv.org/pdf/1905.07490.pdf"
   ]
  },
  {
   "cell_type": "markdown",
   "metadata": {},
   "source": [
    "![title](imagens/nn.png)"
   ]
  },
  {
   "cell_type": "markdown",
   "metadata": {},
   "source": [
    "Faça a leitura do manual em pdf no próximo item de aprendizagem: Por Que Inicializamos os Pesos de Um Modelo de Rede Neural?"
   ]
  },
  {
   "cell_type": "markdown",
   "metadata": {},
   "source": [
    "### Desenvolvendo a Função Para Inicialização de Pesos"
   ]
  },
  {
   "cell_type": "code",
   "execution_count": 6,
   "metadata": {},
   "outputs": [],
   "source": [
    "# Função para inicialização randômica dos parâmetros do modelo\n",
    "def inicializa_parametros(dims_camada_entrada):\n",
    "    \n",
    "    # Dicionário para os parâmetros\n",
    "    parameters = {}\n",
    "    \n",
    "    # Comprimento das dimensões das camadas\n",
    "    comp = len(dims_camada_entrada)\n",
    "    \n",
    "    # Loop pelo comprimento\n",
    "    for i in range(1, comp):\n",
    "        \n",
    "        # Inicialização da matriz de pesos\n",
    "        parameters[\"W\" + str(i)] = np.random.randn(dims_camada_entrada[i], dims_camada_entrada[i - 1]) * 0.01\n",
    "        \n",
    "        # Inicialização do bias\n",
    "        parameters[\"b\" + str(i)] = np.zeros((dims_camada_entrada[i], 1))\n",
    "    \n",
    "    return parameters"
   ]
  },
  {
   "cell_type": "markdown",
   "metadata": {},
   "source": [
    "### Desenvolvendo a Função Sigmóide\n",
    "\n",
    "A principal razão pela qual usamos a função sigmóide é porque ela permite converter números para valores entre 0 e 1. \n",
    "\n",
    "Portanto, é especialmente usada para modelos em que temos que prever a probabilidade como uma saída. Como a probabilidade de qualquer coisa existir apenas entre o intervalo de 0 e 1, sigmoide é a escolha certa. Algumas caracterísiticas da função sigmóide:\n",
    "\n",
    "- A função é diferenciável. Isso significa que podemos encontrar a inclinação da curva sigmóide em dois pontos.\n",
    "- A função sigmóide logística pode fazer com que uma rede neural fique presa no momento do treinamento.\n",
    "- A função softmax é uma função de ativação logística mais generalizada, utilizada para a classificação em várias classes."
   ]
  },
  {
   "cell_type": "markdown",
   "metadata": {},
   "source": [
    "![title](imagens/sigmoid.png)"
   ]
  },
  {
   "cell_type": "markdown",
   "metadata": {},
   "source": [
    "Se a função parecer muito abstrata ou estranha para você, não se preocupe muito com detalhes como o número de Euler e ou como alguém criou essa função. Para aqueles que não são conhecedores de matemática, a única coisa importante sobre a função sigmóide é primeiro, sua curva e, segundo, sua derivada. Aqui estão mais alguns detalhes:\n",
    "\n",
    "- **A função sigmóide produz resultados semelhantes aos da função de passo (Step Function) em que a saída está entre 0 e 1. A curva cruza 0,5 a z = 0, e podemos definir regras para a função de ativação, como: Se a saída do neurônio sigmóide for maior que ou igual a 0,5, gera 1; se a saída for menor que 0,5, gera 0.**\n",
    "\n",
    "\n",
    "- A função sigmóide é suave e possui uma derivada simples de σ(z) * (1 - σ (z)), que é diferenciável em qualquer lugar da curva. \n",
    "\n",
    "\n",
    "- Se z for muito negativo, a saída será aproximadamente 0; se z for muito positivo, a saída é aproximadamente 1; mas em torno de z = 0, onde z não é muito grande nem muito pequeno, temos um desvio relativamente maior à medida que z muda."
   ]
  },
  {
   "cell_type": "markdown",
   "metadata": {},
   "source": [
    "**Afinal, O Que é Derivada?**\n",
    "\n",
    "![title](imagens/derivada.png)"
   ]
  },
  {
   "cell_type": "markdown",
   "metadata": {},
   "source": [
    "No Cálculo, a derivada em um ponto de uma função y = f(x) representa a taxa de variação instantânea de y em relação a x neste ponto. \n",
    "\n",
    "Um exemplo típico é a função velocidade que representa a taxa de variação (derivada) da função espaço. Do mesmo modo, a função aceleração é a derivada da função velocidade. Geometricamente, a derivada no ponto x = a de y = f(x) representa a inclinação da reta tangente ao gráfico desta função no ponto (a, f(a)).\n",
    "\n",
    "A função que a cada ponto x associa a derivada neste ponto de f(x) é chamada de função derivada de f(x)."
   ]
  },
  {
   "cell_type": "markdown",
   "metadata": {},
   "source": [
    "![title](imagens/derivada.gif)"
   ]
  },
  {
   "cell_type": "markdown",
   "metadata": {},
   "source": [
    "Em cada ponto, a derivada de f(x) é a tangente do ângulo que a reta tangente à curva faz em relação ao eixo das abscissas. A reta é sempre tangente à curva azul; a tangente do ângulo que ela faz com o eixo das abscissas é a derivada. Note-se que a derivada é positiva quando verde, negativa quando vermelha, e zero quando preta.\n",
    "\n",
    "A derivada de uma função y = f(x) num ponto x = x0, é igual ao valor da tangente trigonométrica do ângulo formado pela tangente geométrica à curva representativa de y=f(x), no ponto x = x0, ou seja, a derivada é o coeficiente angular da reta tangente ao gráfico da função no ponto x0.\n",
    "\n",
    "A função derivada é representada por f'(x)."
   ]
  },
  {
   "cell_type": "code",
   "execution_count": 7,
   "metadata": {},
   "outputs": [],
   "source": [
    "# Função sigmóide\n",
    "def sigmoid(Z):\n",
    "    A = 1 / (1 + np.exp(-Z))\n",
    "    return A, Z"
   ]
  },
  {
   "cell_type": "markdown",
   "metadata": {},
   "source": [
    "### Desenvolvendo a Função ReLU\n",
    "\n",
    "Para usar a descida de gradiente estocástico com retropropagação de erros para treinar redes neurais profundas, é necessária uma função de ativação que se assemelhe e atue como uma função linear, mas é, de fato, uma função não linear que permite que relacionamentos complexos nos dados sejam aprendidos.\n",
    "\n",
    "A solução é usar a função de ativação linear retificada ou ReL para abreviar. Um nó ou unidade que implementa essa função de ativação é chamado de unidade de ativação linear retificada ou ReLU, para abreviar. Frequentemente, as redes que usam a função retificadora para as camadas ocultas são chamadas de redes retificadas.\n",
    "\n",
    "A função ReLU é definida como 𝑓(𝑥) = max (0, 𝑥). Normalmente, ela é aplicada elemento a elemento à saída de alguma outra função, como um produto de vetor e matriz. \n",
    "\n",
    "A adoção da ReLU pode ser facilmente considerada um dos marcos na revolução do aprendizado profundo, por ex. as técnicas que agora permitem o desenvolvimento rotineiro de redes neurais muito profundas.\n",
    "\n",
    "A derivada da função linear retificada também é fácil de calcular. **A derivada da função de ativação é necessária ao atualizar os pesos de um nó como parte da retropropagação de erro.**\n",
    "\n",
    "A derivada da função é a inclinação. A inclinação para valores negativos é 0,0 e a inclinação para valores positivos é 1,0.\n",
    "\n",
    "Tradicionalmente, o campo das redes neurais evitou qualquer função de ativação que não fosse completamente diferenciável, talvez adiando a adoção da função linear retificada e de outras funções lineares. Tecnicamente, não podemos calcular a derivada quando a entrada é 0,0; portanto, podemos assumir que é zero. Este não é um problema na prática.\n",
    "\n",
    "Os gradientes das ativações tangentes e hiperbólicas são menores que a porção positiva da ReLU. Isso significa que a parte positiva é atualizada mais rapidamente à medida que o treinamento avança. No entanto, isso tem um custo. O gradiente 0 no lado esquerdo tem seu próprio problema, chamado \"neurônios mortos\", no qual uma atualização de gradiente define os valores recebidos para uma ReLU, de modo que a saída é sempre zero; unidades ReLU modificadas, como ELU (ou Leaky ReLU, ou PReLU, etc.) podem melhorar isso."
   ]
  },
  {
   "cell_type": "markdown",
   "metadata": {},
   "source": [
    "![title](imagens/relu.png)"
   ]
  },
  {
   "cell_type": "code",
   "execution_count": 8,
   "metadata": {},
   "outputs": [],
   "source": [
    "# Função de ativação ReLu (Rectified Linear Unit)\n",
    "def relu(Z):\n",
    "    A = abs(Z * (Z > 0))\n",
    "    return A, Z"
   ]
  },
  {
   "cell_type": "markdown",
   "metadata": {},
   "source": [
    "![title](imagens/net-relu.png)"
   ]
  },
  {
   "cell_type": "markdown",
   "metadata": {},
   "source": [
    "### Desenvolvendo a Ativação Linear"
   ]
  },
  {
   "cell_type": "code",
   "execution_count": 9,
   "metadata": {},
   "outputs": [],
   "source": [
    "# Operação de ativação\n",
    "# A é a matriz com os dados de entrada\n",
    "# W é a matriz de pesos\n",
    "# b é o bias\n",
    "def linear_activation(A, W, b):\n",
    "    Z = np.dot(W, A) + b\n",
    "    cache = (A, W, b)\n",
    "    return Z, cache"
   ]
  },
  {
   "cell_type": "markdown",
   "metadata": {},
   "source": [
    "### Construindo o Processo de Forward Propagation"
   ]
  },
  {
   "cell_type": "code",
   "execution_count": 10,
   "metadata": {},
   "outputs": [],
   "source": [
    "# Movimento para frente (forward)\n",
    "def forward(A_prev, W, b, activation):\n",
    "    \n",
    "    # Se a função de ativação for Sigmoid, entramos neste bloco\n",
    "    if activation == \"sigmoid\":\n",
    "        Z, linear_cache = linear_activation(A_prev, W, b)\n",
    "        A, activation_cache = sigmoid(Z)\n",
    "        \n",
    "    # Se não, se for ReLu, entramos neste bloco    \n",
    "    elif activation == \"relu\":\n",
    "        Z, linear_cache = linear_activation(A_prev, W, b)\n",
    "        A, activation_cache = relu(Z)\n",
    "        \n",
    "    cache = (linear_cache, activation_cache)\n",
    "    \n",
    "    return A, cache"
   ]
  },
  {
   "cell_type": "markdown",
   "metadata": {},
   "source": [
    "### Combinando Ativação e Propagação"
   ]
  },
  {
   "cell_type": "code",
   "execution_count": 11,
   "metadata": {},
   "outputs": [],
   "source": [
    "# Propagação para frente\n",
    "def forward_propagation(X, parameters):\n",
    "    \n",
    "    # Lista de valores anteriores (cache)\n",
    "    caches = []\n",
    "    \n",
    "    # Dados de entrada\n",
    "    A = X\n",
    "    \n",
    "    # Comprimento dos parâmetros\n",
    "    L = len(parameters) // 2\n",
    "   \n",
    "    # Loop\n",
    "    for i in range(1, L):\n",
    "      \n",
    "        # Guarda o valor prévio de A\n",
    "        A_prev = A\n",
    "        \n",
    "        # Executa o forward\n",
    "        A, cache = forward(A_prev, parameters[\"W\" + str(i)], parameters[\"b\" + str(i)], activation = \"relu\")\n",
    "        \n",
    "        # Grava o cache\n",
    "        caches.append(cache)\n",
    "    \n",
    "    # Saída na última camada\n",
    "    A_last, cache = forward(A, parameters[\"W\" + str(L)], parameters[\"b\" + str(L)], activation = \"sigmoid\")\n",
    "    \n",
    "    # Grava o cache\n",
    "    caches.append(cache)\n",
    "    \n",
    "    return(A_last, caches)"
   ]
  },
  {
   "cell_type": "markdown",
   "metadata": {},
   "source": [
    "### Desenvolvendo a Função de Custo"
   ]
  },
  {
   "cell_type": "markdown",
   "metadata": {},
   "source": [
    "![title](imagens/custo.png)"
   ]
  },
  {
   "cell_type": "code",
   "execution_count": 12,
   "metadata": {},
   "outputs": [],
   "source": [
    "# Função de custo (ou função de erro)\n",
    "def calcula_custo(A_last, Y):\n",
    "    \n",
    "    # Ajusta o shape de Y para obter seu comprimento (total de elementos)\n",
    "    m = Y.shape[1]\n",
    "    \n",
    "    # Calcula o custo comparando valor real e previso\n",
    "    custo = (-1 / m) * np.sum((Y * np.log(A_last)) + ((1 - Y) * np.log(1 - A_last)))\n",
    "    \n",
    "    # Ajusta o shape do custo\n",
    "    custo = np.squeeze(custo)\n",
    "    \n",
    "    return(custo)"
   ]
  },
  {
   "cell_type": "markdown",
   "metadata": {},
   "source": [
    "### Parte 1B - Backward Propagation"
   ]
  },
  {
   "cell_type": "markdown",
   "metadata": {},
   "source": [
    "![title](imagens/backpropagation.png)"
   ]
  },
  {
   "cell_type": "markdown",
   "metadata": {},
   "source": [
    "### Desenvolvendo o Backward Propagation - Função Sigmóide Backward"
   ]
  },
  {
   "cell_type": "code",
   "execution_count": 13,
   "metadata": {},
   "outputs": [],
   "source": [
    "# Função sigmoid para o backpropagation \n",
    "# Fazemos o cálculo da derivada pois não queremos o valor completo da função, mas sim sua variação\n",
    "def sigmoid_backward(da, Z):\n",
    "    \n",
    "    # Calculamos a derivada de Z\n",
    "    dg = (1 / (1 + np.exp(-Z))) * (1 - (1 / (1 + np.exp(-Z))))\n",
    "    \n",
    "    # Encontramos a mudança na derivada de z\n",
    "    dz = da * dg\n",
    "    return dz\n",
    "\n",
    "# Compare com a função sigmoid do forward propagation\n",
    "# A = 1 / (1 + np.exp(-Z))"
   ]
  },
  {
   "cell_type": "markdown",
   "metadata": {},
   "source": [
    "### Desenvolvendo o Backward Propagation - Função ReLu Backward"
   ]
  },
  {
   "cell_type": "code",
   "execution_count": 14,
   "metadata": {},
   "outputs": [],
   "source": [
    "# Função relu para o backpropagation \n",
    "# Fazemos o cálculo da derivada pois não queremos o valor completo da função, mas sim sua variação\n",
    "def relu_backward(da, Z):\n",
    "    \n",
    "    dg = 1 * ( Z >= 0)\n",
    "    dz = da * dg\n",
    "    return dz\n",
    "\n",
    "# Compare com a função relu do forward propagation:\n",
    "# A = abs(Z * (Z > 0))"
   ]
  },
  {
   "cell_type": "markdown",
   "metadata": {},
   "source": [
    "### Desenvolvendo o Backward Propagation - Ativação Linear Backward"
   ]
  },
  {
   "cell_type": "code",
   "execution_count": 15,
   "metadata": {},
   "outputs": [],
   "source": [
    "# Ativação linear para o backpropagation\n",
    "def linear_backward_function(dz, cache):\n",
    "    \n",
    "    # Recebe os valores do cache (memória)\n",
    "    A_prev, W, b = cache\n",
    "    \n",
    "    # Shape de m\n",
    "    m = A_prev.shape[1]\n",
    "    \n",
    "    # Calcula a derivada de W (resultado da operação com dz)\n",
    "    dW = (1 / m) * np.dot(dz, A_prev.T)\n",
    "    \n",
    "    # Calcula a derivada de b (resultado da operação com dz)\n",
    "    db = (1 / m) * np.sum(dz, axis = 1, keepdims = True)\n",
    "    \n",
    "    # Calcula a derivada da operação\n",
    "    dA_prev = np.dot(W.T, dz)\n",
    "    \n",
    "    return dA_prev, dW, db"
   ]
  },
  {
   "cell_type": "markdown",
   "metadata": {},
   "source": [
    "### Desenvolvendo o Backward Propagation - Ativação Linear Backward"
   ]
  },
  {
   "cell_type": "code",
   "execution_count": 16,
   "metadata": {},
   "outputs": [],
   "source": [
    "# Função que define o tipo de ativação (relu ou sigmoid)\n",
    "def linear_activation_backward(dA, cache, activation):\n",
    "    \n",
    "    # Extrai o cache\n",
    "    linear_cache, activation_cache = cache\n",
    "    \n",
    "    # Verifica se a ativação é relu\n",
    "    if activation == \"relu\":\n",
    "        dZ = relu_backward(dA, activation_cache)\n",
    "        dA_prev, dW, db = linear_backward_function(dZ, linear_cache)\n",
    "        \n",
    "    # Verifica se a ativação é sigmoid\n",
    "    if activation == \"sigmoid\":\n",
    "        dZ = sigmoid_backward(dA, activation_cache)\n",
    "        dA_prev, dW, db = linear_backward_function(dZ, linear_cache)\n",
    "        \n",
    "    return dA_prev, dW, db"
   ]
  },
  {
   "cell_type": "markdown",
   "metadata": {},
   "source": [
    "### Combinando Ativação e Retropropagação - Algoritmo Backpropagation"
   ]
  },
  {
   "cell_type": "code",
   "execution_count": 17,
   "metadata": {},
   "outputs": [],
   "source": [
    "# Algoritmo Backpropagation (calcula os gradientes para atualização dos pesos)\n",
    "# AL = Valor previsto no Forward\n",
    "# Y = Valor real\n",
    "def backward_propagation(AL, Y, caches):\n",
    "    \n",
    "    # Dicionário para os gradientes\n",
    "    grads = {}\n",
    "    \n",
    "    # Comprimento dos dados (que estão no cache)\n",
    "    L = len(caches)\n",
    "    \n",
    "    # Extrai o comprimento para o valor de m\n",
    "    m = AL.shape[1]\n",
    "    \n",
    "    # Ajusta o shape de Y\n",
    "    Y = Y.reshape(AL.shape)\n",
    "    \n",
    "    # Calcula a derivada da previsão final da rede (feita ao final do Forward Propagation)\n",
    "    dAL = -((Y / AL) - ((1 - Y) / (1 - AL)))\n",
    "    \n",
    "    # Captura o valor corrente do cache\n",
    "    current_cache = caches[L - 1]\n",
    "    \n",
    "    # Gera a lista de gradiente para os dados, os pesos e o bias\n",
    "    # Fazemos isso uma vez, pois estamos na parte final da rede, iniciando o caminho de volta\n",
    "    grads[\"dA\" + str(L - 1)], grads[\"dW\" + str(L)], grads[\"db\" + str(L)] = linear_activation_backward(dAL, current_cache, activation = \"sigmoid\")\n",
    "    \n",
    "    # Loop para calcular a derivada durante as ativações lineares com a relu\n",
    "    for l in reversed(range(L - 1)):\n",
    "        \n",
    "        # Cache atual\n",
    "        current_cache = caches[l]\n",
    "        \n",
    "        # Calcula as derivadas\n",
    "        dA_prev, dW, db = linear_activation_backward(grads[\"dA\" + str(l + 1)], current_cache, activation = \"relu\")\n",
    "        \n",
    "        # Alimenta os gradientes na lista, usando o índice respectivo\n",
    "        grads[\"dA\" + str(l)] = dA_prev\n",
    "        grads[\"dW\" + str(l + 1)] = dW\n",
    "        grads[\"db\" + str(l + 1)] = db\n",
    "        \n",
    "    return grads"
   ]
  },
  {
   "cell_type": "markdown",
   "metadata": {},
   "source": [
    "### Gradientes e Atualização dos Pesos"
   ]
  },
  {
   "cell_type": "code",
   "execution_count": 18,
   "metadata": {},
   "outputs": [],
   "source": [
    "# Função de atualização de pesos\n",
    "def atualiza_pesos(parameters, grads, learning_rate):\n",
    "    \n",
    "    # Comprimento da estrutura de dados com os parâmetros (pesos e bias)\n",
    "    L = len(parameters)//2\n",
    "    \n",
    "    # Loop para atualização dos pesos\n",
    "    for l in range(L):\n",
    "        \n",
    "        # Atualização dos pesos\n",
    "        parameters[\"W\" + str(l + 1)] = parameters[\"W\" + str(l + 1)] - (learning_rate * grads[\"dW\" + str(l + 1)])\n",
    "        \n",
    "        # Atualização do bias\n",
    "        parameters[\"b\" + str(l + 1)] = parameters[\"b\" + str(l + 1)] - (learning_rate * grads[\"db\" + str(l + 1)])\n",
    "    \n",
    "    return parameters"
   ]
  },
  {
   "cell_type": "markdown",
   "metadata": {},
   "source": [
    "### Implementando a Rede Completa"
   ]
  },
  {
   "cell_type": "code",
   "execution_count": 19,
   "metadata": {},
   "outputs": [],
   "source": [
    "# Modelo completo da rede neural\n",
    "def modeloNN(X, Y, dims_camada_entrada, learning_rate = 0.0075, num_iterations = 100):\n",
    "    \n",
    "    # Lista para receber o custo a cada época de treinamento\n",
    "    custos = []\n",
    "    \n",
    "    # Inicializa os parâmetros\n",
    "    parametros = inicializa_parametros(dims_camada_entrada)\n",
    "    \n",
    "    # Loop pelo número de iterações (épocas)\n",
    "    for i in range(num_iterations):\n",
    "        \n",
    "        # Forward Propagation\n",
    "        AL, caches = forward_propagation(X, parametros)\n",
    "        \n",
    "        # Calcula o custo\n",
    "        custo = calcula_custo(AL, Y)\n",
    "        \n",
    "        # Backward Propagation\n",
    "        # Nota: ao invés de AL e Y, poderíamos passar somente o valor do custo\n",
    "        # Estamos passando o valor de AL e Y para fique claro didaticamente o que está sendo feito\n",
    "        gradientes = backward_propagation(AL, Y, caches)\n",
    "        \n",
    "        # Atualiza os pesos\n",
    "        parametros = atualiza_pesos(parametros, gradientes, learning_rate)\n",
    "        \n",
    "        # Print do valor intermediário do custo\n",
    "        # A redução do custo indica o aprendizado do modelo\n",
    "        if i % 10 == 0:\n",
    "            print(\"Custo Após \" + str(i) + \" iterações é \" + str(custo))\n",
    "            custos.append(custo)\n",
    "            \n",
    "    return parametros, custos "
   ]
  },
  {
   "cell_type": "code",
   "execution_count": 20,
   "metadata": {},
   "outputs": [],
   "source": [
    "# Função para fazer as previsões\n",
    "# Não precisamos do Backpropagation pois ao fazer previsões como o modelo treinado, \n",
    "# teremos os melhores valores de pesos (parametros)\n",
    "def predict(X, parametros):\n",
    "    AL, caches = forward_propagation(X, parametros)\n",
    "    return AL"
   ]
  },
  {
   "cell_type": "markdown",
   "metadata": {},
   "source": [
    "### Parte 2 - Vamos treinar a rede para Prever a Ocorrência de Câncer"
   ]
  },
  {
   "cell_type": "markdown",
   "metadata": {},
   "source": [
    "### Mini-Projeto 4 - Usando a Rede Neural Para Prever a Ocorrência de Câncer"
   ]
  },
  {
   "cell_type": "code",
   "execution_count": 21,
   "metadata": {},
   "outputs": [],
   "source": [
    "# Imports\n",
    "import sklearn\n",
    "import numpy as np\n",
    "import pandas as pd\n",
    "import matplotlib\n",
    "import matplotlib.pyplot as plt\n",
    "from sklearn.datasets import load_breast_cancer\n",
    "from sklearn.model_selection import train_test_split\n",
    "from sklearn.metrics import classification_report"
   ]
  },
  {
   "cell_type": "markdown",
   "metadata": {},
   "source": [
    "### Carregando os Dados\n",
    "\n",
    "https://scikit-learn.org/stable/datasets/index.html#breast-cancer-dataset"
   ]
  },
  {
   "cell_type": "code",
   "execution_count": 23,
   "metadata": {},
   "outputs": [],
   "source": [
    "# Carregamos o objeto completo\n",
    "temp = load_breast_cancer()"
   ]
  },
  {
   "cell_type": "code",
   "execution_count": 24,
   "metadata": {},
   "outputs": [
    {
     "data": {
      "text/plain": [
       "sklearn.utils._bunch.Bunch"
      ]
     },
     "execution_count": 24,
     "metadata": {},
     "output_type": "execute_result"
    }
   ],
   "source": [
    "# Tipo do objeto\n",
    "type(temp)"
   ]
  },
  {
   "cell_type": "code",
   "execution_count": 25,
   "metadata": {},
   "outputs": [
    {
     "data": {
      "text/plain": [
       "{'data': array([[1.799e+01, 1.038e+01, 1.228e+02, ..., 2.654e-01, 4.601e-01,\n",
       "         1.189e-01],\n",
       "        [2.057e+01, 1.777e+01, 1.329e+02, ..., 1.860e-01, 2.750e-01,\n",
       "         8.902e-02],\n",
       "        [1.969e+01, 2.125e+01, 1.300e+02, ..., 2.430e-01, 3.613e-01,\n",
       "         8.758e-02],\n",
       "        ...,\n",
       "        [1.660e+01, 2.808e+01, 1.083e+02, ..., 1.418e-01, 2.218e-01,\n",
       "         7.820e-02],\n",
       "        [2.060e+01, 2.933e+01, 1.401e+02, ..., 2.650e-01, 4.087e-01,\n",
       "         1.240e-01],\n",
       "        [7.760e+00, 2.454e+01, 4.792e+01, ..., 0.000e+00, 2.871e-01,\n",
       "         7.039e-02]]),\n",
       " 'target': array([0, 0, 0, 0, 0, 0, 0, 0, 0, 0, 0, 0, 0, 0, 0, 0, 0, 0, 0, 1, 1, 1,\n",
       "        0, 0, 0, 0, 0, 0, 0, 0, 0, 0, 0, 0, 0, 0, 0, 1, 0, 0, 0, 0, 0, 0,\n",
       "        0, 0, 1, 0, 1, 1, 1, 1, 1, 0, 0, 1, 0, 0, 1, 1, 1, 1, 0, 1, 0, 0,\n",
       "        1, 1, 1, 1, 0, 1, 0, 0, 1, 0, 1, 0, 0, 1, 1, 1, 0, 0, 1, 0, 0, 0,\n",
       "        1, 1, 1, 0, 1, 1, 0, 0, 1, 1, 1, 0, 0, 1, 1, 1, 1, 0, 1, 1, 0, 1,\n",
       "        1, 1, 1, 1, 1, 1, 1, 0, 0, 0, 1, 0, 0, 1, 1, 1, 0, 0, 1, 0, 1, 0,\n",
       "        0, 1, 0, 0, 1, 1, 0, 1, 1, 0, 1, 1, 1, 1, 0, 1, 1, 1, 1, 1, 1, 1,\n",
       "        1, 1, 0, 1, 1, 1, 1, 0, 0, 1, 0, 1, 1, 0, 0, 1, 1, 0, 0, 1, 1, 1,\n",
       "        1, 0, 1, 1, 0, 0, 0, 1, 0, 1, 0, 1, 1, 1, 0, 1, 1, 0, 0, 1, 0, 0,\n",
       "        0, 0, 1, 0, 0, 0, 1, 0, 1, 0, 1, 1, 0, 1, 0, 0, 0, 0, 1, 1, 0, 0,\n",
       "        1, 1, 1, 0, 1, 1, 1, 1, 1, 0, 0, 1, 1, 0, 1, 1, 0, 0, 1, 0, 1, 1,\n",
       "        1, 1, 0, 1, 1, 1, 1, 1, 0, 1, 0, 0, 0, 0, 0, 0, 0, 0, 0, 0, 0, 0,\n",
       "        0, 0, 1, 1, 1, 1, 1, 1, 0, 1, 0, 1, 1, 0, 1, 1, 0, 1, 0, 0, 1, 1,\n",
       "        1, 1, 1, 1, 1, 1, 1, 1, 1, 1, 1, 0, 1, 1, 0, 1, 0, 1, 1, 1, 1, 1,\n",
       "        1, 1, 1, 1, 1, 1, 1, 1, 1, 0, 1, 1, 1, 0, 1, 0, 1, 1, 1, 1, 0, 0,\n",
       "        0, 1, 1, 1, 1, 0, 1, 0, 1, 0, 1, 1, 1, 0, 1, 1, 1, 1, 1, 1, 1, 0,\n",
       "        0, 0, 1, 1, 1, 1, 1, 1, 1, 1, 1, 1, 1, 0, 0, 1, 0, 0, 0, 1, 0, 0,\n",
       "        1, 1, 1, 1, 1, 0, 1, 1, 1, 1, 1, 0, 1, 1, 1, 0, 1, 1, 0, 0, 1, 1,\n",
       "        1, 1, 1, 1, 0, 1, 1, 1, 1, 1, 1, 1, 0, 1, 1, 1, 1, 1, 0, 1, 1, 0,\n",
       "        1, 1, 1, 1, 1, 1, 1, 1, 1, 1, 1, 1, 0, 1, 0, 0, 1, 0, 1, 1, 1, 1,\n",
       "        1, 0, 1, 1, 0, 1, 0, 1, 1, 0, 1, 0, 1, 1, 1, 1, 1, 1, 1, 1, 0, 0,\n",
       "        1, 1, 1, 1, 1, 1, 0, 1, 1, 1, 1, 1, 1, 1, 1, 1, 1, 0, 1, 1, 1, 1,\n",
       "        1, 1, 1, 0, 1, 0, 1, 1, 0, 1, 1, 1, 1, 1, 0, 0, 1, 0, 1, 0, 1, 1,\n",
       "        1, 1, 1, 0, 1, 1, 0, 1, 0, 1, 0, 0, 1, 1, 1, 0, 1, 1, 1, 1, 1, 1,\n",
       "        1, 1, 1, 1, 1, 0, 1, 0, 0, 1, 1, 1, 1, 1, 1, 1, 1, 1, 1, 1, 1, 1,\n",
       "        1, 1, 1, 1, 1, 1, 1, 1, 1, 1, 1, 1, 0, 0, 0, 0, 0, 0, 1]),\n",
       " 'frame': None,\n",
       " 'target_names': array(['malignant', 'benign'], dtype='<U9'),\n",
       " 'DESCR': '.. _breast_cancer_dataset:\\n\\nBreast cancer wisconsin (diagnostic) dataset\\n--------------------------------------------\\n\\n**Data Set Characteristics:**\\n\\n    :Number of Instances: 569\\n\\n    :Number of Attributes: 30 numeric, predictive attributes and the class\\n\\n    :Attribute Information:\\n        - radius (mean of distances from center to points on the perimeter)\\n        - texture (standard deviation of gray-scale values)\\n        - perimeter\\n        - area\\n        - smoothness (local variation in radius lengths)\\n        - compactness (perimeter^2 / area - 1.0)\\n        - concavity (severity of concave portions of the contour)\\n        - concave points (number of concave portions of the contour)\\n        - symmetry\\n        - fractal dimension (\"coastline approximation\" - 1)\\n\\n        The mean, standard error, and \"worst\" or largest (mean of the three\\n        worst/largest values) of these features were computed for each image,\\n        resulting in 30 features.  For instance, field 0 is Mean Radius, field\\n        10 is Radius SE, field 20 is Worst Radius.\\n\\n        - class:\\n                - WDBC-Malignant\\n                - WDBC-Benign\\n\\n    :Summary Statistics:\\n\\n    ===================================== ====== ======\\n                                           Min    Max\\n    ===================================== ====== ======\\n    radius (mean):                        6.981  28.11\\n    texture (mean):                       9.71   39.28\\n    perimeter (mean):                     43.79  188.5\\n    area (mean):                          143.5  2501.0\\n    smoothness (mean):                    0.053  0.163\\n    compactness (mean):                   0.019  0.345\\n    concavity (mean):                     0.0    0.427\\n    concave points (mean):                0.0    0.201\\n    symmetry (mean):                      0.106  0.304\\n    fractal dimension (mean):             0.05   0.097\\n    radius (standard error):              0.112  2.873\\n    texture (standard error):             0.36   4.885\\n    perimeter (standard error):           0.757  21.98\\n    area (standard error):                6.802  542.2\\n    smoothness (standard error):          0.002  0.031\\n    compactness (standard error):         0.002  0.135\\n    concavity (standard error):           0.0    0.396\\n    concave points (standard error):      0.0    0.053\\n    symmetry (standard error):            0.008  0.079\\n    fractal dimension (standard error):   0.001  0.03\\n    radius (worst):                       7.93   36.04\\n    texture (worst):                      12.02  49.54\\n    perimeter (worst):                    50.41  251.2\\n    area (worst):                         185.2  4254.0\\n    smoothness (worst):                   0.071  0.223\\n    compactness (worst):                  0.027  1.058\\n    concavity (worst):                    0.0    1.252\\n    concave points (worst):               0.0    0.291\\n    symmetry (worst):                     0.156  0.664\\n    fractal dimension (worst):            0.055  0.208\\n    ===================================== ====== ======\\n\\n    :Missing Attribute Values: None\\n\\n    :Class Distribution: 212 - Malignant, 357 - Benign\\n\\n    :Creator:  Dr. William H. Wolberg, W. Nick Street, Olvi L. Mangasarian\\n\\n    :Donor: Nick Street\\n\\n    :Date: November, 1995\\n\\nThis is a copy of UCI ML Breast Cancer Wisconsin (Diagnostic) datasets.\\nhttps://goo.gl/U2Uwz2\\n\\nFeatures are computed from a digitized image of a fine needle\\naspirate (FNA) of a breast mass.  They describe\\ncharacteristics of the cell nuclei present in the image.\\n\\nSeparating plane described above was obtained using\\nMultisurface Method-Tree (MSM-T) [K. P. Bennett, \"Decision Tree\\nConstruction Via Linear Programming.\" Proceedings of the 4th\\nMidwest Artificial Intelligence and Cognitive Science Society,\\npp. 97-101, 1992], a classification method which uses linear\\nprogramming to construct a decision tree.  Relevant features\\nwere selected using an exhaustive search in the space of 1-4\\nfeatures and 1-3 separating planes.\\n\\nThe actual linear program used to obtain the separating plane\\nin the 3-dimensional space is that described in:\\n[K. P. Bennett and O. L. Mangasarian: \"Robust Linear\\nProgramming Discrimination of Two Linearly Inseparable Sets\",\\nOptimization Methods and Software 1, 1992, 23-34].\\n\\nThis database is also available through the UW CS ftp server:\\n\\nftp ftp.cs.wisc.edu\\ncd math-prog/cpo-dataset/machine-learn/WDBC/\\n\\n.. topic:: References\\n\\n   - W.N. Street, W.H. Wolberg and O.L. Mangasarian. Nuclear feature extraction \\n     for breast tumor diagnosis. IS&T/SPIE 1993 International Symposium on \\n     Electronic Imaging: Science and Technology, volume 1905, pages 861-870,\\n     San Jose, CA, 1993.\\n   - O.L. Mangasarian, W.N. Street and W.H. Wolberg. Breast cancer diagnosis and \\n     prognosis via linear programming. Operations Research, 43(4), pages 570-577, \\n     July-August 1995.\\n   - W.H. Wolberg, W.N. Street, and O.L. Mangasarian. Machine learning techniques\\n     to diagnose breast cancer from fine-needle aspirates. Cancer Letters 77 (1994) \\n     163-171.',\n",
       " 'feature_names': array(['mean radius', 'mean texture', 'mean perimeter', 'mean area',\n",
       "        'mean smoothness', 'mean compactness', 'mean concavity',\n",
       "        'mean concave points', 'mean symmetry', 'mean fractal dimension',\n",
       "        'radius error', 'texture error', 'perimeter error', 'area error',\n",
       "        'smoothness error', 'compactness error', 'concavity error',\n",
       "        'concave points error', 'symmetry error',\n",
       "        'fractal dimension error', 'worst radius', 'worst texture',\n",
       "        'worst perimeter', 'worst area', 'worst smoothness',\n",
       "        'worst compactness', 'worst concavity', 'worst concave points',\n",
       "        'worst symmetry', 'worst fractal dimension'], dtype='<U23'),\n",
       " 'filename': 'breast_cancer.csv',\n",
       " 'data_module': 'sklearn.datasets.data'}"
      ]
     },
     "execution_count": 25,
     "metadata": {},
     "output_type": "execute_result"
    }
   ],
   "source": [
    "# Visualiza o objeto\n",
    "temp"
   ]
  },
  {
   "cell_type": "code",
   "execution_count": 26,
   "metadata": {},
   "outputs": [],
   "source": [
    "# Carregamos o dataset\n",
    "dados = pd.DataFrame(columns = load_breast_cancer()[\"feature_names\"], data = load_breast_cancer()[\"data\"])"
   ]
  },
  {
   "cell_type": "code",
   "execution_count": 27,
   "metadata": {},
   "outputs": [
    {
     "data": {
      "text/plain": [
       "(569, 30)"
      ]
     },
     "execution_count": 27,
     "metadata": {},
     "output_type": "execute_result"
    }
   ],
   "source": [
    "# Shape\n",
    "dados.shape"
   ]
  },
  {
   "cell_type": "code",
   "execution_count": 28,
   "metadata": {},
   "outputs": [
    {
     "data": {
      "text/html": [
       "<div>\n",
       "<style scoped>\n",
       "    .dataframe tbody tr th:only-of-type {\n",
       "        vertical-align: middle;\n",
       "    }\n",
       "\n",
       "    .dataframe tbody tr th {\n",
       "        vertical-align: top;\n",
       "    }\n",
       "\n",
       "    .dataframe thead th {\n",
       "        text-align: right;\n",
       "    }\n",
       "</style>\n",
       "<table border=\"1\" class=\"dataframe\">\n",
       "  <thead>\n",
       "    <tr style=\"text-align: right;\">\n",
       "      <th></th>\n",
       "      <th>mean radius</th>\n",
       "      <th>mean texture</th>\n",
       "      <th>mean perimeter</th>\n",
       "      <th>mean area</th>\n",
       "      <th>mean smoothness</th>\n",
       "      <th>mean compactness</th>\n",
       "      <th>mean concavity</th>\n",
       "      <th>mean concave points</th>\n",
       "      <th>mean symmetry</th>\n",
       "      <th>mean fractal dimension</th>\n",
       "      <th>...</th>\n",
       "      <th>worst radius</th>\n",
       "      <th>worst texture</th>\n",
       "      <th>worst perimeter</th>\n",
       "      <th>worst area</th>\n",
       "      <th>worst smoothness</th>\n",
       "      <th>worst compactness</th>\n",
       "      <th>worst concavity</th>\n",
       "      <th>worst concave points</th>\n",
       "      <th>worst symmetry</th>\n",
       "      <th>worst fractal dimension</th>\n",
       "    </tr>\n",
       "  </thead>\n",
       "  <tbody>\n",
       "    <tr>\n",
       "      <th>0</th>\n",
       "      <td>17.99</td>\n",
       "      <td>10.38</td>\n",
       "      <td>122.80</td>\n",
       "      <td>1001.0</td>\n",
       "      <td>0.11840</td>\n",
       "      <td>0.27760</td>\n",
       "      <td>0.3001</td>\n",
       "      <td>0.14710</td>\n",
       "      <td>0.2419</td>\n",
       "      <td>0.07871</td>\n",
       "      <td>...</td>\n",
       "      <td>25.38</td>\n",
       "      <td>17.33</td>\n",
       "      <td>184.60</td>\n",
       "      <td>2019.0</td>\n",
       "      <td>0.1622</td>\n",
       "      <td>0.6656</td>\n",
       "      <td>0.7119</td>\n",
       "      <td>0.2654</td>\n",
       "      <td>0.4601</td>\n",
       "      <td>0.11890</td>\n",
       "    </tr>\n",
       "    <tr>\n",
       "      <th>1</th>\n",
       "      <td>20.57</td>\n",
       "      <td>17.77</td>\n",
       "      <td>132.90</td>\n",
       "      <td>1326.0</td>\n",
       "      <td>0.08474</td>\n",
       "      <td>0.07864</td>\n",
       "      <td>0.0869</td>\n",
       "      <td>0.07017</td>\n",
       "      <td>0.1812</td>\n",
       "      <td>0.05667</td>\n",
       "      <td>...</td>\n",
       "      <td>24.99</td>\n",
       "      <td>23.41</td>\n",
       "      <td>158.80</td>\n",
       "      <td>1956.0</td>\n",
       "      <td>0.1238</td>\n",
       "      <td>0.1866</td>\n",
       "      <td>0.2416</td>\n",
       "      <td>0.1860</td>\n",
       "      <td>0.2750</td>\n",
       "      <td>0.08902</td>\n",
       "    </tr>\n",
       "    <tr>\n",
       "      <th>2</th>\n",
       "      <td>19.69</td>\n",
       "      <td>21.25</td>\n",
       "      <td>130.00</td>\n",
       "      <td>1203.0</td>\n",
       "      <td>0.10960</td>\n",
       "      <td>0.15990</td>\n",
       "      <td>0.1974</td>\n",
       "      <td>0.12790</td>\n",
       "      <td>0.2069</td>\n",
       "      <td>0.05999</td>\n",
       "      <td>...</td>\n",
       "      <td>23.57</td>\n",
       "      <td>25.53</td>\n",
       "      <td>152.50</td>\n",
       "      <td>1709.0</td>\n",
       "      <td>0.1444</td>\n",
       "      <td>0.4245</td>\n",
       "      <td>0.4504</td>\n",
       "      <td>0.2430</td>\n",
       "      <td>0.3613</td>\n",
       "      <td>0.08758</td>\n",
       "    </tr>\n",
       "    <tr>\n",
       "      <th>3</th>\n",
       "      <td>11.42</td>\n",
       "      <td>20.38</td>\n",
       "      <td>77.58</td>\n",
       "      <td>386.1</td>\n",
       "      <td>0.14250</td>\n",
       "      <td>0.28390</td>\n",
       "      <td>0.2414</td>\n",
       "      <td>0.10520</td>\n",
       "      <td>0.2597</td>\n",
       "      <td>0.09744</td>\n",
       "      <td>...</td>\n",
       "      <td>14.91</td>\n",
       "      <td>26.50</td>\n",
       "      <td>98.87</td>\n",
       "      <td>567.7</td>\n",
       "      <td>0.2098</td>\n",
       "      <td>0.8663</td>\n",
       "      <td>0.6869</td>\n",
       "      <td>0.2575</td>\n",
       "      <td>0.6638</td>\n",
       "      <td>0.17300</td>\n",
       "    </tr>\n",
       "    <tr>\n",
       "      <th>4</th>\n",
       "      <td>20.29</td>\n",
       "      <td>14.34</td>\n",
       "      <td>135.10</td>\n",
       "      <td>1297.0</td>\n",
       "      <td>0.10030</td>\n",
       "      <td>0.13280</td>\n",
       "      <td>0.1980</td>\n",
       "      <td>0.10430</td>\n",
       "      <td>0.1809</td>\n",
       "      <td>0.05883</td>\n",
       "      <td>...</td>\n",
       "      <td>22.54</td>\n",
       "      <td>16.67</td>\n",
       "      <td>152.20</td>\n",
       "      <td>1575.0</td>\n",
       "      <td>0.1374</td>\n",
       "      <td>0.2050</td>\n",
       "      <td>0.4000</td>\n",
       "      <td>0.1625</td>\n",
       "      <td>0.2364</td>\n",
       "      <td>0.07678</td>\n",
       "    </tr>\n",
       "  </tbody>\n",
       "</table>\n",
       "<p>5 rows × 30 columns</p>\n",
       "</div>"
      ],
      "text/plain": [
       "   mean radius  mean texture  mean perimeter  mean area  mean smoothness  \\\n",
       "0        17.99         10.38          122.80     1001.0          0.11840   \n",
       "1        20.57         17.77          132.90     1326.0          0.08474   \n",
       "2        19.69         21.25          130.00     1203.0          0.10960   \n",
       "3        11.42         20.38           77.58      386.1          0.14250   \n",
       "4        20.29         14.34          135.10     1297.0          0.10030   \n",
       "\n",
       "   mean compactness  mean concavity  mean concave points  mean symmetry  \\\n",
       "0           0.27760          0.3001              0.14710         0.2419   \n",
       "1           0.07864          0.0869              0.07017         0.1812   \n",
       "2           0.15990          0.1974              0.12790         0.2069   \n",
       "3           0.28390          0.2414              0.10520         0.2597   \n",
       "4           0.13280          0.1980              0.10430         0.1809   \n",
       "\n",
       "   mean fractal dimension  ...  worst radius  worst texture  worst perimeter  \\\n",
       "0                 0.07871  ...         25.38          17.33           184.60   \n",
       "1                 0.05667  ...         24.99          23.41           158.80   \n",
       "2                 0.05999  ...         23.57          25.53           152.50   \n",
       "3                 0.09744  ...         14.91          26.50            98.87   \n",
       "4                 0.05883  ...         22.54          16.67           152.20   \n",
       "\n",
       "   worst area  worst smoothness  worst compactness  worst concavity  \\\n",
       "0      2019.0            0.1622             0.6656           0.7119   \n",
       "1      1956.0            0.1238             0.1866           0.2416   \n",
       "2      1709.0            0.1444             0.4245           0.4504   \n",
       "3       567.7            0.2098             0.8663           0.6869   \n",
       "4      1575.0            0.1374             0.2050           0.4000   \n",
       "\n",
       "   worst concave points  worst symmetry  worst fractal dimension  \n",
       "0                0.2654          0.4601                  0.11890  \n",
       "1                0.1860          0.2750                  0.08902  \n",
       "2                0.2430          0.3613                  0.08758  \n",
       "3                0.2575          0.6638                  0.17300  \n",
       "4                0.1625          0.2364                  0.07678  \n",
       "\n",
       "[5 rows x 30 columns]"
      ]
     },
     "execution_count": 28,
     "metadata": {},
     "output_type": "execute_result"
    }
   ],
   "source": [
    "# Visualiza os dados\n",
    "dados.head()"
   ]
  },
  {
   "cell_type": "code",
   "execution_count": 29,
   "metadata": {},
   "outputs": [
    {
     "data": {
      "text/plain": [
       "mean radius                False\n",
       "mean texture               False\n",
       "mean perimeter             False\n",
       "mean area                  False\n",
       "mean smoothness            False\n",
       "mean compactness           False\n",
       "mean concavity             False\n",
       "mean concave points        False\n",
       "mean symmetry              False\n",
       "mean fractal dimension     False\n",
       "radius error               False\n",
       "texture error              False\n",
       "perimeter error            False\n",
       "area error                 False\n",
       "smoothness error           False\n",
       "compactness error          False\n",
       "concavity error            False\n",
       "concave points error       False\n",
       "symmetry error             False\n",
       "fractal dimension error    False\n",
       "worst radius               False\n",
       "worst texture              False\n",
       "worst perimeter            False\n",
       "worst area                 False\n",
       "worst smoothness           False\n",
       "worst compactness          False\n",
       "worst concavity            False\n",
       "worst concave points       False\n",
       "worst symmetry             False\n",
       "worst fractal dimension    False\n",
       "dtype: bool"
      ]
     },
     "execution_count": 29,
     "metadata": {},
     "output_type": "execute_result"
    }
   ],
   "source": [
    "# Verifica se temos valores ausentes\n",
    "dados.isnull().any()"
   ]
  },
  {
   "cell_type": "code",
   "execution_count": 30,
   "metadata": {},
   "outputs": [],
   "source": [
    "# Separa a variável target\n",
    "target = load_breast_cancer()[\"target\"]"
   ]
  },
  {
   "cell_type": "code",
   "execution_count": 31,
   "metadata": {},
   "outputs": [
    {
     "data": {
      "text/plain": [
       "numpy.ndarray"
      ]
     },
     "execution_count": 31,
     "metadata": {},
     "output_type": "execute_result"
    }
   ],
   "source": [
    "type(target)"
   ]
  },
  {
   "cell_type": "code",
   "execution_count": 32,
   "metadata": {},
   "outputs": [
    {
     "data": {
      "text/plain": [
       "array([0, 0, 0, 0, 0, 0, 0, 0, 0, 0, 0, 0, 0, 0, 0, 0, 0, 0, 0, 1, 1, 1,\n",
       "       0, 0, 0, 0, 0, 0, 0, 0, 0, 0, 0, 0, 0, 0, 0, 1, 0, 0, 0, 0, 0, 0,\n",
       "       0, 0, 1, 0, 1, 1, 1, 1, 1, 0, 0, 1, 0, 0, 1, 1, 1, 1, 0, 1, 0, 0,\n",
       "       1, 1, 1, 1, 0, 1, 0, 0, 1, 0, 1, 0, 0, 1, 1, 1, 0, 0, 1, 0, 0, 0,\n",
       "       1, 1, 1, 0, 1, 1, 0, 0, 1, 1, 1, 0, 0, 1, 1, 1, 1, 0, 1, 1, 0, 1,\n",
       "       1, 1, 1, 1, 1, 1, 1, 0, 0, 0, 1, 0, 0, 1, 1, 1, 0, 0, 1, 0, 1, 0,\n",
       "       0, 1, 0, 0, 1, 1, 0, 1, 1, 0, 1, 1, 1, 1, 0, 1, 1, 1, 1, 1, 1, 1,\n",
       "       1, 1, 0, 1, 1, 1, 1, 0, 0, 1, 0, 1, 1, 0, 0, 1, 1, 0, 0, 1, 1, 1,\n",
       "       1, 0, 1, 1, 0, 0, 0, 1, 0, 1, 0, 1, 1, 1, 0, 1, 1, 0, 0, 1, 0, 0,\n",
       "       0, 0, 1, 0, 0, 0, 1, 0, 1, 0, 1, 1, 0, 1, 0, 0, 0, 0, 1, 1, 0, 0,\n",
       "       1, 1, 1, 0, 1, 1, 1, 1, 1, 0, 0, 1, 1, 0, 1, 1, 0, 0, 1, 0, 1, 1,\n",
       "       1, 1, 0, 1, 1, 1, 1, 1, 0, 1, 0, 0, 0, 0, 0, 0, 0, 0, 0, 0, 0, 0,\n",
       "       0, 0, 1, 1, 1, 1, 1, 1, 0, 1, 0, 1, 1, 0, 1, 1, 0, 1, 0, 0, 1, 1,\n",
       "       1, 1, 1, 1, 1, 1, 1, 1, 1, 1, 1, 0, 1, 1, 0, 1, 0, 1, 1, 1, 1, 1,\n",
       "       1, 1, 1, 1, 1, 1, 1, 1, 1, 0, 1, 1, 1, 0, 1, 0, 1, 1, 1, 1, 0, 0,\n",
       "       0, 1, 1, 1, 1, 0, 1, 0, 1, 0, 1, 1, 1, 0, 1, 1, 1, 1, 1, 1, 1, 0,\n",
       "       0, 0, 1, 1, 1, 1, 1, 1, 1, 1, 1, 1, 1, 0, 0, 1, 0, 0, 0, 1, 0, 0,\n",
       "       1, 1, 1, 1, 1, 0, 1, 1, 1, 1, 1, 0, 1, 1, 1, 0, 1, 1, 0, 0, 1, 1,\n",
       "       1, 1, 1, 1, 0, 1, 1, 1, 1, 1, 1, 1, 0, 1, 1, 1, 1, 1, 0, 1, 1, 0,\n",
       "       1, 1, 1, 1, 1, 1, 1, 1, 1, 1, 1, 1, 0, 1, 0, 0, 1, 0, 1, 1, 1, 1,\n",
       "       1, 0, 1, 1, 0, 1, 0, 1, 1, 0, 1, 0, 1, 1, 1, 1, 1, 1, 1, 1, 0, 0,\n",
       "       1, 1, 1, 1, 1, 1, 0, 1, 1, 1, 1, 1, 1, 1, 1, 1, 1, 0, 1, 1, 1, 1,\n",
       "       1, 1, 1, 0, 1, 0, 1, 1, 0, 1, 1, 1, 1, 1, 0, 0, 1, 0, 1, 0, 1, 1,\n",
       "       1, 1, 1, 0, 1, 1, 0, 1, 0, 1, 0, 0, 1, 1, 1, 0, 1, 1, 1, 1, 1, 1,\n",
       "       1, 1, 1, 1, 1, 0, 1, 0, 0, 1, 1, 1, 1, 1, 1, 1, 1, 1, 1, 1, 1, 1,\n",
       "       1, 1, 1, 1, 1, 1, 1, 1, 1, 1, 1, 1, 0, 0, 0, 0, 0, 0, 1])"
      ]
     },
     "execution_count": 32,
     "metadata": {},
     "output_type": "execute_result"
    }
   ],
   "source": [
    "# Visualiza a variável\n",
    "target"
   ]
  },
  {
   "cell_type": "code",
   "execution_count": 33,
   "metadata": {},
   "outputs": [
    {
     "data": {
      "text/plain": [
       "357"
      ]
     },
     "execution_count": 33,
     "metadata": {},
     "output_type": "execute_result"
    }
   ],
   "source": [
    "# Total de registros por classe - Câncer Benigno\n",
    "np.count_nonzero(target == 1)"
   ]
  },
  {
   "cell_type": "code",
   "execution_count": 34,
   "metadata": {},
   "outputs": [
    {
     "data": {
      "text/plain": [
       "212"
      ]
     },
     "execution_count": 34,
     "metadata": {},
     "output_type": "execute_result"
    }
   ],
   "source": [
    "# Total de registros por classe - Câncer Maligno\n",
    "np.count_nonzero(target == 0)"
   ]
  },
  {
   "cell_type": "code",
   "execution_count": 35,
   "metadata": {},
   "outputs": [],
   "source": [
    "# Vamos extrair os labels\n",
    "\n",
    "# Dicionário para os labels\n",
    "labels = {}\n",
    "\n",
    "# Nomes das classes da variável target\n",
    "target_names = load_breast_cancer()[\"target_names\"]\n",
    "\n",
    "# Mapeamento\n",
    "for i in range(len(target_names)):\n",
    "    labels.update({i:target_names[i]})"
   ]
  },
  {
   "cell_type": "code",
   "execution_count": 36,
   "metadata": {},
   "outputs": [
    {
     "data": {
      "text/plain": [
       "{0: 'malignant', 1: 'benign'}"
      ]
     },
     "execution_count": 36,
     "metadata": {},
     "output_type": "execute_result"
    }
   ],
   "source": [
    "# Visualiza os labels\n",
    "labels"
   ]
  },
  {
   "cell_type": "code",
   "execution_count": 37,
   "metadata": {},
   "outputs": [],
   "source": [
    "# Agora preparamos as variáveis preditoras em X\n",
    "X = np.array(dados)"
   ]
  },
  {
   "cell_type": "code",
   "execution_count": 38,
   "metadata": {},
   "outputs": [
    {
     "data": {
      "text/plain": [
       "array([[1.799e+01, 1.038e+01, 1.228e+02, ..., 2.654e-01, 4.601e-01,\n",
       "        1.189e-01],\n",
       "       [2.057e+01, 1.777e+01, 1.329e+02, ..., 1.860e-01, 2.750e-01,\n",
       "        8.902e-02],\n",
       "       [1.969e+01, 2.125e+01, 1.300e+02, ..., 2.430e-01, 3.613e-01,\n",
       "        8.758e-02],\n",
       "       ...,\n",
       "       [1.660e+01, 2.808e+01, 1.083e+02, ..., 1.418e-01, 2.218e-01,\n",
       "        7.820e-02],\n",
       "       [2.060e+01, 2.933e+01, 1.401e+02, ..., 2.650e-01, 4.087e-01,\n",
       "        1.240e-01],\n",
       "       [7.760e+00, 2.454e+01, 4.792e+01, ..., 0.000e+00, 2.871e-01,\n",
       "        7.039e-02]])"
      ]
     },
     "execution_count": 38,
     "metadata": {},
     "output_type": "execute_result"
    }
   ],
   "source": [
    "# Visualiza os dados de entrada\n",
    "X"
   ]
  },
  {
   "cell_type": "code",
   "execution_count": 39,
   "metadata": {},
   "outputs": [],
   "source": [
    "# Dividimos os dados de entrada e saída em treino e teste\n",
    "X_treino, X_teste, y_treino, y_teste = train_test_split(X, target, test_size = 0.15, shuffle = True)"
   ]
  },
  {
   "cell_type": "code",
   "execution_count": 40,
   "metadata": {},
   "outputs": [
    {
     "name": "stdout",
     "output_type": "stream",
     "text": [
      "(483, 30)\n",
      "(483,)\n"
     ]
    }
   ],
   "source": [
    "# Shape dos dados de treino\n",
    "print(X_treino.shape)\n",
    "print(y_treino.shape)"
   ]
  },
  {
   "cell_type": "code",
   "execution_count": 41,
   "metadata": {},
   "outputs": [
    {
     "name": "stdout",
     "output_type": "stream",
     "text": [
      "(86, 30)\n",
      "(86,)\n"
     ]
    }
   ],
   "source": [
    "# Shape dos dados de teste\n",
    "print(X_teste.shape)\n",
    "print(y_teste.shape)"
   ]
  },
  {
   "cell_type": "code",
   "execution_count": 42,
   "metadata": {},
   "outputs": [],
   "source": [
    "# Ajusta o shape dos dados de entrada\n",
    "X_treino = X_treino.T\n",
    "X_teste = X_teste.T"
   ]
  },
  {
   "cell_type": "code",
   "execution_count": 43,
   "metadata": {},
   "outputs": [
    {
     "name": "stdout",
     "output_type": "stream",
     "text": [
      "(30, 483)\n",
      "(30, 86)\n"
     ]
    }
   ],
   "source": [
    "print(X_treino.shape)\n",
    "print(X_teste.shape)"
   ]
  },
  {
   "cell_type": "code",
   "execution_count": 44,
   "metadata": {},
   "outputs": [],
   "source": [
    "# Precisamos ajustar também os dados de saída\n",
    "y_treino = y_treino.reshape(1, len(y_treino))\n",
    "y_teste = y_teste.reshape(1, len(y_teste))"
   ]
  },
  {
   "cell_type": "code",
   "execution_count": 45,
   "metadata": {},
   "outputs": [
    {
     "name": "stdout",
     "output_type": "stream",
     "text": [
      "(1, 483)\n",
      "(1, 86)\n"
     ]
    }
   ],
   "source": [
    "print(y_treino.shape)\n",
    "print(y_teste.shape)"
   ]
  },
  {
   "cell_type": "code",
   "execution_count": 46,
   "metadata": {},
   "outputs": [],
   "source": [
    "# Variável com as dimensões de entrada para oo número de neurônios \n",
    "dims_camada_entrada = [X_treino.shape[0], 50, 20, 5, 1]"
   ]
  },
  {
   "cell_type": "code",
   "execution_count": 47,
   "metadata": {},
   "outputs": [
    {
     "data": {
      "text/plain": [
       "[30, 50, 20, 5, 1]"
      ]
     },
     "execution_count": 47,
     "metadata": {},
     "output_type": "execute_result"
    }
   ],
   "source": [
    "dims_camada_entrada"
   ]
  },
  {
   "cell_type": "code",
   "execution_count": 48,
   "metadata": {},
   "outputs": [
    {
     "name": "stdout",
     "output_type": "stream",
     "text": [
      "\n",
      "Iniciando o Treinamento.\n",
      "\n",
      "Custo Após 0 iterações é 0.6931453875006499\n",
      "Custo Após 10 iterações é 0.6919504102709565\n",
      "Custo Após 20 iterações é 0.6907994001602974\n",
      "Custo Após 30 iterações é 0.6896907327251638\n",
      "Custo Após 40 iterações é 0.6886228417455174\n",
      "Custo Após 50 iterações é 0.6875942174725149\n",
      "Custo Após 60 iterações é 0.6866034047254226\n",
      "Custo Após 70 iterações é 0.6856490009664784\n",
      "Custo Após 80 iterações é 0.6847296545418071\n",
      "Custo Após 90 iterações é 0.6838440630907752\n",
      "Custo Após 100 iterações é 0.6829909718357119\n",
      "Custo Após 110 iterações é 0.682169171719029\n",
      "Custo Após 120 iterações é 0.6813774979622379\n",
      "Custo Após 130 iterações é 0.6806148285410427\n",
      "Custo Após 140 iterações é 0.6798800825637037\n",
      "Custo Após 150 iterações é 0.6791722186871729\n",
      "Custo Após 160 iterações é 0.6784902339470683\n",
      "Custo Após 170 iterações é 0.6778331621938276\n",
      "Custo Após 180 iterações é 0.6772000726624677\n",
      "Custo Após 190 iterações é 0.6765900683291461\n",
      "Custo Após 200 iterações é 0.6760022852715993\n",
      "Custo Após 210 iterações é 0.6754358917386035\n",
      "Custo Após 220 iterações é 0.6748900867002683\n",
      "Custo Após 230 iterações é 0.6743640970589432\n",
      "Custo Após 240 iterações é 0.6738571788143892\n",
      "Custo Após 250 iterações é 0.6733686154838887\n",
      "Custo Após 260 iterações é 0.6728977150828043\n",
      "Custo Após 270 iterações é 0.6724438104709584\n",
      "Custo Após 280 iterações é 0.6720062594762276\n",
      "Custo Após 290 iterações é 0.6715844430112133\n",
      "Custo Após 300 iterações é 0.6711777629697908\n",
      "Custo Após 310 iterações é 0.6707856416129455\n",
      "Custo Após 320 iterações é 0.6704075249197968\n",
      "Custo Após 330 iterações é 0.6700428744189268\n",
      "Custo Após 340 iterações é 0.669691170316402\n",
      "Custo Após 350 iterações é 0.6693519107625154\n",
      "Custo Após 360 iterações é 0.6690246084995034\n",
      "Custo Após 370 iterações é 0.6687087915058788\n",
      "Custo Após 380 iterações é 0.6684040018214353\n",
      "Custo Após 390 iterações é 0.6681097966793745\n",
      "Custo Após 400 iterações é 0.6678257450585876\n",
      "Custo Após 410 iterações é 0.6675514269438301\n",
      "Custo Após 420 iterações é 0.6672864315499941\n",
      "Custo Após 430 iterações é 0.667030355215966\n",
      "Custo Após 440 iterações é 0.6667827991799007\n",
      "Custo Após 450 iterações é 0.6665433753853304\n",
      "Custo Após 460 iterações é 0.6663117013054934\n",
      "Custo Após 470 iterações é 0.6660873968053369\n",
      "Custo Após 480 iterações é 0.6658700841257572\n",
      "Custo Após 490 iterações é 0.6656593888441256\n",
      "Custo Após 500 iterações é 0.6654549386953331\n",
      "Custo Após 510 iterações é 0.665256343729056\n",
      "Custo Após 520 iterações é 0.6650632038998101\n",
      "Custo Após 530 iterações é 0.6648750996796831\n",
      "Custo Após 540 iterações é 0.6646915823555037\n",
      "Custo Após 550 iterações é 0.6645121716848342\n",
      "Custo Após 560 iterações é 0.6643363606205169\n",
      "Custo Após 570 iterações é 0.6641635867770842\n",
      "Custo Após 580 iterações é 0.6639932177472109\n",
      "Custo Após 590 iterações é 0.6638245434600175\n",
      "Custo Após 600 iterações é 0.6636567340130242\n",
      "Custo Após 610 iterações é 0.6634888186180032\n",
      "Custo Após 620 iterações é 0.6633196520777189\n",
      "Custo Após 630 iterações é 0.6631478292972758\n",
      "Custo Após 640 iterações é 0.6629716472755086\n",
      "Custo Após 650 iterações é 0.6627889422854739\n",
      "Custo Após 660 iterações é 0.6625969820555896\n",
      "Custo Após 670 iterações é 0.6623922031203526\n",
      "Custo Após 680 iterações é 0.6621698177108868\n",
      "Custo Após 690 iterações é 0.661923315165702\n",
      "Custo Após 700 iterações é 0.6616436494312665\n",
      "Custo Após 710 iterações é 0.6613179128621272\n",
      "Custo Após 720 iterações é 0.6609279703616168\n",
      "Custo Após 730 iterações é 0.6604468349703689\n",
      "Custo Após 740 iterações é 0.659832166801997\n",
      "Custo Após 750 iterações é 0.6590163029714766\n",
      "Custo Após 760 iterações é 0.6578863780788774\n",
      "Custo Após 770 iterações é 0.6562461308271269\n",
      "Custo Após 780 iterações é 0.6537400766728575\n",
      "Custo Após 790 iterações é 0.6497097967873301\n",
      "Custo Após 800 iterações é 0.6429966519706553\n",
      "Custo Após 810 iterações é 0.6322016272679555\n",
      "Custo Após 820 iterações é 0.618589443575654\n",
      "Custo Após 830 iterações é 0.6089724123706003\n",
      "Custo Após 840 iterações é 0.6047807492912204\n",
      "Custo Após 850 iterações é 0.6020502742711141\n",
      "Custo Após 860 iterações é 0.5994590693007807\n",
      "Custo Após 870 iterações é 0.5968588177039351\n",
      "Custo Após 880 iterações é 0.5942345583901962\n",
      "Custo Após 890 iterações é 0.5915800104807848\n",
      "Custo Após 900 iterações é 0.5888856489946304\n",
      "Custo Após 910 iterações é 0.5861194244567769\n",
      "Custo Após 920 iterações é 0.5833262214173403\n",
      "Custo Após 930 iterações é 0.5804661424005814\n",
      "Custo Após 940 iterações é 0.5775239367322523\n",
      "Custo Após 950 iterações é 0.5744804188821149\n",
      "Custo Após 960 iterações é 0.5713107272393402\n",
      "Custo Após 970 iterações é 0.567982373282261\n",
      "Custo Após 980 iterações é 0.5644525836601826\n",
      "Custo Após 990 iterações é 0.5606635535184015\n",
      "Custo Após 1000 iterações é 0.5565367755727508\n",
      "Custo Após 1010 iterações é 0.5519610431582239\n",
      "Custo Após 1020 iterações é 0.546780661272611\n",
      "Custo Após 1030 iterações é 0.5407854165693479\n",
      "Custo Após 1040 iterações é 0.5336622698939943\n",
      "Custo Após 1050 iterações é 0.5250303242556097\n",
      "Custo Após 1060 iterações é 0.5144865555252848\n",
      "Custo Após 1070 iterações é 0.5014370615467445\n",
      "Custo Após 1080 iterações é 0.4851807002580604\n",
      "Custo Após 1090 iterações é 0.46537776164121897\n",
      "Custo Após 1100 iterações é 0.4439115115097319\n",
      "Custo Após 1110 iterações é 0.42473100306033595\n",
      "Custo Após 1120 iterações é 0.47764227247503765\n",
      "Custo Após 1130 iterações é 0.46272361071534324\n",
      "Custo Após 1140 iterações é 0.4487079377182398\n",
      "Custo Após 1150 iterações é 0.43993425280599074\n",
      "Custo Após 1160 iterações é 0.4331383746040099\n",
      "Custo Após 1170 iterações é 0.42395537713216835\n",
      "Custo Após 1180 iterações é 0.41611174278157714\n",
      "Custo Após 1190 iterações é 0.40835021678717864\n",
      "Custo Após 1200 iterações é 0.40164167404051493\n",
      "Custo Após 1210 iterações é 0.3959668566168245\n",
      "Custo Após 1220 iterações é 0.39069919477943615\n",
      "Custo Após 1230 iterações é 0.384875993292597\n",
      "Custo Após 1240 iterações é 0.38036962668951785\n",
      "Custo Após 1250 iterações é 0.3754663087042356\n",
      "Custo Após 1260 iterações é 0.3723248700126439\n",
      "Custo Após 1270 iterações é 0.3691286449945728\n",
      "Custo Após 1280 iterações é 0.36586175772363155\n",
      "Custo Após 1290 iterações é 0.36216641925882964\n",
      "Custo Após 1300 iterações é 0.3598347337019853\n",
      "Custo Após 1310 iterações é 0.35653294947058056\n",
      "Custo Após 1320 iterações é 0.3544003903743141\n",
      "Custo Após 1330 iterações é 0.3517626378907849\n",
      "Custo Após 1340 iterações é 0.34898055930511546\n",
      "Custo Após 1350 iterações é 0.34699182574816334\n",
      "Custo Após 1360 iterações é 0.34543235785241244\n",
      "Custo Após 1370 iterações é 0.34279215498915205\n",
      "Custo Após 1380 iterações é 0.340969446694302\n",
      "Custo Após 1390 iterações é 0.3390545548343907\n",
      "Custo Após 1400 iterações é 0.33632549285060803\n",
      "Custo Após 1410 iterações é 0.3326835801084342\n",
      "Custo Após 1420 iterações é 0.33088018814925013\n",
      "Custo Após 1430 iterações é 0.3297844156404977\n",
      "Custo Após 1440 iterações é 0.3281022543517033\n",
      "Custo Após 1450 iterações é 0.3267082659688089\n",
      "Custo Após 1460 iterações é 0.32557485960773663\n",
      "Custo Após 1470 iterações é 0.32342004298461124\n",
      "Custo Após 1480 iterações é 0.3222185010001456\n",
      "Custo Após 1490 iterações é 0.3203863824917969\n",
      "Custo Após 1500 iterações é 0.3184791623736181\n",
      "Custo Após 1510 iterações é 0.31806849351317634\n",
      "Custo Após 1520 iterações é 0.31622537235439074\n",
      "Custo Após 1530 iterações é 0.31469249509030445\n",
      "Custo Após 1540 iterações é 0.3143851975239277\n",
      "Custo Após 1550 iterações é 0.31256864550480495\n",
      "Custo Após 1560 iterações é 0.3111562257848321\n",
      "Custo Após 1570 iterações é 0.3106499779416076\n",
      "Custo Após 1580 iterações é 0.30954205707635507\n",
      "Custo Após 1590 iterações é 0.30795988059394014\n",
      "Custo Após 1600 iterações é 0.3070135013462397\n",
      "Custo Após 1610 iterações é 0.3057183214498904\n",
      "Custo Após 1620 iterações é 0.30531525817044075\n",
      "Custo Após 1630 iterações é 0.30335922037352275\n",
      "Custo Após 1640 iterações é 0.30250014404760944\n",
      "Custo Após 1650 iterações é 0.30128770142860395\n",
      "Custo Após 1660 iterações é 0.30002459534265574\n",
      "Custo Após 1670 iterações é 0.29931052064028135\n",
      "Custo Após 1680 iterações é 0.2986363478523974\n",
      "Custo Após 1690 iterações é 0.29761611276722155\n",
      "Custo Após 1700 iterações é 0.2961823969869985\n",
      "Custo Após 1710 iterações é 0.2948601717650945\n",
      "Custo Após 1720 iterações é 0.2938419212978711\n",
      "Custo Após 1730 iterações é 0.2932436233518567\n",
      "Custo Após 1740 iterações é 0.2936293676408183\n",
      "Custo Após 1750 iterações é 0.29247257637320156\n",
      "Custo Após 1760 iterações é 0.28914743991171965\n",
      "Custo Após 1770 iterações é 0.28528863353615974\n"
     ]
    },
    {
     "name": "stdout",
     "output_type": "stream",
     "text": [
      "Custo Após 1780 iterações é 0.2849599517955311\n",
      "Custo Após 1790 iterações é 0.2837029615429094\n",
      "Custo Após 1800 iterações é 0.28338024630699044\n",
      "Custo Após 1810 iterações é 0.28241580332066896\n",
      "Custo Após 1820 iterações é 0.28127813335047214\n",
      "Custo Após 1830 iterações é 0.28093425318392107\n",
      "Custo Após 1840 iterações é 0.2799994216689688\n",
      "Custo Após 1850 iterações é 0.27924074256465653\n",
      "Custo Após 1860 iterações é 0.2793518930946644\n",
      "Custo Após 1870 iterações é 0.2783561564191393\n",
      "Custo Após 1880 iterações é 0.2769288500213582\n",
      "Custo Após 1890 iterações é 0.27647883155289266\n",
      "Custo Após 1900 iterações é 0.27596614467094016\n",
      "Custo Após 1910 iterações é 0.27561407841612695\n",
      "Custo Após 1920 iterações é 0.27484704193717485\n",
      "Custo Após 1930 iterações é 0.27394339191796385\n",
      "Custo Após 1940 iterações é 0.2738126503018725\n",
      "Custo Após 1950 iterações é 0.27308343757880554\n",
      "Custo Após 1960 iterações é 0.27282188361631315\n",
      "Custo Após 1970 iterações é 0.27132902430229505\n",
      "Custo Após 1980 iterações é 0.2710242415763075\n",
      "Custo Após 1990 iterações é 0.2704610200785239\n",
      "Custo Após 2000 iterações é 0.27031086024371653\n",
      "Custo Após 2010 iterações é 0.2693982510951172\n",
      "Custo Após 2020 iterações é 0.2686496118128259\n",
      "Custo Após 2030 iterações é 0.2679925406441934\n",
      "Custo Após 2040 iterações é 0.2674468464316308\n",
      "Custo Após 2050 iterações é 0.2674958022753669\n",
      "Custo Após 2060 iterações é 0.2666441464826139\n",
      "Custo Após 2070 iterações é 0.2657556836427225\n",
      "Custo Após 2080 iterações é 0.26540928231165606\n",
      "Custo Após 2090 iterações é 0.2653490905877298\n",
      "Custo Após 2100 iterações é 0.26521622947481915\n",
      "Custo Após 2110 iterações é 0.2640843602019406\n",
      "Custo Após 2120 iterações é 0.26452503421359447\n",
      "Custo Após 2130 iterações é 0.26360801667014744\n",
      "Custo Após 2140 iterações é 0.2636052018895744\n",
      "Custo Após 2150 iterações é 0.2638827439354592\n",
      "Custo Após 2160 iterações é 0.2630503507725796\n",
      "Custo Após 2170 iterações é 0.2628179367482354\n",
      "Custo Após 2180 iterações é 0.26267037691461864\n",
      "Custo Após 2190 iterações é 0.2605941588173243\n",
      "Custo Após 2200 iterações é 0.2595183105992123\n",
      "Custo Após 2210 iterações é 0.25950671731705427\n",
      "Custo Após 2220 iterações é 0.2610050483520184\n",
      "Custo Após 2230 iterações é 0.258792058423132\n",
      "Custo Após 2240 iterações é 0.25929125524486246\n",
      "Custo Após 2250 iterações é 0.257852653743467\n",
      "Custo Após 2260 iterações é 0.25844579693597125\n",
      "Custo Após 2270 iterações é 0.2572365491575821\n",
      "Custo Após 2280 iterações é 0.25686969168831303\n",
      "Custo Após 2290 iterações é 0.2557653169198835\n",
      "Custo Após 2300 iterações é 0.2541529421455823\n",
      "Custo Após 2310 iterações é 0.2521219060417531\n",
      "Custo Após 2320 iterações é 0.2518144621390854\n",
      "Custo Após 2330 iterações é 0.25290891777344704\n",
      "Custo Após 2340 iterações é 0.2535841943962177\n",
      "Custo Após 2350 iterações é 0.2526792273563135\n",
      "Custo Após 2360 iterações é 0.2502536069872758\n",
      "Custo Após 2370 iterações é 0.25154561435510336\n",
      "Custo Após 2380 iterações é 0.2518079059164018\n",
      "Custo Após 2390 iterações é 0.2483908361517624\n",
      "Custo Após 2400 iterações é 0.2526853993588339\n",
      "Custo Após 2410 iterações é 0.24662830149074122\n",
      "Custo Após 2420 iterações é 0.25240983516639887\n",
      "Custo Após 2430 iterações é 0.2535060370737597\n",
      "Custo Após 2440 iterações é 0.25290959911340655\n",
      "Custo Após 2450 iterações é 0.2519116860317838\n",
      "Custo Após 2460 iterações é 0.24685317124869957\n",
      "Custo Após 2470 iterações é 0.24651360901923525\n",
      "Custo Após 2480 iterações é 0.2475022788467468\n",
      "Custo Após 2490 iterações é 0.247437869914008\n",
      "Custo Após 2500 iterações é 0.2442314466333565\n",
      "Custo Após 2510 iterações é 0.24678876004477482\n",
      "Custo Após 2520 iterações é 0.24539291195205845\n",
      "Custo Após 2530 iterações é 0.24397885050639645\n",
      "Custo Após 2540 iterações é 0.2460059270743726\n",
      "Custo Após 2550 iterações é 0.24345065019425985\n",
      "Custo Após 2560 iterações é 0.24464659426758498\n",
      "Custo Após 2570 iterações é 0.2431039495397375\n",
      "Custo Após 2580 iterações é 0.2437175893529325\n",
      "Custo Após 2590 iterações é 0.242405812843604\n",
      "Custo Após 2600 iterações é 0.24222684019339882\n",
      "Custo Após 2610 iterações é 0.24236554532357826\n",
      "Custo Após 2620 iterações é 0.24092990745253312\n",
      "Custo Após 2630 iterações é 0.2408593396580759\n",
      "Custo Após 2640 iterações é 0.2411323133629552\n",
      "Custo Após 2650 iterações é 0.24058567958203597\n",
      "Custo Após 2660 iterações é 0.24071188145493982\n",
      "Custo Após 2670 iterações é 0.23986251619994955\n",
      "Custo Após 2680 iterações é 0.2401101965984188\n",
      "Custo Após 2690 iterações é 0.23953323849454386\n",
      "Custo Após 2700 iterações é 0.23837631447671848\n",
      "Custo Após 2710 iterações é 0.23938848912416777\n",
      "Custo Após 2720 iterações é 0.23816684619877077\n",
      "Custo Após 2730 iterações é 0.23780847611495176\n",
      "Custo Após 2740 iterações é 0.23836835072962045\n",
      "Custo Após 2750 iterações é 0.23642789083967938\n",
      "Custo Após 2760 iterações é 0.2375714990018688\n",
      "Custo Após 2770 iterações é 0.2378708315471372\n",
      "Custo Após 2780 iterações é 0.23563995213679645\n",
      "Custo Após 2790 iterações é 0.2332573071249602\n",
      "Custo Após 2800 iterações é 0.230516021695248\n",
      "Custo Após 2810 iterações é 0.23202810338718455\n",
      "Custo Após 2820 iterações é 0.2424491046037919\n",
      "Custo Após 2830 iterações é 0.23791126157654766\n",
      "Custo Após 2840 iterações é 0.23258509237722416\n",
      "Custo Após 2850 iterações é 0.23147323558897953\n",
      "Custo Após 2860 iterações é 0.23694054387332894\n",
      "Custo Após 2870 iterações é 0.23759834464874402\n",
      "Custo Após 2880 iterações é 0.23223810473300174\n",
      "Custo Após 2890 iterações é 0.23012067916150955\n",
      "Custo Após 2900 iterações é 0.22908225276563235\n",
      "Custo Após 2910 iterações é 0.22826067447206574\n",
      "Custo Após 2920 iterações é 0.2335270060176679\n",
      "Custo Após 2930 iterações é 0.23715115150237767\n",
      "Custo Após 2940 iterações é 0.2320794845236075\n",
      "Custo Após 2950 iterações é 0.23329659654536167\n",
      "Custo Após 2960 iterações é 0.23499161697635365\n",
      "Custo Após 2970 iterações é 0.2338181752990819\n",
      "Custo Após 2980 iterações é 0.2342516041192497\n",
      "Custo Após 2990 iterações é 0.23166851675708422\n",
      "\n",
      "Treinamento Concluído.\n",
      "\n"
     ]
    }
   ],
   "source": [
    "# Treinamento do modelo\n",
    "\n",
    "print(\"\\nIniciando o Treinamento.\\n\")\n",
    "\n",
    "parametros, custo = modeloNN(X = X_treino, \n",
    "                             Y = y_treino, \n",
    "                             dims_camada_entrada = dims_camada_entrada, \n",
    "                             num_iterations = 3000, \n",
    "                             learning_rate = 0.0075)\n",
    "\n",
    "print(\"\\nTreinamento Concluído.\\n\")"
   ]
  },
  {
   "cell_type": "code",
   "execution_count": 49,
   "metadata": {},
   "outputs": [
    {
     "data": {
      "text/plain": [
       "[<matplotlib.lines.Line2D at 0x1ce39700130>]"
      ]
     },
     "execution_count": 49,
     "metadata": {},
     "output_type": "execute_result"
    },
    {
     "data": {
      "image/png": "[encoded data removed]",
      "text/plain": [
       "<Figure size 432x288 with 1 Axes>"
      ]
     },
     "metadata": {
      "needs_background": "light"
     },
     "output_type": "display_data"
    }
   ],
   "source": [
    "# Plot do erro durante o treinamento\n",
    "plt.plot(custo)"
   ]
  },
  {
   "cell_type": "code",
   "execution_count": 50,
   "metadata": {},
   "outputs": [],
   "source": [
    "# Previsões com os dados de treino\n",
    "y_pred_treino = predict(X_treino, parametros)"
   ]
  },
  {
   "cell_type": "code",
   "execution_count": 51,
   "metadata": {},
   "outputs": [
    {
     "data": {
      "text/plain": [
       "array([[8.18020676e-01, 1.77352984e-08, 8.75557871e-01, 8.68959840e-01,\n",
       "        7.18483123e-01, 8.69514192e-01, 8.75558007e-01, 2.85713668e-01,\n",
       "        8.75558007e-01, 4.88508356e-01, 8.23502901e-02, 8.75557823e-01,\n",
       "        8.75557941e-01, 1.93302399e-01, 1.09792581e-04, 8.42596501e-01,\n",
       "        3.99374675e-01, 4.30440996e-01, 4.94460938e-02, 8.75558007e-01,\n",
       "        7.06391778e-01, 8.43859153e-03, 8.75558007e-01, 8.75557947e-01,\n",
       "        8.02907331e-01, 7.97721909e-01, 7.50043676e-01, 8.31202556e-01,\n",
       "        8.61413781e-01, 7.10055110e-05, 1.97643547e-01, 8.75557923e-01,\n",
       "        8.62855541e-01, 8.17658610e-01, 8.75557827e-01, 7.99407698e-01,\n",
       "        8.75557801e-01, 7.57552220e-09, 1.83495258e-03, 3.44910333e-03,\n",
       "        4.76971758e-04, 8.75557991e-01, 4.31317587e-01, 5.60622696e-03,\n",
       "        8.75558007e-01, 8.75558007e-01, 8.63431842e-01, 3.72554882e-02,\n",
       "        8.75557984e-01, 3.14362484e-02, 8.75558007e-01, 8.75557838e-01,\n",
       "        8.75557826e-01, 7.98916360e-01, 8.75557990e-01, 3.83637672e-01,\n",
       "        8.75557778e-01, 8.53435500e-01, 7.14610011e-01, 8.43756370e-01,\n",
       "        7.91060070e-01, 2.45342723e-04, 5.57152848e-07, 8.28480113e-01,\n",
       "        8.75557805e-01, 8.47823708e-01, 8.75557849e-01, 8.75557812e-01,\n",
       "        8.55837375e-01, 5.63970790e-01, 1.04129238e-03, 8.43403716e-01,\n",
       "        8.74476501e-01, 1.06175068e-02, 6.19799049e-06, 8.74234379e-04,\n",
       "        5.61678089e-01, 8.12781967e-01, 7.66445284e-01, 8.75557944e-01,\n",
       "        5.95139591e-01, 8.31797673e-01, 5.80454997e-01, 8.07999654e-01,\n",
       "        5.66267514e-05, 1.71559237e-05, 8.75557814e-01, 4.24804531e-10,\n",
       "        8.75557912e-01, 2.96941514e-04, 8.75558007e-01, 8.75558007e-01,\n",
       "        8.69905289e-01, 8.75558007e-01, 4.41369948e-10, 8.75558007e-01,\n",
       "        8.75557822e-01, 7.65144863e-01, 8.74155227e-01, 6.06365959e-01,\n",
       "        8.10233406e-01, 6.07378945e-02, 8.64282306e-01, 6.47985906e-01,\n",
       "        8.75558007e-01, 7.31339776e-01, 8.75557935e-01, 8.75558007e-01,\n",
       "        8.75558007e-01, 7.92639906e-01, 7.75674628e-01, 2.24288072e-01,\n",
       "        8.75557935e-01, 8.75558007e-01, 2.16696451e-01, 6.03512664e-01,\n",
       "        4.84687578e-12, 1.14707656e-05, 5.00728838e-02, 7.46300362e-01,\n",
       "        8.75557951e-01, 3.10603983e-03, 8.72978557e-01, 2.87992644e-09,\n",
       "        8.75557985e-01, 8.75558007e-01, 8.23844102e-01, 8.75557961e-01,\n",
       "        8.75557777e-01, 2.32460088e-01, 8.36460823e-01, 5.81885999e-01,\n",
       "        7.53123528e-01, 8.05146167e-01, 5.63458212e-01, 3.74385472e-06,\n",
       "        6.40039091e-01, 7.80888972e-01, 8.75558007e-01, 5.94828228e-01,\n",
       "        2.33285952e-02, 2.22233182e-06, 5.70281724e-07, 7.77086398e-01,\n",
       "        3.32656628e-03, 6.76178542e-01, 7.57035336e-01, 1.97929141e-02,\n",
       "        8.75557785e-01, 8.75557875e-01, 6.86581222e-01, 8.75557931e-01,\n",
       "        7.45734789e-01, 1.68537648e-01, 6.54733977e-01, 1.47870567e-02,\n",
       "        2.23562581e-04, 7.79507360e-01, 8.34146804e-01, 2.72338318e-03,\n",
       "        8.75558007e-01, 8.30325356e-01, 8.63606772e-01, 7.07428959e-12,\n",
       "        2.31627819e-01, 8.67268209e-01, 8.38602503e-01, 8.75557776e-01,\n",
       "        8.75557905e-01, 8.75558007e-01, 8.24539990e-01, 8.75558007e-01,\n",
       "        8.75558007e-01, 8.75558007e-01, 2.53845879e-06, 8.75557857e-01,\n",
       "        7.89728482e-01, 8.75558007e-01, 7.57848726e-01, 8.19353765e-01,\n",
       "        8.23341623e-01, 1.04289098e-01, 1.00587252e-12, 8.22308927e-01,\n",
       "        4.96906532e-05, 8.75558007e-01, 6.05111564e-07, 8.46939500e-01,\n",
       "        1.25371834e-15, 8.75557842e-01, 5.89275844e-04, 8.55310763e-01,\n",
       "        1.58036600e-02, 8.75557753e-01, 1.16228005e-03, 8.02638326e-01,\n",
       "        8.75557981e-01, 8.75557923e-01, 8.42657640e-01, 8.75557807e-01,\n",
       "        8.00776319e-01, 8.74668922e-05, 8.71576328e-01, 6.05392406e-02,\n",
       "        4.00286009e-02, 8.75557957e-01, 8.75557948e-01, 8.75558007e-01,\n",
       "        8.69801376e-01, 1.85765743e-01, 2.70937939e-01, 7.79430681e-05,\n",
       "        8.75558007e-01, 3.24277098e-02, 9.56682087e-06, 8.75557869e-01,\n",
       "        8.75557761e-01, 5.85847451e-02, 7.28025720e-06, 7.10154602e-01,\n",
       "        8.75558007e-01, 8.75558007e-01, 6.72977339e-02, 2.22874687e-01,\n",
       "        8.75558007e-01, 3.56441758e-04, 8.75558007e-01, 8.75557905e-01,\n",
       "        8.47256771e-01, 8.75558007e-01, 8.75558007e-01, 2.13462300e-01,\n",
       "        8.62155456e-01, 8.75557958e-01, 7.12522803e-01, 8.75557914e-01,\n",
       "        8.75557987e-01, 1.33912029e-02, 8.60867193e-01, 1.33825417e-03,\n",
       "        8.75557776e-01, 8.75557913e-01, 4.33430419e-04, 8.75557968e-01,\n",
       "        8.73078261e-01, 8.48616768e-01, 7.00053526e-01, 8.75557885e-01,\n",
       "        4.36986144e-01, 7.61091157e-01, 1.21132698e-04, 5.15943439e-11,\n",
       "        8.74986761e-01, 9.26476148e-02, 2.06998958e-04, 5.62427008e-01,\n",
       "        8.75558007e-01, 2.42348861e-07, 8.03660311e-01, 8.63594323e-01,\n",
       "        8.33447411e-01, 4.12357294e-05, 6.30020649e-01, 6.96296180e-01,\n",
       "        8.75557899e-01, 8.75558007e-01, 7.88533805e-01, 8.10315454e-01,\n",
       "        7.28132734e-15, 4.33372252e-01, 8.75558007e-01, 7.02956739e-08,\n",
       "        9.72827181e-06, 8.75558007e-01, 8.75558007e-01, 2.68043127e-01,\n",
       "        8.75558007e-01, 3.86150343e-26, 1.10944868e-02, 8.01950651e-01,\n",
       "        8.75558007e-01, 8.75557867e-01, 4.20340943e-05, 4.01250661e-05,\n",
       "        8.75557888e-01, 8.46907126e-01, 8.66699943e-01, 4.25103251e-14,\n",
       "        8.75557885e-01, 8.15113879e-01, 1.74370254e-07, 1.08519876e-05,\n",
       "        3.92208963e-05, 8.75558007e-01, 1.22910189e-04, 2.86155393e-05,\n",
       "        8.71760172e-01, 8.69745609e-01, 7.22401632e-09, 8.22481092e-01,\n",
       "        3.62907731e-01, 5.26534184e-01, 8.75557879e-01, 1.60716930e-05,\n",
       "        8.71068143e-01, 8.52175866e-01, 3.40629545e-07, 8.75557839e-01,\n",
       "        8.75472131e-01, 5.42436306e-01, 8.75557900e-01, 4.90825400e-01,\n",
       "        8.75557823e-01, 6.24852857e-01, 8.75558007e-01, 4.14109190e-08,\n",
       "        8.24088906e-01, 7.91572161e-01, 9.43582912e-16, 8.18528181e-01,\n",
       "        8.75557806e-01, 8.75557896e-01, 6.71687105e-01, 4.55169308e-01,\n",
       "        2.21862263e-02, 8.75558007e-01, 8.75557973e-01, 8.57904263e-01,\n",
       "        8.75558007e-01, 8.57143634e-01, 5.05685481e-06, 8.75557783e-01,\n",
       "        5.70476161e-05, 8.75557777e-01, 1.90330874e-11, 8.52469061e-01,\n",
       "        8.75557804e-01, 2.28568612e-01, 2.99788353e-16, 8.75557946e-01,\n",
       "        1.88210133e-08, 8.75558007e-01, 5.79436701e-04, 7.90662219e-01,\n",
       "        8.43161838e-01, 8.75558007e-01, 8.75558007e-01, 6.30767325e-03,\n",
       "        6.16063009e-01, 8.75557951e-01, 7.23168489e-01, 7.68788524e-01,\n",
       "        8.75557916e-01, 1.52788770e-04, 5.37692977e-04, 2.38410600e-04,\n",
       "        6.98210774e-01, 8.69427224e-01, 6.61660458e-01, 1.29776245e-02,\n",
       "        3.03176459e-02, 2.38968245e-01, 7.51818121e-01, 9.79496935e-08,\n",
       "        8.75557812e-01, 7.73186907e-01, 6.82943749e-01, 3.57863637e-05,\n",
       "        8.75557793e-01, 5.38435998e-01, 8.75557924e-01, 3.40286942e-02,\n",
       "        6.22134577e-01, 8.75558007e-01, 4.18751135e-03, 8.75558007e-01,\n",
       "        3.49628798e-03, 8.73112246e-01, 2.41338764e-03, 3.13945455e-08,\n",
       "        8.73313671e-01, 3.72889139e-03, 7.97511701e-01, 1.59183788e-05,\n",
       "        8.75558007e-01, 8.68358944e-01, 8.75557846e-01, 8.75557766e-01,\n",
       "        8.75557869e-01, 2.00594417e-04, 5.29970145e-04, 8.30125344e-01,\n",
       "        8.71668622e-01, 8.68190683e-01, 8.58958066e-01, 2.47640238e-08,\n",
       "        8.75557985e-01, 1.09040896e-02, 1.44334652e-05, 3.72597946e-01,\n",
       "        6.72809625e-01, 8.75557840e-01, 7.21341126e-01, 8.75558007e-01,\n",
       "        2.59188388e-04, 8.66214826e-01, 1.03638585e-01, 3.17612368e-02,\n",
       "        1.68901492e-04, 1.22641506e-01, 6.39976572e-01, 8.30609398e-01,\n",
       "        6.98477337e-01, 8.75557909e-01, 6.37599648e-01, 7.97848678e-01,\n",
       "        8.74799023e-01, 7.27725496e-01, 2.76602507e-05, 8.07005774e-01,\n",
       "        8.75557887e-01, 6.58288392e-26, 8.24435504e-14, 7.56950073e-03,\n",
       "        8.75558007e-01, 1.74494216e-01, 2.44598116e-03, 4.99214398e-01,\n",
       "        2.72930854e-08, 8.75557791e-01, 8.69209904e-01, 8.69046695e-01,\n",
       "        3.13998850e-01, 7.10658413e-01, 7.18670308e-01, 8.75558007e-01,\n",
       "        4.85750867e-02, 3.54355671e-04, 8.71800711e-01, 4.42364355e-05,\n",
       "        8.75557965e-01, 4.26050125e-01, 5.48726578e-01, 6.32899338e-06,\n",
       "        5.24378556e-15, 7.54510448e-01, 7.00611756e-01, 6.10755891e-01,\n",
       "        1.50974447e-02, 6.38743618e-01, 5.67210587e-09, 8.71562366e-01,\n",
       "        2.15122363e-05, 5.65972295e-02, 8.75558007e-01, 2.00755904e-01,\n",
       "        5.85611706e-01, 3.47016809e-01, 2.29576778e-03, 9.36045480e-03,\n",
       "        8.75558007e-01, 8.75557885e-01, 2.73218699e-01, 8.75557778e-01,\n",
       "        2.44599738e-15, 8.75557838e-01, 8.75558007e-01, 7.89390828e-02,\n",
       "        8.75557807e-01, 2.57225140e-02, 8.32254301e-01, 8.17828435e-01,\n",
       "        6.93931091e-01, 8.69951331e-01, 8.75558007e-01, 8.75557897e-01,\n",
       "        8.40795041e-01, 4.53592572e-05, 2.68769185e-09, 1.23595440e-04,\n",
       "        2.77441933e-06, 8.69283553e-01, 7.90977257e-01]])"
      ]
     },
     "execution_count": 51,
     "metadata": {},
     "output_type": "execute_result"
    }
   ],
   "source": [
    "# Visualiza as previsões\n",
    "y_pred_treino"
   ]
  },
  {
   "cell_type": "code",
   "execution_count": 52,
   "metadata": {},
   "outputs": [],
   "source": [
    "# Ajustamos o shape em treino\n",
    "y_pred_treino = y_pred_treino.reshape(-1)\n",
    "y_treino = y_treino.reshape(-1)"
   ]
  },
  {
   "cell_type": "code",
   "execution_count": 53,
   "metadata": {},
   "outputs": [
    {
     "data": {
      "text/plain": [
       "array([ True, False,  True,  True,  True,  True,  True, False,  True,\n",
       "       False, False,  True,  True, False, False,  True, False, False,\n",
       "       False,  True,  True, False,  True,  True,  True,  True,  True,\n",
       "        True,  True, False, False,  True,  True,  True,  True,  True,\n",
       "        True, False, False, False, False,  True, False, False,  True,\n",
       "        True,  True, False,  True, False,  True,  True,  True,  True,\n",
       "        True, False,  True,  True,  True,  True,  True, False, False,\n",
       "        True,  True,  True,  True,  True,  True,  True, False,  True,\n",
       "        True, False, False, False,  True,  True,  True,  True,  True,\n",
       "        True,  True,  True, False, False,  True, False,  True, False,\n",
       "        True,  True,  True,  True, False,  True,  True,  True,  True,\n",
       "        True,  True, False,  True,  True,  True,  True,  True,  True,\n",
       "        True,  True,  True, False,  True,  True, False,  True, False,\n",
       "       False, False,  True,  True, False,  True, False,  True,  True,\n",
       "        True,  True,  True, False,  True,  True,  True,  True,  True,\n",
       "       False,  True,  True,  True,  True, False, False, False,  True,\n",
       "       False,  True,  True, False,  True,  True,  True,  True,  True,\n",
       "       False,  True, False, False,  True,  True, False,  True,  True,\n",
       "        True, False, False,  True,  True,  True,  True,  True,  True,\n",
       "        True,  True,  True, False,  True,  True,  True,  True,  True,\n",
       "        True, False, False,  True, False,  True, False,  True, False,\n",
       "        True, False,  True, False,  True, False,  True,  True,  True,\n",
       "        True,  True,  True, False,  True, False, False,  True,  True,\n",
       "        True,  True, False, False, False,  True, False, False,  True,\n",
       "        True, False, False,  True,  True,  True, False, False,  True,\n",
       "       False,  True,  True,  True,  True,  True, False,  True,  True,\n",
       "        True,  True,  True, False,  True, False,  True,  True, False,\n",
       "        True,  True,  True,  True,  True, False,  True, False, False,\n",
       "        True, False, False,  True,  True, False,  True,  True,  True,\n",
       "       False,  True,  True,  True,  True,  True,  True, False, False,\n",
       "        True, False, False,  True,  True, False,  True, False, False,\n",
       "        True,  True,  True, False, False,  True,  True,  True, False,\n",
       "        True,  True, False, False, False,  True, False, False,  True,\n",
       "        True, False,  True, False,  True,  True, False,  True,  True,\n",
       "       False,  True,  True,  True,  True, False,  True,  True,  True,\n",
       "       False,  True,  True, False,  True,  True,  True,  True, False,\n",
       "       False,  True,  True,  True,  True,  True, False,  True, False,\n",
       "        True, False,  True,  True, False, False,  True, False,  True,\n",
       "       False,  True,  True,  True,  True, False,  True,  True,  True,\n",
       "        True,  True, False, False, False,  True,  True,  True, False,\n",
       "       False, False,  True, False,  True,  True,  True, False,  True,\n",
       "        True,  True, False,  True,  True, False,  True, False,  True,\n",
       "       False, False,  True, False,  True, False,  True,  True,  True,\n",
       "        True,  True, False, False,  True,  True,  True,  True, False,\n",
       "        True, False, False, False,  True,  True,  True,  True, False,\n",
       "        True, False, False, False, False,  True,  True,  True,  True,\n",
       "        True,  True,  True,  True, False,  True,  True, False, False,\n",
       "       False,  True, False, False, False, False,  True,  True,  True,\n",
       "       False,  True,  True,  True, False, False,  True, False,  True,\n",
       "       False,  True, False, False,  True,  True,  True, False,  True,\n",
       "       False,  True, False, False,  True, False,  True, False, False,\n",
       "       False,  True,  True, False,  True, False,  True,  True, False,\n",
       "        True, False,  True,  True,  True,  True,  True,  True,  True,\n",
       "       False, False, False, False,  True,  True])"
      ]
     },
     "execution_count": 53,
     "metadata": {},
     "output_type": "execute_result"
    }
   ],
   "source": [
    "y_pred_treino > 0.5"
   ]
  },
  {
   "cell_type": "code",
   "execution_count": 54,
   "metadata": {},
   "outputs": [],
   "source": [
    "# Convertemos as previsões para o valor binário de classe \n",
    "# (0 ou 1, usando como threshold o valor de 0.5 da probabilidade)\n",
    "y_pred_treino = 1 * (y_pred_treino > 0.5)"
   ]
  },
  {
   "cell_type": "code",
   "execution_count": 55,
   "metadata": {},
   "outputs": [
    {
     "data": {
      "text/plain": [
       "array([1, 0, 1, 1, 1, 1, 1, 0, 1, 0, 0, 1, 1, 0, 0, 1, 0, 0, 0, 1, 1, 0,\n",
       "       1, 1, 1, 1, 1, 1, 1, 0, 0, 1, 1, 1, 1, 1, 1, 0, 0, 0, 0, 1, 0, 0,\n",
       "       1, 1, 1, 0, 1, 0, 1, 1, 1, 1, 1, 0, 1, 1, 1, 1, 1, 0, 0, 1, 1, 1,\n",
       "       1, 1, 1, 1, 0, 1, 1, 0, 0, 0, 1, 1, 1, 1, 1, 1, 1, 1, 0, 0, 1, 0,\n",
       "       1, 0, 1, 1, 1, 1, 0, 1, 1, 1, 1, 1, 1, 0, 1, 1, 1, 1, 1, 1, 1, 1,\n",
       "       1, 0, 1, 1, 0, 1, 0, 0, 0, 1, 1, 0, 1, 0, 1, 1, 1, 1, 1, 0, 1, 1,\n",
       "       1, 1, 1, 0, 1, 1, 1, 1, 0, 0, 0, 1, 0, 1, 1, 0, 1, 1, 1, 1, 1, 0,\n",
       "       1, 0, 0, 1, 1, 0, 1, 1, 1, 0, 0, 1, 1, 1, 1, 1, 1, 1, 1, 1, 0, 1,\n",
       "       1, 1, 1, 1, 1, 0, 0, 1, 0, 1, 0, 1, 0, 1, 0, 1, 0, 1, 0, 1, 1, 1,\n",
       "       1, 1, 1, 0, 1, 0, 0, 1, 1, 1, 1, 0, 0, 0, 1, 0, 0, 1, 1, 0, 0, 1,\n",
       "       1, 1, 0, 0, 1, 0, 1, 1, 1, 1, 1, 0, 1, 1, 1, 1, 1, 0, 1, 0, 1, 1,\n",
       "       0, 1, 1, 1, 1, 1, 0, 1, 0, 0, 1, 0, 0, 1, 1, 0, 1, 1, 1, 0, 1, 1,\n",
       "       1, 1, 1, 1, 0, 0, 1, 0, 0, 1, 1, 0, 1, 0, 0, 1, 1, 1, 0, 0, 1, 1,\n",
       "       1, 0, 1, 1, 0, 0, 0, 1, 0, 0, 1, 1, 0, 1, 0, 1, 1, 0, 1, 1, 0, 1,\n",
       "       1, 1, 1, 0, 1, 1, 1, 0, 1, 1, 0, 1, 1, 1, 1, 0, 0, 1, 1, 1, 1, 1,\n",
       "       0, 1, 0, 1, 0, 1, 1, 0, 0, 1, 0, 1, 0, 1, 1, 1, 1, 0, 1, 1, 1, 1,\n",
       "       1, 0, 0, 0, 1, 1, 1, 0, 0, 0, 1, 0, 1, 1, 1, 0, 1, 1, 1, 0, 1, 1,\n",
       "       0, 1, 0, 1, 0, 0, 1, 0, 1, 0, 1, 1, 1, 1, 1, 0, 0, 1, 1, 1, 1, 0,\n",
       "       1, 0, 0, 0, 1, 1, 1, 1, 0, 1, 0, 0, 0, 0, 1, 1, 1, 1, 1, 1, 1, 1,\n",
       "       0, 1, 1, 0, 0, 0, 1, 0, 0, 0, 0, 1, 1, 1, 0, 1, 1, 1, 0, 0, 1, 0,\n",
       "       1, 0, 1, 0, 0, 1, 1, 1, 0, 1, 0, 1, 0, 0, 1, 0, 1, 0, 0, 0, 1, 1,\n",
       "       0, 1, 0, 1, 1, 0, 1, 0, 1, 1, 1, 1, 1, 1, 1, 0, 0, 0, 0, 1, 1])"
      ]
     },
     "execution_count": 55,
     "metadata": {},
     "output_type": "execute_result"
    }
   ],
   "source": [
    "y_pred_treino"
   ]
  },
  {
   "cell_type": "code",
   "execution_count": 56,
   "metadata": {},
   "outputs": [],
   "source": [
    "# Calculamos a acurácia comparando valor real com valor previsto\n",
    "acc_treino = sum(1 * (y_pred_treino == y_treino)) / len(y_pred_treino) * 100"
   ]
  },
  {
   "cell_type": "code",
   "execution_count": 57,
   "metadata": {},
   "outputs": [
    {
     "name": "stdout",
     "output_type": "stream",
     "text": [
      "Acurácia nos dados de treino: 92.33954451345755\n"
     ]
    }
   ],
   "source": [
    "print(\"Acurácia nos dados de treino: \" + str(acc_treino))"
   ]
  },
  {
   "cell_type": "code",
   "execution_count": 58,
   "metadata": {},
   "outputs": [
    {
     "name": "stdout",
     "output_type": "stream",
     "text": [
      "              precision    recall  f1-score   support\n",
      "\n",
      "     Maligno       0.91      0.88      0.90       180\n",
      "     Benigno       0.93      0.95      0.94       303\n",
      "\n",
      "    accuracy                           0.92       483\n",
      "   macro avg       0.92      0.92      0.92       483\n",
      "weighted avg       0.92      0.92      0.92       483\n",
      "\n"
     ]
    }
   ],
   "source": [
    "print(classification_report(y_treino, y_pred_treino, target_names = ['Maligno', 'Benigno']))"
   ]
  },
  {
   "cell_type": "code",
   "execution_count": 59,
   "metadata": {},
   "outputs": [],
   "source": [
    "# Previsões com o modelo usando dados de teste\n",
    "y_pred_teste = predict(X_teste, parametros)"
   ]
  },
  {
   "cell_type": "code",
   "execution_count": 60,
   "metadata": {},
   "outputs": [
    {
     "data": {
      "text/plain": [
       "array([[8.21385850e-01, 1.08183064e-01, 1.66719414e-01, 8.75558007e-01,\n",
       "        7.65423177e-01, 8.53926059e-01, 8.75557774e-01, 3.14928364e-01,\n",
       "        8.75557841e-01, 8.75557948e-01, 8.54546939e-01, 8.75557877e-01,\n",
       "        8.65180062e-01, 8.75557896e-01, 8.75557980e-01, 8.75558007e-01,\n",
       "        5.77056711e-02, 8.54210998e-01, 8.23719537e-03, 8.10976746e-01,\n",
       "        8.63334532e-01, 7.94060484e-01, 8.75558007e-01, 6.08335170e-01,\n",
       "        6.46509174e-02, 2.41174049e-01, 8.75558007e-01, 8.75557868e-01,\n",
       "        8.75558007e-01, 2.11925817e-07, 8.75558007e-01, 2.08835850e-06,\n",
       "        7.81823347e-01, 1.18352594e-03, 9.18518551e-02, 2.24181930e-03,\n",
       "        2.44850227e-10, 9.69703981e-04, 4.43956997e-01, 8.18328025e-01,\n",
       "        8.75558007e-01, 8.75557884e-01, 8.75557855e-01, 8.75557880e-01,\n",
       "        8.96945756e-08, 8.75557951e-01, 8.19182691e-01, 8.75558007e-01,\n",
       "        8.75558007e-01, 1.54319148e-05, 8.66262802e-01, 8.61938373e-01,\n",
       "        8.75558007e-01, 7.26304806e-01, 7.87118557e-05, 4.39799991e-03,\n",
       "        1.30978166e-02, 2.85689632e-03, 3.85641713e-05, 8.75557966e-01,\n",
       "        8.75558007e-01, 1.16814457e-05, 7.76954098e-01, 8.75557790e-01,\n",
       "        1.51493750e-02, 8.75557799e-01, 8.75557776e-01, 4.82775943e-21,\n",
       "        9.53847745e-02, 6.72693475e-01, 3.57599979e-12, 7.65782679e-01,\n",
       "        8.40840990e-01, 7.41930985e-09, 7.96004015e-01, 1.84881469e-01,\n",
       "        5.52699874e-01, 8.75558007e-01, 8.75558007e-01, 8.75557881e-01,\n",
       "        1.98349107e-02, 7.41258913e-01, 8.75557808e-01, 7.23778674e-01,\n",
       "        8.75557877e-01, 8.31065149e-01]])"
      ]
     },
     "execution_count": 60,
     "metadata": {},
     "output_type": "execute_result"
    }
   ],
   "source": [
    "# Visualiza os dados\n",
    "y_pred_teste"
   ]
  },
  {
   "cell_type": "code",
   "execution_count": 61,
   "metadata": {},
   "outputs": [],
   "source": [
    "# Ajustamos os shapes\n",
    "y_pred_teste = y_pred_teste.reshape(-1)\n",
    "y_teste = y_teste.reshape(-1)"
   ]
  },
  {
   "cell_type": "code",
   "execution_count": 62,
   "metadata": {},
   "outputs": [],
   "source": [
    "# Convertemos as previsões para o valor binário de classe\n",
    "y_pred_teste = 1 * (y_pred_teste > 0.5)"
   ]
  },
  {
   "cell_type": "code",
   "execution_count": 63,
   "metadata": {},
   "outputs": [
    {
     "data": {
      "text/plain": [
       "array([1, 0, 0, 1, 1, 1, 1, 0, 1, 1, 1, 1, 1, 1, 1, 1, 0, 1, 0, 1, 1, 1,\n",
       "       1, 1, 0, 0, 1, 1, 1, 0, 1, 0, 1, 0, 0, 0, 0, 0, 0, 1, 1, 1, 1, 1,\n",
       "       0, 1, 1, 1, 1, 0, 1, 1, 1, 1, 0, 0, 0, 0, 0, 1, 1, 0, 1, 1, 0, 1,\n",
       "       1, 0, 0, 1, 0, 1, 1, 0, 1, 0, 1, 1, 1, 1, 0, 1, 1, 1, 1, 1])"
      ]
     },
     "execution_count": 63,
     "metadata": {},
     "output_type": "execute_result"
    }
   ],
   "source": [
    "# Visualizamos as previsões\n",
    "y_pred_teste"
   ]
  },
  {
   "cell_type": "code",
   "execution_count": 64,
   "metadata": {},
   "outputs": [],
   "source": [
    "# Calculamos a acurácia\n",
    "acuracia = sum(1 * (y_pred_teste == y_teste)) / len(y_pred_teste) * 100"
   ]
  },
  {
   "cell_type": "code",
   "execution_count": 65,
   "metadata": {},
   "outputs": [
    {
     "name": "stdout",
     "output_type": "stream",
     "text": [
      "Acurácia nos dados de teste: 93.02325581395348\n"
     ]
    }
   ],
   "source": [
    "print(\"Acurácia nos dados de teste: \" + str(acuracia))"
   ]
  },
  {
   "cell_type": "code",
   "execution_count": 66,
   "metadata": {},
   "outputs": [
    {
     "name": "stdout",
     "output_type": "stream",
     "text": [
      "              precision    recall  f1-score   support\n",
      "\n",
      "     Maligno       0.93      0.88      0.90        32\n",
      "     Benigno       0.93      0.96      0.95        54\n",
      "\n",
      "    accuracy                           0.93        86\n",
      "   macro avg       0.93      0.92      0.92        86\n",
      "weighted avg       0.93      0.93      0.93        86\n",
      "\n"
     ]
    }
   ],
   "source": [
    "print(classification_report(y_teste, y_pred_teste, target_names = ['Maligno', 'Benigno']))"
   ]
  },
  {
   "cell_type": "markdown",
   "metadata": {},
   "source": [
    "# Fim"
   ]
  }
 ],
 "metadata": {
  "kernelspec": {
   "display_name": "Python 3 (ipykernel)",
   "language": "python",
   "name": "python3"
  },
  "language_info": {
   "codemirror_mode": {
    "name": "ipython",
    "version": 3
   },
   "file_extension": ".py",
   "mimetype": "text/x-python",
   "name": "python",
   "nbconvert_exporter": "python",
   "pygments_lexer": "ipython3",
   "version": "3.9.12"
  }
 },
 "nbformat": 4,
 "nbformat_minor": 4
}
