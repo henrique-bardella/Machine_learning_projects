{
 "cells": [
  {
   "cell_type": "code",
   "execution_count": null,
   "metadata": {},
   "outputs": [],
   "source": []
  },
  {
   "cell_type": "code",
   "execution_count": null,
   "metadata": {},
   "outputs": [],
   "source": [
    "# Função principal\n",
    "def main():\n",
    "    # Caminhos para os arquivos\n",
    "    model_path = 'modelo_categorizacao_app_bradesco.joblib'  # Caminho para o modelo salvo\n",
    "    new_data_path = 'df_reviews_final_2.csv'  # Caminho para os novos dados\n",
    "    output_path = 'novos_comentarios_categorizados.csv'  # Caminho para salvar os resultados\n",
    "    \n",
    "    # Aplica o modelo aos novos dados\n",
    "    categorized_df = categorize_new_data(new_data_path, model_path, output_path)\n",
    "    \n",
    "    if categorized_df is not None:\n",
    "        # Exemplo de como usar os resultados para análises adicionais\n",
    "        print(\"\\n==== EXEMPLOS DE ANÁLISES ADICIONAIS ====\")\n",
    "        \n",
    "        # Top 5 comentários por categoria\n",
    "        for category in categorized_df['categoria_prevista'].unique():\n",
    "            print(f\"\\nExemplos de comentários da categoria '{category}':\")\n",
    "            category_samples = categorized_df[categorized_df['categoria_prevista'] == category]\n",
    "            \n",
    "            # Verifica se há comentários suficientes\n",
    "            if len(category_samples) > 0:\n",
    "                # Seleciona até 3 exemplos\n",
    "                for _, row in category_samples.head(3).iterrows():\n",
    "                    comment = row.get('comentario', 'N/A')\n",
    "                    score = row.get('nota', 'N/A')\n",
    "                    print(f\"- Nota: {score}, Comentário: {comment[:100]}{'...' if len(comment) > 100 else ''}\")\n",
    "            else:\n",
    "                print(\"Nenhum comentário nesta categoria.\")\n",
    "        \n",
    "        # Estatísticas por categoria\n",
    "        if 'nota' in categorized_df.columns:\n",
    "            print(\"\\nAvaliação média por categoria:\")\n",
    "            avg_score = categorized_df.groupby('categoria_prevista')['nota'].mean().sort_values(ascending=False)\n",
    "            print(avg_score)\n",
    "        \n",
    "        print(\"\\nProcessamento concluído com sucesso!\")\n",
    "\n",
    "if __name__ == \"__main__\":\n",
    "    main()"
   ]
  }
 ],
 "metadata": {
  "language_info": {
   "name": "python"
  }
 },
 "nbformat": 4,
 "nbformat_minor": 2
}
