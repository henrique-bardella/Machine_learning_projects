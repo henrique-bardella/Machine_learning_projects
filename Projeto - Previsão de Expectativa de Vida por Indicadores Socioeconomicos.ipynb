{
 "cells": [
  {
   "cell_type": "markdown",
   "id": "582c6396",
   "metadata": {},
   "source": [
    "## <font color='black'>Data Science Para Análise Multivariada de Dados</font>\n",
    "#### <font color='blue'>Prevendo a Expectativa de Vida Através de Indicadores Socioeconômicos</font>"
   ]
  },
  {
   "cell_type": "markdown",
   "id": "48943a69",
   "metadata": {},
   "source": [
    "## Instalando e Carregando os Pacotes"
   ]
  },
  {
   "cell_type": "code",
   "execution_count": 1,
   "id": "2247aae3",
   "metadata": {},
   "outputs": [],
   "source": [
    "# Imports\n",
    "import joblib\n",
    "import pandas as pd\n",
    "import numpy as np\n",
    "import seaborn as sns\n",
    "import matplotlib.pyplot as plt\n",
    "import sklearn\n",
    "from sklearn.ensemble import RandomForestRegressor\n",
    "from sklearn.preprocessing import StandardScaler \n",
    "from sklearn.model_selection import train_test_split\n",
    "from sklearn.linear_model import LinearRegression, Ridge, Lasso, ElasticNet\n",
    "from sklearn.model_selection import GridSearchCV\n",
    "from sklearn import metrics\n",
    "import warnings\n",
    "warnings.filterwarnings(\"ignore\")"
   ]
  },
  {
   "cell_type": "code",
   "execution_count": 167,
   "id": "26ab2581",
   "metadata": {},
   "outputs": [
    {
     "name": "stdout",
     "output_type": "stream",
     "text": [
      "Author: Henrique Bardella\n",
      "\n",
      "Python implementation: CPython\n",
      "Python version       : 3.9.12\n",
      "IPython version      : 8.4.0\n",
      "\n",
      "matplotlib: 3.7.1\n",
      "numpy     : 1.21.5\n",
      "seaborn   : 0.11.2\n",
      "pandas    : 1.5.0\n",
      "sklearn   : 0.0\n",
      "joblib    : 1.2.0\n",
      "\n"
     ]
    }
   ],
   "source": [
    "# Versões dos pacotes usados neste jupyter notebook\n",
    "%reload_ext watermark\n",
    "%watermark -a \"Henrique Bardella\" \n",
    "%watermark --python\n",
    "%watermark --iversions"
   ]
  },
  {
   "cell_type": "markdown",
   "id": "73b55c23",
   "metadata": {},
   "source": [
    "## Carregando e Compreendendo os Dados"
   ]
  },
  {
   "cell_type": "code",
   "execution_count": 3,
   "id": "eba99fb4",
   "metadata": {},
   "outputs": [],
   "source": [
    "# Carregando os dados\n",
    "dsa_dados = pd.read_csv(\"dataset.csv\")"
   ]
  },
  {
   "cell_type": "code",
   "execution_count": 4,
   "id": "9c770bbf",
   "metadata": {},
   "outputs": [
    {
     "data": {
      "text/plain": [
       "(2938, 22)"
      ]
     },
     "execution_count": 4,
     "metadata": {},
     "output_type": "execute_result"
    }
   ],
   "source": [
    "dsa_dados.shape"
   ]
  },
  {
   "cell_type": "code",
   "execution_count": 5,
   "id": "a619865e",
   "metadata": {},
   "outputs": [
    {
     "data": {
      "text/html": [
       "<div>\n",
       "<style scoped>\n",
       "    .dataframe tbody tr th:only-of-type {\n",
       "        vertical-align: middle;\n",
       "    }\n",
       "\n",
       "    .dataframe tbody tr th {\n",
       "        vertical-align: top;\n",
       "    }\n",
       "\n",
       "    .dataframe thead th {\n",
       "        text-align: right;\n",
       "    }\n",
       "</style>\n",
       "<table border=\"1\" class=\"dataframe\">\n",
       "  <thead>\n",
       "    <tr style=\"text-align: right;\">\n",
       "      <th></th>\n",
       "      <th>Country</th>\n",
       "      <th>Year</th>\n",
       "      <th>Status</th>\n",
       "      <th>Life expectancy</th>\n",
       "      <th>Adult Mortality</th>\n",
       "      <th>infant deaths</th>\n",
       "      <th>Alcohol</th>\n",
       "      <th>percentage expenditure</th>\n",
       "      <th>Hepatitis B</th>\n",
       "      <th>Measles</th>\n",
       "      <th>...</th>\n",
       "      <th>Polio</th>\n",
       "      <th>Total expenditure</th>\n",
       "      <th>Diphtheria</th>\n",
       "      <th>HIV/AIDS</th>\n",
       "      <th>GDP</th>\n",
       "      <th>Population</th>\n",
       "      <th>thinness  1-19 years</th>\n",
       "      <th>thinness 5-9 years</th>\n",
       "      <th>Income composition of resources</th>\n",
       "      <th>Schooling</th>\n",
       "    </tr>\n",
       "  </thead>\n",
       "  <tbody>\n",
       "    <tr>\n",
       "      <th>2862</th>\n",
       "      <td>Venezuela (Bolivarian Republic of)</td>\n",
       "      <td>2011</td>\n",
       "      <td>Developing</td>\n",
       "      <td>73.8</td>\n",
       "      <td>158.0</td>\n",
       "      <td>9</td>\n",
       "      <td>6.74</td>\n",
       "      <td>0.000000</td>\n",
       "      <td>78.0</td>\n",
       "      <td>0</td>\n",
       "      <td>...</td>\n",
       "      <td>78.0</td>\n",
       "      <td>5.24</td>\n",
       "      <td>78.0</td>\n",
       "      <td>0.1</td>\n",
       "      <td>NaN</td>\n",
       "      <td>NaN</td>\n",
       "      <td>1.6</td>\n",
       "      <td>1.5</td>\n",
       "      <td>0.756</td>\n",
       "      <td>14.1</td>\n",
       "    </tr>\n",
       "    <tr>\n",
       "      <th>438</th>\n",
       "      <td>Côte d'Ivoire</td>\n",
       "      <td>2009</td>\n",
       "      <td>Developing</td>\n",
       "      <td>51.0</td>\n",
       "      <td>426.0</td>\n",
       "      <td>60</td>\n",
       "      <td>2.92</td>\n",
       "      <td>0.000000</td>\n",
       "      <td>81.0</td>\n",
       "      <td>183</td>\n",
       "      <td>...</td>\n",
       "      <td>77.0</td>\n",
       "      <td>6.41</td>\n",
       "      <td>81.0</td>\n",
       "      <td>3.7</td>\n",
       "      <td>NaN</td>\n",
       "      <td>NaN</td>\n",
       "      <td>6.5</td>\n",
       "      <td>6.4</td>\n",
       "      <td>NaN</td>\n",
       "      <td>NaN</td>\n",
       "    </tr>\n",
       "    <tr>\n",
       "      <th>1087</th>\n",
       "      <td>Guinea</td>\n",
       "      <td>2002</td>\n",
       "      <td>Developing</td>\n",
       "      <td>52.9</td>\n",
       "      <td>337.0</td>\n",
       "      <td>35</td>\n",
       "      <td>0.21</td>\n",
       "      <td>21.337818</td>\n",
       "      <td>NaN</td>\n",
       "      <td>2151</td>\n",
       "      <td>...</td>\n",
       "      <td>56.0</td>\n",
       "      <td>3.76</td>\n",
       "      <td>53.0</td>\n",
       "      <td>3.0</td>\n",
       "      <td>322.811171</td>\n",
       "      <td>9137345.0</td>\n",
       "      <td>9.9</td>\n",
       "      <td>9.9</td>\n",
       "      <td>0.329</td>\n",
       "      <td>5.5</td>\n",
       "    </tr>\n",
       "    <tr>\n",
       "      <th>2110</th>\n",
       "      <td>Republic of Moldova</td>\n",
       "      <td>2008</td>\n",
       "      <td>Developing</td>\n",
       "      <td>68.9</td>\n",
       "      <td>228.0</td>\n",
       "      <td>1</td>\n",
       "      <td>9.07</td>\n",
       "      <td>0.000000</td>\n",
       "      <td>97.0</td>\n",
       "      <td>0</td>\n",
       "      <td>...</td>\n",
       "      <td>96.0</td>\n",
       "      <td>11.41</td>\n",
       "      <td>9.0</td>\n",
       "      <td>0.1</td>\n",
       "      <td>NaN</td>\n",
       "      <td>NaN</td>\n",
       "      <td>2.9</td>\n",
       "      <td>3.1</td>\n",
       "      <td>NaN</td>\n",
       "      <td>NaN</td>\n",
       "    </tr>\n",
       "    <tr>\n",
       "      <th>435</th>\n",
       "      <td>Côte d'Ivoire</td>\n",
       "      <td>2012</td>\n",
       "      <td>Developing</td>\n",
       "      <td>52.0</td>\n",
       "      <td>415.0</td>\n",
       "      <td>59</td>\n",
       "      <td>3.24</td>\n",
       "      <td>0.000000</td>\n",
       "      <td>82.0</td>\n",
       "      <td>137</td>\n",
       "      <td>...</td>\n",
       "      <td>83.0</td>\n",
       "      <td>6.14</td>\n",
       "      <td>82.0</td>\n",
       "      <td>2.9</td>\n",
       "      <td>NaN</td>\n",
       "      <td>NaN</td>\n",
       "      <td>5.9</td>\n",
       "      <td>5.9</td>\n",
       "      <td>NaN</td>\n",
       "      <td>NaN</td>\n",
       "    </tr>\n",
       "    <tr>\n",
       "      <th>2469</th>\n",
       "      <td>Sudan</td>\n",
       "      <td>2003</td>\n",
       "      <td>Developing</td>\n",
       "      <td>59.6</td>\n",
       "      <td>278.0</td>\n",
       "      <td>69</td>\n",
       "      <td>1.74</td>\n",
       "      <td>35.352647</td>\n",
       "      <td>NaN</td>\n",
       "      <td>4381</td>\n",
       "      <td>...</td>\n",
       "      <td>69.0</td>\n",
       "      <td>3.18</td>\n",
       "      <td>69.0</td>\n",
       "      <td>0.2</td>\n",
       "      <td>477.738478</td>\n",
       "      <td>29435944.0</td>\n",
       "      <td>NaN</td>\n",
       "      <td>NaN</td>\n",
       "      <td>0.409</td>\n",
       "      <td>5.6</td>\n",
       "    </tr>\n",
       "    <tr>\n",
       "      <th>2844</th>\n",
       "      <td>Vanuatu</td>\n",
       "      <td>2013</td>\n",
       "      <td>Developing</td>\n",
       "      <td>71.6</td>\n",
       "      <td>135.0</td>\n",
       "      <td>0</td>\n",
       "      <td>0.01</td>\n",
       "      <td>447.545645</td>\n",
       "      <td>64.0</td>\n",
       "      <td>0</td>\n",
       "      <td>...</td>\n",
       "      <td>65.0</td>\n",
       "      <td>3.92</td>\n",
       "      <td>64.0</td>\n",
       "      <td>0.1</td>\n",
       "      <td>3167.343560</td>\n",
       "      <td>253142.0</td>\n",
       "      <td>1.5</td>\n",
       "      <td>1.4</td>\n",
       "      <td>0.591</td>\n",
       "      <td>10.8</td>\n",
       "    </tr>\n",
       "    <tr>\n",
       "      <th>2666</th>\n",
       "      <td>Tunisia</td>\n",
       "      <td>2014</td>\n",
       "      <td>Developing</td>\n",
       "      <td>75.1</td>\n",
       "      <td>12.0</td>\n",
       "      <td>3</td>\n",
       "      <td>1.39</td>\n",
       "      <td>604.870132</td>\n",
       "      <td>98.0</td>\n",
       "      <td>15</td>\n",
       "      <td>...</td>\n",
       "      <td>98.0</td>\n",
       "      <td>7.00</td>\n",
       "      <td>98.0</td>\n",
       "      <td>0.1</td>\n",
       "      <td>4271.681720</td>\n",
       "      <td>1114398.0</td>\n",
       "      <td>6.5</td>\n",
       "      <td>6.4</td>\n",
       "      <td>0.722</td>\n",
       "      <td>14.7</td>\n",
       "    </tr>\n",
       "    <tr>\n",
       "      <th>547</th>\n",
       "      <td>Chile</td>\n",
       "      <td>2012</td>\n",
       "      <td>Developing</td>\n",
       "      <td>79.9</td>\n",
       "      <td>84.0</td>\n",
       "      <td>2</td>\n",
       "      <td>6.76</td>\n",
       "      <td>2260.777642</td>\n",
       "      <td>9.0</td>\n",
       "      <td>0</td>\n",
       "      <td>...</td>\n",
       "      <td>9.0</td>\n",
       "      <td>7.24</td>\n",
       "      <td>9.0</td>\n",
       "      <td>0.1</td>\n",
       "      <td>15431.929300</td>\n",
       "      <td>1739746.0</td>\n",
       "      <td>0.8</td>\n",
       "      <td>0.8</td>\n",
       "      <td>0.826</td>\n",
       "      <td>15.5</td>\n",
       "    </tr>\n",
       "    <tr>\n",
       "      <th>2711</th>\n",
       "      <td>Turkmenistan</td>\n",
       "      <td>2001</td>\n",
       "      <td>Developing</td>\n",
       "      <td>64.0</td>\n",
       "      <td>221.0</td>\n",
       "      <td>7</td>\n",
       "      <td>2.35</td>\n",
       "      <td>106.180706</td>\n",
       "      <td>NaN</td>\n",
       "      <td>9</td>\n",
       "      <td>...</td>\n",
       "      <td>94.0</td>\n",
       "      <td>3.87</td>\n",
       "      <td>95.0</td>\n",
       "      <td>0.1</td>\n",
       "      <td>774.476339</td>\n",
       "      <td>45648.0</td>\n",
       "      <td>3.6</td>\n",
       "      <td>3.5</td>\n",
       "      <td>0.000</td>\n",
       "      <td>10.2</td>\n",
       "    </tr>\n",
       "  </tbody>\n",
       "</table>\n",
       "<p>10 rows × 22 columns</p>\n",
       "</div>"
      ],
      "text/plain": [
       "                                 Country  Year      Status  Life expectancy   \\\n",
       "2862  Venezuela (Bolivarian Republic of)  2011  Developing              73.8   \n",
       "438                        Côte d'Ivoire  2009  Developing              51.0   \n",
       "1087                              Guinea  2002  Developing              52.9   \n",
       "2110                 Republic of Moldova  2008  Developing              68.9   \n",
       "435                        Côte d'Ivoire  2012  Developing              52.0   \n",
       "2469                               Sudan  2003  Developing              59.6   \n",
       "2844                             Vanuatu  2013  Developing              71.6   \n",
       "2666                             Tunisia  2014  Developing              75.1   \n",
       "547                                Chile  2012  Developing              79.9   \n",
       "2711                        Turkmenistan  2001  Developing              64.0   \n",
       "\n",
       "      Adult Mortality  infant deaths  Alcohol  percentage expenditure  \\\n",
       "2862            158.0              9     6.74                0.000000   \n",
       "438             426.0             60     2.92                0.000000   \n",
       "1087            337.0             35     0.21               21.337818   \n",
       "2110            228.0              1     9.07                0.000000   \n",
       "435             415.0             59     3.24                0.000000   \n",
       "2469            278.0             69     1.74               35.352647   \n",
       "2844            135.0              0     0.01              447.545645   \n",
       "2666             12.0              3     1.39              604.870132   \n",
       "547              84.0              2     6.76             2260.777642   \n",
       "2711            221.0              7     2.35              106.180706   \n",
       "\n",
       "      Hepatitis B  Measles   ...  Polio  Total expenditure  Diphtheria   \\\n",
       "2862         78.0         0  ...   78.0               5.24         78.0   \n",
       "438          81.0       183  ...   77.0               6.41         81.0   \n",
       "1087          NaN      2151  ...   56.0               3.76         53.0   \n",
       "2110         97.0         0  ...   96.0              11.41          9.0   \n",
       "435          82.0       137  ...   83.0               6.14         82.0   \n",
       "2469          NaN      4381  ...   69.0               3.18         69.0   \n",
       "2844         64.0         0  ...   65.0               3.92         64.0   \n",
       "2666         98.0        15  ...   98.0               7.00         98.0   \n",
       "547           9.0         0  ...    9.0               7.24          9.0   \n",
       "2711          NaN         9  ...   94.0               3.87         95.0   \n",
       "\n",
       "       HIV/AIDS           GDP   Population   thinness  1-19 years  \\\n",
       "2862        0.1           NaN          NaN                    1.6   \n",
       "438         3.7           NaN          NaN                    6.5   \n",
       "1087        3.0    322.811171    9137345.0                    9.9   \n",
       "2110        0.1           NaN          NaN                    2.9   \n",
       "435         2.9           NaN          NaN                    5.9   \n",
       "2469        0.2    477.738478   29435944.0                    NaN   \n",
       "2844        0.1   3167.343560     253142.0                    1.5   \n",
       "2666        0.1   4271.681720    1114398.0                    6.5   \n",
       "547         0.1  15431.929300    1739746.0                    0.8   \n",
       "2711        0.1    774.476339      45648.0                    3.6   \n",
       "\n",
       "       thinness 5-9 years  Income composition of resources  Schooling  \n",
       "2862                  1.5                            0.756       14.1  \n",
       "438                   6.4                              NaN        NaN  \n",
       "1087                  9.9                            0.329        5.5  \n",
       "2110                  3.1                              NaN        NaN  \n",
       "435                   5.9                              NaN        NaN  \n",
       "2469                  NaN                            0.409        5.6  \n",
       "2844                  1.4                            0.591       10.8  \n",
       "2666                  6.4                            0.722       14.7  \n",
       "547                   0.8                            0.826       15.5  \n",
       "2711                  3.5                            0.000       10.2  \n",
       "\n",
       "[10 rows x 22 columns]"
      ]
     },
     "execution_count": 5,
     "metadata": {},
     "output_type": "execute_result"
    }
   ],
   "source": [
    "# Amostra dos dados\n",
    "dsa_dados.sample(10)"
   ]
  },
  {
   "cell_type": "code",
   "execution_count": 6,
   "id": "8580cc07",
   "metadata": {},
   "outputs": [
    {
     "data": {
      "text/plain": [
       "Country                             object\n",
       "Year                                 int64\n",
       "Status                              object\n",
       "Life expectancy                    float64\n",
       "Adult Mortality                    float64\n",
       "infant deaths                        int64\n",
       "Alcohol                            float64\n",
       "percentage expenditure             float64\n",
       "Hepatitis B                        float64\n",
       "Measles                              int64\n",
       " BMI                               float64\n",
       "under-five deaths                    int64\n",
       "Polio                              float64\n",
       "Total expenditure                  float64\n",
       "Diphtheria                         float64\n",
       " HIV/AIDS                          float64\n",
       "GDP                                float64\n",
       " Population                        float64\n",
       " thinness  1-19 years              float64\n",
       " thinness 5-9 years                float64\n",
       "Income composition of resources    float64\n",
       "Schooling                          float64\n",
       "dtype: object"
      ]
     },
     "execution_count": 6,
     "metadata": {},
     "output_type": "execute_result"
    }
   ],
   "source": [
    "# Tipos de dados\n",
    "dsa_dados.dtypes"
   ]
  },
  {
   "cell_type": "markdown",
   "id": "864f2c92",
   "metadata": {},
   "source": [
    "### Ajuste inicial dos dados"
   ]
  },
  {
   "cell_type": "code",
   "execution_count": 7,
   "id": "2241e87f",
   "metadata": {},
   "outputs": [
    {
     "data": {
      "text/plain": [
       "Index(['Country', 'Year', 'Status', 'Life expectancy ', 'Adult Mortality',\n",
       "       'infant deaths', 'Alcohol', 'percentage expenditure', 'Hepatitis B',\n",
       "       'Measles ', ' BMI ', 'under-five deaths ', 'Polio', 'Total expenditure',\n",
       "       'Diphtheria ', ' HIV/AIDS', 'GDP', ' Population',\n",
       "       ' thinness  1-19 years', ' thinness 5-9 years',\n",
       "       'Income composition of resources', 'Schooling'],\n",
       "      dtype='object')"
      ]
     },
     "execution_count": 7,
     "metadata": {},
     "output_type": "execute_result"
    }
   ],
   "source": [
    "# Colunas\n",
    "dsa_dados.columns"
   ]
  },
  {
   "cell_type": "markdown",
   "id": "c3313cf7",
   "metadata": {},
   "source": [
    "> Desconsiderando algumas variáveis: percentage expenditure, under-five deaths e Income composition of resources não estão sendo consideradas. Essas variáveis não apresentam descrição clara na fonte de dados e por isso estão sendo removidas da análise."
   ]
  },
  {
   "cell_type": "code",
   "execution_count": 8,
   "id": "bb275010",
   "metadata": {},
   "outputs": [],
   "source": [
    "# Ajusta o dataframe\n",
    "df_dsa = pd.DataFrame({'country': dsa_dados['Country'],\n",
    "                       'life_expectancy': dsa_dados['Life expectancy '],\n",
    "                       'year': dsa_dados['Year'],\n",
    "                       'status': dsa_dados['Status'],\n",
    "                       'adult_mortality': dsa_dados['Adult Mortality'],\n",
    "                       'inf_death': dsa_dados['infant deaths'],\n",
    "                       'alcohol': dsa_dados['Alcohol'],\n",
    "                       'hepatitisB': dsa_dados['Hepatitis B'],\n",
    "                       'measles': dsa_dados['Measles '],\n",
    "                       'bmi': dsa_dados[' BMI '],\n",
    "                       'polio': dsa_dados['Polio'],\n",
    "                       'diphtheria': dsa_dados['Diphtheria '],\n",
    "                       'hiv': dsa_dados[' HIV/AIDS'],\n",
    "                       'gdp': dsa_dados['GDP'],\n",
    "                       'total_expenditure': dsa_dados['Total expenditure'],\n",
    "                       'thinness_till19': dsa_dados[' thinness  1-19 years'],\n",
    "                       'thinness_till9': dsa_dados[' thinness 5-9 years'],\n",
    "                       'school': dsa_dados['Schooling'],\n",
    "                       'population': dsa_dados[' Population']})"
   ]
  },
  {
   "cell_type": "code",
   "execution_count": 9,
   "id": "a9c147d3",
   "metadata": {},
   "outputs": [
    {
     "data": {
      "text/plain": [
       "(2938, 19)"
      ]
     },
     "execution_count": 9,
     "metadata": {},
     "output_type": "execute_result"
    }
   ],
   "source": [
    "# Shape\n",
    "df_dsa.shape"
   ]
  },
  {
   "cell_type": "code",
   "execution_count": 10,
   "id": "889840d9",
   "metadata": {},
   "outputs": [
    {
     "data": {
      "text/plain": [
       "country               object\n",
       "life_expectancy      float64\n",
       "year                   int64\n",
       "status                object\n",
       "adult_mortality      float64\n",
       "inf_death              int64\n",
       "alcohol              float64\n",
       "hepatitisB           float64\n",
       "measles                int64\n",
       "bmi                  float64\n",
       "polio                float64\n",
       "diphtheria           float64\n",
       "hiv                  float64\n",
       "gdp                  float64\n",
       "total_expenditure    float64\n",
       "thinness_till19      float64\n",
       "thinness_till9       float64\n",
       "school               float64\n",
       "population           float64\n",
       "dtype: object"
      ]
     },
     "execution_count": 10,
     "metadata": {},
     "output_type": "execute_result"
    }
   ],
   "source": [
    "df_dsa.dtypes"
   ]
  },
  {
   "cell_type": "code",
   "execution_count": 11,
   "id": "5198ada4",
   "metadata": {},
   "outputs": [
    {
     "data": {
      "text/html": [
       "<div>\n",
       "<style scoped>\n",
       "    .dataframe tbody tr th:only-of-type {\n",
       "        vertical-align: middle;\n",
       "    }\n",
       "\n",
       "    .dataframe tbody tr th {\n",
       "        vertical-align: top;\n",
       "    }\n",
       "\n",
       "    .dataframe thead th {\n",
       "        text-align: right;\n",
       "    }\n",
       "</style>\n",
       "<table border=\"1\" class=\"dataframe\">\n",
       "  <thead>\n",
       "    <tr style=\"text-align: right;\">\n",
       "      <th></th>\n",
       "      <th>country</th>\n",
       "      <th>life_expectancy</th>\n",
       "      <th>year</th>\n",
       "      <th>status</th>\n",
       "      <th>adult_mortality</th>\n",
       "      <th>inf_death</th>\n",
       "      <th>alcohol</th>\n",
       "      <th>hepatitisB</th>\n",
       "      <th>measles</th>\n",
       "      <th>bmi</th>\n",
       "      <th>polio</th>\n",
       "      <th>diphtheria</th>\n",
       "      <th>hiv</th>\n",
       "      <th>gdp</th>\n",
       "      <th>total_expenditure</th>\n",
       "      <th>thinness_till19</th>\n",
       "      <th>thinness_till9</th>\n",
       "      <th>school</th>\n",
       "      <th>population</th>\n",
       "    </tr>\n",
       "  </thead>\n",
       "  <tbody>\n",
       "    <tr>\n",
       "      <th>0</th>\n",
       "      <td>Afghanistan</td>\n",
       "      <td>65.0</td>\n",
       "      <td>2015</td>\n",
       "      <td>Developing</td>\n",
       "      <td>263.0</td>\n",
       "      <td>62</td>\n",
       "      <td>0.01</td>\n",
       "      <td>65.0</td>\n",
       "      <td>1154</td>\n",
       "      <td>19.1</td>\n",
       "      <td>6.0</td>\n",
       "      <td>65.0</td>\n",
       "      <td>0.1</td>\n",
       "      <td>584.259210</td>\n",
       "      <td>8.16</td>\n",
       "      <td>17.2</td>\n",
       "      <td>17.3</td>\n",
       "      <td>10.1</td>\n",
       "      <td>33736494.0</td>\n",
       "    </tr>\n",
       "    <tr>\n",
       "      <th>1</th>\n",
       "      <td>Afghanistan</td>\n",
       "      <td>59.9</td>\n",
       "      <td>2014</td>\n",
       "      <td>Developing</td>\n",
       "      <td>271.0</td>\n",
       "      <td>64</td>\n",
       "      <td>0.01</td>\n",
       "      <td>62.0</td>\n",
       "      <td>492</td>\n",
       "      <td>18.6</td>\n",
       "      <td>58.0</td>\n",
       "      <td>62.0</td>\n",
       "      <td>0.1</td>\n",
       "      <td>612.696514</td>\n",
       "      <td>8.18</td>\n",
       "      <td>17.5</td>\n",
       "      <td>17.5</td>\n",
       "      <td>10.0</td>\n",
       "      <td>327582.0</td>\n",
       "    </tr>\n",
       "    <tr>\n",
       "      <th>2</th>\n",
       "      <td>Afghanistan</td>\n",
       "      <td>59.9</td>\n",
       "      <td>2013</td>\n",
       "      <td>Developing</td>\n",
       "      <td>268.0</td>\n",
       "      <td>66</td>\n",
       "      <td>0.01</td>\n",
       "      <td>64.0</td>\n",
       "      <td>430</td>\n",
       "      <td>18.1</td>\n",
       "      <td>62.0</td>\n",
       "      <td>64.0</td>\n",
       "      <td>0.1</td>\n",
       "      <td>631.744976</td>\n",
       "      <td>8.13</td>\n",
       "      <td>17.7</td>\n",
       "      <td>17.7</td>\n",
       "      <td>9.9</td>\n",
       "      <td>31731688.0</td>\n",
       "    </tr>\n",
       "    <tr>\n",
       "      <th>3</th>\n",
       "      <td>Afghanistan</td>\n",
       "      <td>59.5</td>\n",
       "      <td>2012</td>\n",
       "      <td>Developing</td>\n",
       "      <td>272.0</td>\n",
       "      <td>69</td>\n",
       "      <td>0.01</td>\n",
       "      <td>67.0</td>\n",
       "      <td>2787</td>\n",
       "      <td>17.6</td>\n",
       "      <td>67.0</td>\n",
       "      <td>67.0</td>\n",
       "      <td>0.1</td>\n",
       "      <td>669.959000</td>\n",
       "      <td>8.52</td>\n",
       "      <td>17.9</td>\n",
       "      <td>18.0</td>\n",
       "      <td>9.8</td>\n",
       "      <td>3696958.0</td>\n",
       "    </tr>\n",
       "    <tr>\n",
       "      <th>4</th>\n",
       "      <td>Afghanistan</td>\n",
       "      <td>59.2</td>\n",
       "      <td>2011</td>\n",
       "      <td>Developing</td>\n",
       "      <td>275.0</td>\n",
       "      <td>71</td>\n",
       "      <td>0.01</td>\n",
       "      <td>68.0</td>\n",
       "      <td>3013</td>\n",
       "      <td>17.2</td>\n",
       "      <td>68.0</td>\n",
       "      <td>68.0</td>\n",
       "      <td>0.1</td>\n",
       "      <td>63.537231</td>\n",
       "      <td>7.87</td>\n",
       "      <td>18.2</td>\n",
       "      <td>18.2</td>\n",
       "      <td>9.5</td>\n",
       "      <td>2978599.0</td>\n",
       "    </tr>\n",
       "  </tbody>\n",
       "</table>\n",
       "</div>"
      ],
      "text/plain": [
       "       country  life_expectancy  year      status  adult_mortality  inf_death  \\\n",
       "0  Afghanistan             65.0  2015  Developing            263.0         62   \n",
       "1  Afghanistan             59.9  2014  Developing            271.0         64   \n",
       "2  Afghanistan             59.9  2013  Developing            268.0         66   \n",
       "3  Afghanistan             59.5  2012  Developing            272.0         69   \n",
       "4  Afghanistan             59.2  2011  Developing            275.0         71   \n",
       "\n",
       "   alcohol  hepatitisB  measles   bmi  polio  diphtheria  hiv         gdp  \\\n",
       "0     0.01        65.0     1154  19.1    6.0        65.0  0.1  584.259210   \n",
       "1     0.01        62.0      492  18.6   58.0        62.0  0.1  612.696514   \n",
       "2     0.01        64.0      430  18.1   62.0        64.0  0.1  631.744976   \n",
       "3     0.01        67.0     2787  17.6   67.0        67.0  0.1  669.959000   \n",
       "4     0.01        68.0     3013  17.2   68.0        68.0  0.1   63.537231   \n",
       "\n",
       "   total_expenditure  thinness_till19  thinness_till9  school  population  \n",
       "0               8.16             17.2            17.3    10.1  33736494.0  \n",
       "1               8.18             17.5            17.5    10.0    327582.0  \n",
       "2               8.13             17.7            17.7     9.9  31731688.0  \n",
       "3               8.52             17.9            18.0     9.8   3696958.0  \n",
       "4               7.87             18.2            18.2     9.5   2978599.0  "
      ]
     },
     "execution_count": 11,
     "metadata": {},
     "output_type": "execute_result"
    }
   ],
   "source": [
    "df_dsa.head()"
   ]
  },
  {
   "cell_type": "markdown",
   "id": "05f715b2",
   "metadata": {},
   "source": [
    "## Construindo o Dicionário de Dados"
   ]
  },
  {
   "cell_type": "code",
   "execution_count": 12,
   "id": "cee73f11",
   "metadata": {},
   "outputs": [],
   "source": [
    "# Cria um dicionário com a descrição de cada variável\n",
    "dsa_df_dict = {\n",
    "    \"country\": \"País de origem dos dados.\",\n",
    "    \"life_expectancy\": \"Expectativa de vida ao nascer, em anos.\",\n",
    "    \"year\": \"Ano em que os dados foram coletados.\",\n",
    "    \"status\": \"Status de desenvolvimento do país ('Developing' para países em desenvolvimento, 'Developed' para países desenvolvidos).\",\n",
    "    \"adult_mortality\": \"Taxa de mortalidade de adultos entre 15 e 60 anos por 1000 habitantes.\",\n",
    "    \"inf_death\": \"Número de mortes de crianças com menos de 5 anos por 1000 nascidos vivos.\",\n",
    "    \"alcohol\": \"Consumo de álcool per capita (litros de álcool puro por ano).\",\n",
    "    \"hepatitisB\": \"Cobertura de vacinação contra hepatite B em crianças de 1 ano (%).\",\n",
    "    \"measles\": \"Número de casos de sarampo relatados por 1000 habitantes.\",\n",
    "    \"bmi\": \"Índice médio de massa corporal da população adulta.\",\n",
    "    \"polio\": \"Cobertura de vacinação contra poliomielite em crianças de 1 ano (%).\",\n",
    "    \"diphtheria\": \"Cobertura de vacinação contra difteria, tétano e coqueluche (DTP3) em crianças de 1 ano (%).\",\n",
    "    \"hiv\": \"Prevalência de HIV na população adulta (%).\",\n",
    "    \"gdp\": \"Produto Interno Bruto per capita (em dólares americanos).\",\n",
    "    \"total_expenditure\": \"Gasto total em saúde como porcentagem do PIB.\",\n",
    "    \"thinness_till19\": \"Prevalência de magreza em crianças e adolescentes de 10 a 19 anos (%).\",\n",
    "    \"thinness_till9\": \"Prevalência de magreza em crianças de 5 a 9 anos (%).\",\n",
    "    \"school\": \"Número médio de anos de escolaridade.\",\n",
    "    \"population\": \"População total do país.\"\n",
    "}"
   ]
  },
  {
   "cell_type": "code",
   "execution_count": 13,
   "id": "d199dacf",
   "metadata": {},
   "outputs": [
    {
     "data": {
      "text/plain": [
       "{'country': 'País de origem dos dados.',\n",
       " 'life_expectancy': 'Expectativa de vida ao nascer, em anos.',\n",
       " 'year': 'Ano em que os dados foram coletados.',\n",
       " 'status': \"Status de desenvolvimento do país ('Developing' para países em desenvolvimento, 'Developed' para países desenvolvidos).\",\n",
       " 'adult_mortality': 'Taxa de mortalidade de adultos entre 15 e 60 anos por 1000 habitantes.',\n",
       " 'inf_death': 'Número de mortes de crianças com menos de 5 anos por 1000 nascidos vivos.',\n",
       " 'alcohol': 'Consumo de álcool per capita (litros de álcool puro por ano).',\n",
       " 'hepatitisB': 'Cobertura de vacinação contra hepatite B em crianças de 1 ano (%).',\n",
       " 'measles': 'Número de casos de sarampo relatados por 1000 habitantes.',\n",
       " 'bmi': 'Índice médio de massa corporal da população adulta.',\n",
       " 'polio': 'Cobertura de vacinação contra poliomielite em crianças de 1 ano (%).',\n",
       " 'diphtheria': 'Cobertura de vacinação contra difteria, tétano e coqueluche (DTP3) em crianças de 1 ano (%).',\n",
       " 'hiv': 'Prevalência de HIV na população adulta (%).',\n",
       " 'gdp': 'Produto Interno Bruto per capita (em dólares americanos).',\n",
       " 'total_expenditure': 'Gasto total em saúde como porcentagem do PIB.',\n",
       " 'thinness_till19': 'Prevalência de magreza em crianças e adolescentes de 10 a 19 anos (%).',\n",
       " 'thinness_till9': 'Prevalência de magreza em crianças de 5 a 9 anos (%).',\n",
       " 'school': 'Número médio de anos de escolaridade.',\n",
       " 'population': 'População total do país.'}"
      ]
     },
     "execution_count": 13,
     "metadata": {},
     "output_type": "execute_result"
    }
   ],
   "source": [
    "dsa_df_dict"
   ]
  },
  {
   "cell_type": "code",
   "execution_count": 14,
   "id": "4cc8382e",
   "metadata": {},
   "outputs": [
    {
     "data": {
      "text/plain": [
       "'Expectativa de vida ao nascer, em anos.'"
      ]
     },
     "execution_count": 14,
     "metadata": {},
     "output_type": "execute_result"
    }
   ],
   "source": [
    "dsa_df_dict['life_expectancy']"
   ]
  },
  {
   "cell_type": "markdown",
   "id": "3647891e",
   "metadata": {},
   "source": [
    "### Análise exploratória"
   ]
  },
  {
   "cell_type": "code",
   "execution_count": 15,
   "id": "18be7b57",
   "metadata": {},
   "outputs": [
    {
     "data": {
      "text/plain": [
       "<Axes: >"
      ]
     },
     "execution_count": 15,
     "metadata": {},
     "output_type": "execute_result"
    },
    {
     "data": {
      "image/png": "[encoded data removed]",
      "text/plain": [
       "<Figure size 432x288 with 1 Axes>"
      ]
     },
     "metadata": {
      "needs_background": "light"
     },
     "output_type": "display_data"
    }
   ],
   "source": [
    "# Plot do histograma da variável alvo (variável quantitativa)\n",
    "df_dsa['life_expectancy'].hist()"
   ]
  },
  {
   "cell_type": "code",
   "execution_count": 16,
   "id": "22ac3016",
   "metadata": {},
   "outputs": [
    {
     "data": {
      "text/html": [
       "<div>\n",
       "<style scoped>\n",
       "    .dataframe tbody tr th:only-of-type {\n",
       "        vertical-align: middle;\n",
       "    }\n",
       "\n",
       "    .dataframe tbody tr th {\n",
       "        vertical-align: top;\n",
       "    }\n",
       "\n",
       "    .dataframe thead th {\n",
       "        text-align: right;\n",
       "    }\n",
       "</style>\n",
       "<table border=\"1\" class=\"dataframe\">\n",
       "  <thead>\n",
       "    <tr style=\"text-align: right;\">\n",
       "      <th></th>\n",
       "      <th>life_expectancy</th>\n",
       "      <th>year</th>\n",
       "      <th>adult_mortality</th>\n",
       "      <th>inf_death</th>\n",
       "      <th>alcohol</th>\n",
       "      <th>hepatitisB</th>\n",
       "      <th>measles</th>\n",
       "      <th>bmi</th>\n",
       "      <th>polio</th>\n",
       "      <th>diphtheria</th>\n",
       "      <th>hiv</th>\n",
       "      <th>gdp</th>\n",
       "      <th>total_expenditure</th>\n",
       "      <th>thinness_till19</th>\n",
       "      <th>thinness_till9</th>\n",
       "      <th>school</th>\n",
       "      <th>population</th>\n",
       "    </tr>\n",
       "  </thead>\n",
       "  <tbody>\n",
       "    <tr>\n",
       "      <th>count</th>\n",
       "      <td>2928.000000</td>\n",
       "      <td>2938.000000</td>\n",
       "      <td>2928.000000</td>\n",
       "      <td>2938.000000</td>\n",
       "      <td>2744.000000</td>\n",
       "      <td>2385.000000</td>\n",
       "      <td>2938.000000</td>\n",
       "      <td>2904.000000</td>\n",
       "      <td>2919.000000</td>\n",
       "      <td>2919.000000</td>\n",
       "      <td>2938.000000</td>\n",
       "      <td>2490.000000</td>\n",
       "      <td>2712.00000</td>\n",
       "      <td>2904.000000</td>\n",
       "      <td>2904.000000</td>\n",
       "      <td>2775.000000</td>\n",
       "      <td>2.286000e+03</td>\n",
       "    </tr>\n",
       "    <tr>\n",
       "      <th>mean</th>\n",
       "      <td>69.224932</td>\n",
       "      <td>2007.518720</td>\n",
       "      <td>164.796448</td>\n",
       "      <td>30.303948</td>\n",
       "      <td>4.602861</td>\n",
       "      <td>80.940461</td>\n",
       "      <td>2419.592240</td>\n",
       "      <td>38.321247</td>\n",
       "      <td>82.550188</td>\n",
       "      <td>82.324084</td>\n",
       "      <td>1.742103</td>\n",
       "      <td>7483.158469</td>\n",
       "      <td>5.93819</td>\n",
       "      <td>4.839704</td>\n",
       "      <td>4.870317</td>\n",
       "      <td>11.992793</td>\n",
       "      <td>1.275338e+07</td>\n",
       "    </tr>\n",
       "    <tr>\n",
       "      <th>std</th>\n",
       "      <td>9.523867</td>\n",
       "      <td>4.613841</td>\n",
       "      <td>124.292079</td>\n",
       "      <td>117.926501</td>\n",
       "      <td>4.052413</td>\n",
       "      <td>25.070016</td>\n",
       "      <td>11467.272489</td>\n",
       "      <td>20.044034</td>\n",
       "      <td>23.428046</td>\n",
       "      <td>23.716912</td>\n",
       "      <td>5.077785</td>\n",
       "      <td>14270.169342</td>\n",
       "      <td>2.49832</td>\n",
       "      <td>4.420195</td>\n",
       "      <td>4.508882</td>\n",
       "      <td>3.358920</td>\n",
       "      <td>6.101210e+07</td>\n",
       "    </tr>\n",
       "    <tr>\n",
       "      <th>min</th>\n",
       "      <td>36.300000</td>\n",
       "      <td>2000.000000</td>\n",
       "      <td>1.000000</td>\n",
       "      <td>0.000000</td>\n",
       "      <td>0.010000</td>\n",
       "      <td>1.000000</td>\n",
       "      <td>0.000000</td>\n",
       "      <td>1.000000</td>\n",
       "      <td>3.000000</td>\n",
       "      <td>2.000000</td>\n",
       "      <td>0.100000</td>\n",
       "      <td>1.681350</td>\n",
       "      <td>0.37000</td>\n",
       "      <td>0.100000</td>\n",
       "      <td>0.100000</td>\n",
       "      <td>0.000000</td>\n",
       "      <td>3.400000e+01</td>\n",
       "    </tr>\n",
       "    <tr>\n",
       "      <th>25%</th>\n",
       "      <td>63.100000</td>\n",
       "      <td>2004.000000</td>\n",
       "      <td>74.000000</td>\n",
       "      <td>0.000000</td>\n",
       "      <td>0.877500</td>\n",
       "      <td>77.000000</td>\n",
       "      <td>0.000000</td>\n",
       "      <td>19.300000</td>\n",
       "      <td>78.000000</td>\n",
       "      <td>78.000000</td>\n",
       "      <td>0.100000</td>\n",
       "      <td>463.935626</td>\n",
       "      <td>4.26000</td>\n",
       "      <td>1.600000</td>\n",
       "      <td>1.500000</td>\n",
       "      <td>10.100000</td>\n",
       "      <td>1.957932e+05</td>\n",
       "    </tr>\n",
       "    <tr>\n",
       "      <th>50%</th>\n",
       "      <td>72.100000</td>\n",
       "      <td>2008.000000</td>\n",
       "      <td>144.000000</td>\n",
       "      <td>3.000000</td>\n",
       "      <td>3.755000</td>\n",
       "      <td>92.000000</td>\n",
       "      <td>17.000000</td>\n",
       "      <td>43.500000</td>\n",
       "      <td>93.000000</td>\n",
       "      <td>93.000000</td>\n",
       "      <td>0.100000</td>\n",
       "      <td>1766.947595</td>\n",
       "      <td>5.75500</td>\n",
       "      <td>3.300000</td>\n",
       "      <td>3.300000</td>\n",
       "      <td>12.300000</td>\n",
       "      <td>1.386542e+06</td>\n",
       "    </tr>\n",
       "    <tr>\n",
       "      <th>75%</th>\n",
       "      <td>75.700000</td>\n",
       "      <td>2012.000000</td>\n",
       "      <td>228.000000</td>\n",
       "      <td>22.000000</td>\n",
       "      <td>7.702500</td>\n",
       "      <td>97.000000</td>\n",
       "      <td>360.250000</td>\n",
       "      <td>56.200000</td>\n",
       "      <td>97.000000</td>\n",
       "      <td>97.000000</td>\n",
       "      <td>0.800000</td>\n",
       "      <td>5910.806335</td>\n",
       "      <td>7.49250</td>\n",
       "      <td>7.200000</td>\n",
       "      <td>7.200000</td>\n",
       "      <td>14.300000</td>\n",
       "      <td>7.420359e+06</td>\n",
       "    </tr>\n",
       "    <tr>\n",
       "      <th>max</th>\n",
       "      <td>89.000000</td>\n",
       "      <td>2015.000000</td>\n",
       "      <td>723.000000</td>\n",
       "      <td>1800.000000</td>\n",
       "      <td>17.870000</td>\n",
       "      <td>99.000000</td>\n",
       "      <td>212183.000000</td>\n",
       "      <td>87.300000</td>\n",
       "      <td>99.000000</td>\n",
       "      <td>99.000000</td>\n",
       "      <td>50.600000</td>\n",
       "      <td>119172.741800</td>\n",
       "      <td>17.60000</td>\n",
       "      <td>27.700000</td>\n",
       "      <td>28.600000</td>\n",
       "      <td>20.700000</td>\n",
       "      <td>1.293859e+09</td>\n",
       "    </tr>\n",
       "  </tbody>\n",
       "</table>\n",
       "</div>"
      ],
      "text/plain": [
       "       life_expectancy         year  adult_mortality    inf_death  \\\n",
       "count      2928.000000  2938.000000      2928.000000  2938.000000   \n",
       "mean         69.224932  2007.518720       164.796448    30.303948   \n",
       "std           9.523867     4.613841       124.292079   117.926501   \n",
       "min          36.300000  2000.000000         1.000000     0.000000   \n",
       "25%          63.100000  2004.000000        74.000000     0.000000   \n",
       "50%          72.100000  2008.000000       144.000000     3.000000   \n",
       "75%          75.700000  2012.000000       228.000000    22.000000   \n",
       "max          89.000000  2015.000000       723.000000  1800.000000   \n",
       "\n",
       "           alcohol   hepatitisB        measles          bmi        polio  \\\n",
       "count  2744.000000  2385.000000    2938.000000  2904.000000  2919.000000   \n",
       "mean      4.602861    80.940461    2419.592240    38.321247    82.550188   \n",
       "std       4.052413    25.070016   11467.272489    20.044034    23.428046   \n",
       "min       0.010000     1.000000       0.000000     1.000000     3.000000   \n",
       "25%       0.877500    77.000000       0.000000    19.300000    78.000000   \n",
       "50%       3.755000    92.000000      17.000000    43.500000    93.000000   \n",
       "75%       7.702500    97.000000     360.250000    56.200000    97.000000   \n",
       "max      17.870000    99.000000  212183.000000    87.300000    99.000000   \n",
       "\n",
       "        diphtheria          hiv            gdp  total_expenditure  \\\n",
       "count  2919.000000  2938.000000    2490.000000         2712.00000   \n",
       "mean     82.324084     1.742103    7483.158469            5.93819   \n",
       "std      23.716912     5.077785   14270.169342            2.49832   \n",
       "min       2.000000     0.100000       1.681350            0.37000   \n",
       "25%      78.000000     0.100000     463.935626            4.26000   \n",
       "50%      93.000000     0.100000    1766.947595            5.75500   \n",
       "75%      97.000000     0.800000    5910.806335            7.49250   \n",
       "max      99.000000    50.600000  119172.741800           17.60000   \n",
       "\n",
       "       thinness_till19  thinness_till9       school    population  \n",
       "count      2904.000000     2904.000000  2775.000000  2.286000e+03  \n",
       "mean          4.839704        4.870317    11.992793  1.275338e+07  \n",
       "std           4.420195        4.508882     3.358920  6.101210e+07  \n",
       "min           0.100000        0.100000     0.000000  3.400000e+01  \n",
       "25%           1.600000        1.500000    10.100000  1.957932e+05  \n",
       "50%           3.300000        3.300000    12.300000  1.386542e+06  \n",
       "75%           7.200000        7.200000    14.300000  7.420359e+06  \n",
       "max          27.700000       28.600000    20.700000  1.293859e+09  "
      ]
     },
     "execution_count": 16,
     "metadata": {},
     "output_type": "execute_result"
    }
   ],
   "source": [
    "# Resumo estatístico\n",
    "df_dsa.describe()"
   ]
  },
  {
   "cell_type": "code",
   "execution_count": 17,
   "id": "d1439b97",
   "metadata": {},
   "outputs": [
    {
     "data": {
      "text/html": [
       "<div>\n",
       "<style scoped>\n",
       "    .dataframe tbody tr th:only-of-type {\n",
       "        vertical-align: middle;\n",
       "    }\n",
       "\n",
       "    .dataframe tbody tr th {\n",
       "        vertical-align: top;\n",
       "    }\n",
       "\n",
       "    .dataframe thead th {\n",
       "        text-align: right;\n",
       "    }\n",
       "</style>\n",
       "<table border=\"1\" class=\"dataframe\">\n",
       "  <thead>\n",
       "    <tr style=\"text-align: right;\">\n",
       "      <th></th>\n",
       "      <th>country</th>\n",
       "      <th>status</th>\n",
       "    </tr>\n",
       "  </thead>\n",
       "  <tbody>\n",
       "    <tr>\n",
       "      <th>count</th>\n",
       "      <td>2938</td>\n",
       "      <td>2938</td>\n",
       "    </tr>\n",
       "    <tr>\n",
       "      <th>unique</th>\n",
       "      <td>193</td>\n",
       "      <td>2</td>\n",
       "    </tr>\n",
       "    <tr>\n",
       "      <th>top</th>\n",
       "      <td>Afghanistan</td>\n",
       "      <td>Developing</td>\n",
       "    </tr>\n",
       "    <tr>\n",
       "      <th>freq</th>\n",
       "      <td>16</td>\n",
       "      <td>2426</td>\n",
       "    </tr>\n",
       "  </tbody>\n",
       "</table>\n",
       "</div>"
      ],
      "text/plain": [
       "            country      status\n",
       "count          2938        2938\n",
       "unique          193           2\n",
       "top     Afghanistan  Developing\n",
       "freq             16        2426"
      ]
     },
     "execution_count": 17,
     "metadata": {},
     "output_type": "execute_result"
    }
   ],
   "source": [
    "# Resumo estatístico (variáveis categóricas)\n",
    "df_dsa.describe(include = ['object'])"
   ]
  },
  {
   "cell_type": "code",
   "execution_count": 18,
   "id": "a242e34a",
   "metadata": {},
   "outputs": [
    {
     "data": {
      "text/html": [
       "<div>\n",
       "<style scoped>\n",
       "    .dataframe tbody tr th:only-of-type {\n",
       "        vertical-align: middle;\n",
       "    }\n",
       "\n",
       "    .dataframe tbody tr th {\n",
       "        vertical-align: top;\n",
       "    }\n",
       "\n",
       "    .dataframe thead th {\n",
       "        text-align: right;\n",
       "    }\n",
       "</style>\n",
       "<table border=\"1\" class=\"dataframe\">\n",
       "  <thead>\n",
       "    <tr style=\"text-align: right;\">\n",
       "      <th></th>\n",
       "      <th>country</th>\n",
       "      <th>life_expectancy</th>\n",
       "      <th>year</th>\n",
       "      <th>status</th>\n",
       "      <th>adult_mortality</th>\n",
       "      <th>inf_death</th>\n",
       "      <th>alcohol</th>\n",
       "      <th>hepatitisB</th>\n",
       "      <th>measles</th>\n",
       "      <th>bmi</th>\n",
       "      <th>polio</th>\n",
       "      <th>diphtheria</th>\n",
       "      <th>hiv</th>\n",
       "      <th>gdp</th>\n",
       "      <th>total_expenditure</th>\n",
       "      <th>thinness_till19</th>\n",
       "      <th>thinness_till9</th>\n",
       "      <th>school</th>\n",
       "      <th>population</th>\n",
       "    </tr>\n",
       "  </thead>\n",
       "  <tbody>\n",
       "    <tr>\n",
       "      <th>count</th>\n",
       "      <td>2938</td>\n",
       "      <td>2928.000000</td>\n",
       "      <td>2938.000000</td>\n",
       "      <td>2938</td>\n",
       "      <td>2928.000000</td>\n",
       "      <td>2938.000000</td>\n",
       "      <td>2744.000000</td>\n",
       "      <td>2385.000000</td>\n",
       "      <td>2938.000000</td>\n",
       "      <td>2904.000000</td>\n",
       "      <td>2919.000000</td>\n",
       "      <td>2919.000000</td>\n",
       "      <td>2938.000000</td>\n",
       "      <td>2490.000000</td>\n",
       "      <td>2712.00000</td>\n",
       "      <td>2904.000000</td>\n",
       "      <td>2904.000000</td>\n",
       "      <td>2775.000000</td>\n",
       "      <td>2.286000e+03</td>\n",
       "    </tr>\n",
       "    <tr>\n",
       "      <th>unique</th>\n",
       "      <td>193</td>\n",
       "      <td>NaN</td>\n",
       "      <td>NaN</td>\n",
       "      <td>2</td>\n",
       "      <td>NaN</td>\n",
       "      <td>NaN</td>\n",
       "      <td>NaN</td>\n",
       "      <td>NaN</td>\n",
       "      <td>NaN</td>\n",
       "      <td>NaN</td>\n",
       "      <td>NaN</td>\n",
       "      <td>NaN</td>\n",
       "      <td>NaN</td>\n",
       "      <td>NaN</td>\n",
       "      <td>NaN</td>\n",
       "      <td>NaN</td>\n",
       "      <td>NaN</td>\n",
       "      <td>NaN</td>\n",
       "      <td>NaN</td>\n",
       "    </tr>\n",
       "    <tr>\n",
       "      <th>top</th>\n",
       "      <td>Afghanistan</td>\n",
       "      <td>NaN</td>\n",
       "      <td>NaN</td>\n",
       "      <td>Developing</td>\n",
       "      <td>NaN</td>\n",
       "      <td>NaN</td>\n",
       "      <td>NaN</td>\n",
       "      <td>NaN</td>\n",
       "      <td>NaN</td>\n",
       "      <td>NaN</td>\n",
       "      <td>NaN</td>\n",
       "      <td>NaN</td>\n",
       "      <td>NaN</td>\n",
       "      <td>NaN</td>\n",
       "      <td>NaN</td>\n",
       "      <td>NaN</td>\n",
       "      <td>NaN</td>\n",
       "      <td>NaN</td>\n",
       "      <td>NaN</td>\n",
       "    </tr>\n",
       "    <tr>\n",
       "      <th>freq</th>\n",
       "      <td>16</td>\n",
       "      <td>NaN</td>\n",
       "      <td>NaN</td>\n",
       "      <td>2426</td>\n",
       "      <td>NaN</td>\n",
       "      <td>NaN</td>\n",
       "      <td>NaN</td>\n",
       "      <td>NaN</td>\n",
       "      <td>NaN</td>\n",
       "      <td>NaN</td>\n",
       "      <td>NaN</td>\n",
       "      <td>NaN</td>\n",
       "      <td>NaN</td>\n",
       "      <td>NaN</td>\n",
       "      <td>NaN</td>\n",
       "      <td>NaN</td>\n",
       "      <td>NaN</td>\n",
       "      <td>NaN</td>\n",
       "      <td>NaN</td>\n",
       "    </tr>\n",
       "    <tr>\n",
       "      <th>mean</th>\n",
       "      <td>NaN</td>\n",
       "      <td>69.224932</td>\n",
       "      <td>2007.518720</td>\n",
       "      <td>NaN</td>\n",
       "      <td>164.796448</td>\n",
       "      <td>30.303948</td>\n",
       "      <td>4.602861</td>\n",
       "      <td>80.940461</td>\n",
       "      <td>2419.592240</td>\n",
       "      <td>38.321247</td>\n",
       "      <td>82.550188</td>\n",
       "      <td>82.324084</td>\n",
       "      <td>1.742103</td>\n",
       "      <td>7483.158469</td>\n",
       "      <td>5.93819</td>\n",
       "      <td>4.839704</td>\n",
       "      <td>4.870317</td>\n",
       "      <td>11.992793</td>\n",
       "      <td>1.275338e+07</td>\n",
       "    </tr>\n",
       "    <tr>\n",
       "      <th>std</th>\n",
       "      <td>NaN</td>\n",
       "      <td>9.523867</td>\n",
       "      <td>4.613841</td>\n",
       "      <td>NaN</td>\n",
       "      <td>124.292079</td>\n",
       "      <td>117.926501</td>\n",
       "      <td>4.052413</td>\n",
       "      <td>25.070016</td>\n",
       "      <td>11467.272489</td>\n",
       "      <td>20.044034</td>\n",
       "      <td>23.428046</td>\n",
       "      <td>23.716912</td>\n",
       "      <td>5.077785</td>\n",
       "      <td>14270.169342</td>\n",
       "      <td>2.49832</td>\n",
       "      <td>4.420195</td>\n",
       "      <td>4.508882</td>\n",
       "      <td>3.358920</td>\n",
       "      <td>6.101210e+07</td>\n",
       "    </tr>\n",
       "    <tr>\n",
       "      <th>min</th>\n",
       "      <td>NaN</td>\n",
       "      <td>36.300000</td>\n",
       "      <td>2000.000000</td>\n",
       "      <td>NaN</td>\n",
       "      <td>1.000000</td>\n",
       "      <td>0.000000</td>\n",
       "      <td>0.010000</td>\n",
       "      <td>1.000000</td>\n",
       "      <td>0.000000</td>\n",
       "      <td>1.000000</td>\n",
       "      <td>3.000000</td>\n",
       "      <td>2.000000</td>\n",
       "      <td>0.100000</td>\n",
       "      <td>1.681350</td>\n",
       "      <td>0.37000</td>\n",
       "      <td>0.100000</td>\n",
       "      <td>0.100000</td>\n",
       "      <td>0.000000</td>\n",
       "      <td>3.400000e+01</td>\n",
       "    </tr>\n",
       "    <tr>\n",
       "      <th>25%</th>\n",
       "      <td>NaN</td>\n",
       "      <td>63.100000</td>\n",
       "      <td>2004.000000</td>\n",
       "      <td>NaN</td>\n",
       "      <td>74.000000</td>\n",
       "      <td>0.000000</td>\n",
       "      <td>0.877500</td>\n",
       "      <td>77.000000</td>\n",
       "      <td>0.000000</td>\n",
       "      <td>19.300000</td>\n",
       "      <td>78.000000</td>\n",
       "      <td>78.000000</td>\n",
       "      <td>0.100000</td>\n",
       "      <td>463.935626</td>\n",
       "      <td>4.26000</td>\n",
       "      <td>1.600000</td>\n",
       "      <td>1.500000</td>\n",
       "      <td>10.100000</td>\n",
       "      <td>1.957932e+05</td>\n",
       "    </tr>\n",
       "    <tr>\n",
       "      <th>50%</th>\n",
       "      <td>NaN</td>\n",
       "      <td>72.100000</td>\n",
       "      <td>2008.000000</td>\n",
       "      <td>NaN</td>\n",
       "      <td>144.000000</td>\n",
       "      <td>3.000000</td>\n",
       "      <td>3.755000</td>\n",
       "      <td>92.000000</td>\n",
       "      <td>17.000000</td>\n",
       "      <td>43.500000</td>\n",
       "      <td>93.000000</td>\n",
       "      <td>93.000000</td>\n",
       "      <td>0.100000</td>\n",
       "      <td>1766.947595</td>\n",
       "      <td>5.75500</td>\n",
       "      <td>3.300000</td>\n",
       "      <td>3.300000</td>\n",
       "      <td>12.300000</td>\n",
       "      <td>1.386542e+06</td>\n",
       "    </tr>\n",
       "    <tr>\n",
       "      <th>75%</th>\n",
       "      <td>NaN</td>\n",
       "      <td>75.700000</td>\n",
       "      <td>2012.000000</td>\n",
       "      <td>NaN</td>\n",
       "      <td>228.000000</td>\n",
       "      <td>22.000000</td>\n",
       "      <td>7.702500</td>\n",
       "      <td>97.000000</td>\n",
       "      <td>360.250000</td>\n",
       "      <td>56.200000</td>\n",
       "      <td>97.000000</td>\n",
       "      <td>97.000000</td>\n",
       "      <td>0.800000</td>\n",
       "      <td>5910.806335</td>\n",
       "      <td>7.49250</td>\n",
       "      <td>7.200000</td>\n",
       "      <td>7.200000</td>\n",
       "      <td>14.300000</td>\n",
       "      <td>7.420359e+06</td>\n",
       "    </tr>\n",
       "    <tr>\n",
       "      <th>max</th>\n",
       "      <td>NaN</td>\n",
       "      <td>89.000000</td>\n",
       "      <td>2015.000000</td>\n",
       "      <td>NaN</td>\n",
       "      <td>723.000000</td>\n",
       "      <td>1800.000000</td>\n",
       "      <td>17.870000</td>\n",
       "      <td>99.000000</td>\n",
       "      <td>212183.000000</td>\n",
       "      <td>87.300000</td>\n",
       "      <td>99.000000</td>\n",
       "      <td>99.000000</td>\n",
       "      <td>50.600000</td>\n",
       "      <td>119172.741800</td>\n",
       "      <td>17.60000</td>\n",
       "      <td>27.700000</td>\n",
       "      <td>28.600000</td>\n",
       "      <td>20.700000</td>\n",
       "      <td>1.293859e+09</td>\n",
       "    </tr>\n",
       "  </tbody>\n",
       "</table>\n",
       "</div>"
      ],
      "text/plain": [
       "            country  life_expectancy         year      status  \\\n",
       "count          2938      2928.000000  2938.000000        2938   \n",
       "unique          193              NaN          NaN           2   \n",
       "top     Afghanistan              NaN          NaN  Developing   \n",
       "freq             16              NaN          NaN        2426   \n",
       "mean            NaN        69.224932  2007.518720         NaN   \n",
       "std             NaN         9.523867     4.613841         NaN   \n",
       "min             NaN        36.300000  2000.000000         NaN   \n",
       "25%             NaN        63.100000  2004.000000         NaN   \n",
       "50%             NaN        72.100000  2008.000000         NaN   \n",
       "75%             NaN        75.700000  2012.000000         NaN   \n",
       "max             NaN        89.000000  2015.000000         NaN   \n",
       "\n",
       "        adult_mortality    inf_death      alcohol   hepatitisB        measles  \\\n",
       "count       2928.000000  2938.000000  2744.000000  2385.000000    2938.000000   \n",
       "unique              NaN          NaN          NaN          NaN            NaN   \n",
       "top                 NaN          NaN          NaN          NaN            NaN   \n",
       "freq                NaN          NaN          NaN          NaN            NaN   \n",
       "mean         164.796448    30.303948     4.602861    80.940461    2419.592240   \n",
       "std          124.292079   117.926501     4.052413    25.070016   11467.272489   \n",
       "min            1.000000     0.000000     0.010000     1.000000       0.000000   \n",
       "25%           74.000000     0.000000     0.877500    77.000000       0.000000   \n",
       "50%          144.000000     3.000000     3.755000    92.000000      17.000000   \n",
       "75%          228.000000    22.000000     7.702500    97.000000     360.250000   \n",
       "max          723.000000  1800.000000    17.870000    99.000000  212183.000000   \n",
       "\n",
       "                bmi        polio   diphtheria          hiv            gdp  \\\n",
       "count   2904.000000  2919.000000  2919.000000  2938.000000    2490.000000   \n",
       "unique          NaN          NaN          NaN          NaN            NaN   \n",
       "top             NaN          NaN          NaN          NaN            NaN   \n",
       "freq            NaN          NaN          NaN          NaN            NaN   \n",
       "mean      38.321247    82.550188    82.324084     1.742103    7483.158469   \n",
       "std       20.044034    23.428046    23.716912     5.077785   14270.169342   \n",
       "min        1.000000     3.000000     2.000000     0.100000       1.681350   \n",
       "25%       19.300000    78.000000    78.000000     0.100000     463.935626   \n",
       "50%       43.500000    93.000000    93.000000     0.100000    1766.947595   \n",
       "75%       56.200000    97.000000    97.000000     0.800000    5910.806335   \n",
       "max       87.300000    99.000000    99.000000    50.600000  119172.741800   \n",
       "\n",
       "        total_expenditure  thinness_till19  thinness_till9       school  \\\n",
       "count          2712.00000      2904.000000     2904.000000  2775.000000   \n",
       "unique                NaN              NaN             NaN          NaN   \n",
       "top                   NaN              NaN             NaN          NaN   \n",
       "freq                  NaN              NaN             NaN          NaN   \n",
       "mean              5.93819         4.839704        4.870317    11.992793   \n",
       "std               2.49832         4.420195        4.508882     3.358920   \n",
       "min               0.37000         0.100000        0.100000     0.000000   \n",
       "25%               4.26000         1.600000        1.500000    10.100000   \n",
       "50%               5.75500         3.300000        3.300000    12.300000   \n",
       "75%               7.49250         7.200000        7.200000    14.300000   \n",
       "max              17.60000        27.700000       28.600000    20.700000   \n",
       "\n",
       "          population  \n",
       "count   2.286000e+03  \n",
       "unique           NaN  \n",
       "top              NaN  \n",
       "freq             NaN  \n",
       "mean    1.275338e+07  \n",
       "std     6.101210e+07  \n",
       "min     3.400000e+01  \n",
       "25%     1.957932e+05  \n",
       "50%     1.386542e+06  \n",
       "75%     7.420359e+06  \n",
       "max     1.293859e+09  "
      ]
     },
     "execution_count": 18,
     "metadata": {},
     "output_type": "execute_result"
    }
   ],
   "source": [
    "# Resumo estatístico de todas as variáveis\n",
    "df_dsa.describe(include = 'all')"
   ]
  },
  {
   "cell_type": "code",
   "execution_count": 19,
   "id": "596bca80",
   "metadata": {},
   "outputs": [],
   "source": [
    "# Função para o plot da relação da variável algo com alguns atributos\n",
    "def dsa_get_pairs(data, alvo, atributos, n):\n",
    "    \n",
    "    # Grupos de linhas com 3 (n) gráficos por linha\n",
    "    grupos_linhas = [atributos[i:i+n] for i in range(0, len(atributos), n)]\n",
    "                    \n",
    "    # Loop pelos grupos de linhas para criar cada pair plot\n",
    "    for linha in grupos_linhas:\n",
    "        plot = sns.pairplot(x_vars = linha, y_vars = alvo, data = data, kind = 'reg', height = 3)\n",
    "    \n",
    "    return                    "
   ]
  },
  {
   "cell_type": "code",
   "execution_count": 20,
   "id": "3a11bd8c",
   "metadata": {},
   "outputs": [],
   "source": [
    "# variável alvo\n",
    "alvo = ['life_expectancy']"
   ]
  },
  {
   "cell_type": "code",
   "execution_count": 21,
   "id": "b003edb0",
   "metadata": {},
   "outputs": [],
   "source": [
    "# Vamos usar alguns atributos\n",
    "atributos = ['population', 'hepatitisB', 'gdp', 'total_expenditure', 'alcohol', 'school'] "
   ]
  },
  {
   "cell_type": "code",
   "execution_count": 22,
   "id": "63977c0d",
   "metadata": {},
   "outputs": [
    {
     "data": {
      "text/plain": [
       "'Cobertura de vacinação contra hepatite B em crianças de 1 ano (%).'"
      ]
     },
     "execution_count": 22,
     "metadata": {},
     "output_type": "execute_result"
    }
   ],
   "source": [
    "# Descrição da variável\n",
    "dsa_df_dict['hepatitisB']"
   ]
  },
  {
   "cell_type": "code",
   "execution_count": 23,
   "id": "53de8f8f",
   "metadata": {},
   "outputs": [
    {
     "data": {
      "text/plain": [
       "'Gasto total em saúde como porcentagem do PIB.'"
      ]
     },
     "execution_count": 23,
     "metadata": {},
     "output_type": "execute_result"
    }
   ],
   "source": [
    "# Descrição da variável\n",
    "dsa_df_dict['total_expenditure']"
   ]
  },
  {
   "cell_type": "code",
   "execution_count": 24,
   "id": "35764043",
   "metadata": {},
   "outputs": [
    {
     "data": {
      "text/plain": [
       "'Consumo de álcool per capita (litros de álcool puro por ano).'"
      ]
     },
     "execution_count": 24,
     "metadata": {},
     "output_type": "execute_result"
    }
   ],
   "source": [
    "# Descrição da variável\n",
    "dsa_df_dict['alcohol']"
   ]
  },
  {
   "cell_type": "code",
   "execution_count": 25,
   "id": "32232b2e",
   "metadata": {},
   "outputs": [
    {
     "data": {
      "text/plain": [
       "'Número médio de anos de escolaridade.'"
      ]
     },
     "execution_count": 25,
     "metadata": {},
     "output_type": "execute_result"
    }
   ],
   "source": [
    "# Descrição da variável\n",
    "dsa_df_dict['school']"
   ]
  },
  {
   "cell_type": "code",
   "execution_count": 26,
   "id": "62453b22",
   "metadata": {},
   "outputs": [
    {
     "data": {
      "image/png": "[encoded data removed]",
      "text/plain": [
       "<Figure size 648x216 with 3 Axes>"
      ]
     },
     "metadata": {
      "needs_background": "light"
     },
     "output_type": "display_data"
    },
    {
     "data": {
      "image/png": "[encoded data removed]",
      "text/plain": [
       "<Figure size 648x216 with 3 Axes>"
      ]
     },
     "metadata": {
      "needs_background": "light"
     },
     "output_type": "display_data"
    }
   ],
   "source": [
    "# Verificando outliers\n",
    "dsa_get_pairs(df_dsa, alvo, atributos, 3)"
   ]
  },
  {
   "cell_type": "markdown",
   "id": "4eed60b7",
   "metadata": {},
   "source": [
    "## Detectando Valores Ausentes"
   ]
  },
  {
   "cell_type": "code",
   "execution_count": 27,
   "id": "f9b8260f",
   "metadata": {},
   "outputs": [
    {
     "data": {
      "text/plain": [
       "country              2938\n",
       "life_expectancy      2928\n",
       "year                 2938\n",
       "status               2938\n",
       "adult_mortality      2928\n",
       "inf_death            2938\n",
       "alcohol              2744\n",
       "hepatitisB           2385\n",
       "measles              2938\n",
       "bmi                  2904\n",
       "polio                2919\n",
       "diphtheria           2919\n",
       "hiv                  2938\n",
       "gdp                  2490\n",
       "total_expenditure    2712\n",
       "thinness_till19      2904\n",
       "thinness_till9       2904\n",
       "school               2775\n",
       "population           2286\n",
       "dtype: int64"
      ]
     },
     "execution_count": 27,
     "metadata": {},
     "output_type": "execute_result"
    }
   ],
   "source": [
    "# Visualizando o total de linhas por coluna\n",
    "df_dsa.count()"
   ]
  },
  {
   "cell_type": "code",
   "execution_count": 28,
   "id": "5fcdec2d",
   "metadata": {},
   "outputs": [],
   "source": [
    "# Extraindo o total de valores ausentes por coluna\n",
    "valores_ausentes = df_dsa.isnull().sum().sort_values(ascending = False)"
   ]
  },
  {
   "cell_type": "code",
   "execution_count": 29,
   "id": "e54c7b47",
   "metadata": {},
   "outputs": [
    {
     "name": "stdout",
     "output_type": "stream",
     "text": [
      "population           652\n",
      "hepatitisB           553\n",
      "gdp                  448\n",
      "total_expenditure    226\n",
      "alcohol              194\n",
      "school               163\n",
      "thinness_till9        34\n",
      "thinness_till19       34\n",
      "bmi                   34\n",
      "polio                 19\n",
      "diphtheria            19\n",
      "life_expectancy       10\n",
      "adult_mortality       10\n",
      "hiv                    0\n",
      "measles                0\n",
      "inf_death              0\n",
      "status                 0\n",
      "year                   0\n",
      "country                0\n",
      "dtype: int64\n"
     ]
    }
   ],
   "source": [
    "print(valores_ausentes)"
   ]
  },
  {
   "cell_type": "code",
   "execution_count": 30,
   "id": "0484f4d4",
   "metadata": {},
   "outputs": [],
   "source": [
    "# Criando o percentual de valores ausentes\n",
    "valores_ausentes_percent = valores_ausentes[valores_ausentes > 0] / df_dsa.shape[0]"
   ]
  },
  {
   "cell_type": "code",
   "execution_count": 31,
   "id": "2854bed8",
   "metadata": {},
   "outputs": [
    {
     "name": "stdout",
     "output_type": "stream",
     "text": [
      "population           22.191967\n",
      "hepatitisB           18.822328\n",
      "gdp                  15.248468\n",
      "total_expenditure     7.692308\n",
      "alcohol               6.603131\n",
      "school                5.547992\n",
      "thinness_till9        1.157250\n",
      "thinness_till19       1.157250\n",
      "bmi                   1.157250\n",
      "polio                 0.646698\n",
      "diphtheria            0.646698\n",
      "life_expectancy       0.340368\n",
      "adult_mortality       0.340368\n",
      "dtype: float64 %\n"
     ]
    }
   ],
   "source": [
    "print(f'{valores_ausentes_percent * 100} %')"
   ]
  },
  {
   "cell_type": "markdown",
   "id": "d17b37d8",
   "metadata": {},
   "source": [
    "### Detectando outliers"
   ]
  },
  {
   "cell_type": "code",
   "execution_count": 32,
   "id": "858371f4",
   "metadata": {},
   "outputs": [],
   "source": [
    "# Atributos com mais de 5% de valores ausentes\n",
    "atributos = ['population', 'hepatitisB', 'gdp', 'total_expenditure', 'alcohol', 'school'] "
   ]
  },
  {
   "cell_type": "code",
   "execution_count": 33,
   "id": "9bb48aed",
   "metadata": {},
   "outputs": [],
   "source": [
    "# Cria um novo dataframe\n",
    "novo_dataframe = df_dsa[atributos]"
   ]
  },
  {
   "cell_type": "code",
   "execution_count": 34,
   "id": "57c6de63",
   "metadata": {},
   "outputs": [],
   "source": [
    "# Identificação de outliers através do método IQR (interquartile range)\n",
    "Q1 = novo_dataframe.quantile(0.25)\n",
    "Q3 = novo_dataframe.quantile(0.75)\n",
    "\n",
    "IQR = Q3 - Q1"
   ]
  },
  {
   "cell_type": "code",
   "execution_count": 35,
   "id": "66008051",
   "metadata": {},
   "outputs": [
    {
     "data": {
      "text/plain": [
       "population           195793.250000\n",
       "hepatitisB               77.000000\n",
       "gdp                     463.935626\n",
       "total_expenditure         4.260000\n",
       "alcohol                   0.877500\n",
       "school                   10.100000\n",
       "Name: 0.25, dtype: float64"
      ]
     },
     "execution_count": 35,
     "metadata": {},
     "output_type": "execute_result"
    }
   ],
   "source": [
    "Q1"
   ]
  },
  {
   "cell_type": "code",
   "execution_count": 36,
   "id": "8b0f30b0",
   "metadata": {},
   "outputs": [],
   "source": [
    "# Definir outliers como aqueles valores que estão fora do intervalo [ q1 - 1.5 * IQR, Q3 + 1.5 *IQR]\n",
    "outliers = ((novo_dataframe < (Q1 - 1.5 *IQR)) | (novo_dataframe > (Q3 + 1.5 * IQR))).sum()"
   ]
  },
  {
   "cell_type": "code",
   "execution_count": 37,
   "id": "e4ad9f7a",
   "metadata": {},
   "outputs": [
    {
     "data": {
      "text/plain": [
       "population           294\n",
       "hepatitisB           254\n",
       "gdp                  365\n",
       "total_expenditure     32\n",
       "alcohol                0\n",
       "school                44\n",
       "dtype: int64"
      ]
     },
     "execution_count": 37,
     "metadata": {},
     "output_type": "execute_result"
    }
   ],
   "source": [
    "outliers"
   ]
  },
  {
   "cell_type": "code",
   "execution_count": 38,
   "id": "462b8460",
   "metadata": {},
   "outputs": [],
   "source": [
    "# Cria um resumo com os outliers\n",
    "outliers_summary = pd.DataFrame({'Outliers': outliers, 'Percentual': (outliers / len(novo_dataframe)) * 100})"
   ]
  },
  {
   "cell_type": "code",
   "execution_count": 39,
   "id": "4d437c64",
   "metadata": {},
   "outputs": [
    {
     "data": {
      "text/html": [
       "<div>\n",
       "<style scoped>\n",
       "    .dataframe tbody tr th:only-of-type {\n",
       "        vertical-align: middle;\n",
       "    }\n",
       "\n",
       "    .dataframe tbody tr th {\n",
       "        vertical-align: top;\n",
       "    }\n",
       "\n",
       "    .dataframe thead th {\n",
       "        text-align: right;\n",
       "    }\n",
       "</style>\n",
       "<table border=\"1\" class=\"dataframe\">\n",
       "  <thead>\n",
       "    <tr style=\"text-align: right;\">\n",
       "      <th></th>\n",
       "      <th>Outliers</th>\n",
       "      <th>Percentual</th>\n",
       "    </tr>\n",
       "  </thead>\n",
       "  <tbody>\n",
       "    <tr>\n",
       "      <th>population</th>\n",
       "      <td>294</td>\n",
       "      <td>10.006807</td>\n",
       "    </tr>\n",
       "    <tr>\n",
       "      <th>hepatitisB</th>\n",
       "      <td>254</td>\n",
       "      <td>8.645337</td>\n",
       "    </tr>\n",
       "    <tr>\n",
       "      <th>gdp</th>\n",
       "      <td>365</td>\n",
       "      <td>12.423417</td>\n",
       "    </tr>\n",
       "    <tr>\n",
       "      <th>total_expenditure</th>\n",
       "      <td>32</td>\n",
       "      <td>1.089176</td>\n",
       "    </tr>\n",
       "    <tr>\n",
       "      <th>school</th>\n",
       "      <td>44</td>\n",
       "      <td>1.497617</td>\n",
       "    </tr>\n",
       "  </tbody>\n",
       "</table>\n",
       "</div>"
      ],
      "text/plain": [
       "                   Outliers  Percentual\n",
       "population              294   10.006807\n",
       "hepatitisB              254    8.645337\n",
       "gdp                     365   12.423417\n",
       "total_expenditure        32    1.089176\n",
       "school                   44    1.497617"
      ]
     },
     "execution_count": 39,
     "metadata": {},
     "output_type": "execute_result"
    }
   ],
   "source": [
    "# Retorna os resultados quando o valor for maior do que zero\n",
    "outliers_summary[outliers_summary['Outliers'] > 0]"
   ]
  },
  {
   "cell_type": "markdown",
   "id": "8569f6a3",
   "metadata": {},
   "source": [
    "### Tratamento de outliers"
   ]
  },
  {
   "cell_type": "markdown",
   "id": "32e085d5",
   "metadata": {},
   "source": [
    "Decisão: Remover os outliers pela pela regra estatística do intervalo interquartil (IQR)\n",
    "\n",
    "Considerações Importantes:\n",
    "\n",
    "- A regra do 1.5 IQR é um método comum para identificar outliers, mas não é uma regra rígida.\n",
    "- A escolha do multiplicador (1.5) pode variar em diferentes contextos e conjuntos de dados.\n",
    "- É importante analisar visualmente a distribuição dos dados para confirmar a presença de outliers e ajustar os limites, se necessário.\n",
    "- Outras técnicas para identificar outliers podem ser utilizadas em conjunto com a regra do IQR."
   ]
  },
  {
   "cell_type": "code",
   "execution_count": 40,
   "id": "367052bb",
   "metadata": {},
   "outputs": [],
   "source": [
    "# Definindo os limites para filtrar os outliers\n",
    "limite_inferior = Q1 - 1.5 * IQR\n",
    "limite_superior = Q3 + 1.5 * IQR"
   ]
  },
  {
   "cell_type": "code",
   "execution_count": 41,
   "id": "60afac3e",
   "metadata": {},
   "outputs": [],
   "source": [
    "# Filtrando os outliers\n",
    "novo_df_dsa = df_dsa[~((novo_dataframe < limite_inferior) | (novo_dataframe > limite_superior)).any(axis = 1)]"
   ]
  },
  {
   "cell_type": "code",
   "execution_count": 42,
   "id": "97a2b2ce",
   "metadata": {},
   "outputs": [
    {
     "data": {
      "text/plain": [
       "(2044, 19)"
      ]
     },
     "execution_count": 42,
     "metadata": {},
     "output_type": "execute_result"
    }
   ],
   "source": [
    "novo_df_dsa.shape"
   ]
  },
  {
   "cell_type": "code",
   "execution_count": 43,
   "id": "3db10b05",
   "metadata": {},
   "outputs": [
    {
     "data": {
      "text/html": [
       "<div>\n",
       "<style scoped>\n",
       "    .dataframe tbody tr th:only-of-type {\n",
       "        vertical-align: middle;\n",
       "    }\n",
       "\n",
       "    .dataframe tbody tr th {\n",
       "        vertical-align: top;\n",
       "    }\n",
       "\n",
       "    .dataframe thead th {\n",
       "        text-align: right;\n",
       "    }\n",
       "</style>\n",
       "<table border=\"1\" class=\"dataframe\">\n",
       "  <thead>\n",
       "    <tr style=\"text-align: right;\">\n",
       "      <th></th>\n",
       "      <th>life_expectancy</th>\n",
       "      <th>year</th>\n",
       "      <th>adult_mortality</th>\n",
       "      <th>inf_death</th>\n",
       "      <th>alcohol</th>\n",
       "      <th>hepatitisB</th>\n",
       "      <th>measles</th>\n",
       "      <th>bmi</th>\n",
       "      <th>polio</th>\n",
       "      <th>diphtheria</th>\n",
       "      <th>hiv</th>\n",
       "      <th>gdp</th>\n",
       "      <th>total_expenditure</th>\n",
       "      <th>thinness_till19</th>\n",
       "      <th>thinness_till9</th>\n",
       "      <th>school</th>\n",
       "      <th>population</th>\n",
       "    </tr>\n",
       "  </thead>\n",
       "  <tbody>\n",
       "    <tr>\n",
       "      <th>count</th>\n",
       "      <td>2036.000000</td>\n",
       "      <td>2044.000000</td>\n",
       "      <td>2036.000000</td>\n",
       "      <td>2044.000000</td>\n",
       "      <td>1908.000000</td>\n",
       "      <td>1653.000000</td>\n",
       "      <td>2044.000000</td>\n",
       "      <td>2032.000000</td>\n",
       "      <td>2041.000000</td>\n",
       "      <td>2041.000000</td>\n",
       "      <td>2044.000000</td>\n",
       "      <td>1668.000000</td>\n",
       "      <td>1883.000000</td>\n",
       "      <td>2032.000000</td>\n",
       "      <td>2032.000000</td>\n",
       "      <td>1910.000000</td>\n",
       "      <td>1.550000e+03</td>\n",
       "    </tr>\n",
       "    <tr>\n",
       "      <th>mean</th>\n",
       "      <td>68.261444</td>\n",
       "      <td>2007.516634</td>\n",
       "      <td>173.697937</td>\n",
       "      <td>21.272016</td>\n",
       "      <td>4.250854</td>\n",
       "      <td>88.543860</td>\n",
       "      <td>2043.051859</td>\n",
       "      <td>37.229429</td>\n",
       "      <td>83.469868</td>\n",
       "      <td>84.229789</td>\n",
       "      <td>1.906115</td>\n",
       "      <td>2603.414714</td>\n",
       "      <td>5.817047</td>\n",
       "      <td>4.973327</td>\n",
       "      <td>5.039813</td>\n",
       "      <td>11.779791</td>\n",
       "      <td>2.862564e+06</td>\n",
       "    </tr>\n",
       "    <tr>\n",
       "      <th>std</th>\n",
       "      <td>9.180601</td>\n",
       "      <td>4.620838</td>\n",
       "      <td>124.821601</td>\n",
       "      <td>75.877341</td>\n",
       "      <td>3.821064</td>\n",
       "      <td>11.667147</td>\n",
       "      <td>11166.996177</td>\n",
       "      <td>19.540099</td>\n",
       "      <td>22.293545</td>\n",
       "      <td>20.802376</td>\n",
       "      <td>5.353430</td>\n",
       "      <td>3051.987902</td>\n",
       "      <td>2.167468</td>\n",
       "      <td>4.070398</td>\n",
       "      <td>4.188165</td>\n",
       "      <td>2.893174</td>\n",
       "      <td>4.147575e+06</td>\n",
       "    </tr>\n",
       "    <tr>\n",
       "      <th>min</th>\n",
       "      <td>36.300000</td>\n",
       "      <td>2000.000000</td>\n",
       "      <td>1.000000</td>\n",
       "      <td>0.000000</td>\n",
       "      <td>0.010000</td>\n",
       "      <td>47.000000</td>\n",
       "      <td>0.000000</td>\n",
       "      <td>1.000000</td>\n",
       "      <td>3.000000</td>\n",
       "      <td>3.000000</td>\n",
       "      <td>0.100000</td>\n",
       "      <td>3.685949</td>\n",
       "      <td>0.370000</td>\n",
       "      <td>0.100000</td>\n",
       "      <td>0.100000</td>\n",
       "      <td>3.800000</td>\n",
       "      <td>3.400000e+01</td>\n",
       "    </tr>\n",
       "    <tr>\n",
       "      <th>25%</th>\n",
       "      <td>62.475000</td>\n",
       "      <td>2003.000000</td>\n",
       "      <td>83.750000</td>\n",
       "      <td>0.000000</td>\n",
       "      <td>0.847500</td>\n",
       "      <td>84.000000</td>\n",
       "      <td>0.000000</td>\n",
       "      <td>19.200000</td>\n",
       "      <td>78.000000</td>\n",
       "      <td>81.000000</td>\n",
       "      <td>0.100000</td>\n",
       "      <td>387.645945</td>\n",
       "      <td>4.380000</td>\n",
       "      <td>1.900000</td>\n",
       "      <td>1.900000</td>\n",
       "      <td>10.100000</td>\n",
       "      <td>1.413295e+05</td>\n",
       "    </tr>\n",
       "    <tr>\n",
       "      <th>50%</th>\n",
       "      <td>71.400000</td>\n",
       "      <td>2008.000000</td>\n",
       "      <td>154.000000</td>\n",
       "      <td>3.000000</td>\n",
       "      <td>3.400000</td>\n",
       "      <td>93.000000</td>\n",
       "      <td>10.000000</td>\n",
       "      <td>41.300000</td>\n",
       "      <td>93.000000</td>\n",
       "      <td>93.000000</td>\n",
       "      <td>0.100000</td>\n",
       "      <td>1312.038142</td>\n",
       "      <td>5.710000</td>\n",
       "      <td>3.550000</td>\n",
       "      <td>3.600000</td>\n",
       "      <td>12.100000</td>\n",
       "      <td>8.968025e+05</td>\n",
       "    </tr>\n",
       "    <tr>\n",
       "      <th>75%</th>\n",
       "      <td>74.700000</td>\n",
       "      <td>2012.000000</td>\n",
       "      <td>235.000000</td>\n",
       "      <td>17.000000</td>\n",
       "      <td>6.725000</td>\n",
       "      <td>97.000000</td>\n",
       "      <td>256.250000</td>\n",
       "      <td>54.900000</td>\n",
       "      <td>97.000000</td>\n",
       "      <td>97.000000</td>\n",
       "      <td>1.000000</td>\n",
       "      <td>3936.450613</td>\n",
       "      <td>7.130000</td>\n",
       "      <td>7.325000</td>\n",
       "      <td>7.400000</td>\n",
       "      <td>13.700000</td>\n",
       "      <td>3.712494e+06</td>\n",
       "    </tr>\n",
       "    <tr>\n",
       "      <th>max</th>\n",
       "      <td>89.000000</td>\n",
       "      <td>2015.000000</td>\n",
       "      <td>723.000000</td>\n",
       "      <td>1800.000000</td>\n",
       "      <td>17.310000</td>\n",
       "      <td>99.000000</td>\n",
       "      <td>212183.000000</td>\n",
       "      <td>87.300000</td>\n",
       "      <td>99.000000</td>\n",
       "      <td>99.000000</td>\n",
       "      <td>50.300000</td>\n",
       "      <td>13893.187680</td>\n",
       "      <td>12.250000</td>\n",
       "      <td>27.700000</td>\n",
       "      <td>28.600000</td>\n",
       "      <td>20.400000</td>\n",
       "      <td>1.789956e+07</td>\n",
       "    </tr>\n",
       "  </tbody>\n",
       "</table>\n",
       "</div>"
      ],
      "text/plain": [
       "       life_expectancy         year  adult_mortality    inf_death  \\\n",
       "count      2036.000000  2044.000000      2036.000000  2044.000000   \n",
       "mean         68.261444  2007.516634       173.697937    21.272016   \n",
       "std           9.180601     4.620838       124.821601    75.877341   \n",
       "min          36.300000  2000.000000         1.000000     0.000000   \n",
       "25%          62.475000  2003.000000        83.750000     0.000000   \n",
       "50%          71.400000  2008.000000       154.000000     3.000000   \n",
       "75%          74.700000  2012.000000       235.000000    17.000000   \n",
       "max          89.000000  2015.000000       723.000000  1800.000000   \n",
       "\n",
       "           alcohol   hepatitisB        measles          bmi        polio  \\\n",
       "count  1908.000000  1653.000000    2044.000000  2032.000000  2041.000000   \n",
       "mean      4.250854    88.543860    2043.051859    37.229429    83.469868   \n",
       "std       3.821064    11.667147   11166.996177    19.540099    22.293545   \n",
       "min       0.010000    47.000000       0.000000     1.000000     3.000000   \n",
       "25%       0.847500    84.000000       0.000000    19.200000    78.000000   \n",
       "50%       3.400000    93.000000      10.000000    41.300000    93.000000   \n",
       "75%       6.725000    97.000000     256.250000    54.900000    97.000000   \n",
       "max      17.310000    99.000000  212183.000000    87.300000    99.000000   \n",
       "\n",
       "        diphtheria          hiv           gdp  total_expenditure  \\\n",
       "count  2041.000000  2044.000000   1668.000000        1883.000000   \n",
       "mean     84.229789     1.906115   2603.414714           5.817047   \n",
       "std      20.802376     5.353430   3051.987902           2.167468   \n",
       "min       3.000000     0.100000      3.685949           0.370000   \n",
       "25%      81.000000     0.100000    387.645945           4.380000   \n",
       "50%      93.000000     0.100000   1312.038142           5.710000   \n",
       "75%      97.000000     1.000000   3936.450613           7.130000   \n",
       "max      99.000000    50.300000  13893.187680          12.250000   \n",
       "\n",
       "       thinness_till19  thinness_till9       school    population  \n",
       "count      2032.000000     2032.000000  1910.000000  1.550000e+03  \n",
       "mean          4.973327        5.039813    11.779791  2.862564e+06  \n",
       "std           4.070398        4.188165     2.893174  4.147575e+06  \n",
       "min           0.100000        0.100000     3.800000  3.400000e+01  \n",
       "25%           1.900000        1.900000    10.100000  1.413295e+05  \n",
       "50%           3.550000        3.600000    12.100000  8.968025e+05  \n",
       "75%           7.325000        7.400000    13.700000  3.712494e+06  \n",
       "max          27.700000       28.600000    20.400000  1.789956e+07  "
      ]
     },
     "execution_count": 43,
     "metadata": {},
     "output_type": "execute_result"
    }
   ],
   "source": [
    "# Resumo estatístico\n",
    "novo_df_dsa.describe()"
   ]
  },
  {
   "cell_type": "code",
   "execution_count": 44,
   "id": "b1ab05e6",
   "metadata": {},
   "outputs": [
    {
     "data": {
      "text/plain": [
       "17899562.0"
      ]
     },
     "execution_count": 44,
     "metadata": {},
     "output_type": "execute_result"
    }
   ],
   "source": [
    "# Valor máximo da população\n",
    "novo_df_dsa.population.max()"
   ]
  },
  {
   "cell_type": "code",
   "execution_count": 45,
   "id": "085ec95f",
   "metadata": {},
   "outputs": [
    {
     "data": {
      "image/png": "[encoded data removed]",
      "text/plain": [
       "<Figure size 648x216 with 3 Axes>"
      ]
     },
     "metadata": {
      "needs_background": "light"
     },
     "output_type": "display_data"
    },
    {
     "data": {
      "image/png": "[encoded data removed]",
      "text/plain": [
       "<Figure size 648x216 with 3 Axes>"
      ]
     },
     "metadata": {
      "needs_background": "light"
     },
     "output_type": "display_data"
    }
   ],
   "source": [
    "# Verificando outliers\n",
    "dsa_get_pairs(novo_df_dsa, alvo, atributos, 3)"
   ]
  },
  {
   "cell_type": "markdown",
   "id": "ff756cc1",
   "metadata": {},
   "source": [
    "## Tratamento de Valores Ausentes\n",
    "\n",
    "Decisão: Preencher os valores ausentes com a mediana da variável."
   ]
  },
  {
   "cell_type": "code",
   "execution_count": 46,
   "id": "2fef92b2",
   "metadata": {},
   "outputs": [],
   "source": [
    "# Verificando o total de valores ausentes\n",
    "valores_ausentes = novo_df_dsa.isnull().sum().sort_values(ascending = False)"
   ]
  },
  {
   "cell_type": "code",
   "execution_count": 47,
   "id": "c4a879d2",
   "metadata": {},
   "outputs": [
    {
     "name": "stdout",
     "output_type": "stream",
     "text": [
      "population           22.191967\n",
      "hepatitisB           18.822328\n",
      "gdp                  15.248468\n",
      "total_expenditure     7.692308\n",
      "alcohol               6.603131\n",
      "school                5.547992\n",
      "thinness_till9        1.157250\n",
      "thinness_till19       1.157250\n",
      "bmi                   1.157250\n",
      "polio                 0.646698\n",
      "diphtheria            0.646698\n",
      "life_expectancy       0.340368\n",
      "adult_mortality       0.340368\n",
      "dtype: float64 %\n"
     ]
    }
   ],
   "source": [
    "# Checando percentual dos valores ausentes\n",
    "valores_ausentes_perc = valores_ausentes[valores_ausentes > 0 ] / novo_df_dsa.shape[0]\n",
    "print(f'{valores_ausentes_percent * 100} %')"
   ]
  },
  {
   "cell_type": "code",
   "execution_count": 48,
   "id": "870fc24d",
   "metadata": {},
   "outputs": [],
   "source": [
    "# Função para o Replace das linhas vazias com a mediana\n",
    "def impute_median(dados):\n",
    "    return dados.fillna(dados.median())"
   ]
  },
  {
   "cell_type": "code",
   "execution_count": 49,
   "id": "739dfd60",
   "metadata": {},
   "outputs": [
    {
     "data": {
      "text/html": [
       "<div>\n",
       "<style scoped>\n",
       "    .dataframe tbody tr th:only-of-type {\n",
       "        vertical-align: middle;\n",
       "    }\n",
       "\n",
       "    .dataframe tbody tr th {\n",
       "        vertical-align: top;\n",
       "    }\n",
       "\n",
       "    .dataframe thead th {\n",
       "        text-align: right;\n",
       "    }\n",
       "</style>\n",
       "<table border=\"1\" class=\"dataframe\">\n",
       "  <thead>\n",
       "    <tr style=\"text-align: right;\">\n",
       "      <th></th>\n",
       "      <th>life_expectancy</th>\n",
       "      <th>year</th>\n",
       "      <th>adult_mortality</th>\n",
       "      <th>inf_death</th>\n",
       "      <th>alcohol</th>\n",
       "      <th>hepatitisB</th>\n",
       "      <th>measles</th>\n",
       "      <th>bmi</th>\n",
       "      <th>polio</th>\n",
       "      <th>diphtheria</th>\n",
       "      <th>hiv</th>\n",
       "      <th>gdp</th>\n",
       "      <th>total_expenditure</th>\n",
       "      <th>thinness_till19</th>\n",
       "      <th>thinness_till9</th>\n",
       "      <th>school</th>\n",
       "      <th>population</th>\n",
       "    </tr>\n",
       "  </thead>\n",
       "  <tbody>\n",
       "    <tr>\n",
       "      <th>count</th>\n",
       "      <td>2036.000000</td>\n",
       "      <td>2044.000000</td>\n",
       "      <td>2036.000000</td>\n",
       "      <td>2044.000000</td>\n",
       "      <td>1908.000000</td>\n",
       "      <td>1653.000000</td>\n",
       "      <td>2044.000000</td>\n",
       "      <td>2032.000000</td>\n",
       "      <td>2041.000000</td>\n",
       "      <td>2041.000000</td>\n",
       "      <td>2044.000000</td>\n",
       "      <td>1668.000000</td>\n",
       "      <td>1883.000000</td>\n",
       "      <td>2032.000000</td>\n",
       "      <td>2032.000000</td>\n",
       "      <td>1910.000000</td>\n",
       "      <td>1.550000e+03</td>\n",
       "    </tr>\n",
       "    <tr>\n",
       "      <th>mean</th>\n",
       "      <td>68.261444</td>\n",
       "      <td>2007.516634</td>\n",
       "      <td>173.697937</td>\n",
       "      <td>21.272016</td>\n",
       "      <td>4.250854</td>\n",
       "      <td>88.543860</td>\n",
       "      <td>2043.051859</td>\n",
       "      <td>37.229429</td>\n",
       "      <td>83.469868</td>\n",
       "      <td>84.229789</td>\n",
       "      <td>1.906115</td>\n",
       "      <td>2603.414714</td>\n",
       "      <td>5.817047</td>\n",
       "      <td>4.973327</td>\n",
       "      <td>5.039813</td>\n",
       "      <td>11.779791</td>\n",
       "      <td>2.862564e+06</td>\n",
       "    </tr>\n",
       "    <tr>\n",
       "      <th>std</th>\n",
       "      <td>9.180601</td>\n",
       "      <td>4.620838</td>\n",
       "      <td>124.821601</td>\n",
       "      <td>75.877341</td>\n",
       "      <td>3.821064</td>\n",
       "      <td>11.667147</td>\n",
       "      <td>11166.996177</td>\n",
       "      <td>19.540099</td>\n",
       "      <td>22.293545</td>\n",
       "      <td>20.802376</td>\n",
       "      <td>5.353430</td>\n",
       "      <td>3051.987902</td>\n",
       "      <td>2.167468</td>\n",
       "      <td>4.070398</td>\n",
       "      <td>4.188165</td>\n",
       "      <td>2.893174</td>\n",
       "      <td>4.147575e+06</td>\n",
       "    </tr>\n",
       "    <tr>\n",
       "      <th>min</th>\n",
       "      <td>36.300000</td>\n",
       "      <td>2000.000000</td>\n",
       "      <td>1.000000</td>\n",
       "      <td>0.000000</td>\n",
       "      <td>0.010000</td>\n",
       "      <td>47.000000</td>\n",
       "      <td>0.000000</td>\n",
       "      <td>1.000000</td>\n",
       "      <td>3.000000</td>\n",
       "      <td>3.000000</td>\n",
       "      <td>0.100000</td>\n",
       "      <td>3.685949</td>\n",
       "      <td>0.370000</td>\n",
       "      <td>0.100000</td>\n",
       "      <td>0.100000</td>\n",
       "      <td>3.800000</td>\n",
       "      <td>3.400000e+01</td>\n",
       "    </tr>\n",
       "    <tr>\n",
       "      <th>25%</th>\n",
       "      <td>62.475000</td>\n",
       "      <td>2003.000000</td>\n",
       "      <td>83.750000</td>\n",
       "      <td>0.000000</td>\n",
       "      <td>0.847500</td>\n",
       "      <td>84.000000</td>\n",
       "      <td>0.000000</td>\n",
       "      <td>19.200000</td>\n",
       "      <td>78.000000</td>\n",
       "      <td>81.000000</td>\n",
       "      <td>0.100000</td>\n",
       "      <td>387.645945</td>\n",
       "      <td>4.380000</td>\n",
       "      <td>1.900000</td>\n",
       "      <td>1.900000</td>\n",
       "      <td>10.100000</td>\n",
       "      <td>1.413295e+05</td>\n",
       "    </tr>\n",
       "    <tr>\n",
       "      <th>50%</th>\n",
       "      <td>71.400000</td>\n",
       "      <td>2008.000000</td>\n",
       "      <td>154.000000</td>\n",
       "      <td>3.000000</td>\n",
       "      <td>3.400000</td>\n",
       "      <td>93.000000</td>\n",
       "      <td>10.000000</td>\n",
       "      <td>41.300000</td>\n",
       "      <td>93.000000</td>\n",
       "      <td>93.000000</td>\n",
       "      <td>0.100000</td>\n",
       "      <td>1312.038142</td>\n",
       "      <td>5.710000</td>\n",
       "      <td>3.550000</td>\n",
       "      <td>3.600000</td>\n",
       "      <td>12.100000</td>\n",
       "      <td>8.968025e+05</td>\n",
       "    </tr>\n",
       "    <tr>\n",
       "      <th>75%</th>\n",
       "      <td>74.700000</td>\n",
       "      <td>2012.000000</td>\n",
       "      <td>235.000000</td>\n",
       "      <td>17.000000</td>\n",
       "      <td>6.725000</td>\n",
       "      <td>97.000000</td>\n",
       "      <td>256.250000</td>\n",
       "      <td>54.900000</td>\n",
       "      <td>97.000000</td>\n",
       "      <td>97.000000</td>\n",
       "      <td>1.000000</td>\n",
       "      <td>3936.450613</td>\n",
       "      <td>7.130000</td>\n",
       "      <td>7.325000</td>\n",
       "      <td>7.400000</td>\n",
       "      <td>13.700000</td>\n",
       "      <td>3.712494e+06</td>\n",
       "    </tr>\n",
       "    <tr>\n",
       "      <th>max</th>\n",
       "      <td>89.000000</td>\n",
       "      <td>2015.000000</td>\n",
       "      <td>723.000000</td>\n",
       "      <td>1800.000000</td>\n",
       "      <td>17.310000</td>\n",
       "      <td>99.000000</td>\n",
       "      <td>212183.000000</td>\n",
       "      <td>87.300000</td>\n",
       "      <td>99.000000</td>\n",
       "      <td>99.000000</td>\n",
       "      <td>50.300000</td>\n",
       "      <td>13893.187680</td>\n",
       "      <td>12.250000</td>\n",
       "      <td>27.700000</td>\n",
       "      <td>28.600000</td>\n",
       "      <td>20.400000</td>\n",
       "      <td>1.789956e+07</td>\n",
       "    </tr>\n",
       "  </tbody>\n",
       "</table>\n",
       "</div>"
      ],
      "text/plain": [
       "       life_expectancy         year  adult_mortality    inf_death  \\\n",
       "count      2036.000000  2044.000000      2036.000000  2044.000000   \n",
       "mean         68.261444  2007.516634       173.697937    21.272016   \n",
       "std           9.180601     4.620838       124.821601    75.877341   \n",
       "min          36.300000  2000.000000         1.000000     0.000000   \n",
       "25%          62.475000  2003.000000        83.750000     0.000000   \n",
       "50%          71.400000  2008.000000       154.000000     3.000000   \n",
       "75%          74.700000  2012.000000       235.000000    17.000000   \n",
       "max          89.000000  2015.000000       723.000000  1800.000000   \n",
       "\n",
       "           alcohol   hepatitisB        measles          bmi        polio  \\\n",
       "count  1908.000000  1653.000000    2044.000000  2032.000000  2041.000000   \n",
       "mean      4.250854    88.543860    2043.051859    37.229429    83.469868   \n",
       "std       3.821064    11.667147   11166.996177    19.540099    22.293545   \n",
       "min       0.010000    47.000000       0.000000     1.000000     3.000000   \n",
       "25%       0.847500    84.000000       0.000000    19.200000    78.000000   \n",
       "50%       3.400000    93.000000      10.000000    41.300000    93.000000   \n",
       "75%       6.725000    97.000000     256.250000    54.900000    97.000000   \n",
       "max      17.310000    99.000000  212183.000000    87.300000    99.000000   \n",
       "\n",
       "        diphtheria          hiv           gdp  total_expenditure  \\\n",
       "count  2041.000000  2044.000000   1668.000000        1883.000000   \n",
       "mean     84.229789     1.906115   2603.414714           5.817047   \n",
       "std      20.802376     5.353430   3051.987902           2.167468   \n",
       "min       3.000000     0.100000      3.685949           0.370000   \n",
       "25%      81.000000     0.100000    387.645945           4.380000   \n",
       "50%      93.000000     0.100000   1312.038142           5.710000   \n",
       "75%      97.000000     1.000000   3936.450613           7.130000   \n",
       "max      99.000000    50.300000  13893.187680          12.250000   \n",
       "\n",
       "       thinness_till19  thinness_till9       school    population  \n",
       "count      2032.000000     2032.000000  1910.000000  1.550000e+03  \n",
       "mean          4.973327        5.039813    11.779791  2.862564e+06  \n",
       "std           4.070398        4.188165     2.893174  4.147575e+06  \n",
       "min           0.100000        0.100000     3.800000  3.400000e+01  \n",
       "25%           1.900000        1.900000    10.100000  1.413295e+05  \n",
       "50%           3.550000        3.600000    12.100000  8.968025e+05  \n",
       "75%           7.325000        7.400000    13.700000  3.712494e+06  \n",
       "max          27.700000       28.600000    20.400000  1.789956e+07  "
      ]
     },
     "execution_count": 49,
     "metadata": {},
     "output_type": "execute_result"
    }
   ],
   "source": [
    "novo_df_dsa.describe()"
   ]
  },
  {
   "cell_type": "code",
   "execution_count": 50,
   "id": "889de41f",
   "metadata": {},
   "outputs": [],
   "source": [
    "# Removendo valores missing (observe as diferentes formas de notação do lado esquerdo do sinal de igual)\n",
    "novo_df_dsa.loc[:,'population'] = novo_df_dsa['population'].transform(impute_median)\n",
    "novo_df_dsa.hepatitisB = novo_df_dsa['hepatitisB'].transform(impute_median)\n",
    "novo_df_dsa.alcohol = novo_df_dsa['alcohol'].transform(impute_median)\n",
    "novo_df_dsa.total_expenditure = novo_df_dsa['total_expenditure'].transform(impute_median)\n",
    "novo_df_dsa.gdp = novo_df_dsa['gdp'].transform(impute_median)\n",
    "novo_df_dsa.school = novo_df_dsa['school'].transform(impute_median)"
   ]
  },
  {
   "cell_type": "code",
   "execution_count": 51,
   "id": "c85e57c6",
   "metadata": {},
   "outputs": [],
   "source": [
    "# Verificando o total de valores ausentes\n",
    "valores_ausentes = novo_df_dsa.isnull().sum().sort_values(ascending = False)"
   ]
  },
  {
   "cell_type": "code",
   "execution_count": 52,
   "id": "eea2c29f",
   "metadata": {},
   "outputs": [
    {
     "name": "stdout",
     "output_type": "stream",
     "text": [
      "bmi                0.587084\n",
      "thinness_till9     0.587084\n",
      "thinness_till19    0.587084\n",
      "adult_mortality    0.391389\n",
      "life_expectancy    0.391389\n",
      "diphtheria         0.146771\n",
      "polio              0.146771\n",
      "dtype: float64 %\n"
     ]
    }
   ],
   "source": [
    "# Checando percentual de valores missing\n",
    "valores_ausentes_percent = valores_ausentes[valores_ausentes > 0] / novo_df_dsa.shape[0] \n",
    "print(f'{valores_ausentes_percent * 100} %')"
   ]
  },
  {
   "cell_type": "code",
   "execution_count": 53,
   "id": "bf3aa497",
   "metadata": {},
   "outputs": [],
   "source": [
    "# Remove registros com valores nulos\n",
    "novo_df_dsa.dropna(inplace = True)"
   ]
  },
  {
   "cell_type": "code",
   "execution_count": 54,
   "id": "d5f83a4f",
   "metadata": {},
   "outputs": [],
   "source": [
    "# Verificando o total de valores ausentes\n",
    "valores_ausentes = novo_df_dsa.isnull().sum().sort_values(ascending = False)"
   ]
  },
  {
   "cell_type": "code",
   "execution_count": 55,
   "id": "14bb5a2e",
   "metadata": {},
   "outputs": [
    {
     "name": "stdout",
     "output_type": "stream",
     "text": [
      "Series([], dtype: float64) %\n"
     ]
    }
   ],
   "source": [
    "# Checando percentual de valores missing\n",
    "valores_ausentes_percent = valores_ausentes[valores_ausentes > 0] / novo_df_dsa.shape[0] \n",
    "print(f'{valores_ausentes_percent * 100} %')"
   ]
  },
  {
   "cell_type": "code",
   "execution_count": 56,
   "id": "3c6394d4",
   "metadata": {},
   "outputs": [
    {
     "data": {
      "text/plain": [
       "(2023, 19)"
      ]
     },
     "execution_count": 56,
     "metadata": {},
     "output_type": "execute_result"
    }
   ],
   "source": [
    "# Shape\n",
    "novo_df_dsa.shape"
   ]
  },
  {
   "cell_type": "code",
   "execution_count": 57,
   "id": "7fc319ed",
   "metadata": {},
   "outputs": [
    {
     "name": "stdout",
     "output_type": "stream",
     "text": [
      "<class 'pandas.core.frame.DataFrame'>\n",
      "Int64Index: 2023 entries, 1 to 2937\n",
      "Data columns (total 19 columns):\n",
      " #   Column             Non-Null Count  Dtype  \n",
      "---  ------             --------------  -----  \n",
      " 0   country            2023 non-null   object \n",
      " 1   life_expectancy    2023 non-null   float64\n",
      " 2   year               2023 non-null   int64  \n",
      " 3   status             2023 non-null   object \n",
      " 4   adult_mortality    2023 non-null   float64\n",
      " 5   inf_death          2023 non-null   int64  \n",
      " 6   alcohol            2023 non-null   float64\n",
      " 7   hepatitisB         2023 non-null   float64\n",
      " 8   measles            2023 non-null   int64  \n",
      " 9   bmi                2023 non-null   float64\n",
      " 10  polio              2023 non-null   float64\n",
      " 11  diphtheria         2023 non-null   float64\n",
      " 12  hiv                2023 non-null   float64\n",
      " 13  gdp                2023 non-null   float64\n",
      " 14  total_expenditure  2023 non-null   float64\n",
      " 15  thinness_till19    2023 non-null   float64\n",
      " 16  thinness_till9     2023 non-null   float64\n",
      " 17  school             2023 non-null   float64\n",
      " 18  population         2023 non-null   float64\n",
      "dtypes: float64(14), int64(3), object(2)\n",
      "memory usage: 316.1+ KB\n"
     ]
    }
   ],
   "source": [
    "# Info\n",
    "novo_df_dsa.info()"
   ]
  },
  {
   "cell_type": "code",
   "execution_count": 58,
   "id": "a4f01ba5",
   "metadata": {},
   "outputs": [],
   "source": [
    "# Drop das variáveis\n",
    "novo_df_dsa.drop(['country', 'status'], axis = 1, inplace = True)"
   ]
  },
  {
   "cell_type": "code",
   "execution_count": 59,
   "id": "8bb26390",
   "metadata": {},
   "outputs": [
    {
     "data": {
      "text/plain": [
       "(2938, 22)"
      ]
     },
     "execution_count": 59,
     "metadata": {},
     "output_type": "execute_result"
    }
   ],
   "source": [
    "# Shape do dataset original\n",
    "dsa_dados.shape"
   ]
  },
  {
   "cell_type": "code",
   "execution_count": 60,
   "id": "5559d7d4",
   "metadata": {},
   "outputs": [
    {
     "data": {
      "text/plain": [
       "(2023, 17)"
      ]
     },
     "execution_count": 60,
     "metadata": {},
     "output_type": "execute_result"
    }
   ],
   "source": [
    "# Shape do dataset após a limpeza\n",
    "novo_df_dsa.shape"
   ]
  },
  {
   "cell_type": "markdown",
   "id": "6d40205b",
   "metadata": {},
   "source": [
    "## Engenharia de Atributos"
   ]
  },
  {
   "cell_type": "markdown",
   "id": "64699e48",
   "metadata": {},
   "source": [
    "> As variáveis alcohol e bmi têm uma relação direta e natural. Vamos criar uma nova variável chamada life_style com a combinação dessas duas variáveis."
   ]
  },
  {
   "cell_type": "code",
   "execution_count": 61,
   "id": "eca374f4",
   "metadata": {},
   "outputs": [
    {
     "data": {
      "text/plain": [
       "Index(['life_expectancy', 'year', 'adult_mortality', 'inf_death', 'alcohol',\n",
       "       'hepatitisB', 'measles', 'bmi', 'polio', 'diphtheria', 'hiv', 'gdp',\n",
       "       'total_expenditure', 'thinness_till19', 'thinness_till9', 'school',\n",
       "       'population'],\n",
       "      dtype='object')"
      ]
     },
     "execution_count": 61,
     "metadata": {},
     "output_type": "execute_result"
    }
   ],
   "source": [
    "novo_df_dsa.columns"
   ]
  },
  {
   "cell_type": "code",
   "execution_count": 62,
   "id": "efa641c9",
   "metadata": {},
   "outputs": [
    {
     "data": {
      "text/plain": [
       "'Índice médio de massa corporal da população adulta.'"
      ]
     },
     "execution_count": 62,
     "metadata": {},
     "output_type": "execute_result"
    }
   ],
   "source": [
    "# Descrição da variável\n",
    "dsa_df_dict['bmi']"
   ]
  },
  {
   "cell_type": "code",
   "execution_count": 63,
   "id": "9f717acf",
   "metadata": {},
   "outputs": [
    {
     "data": {
      "text/plain": [
       "'Consumo de álcool per capita (litros de álcool puro por ano).'"
      ]
     },
     "execution_count": 63,
     "metadata": {},
     "output_type": "execute_result"
    }
   ],
   "source": [
    "# Descrição da variável\n",
    "dsa_df_dict['alcohol']"
   ]
  },
  {
   "cell_type": "code",
   "execution_count": 64,
   "id": "d8de6ef9",
   "metadata": {},
   "outputs": [
    {
     "data": {
      "text/html": [
       "<div>\n",
       "<style scoped>\n",
       "    .dataframe tbody tr th:only-of-type {\n",
       "        vertical-align: middle;\n",
       "    }\n",
       "\n",
       "    .dataframe tbody tr th {\n",
       "        vertical-align: top;\n",
       "    }\n",
       "\n",
       "    .dataframe thead th {\n",
       "        text-align: right;\n",
       "    }\n",
       "</style>\n",
       "<table border=\"1\" class=\"dataframe\">\n",
       "  <thead>\n",
       "    <tr style=\"text-align: right;\">\n",
       "      <th></th>\n",
       "      <th>life_expectancy</th>\n",
       "      <th>year</th>\n",
       "      <th>adult_mortality</th>\n",
       "      <th>inf_death</th>\n",
       "      <th>alcohol</th>\n",
       "      <th>hepatitisB</th>\n",
       "      <th>measles</th>\n",
       "      <th>bmi</th>\n",
       "      <th>polio</th>\n",
       "      <th>diphtheria</th>\n",
       "      <th>hiv</th>\n",
       "      <th>gdp</th>\n",
       "      <th>total_expenditure</th>\n",
       "      <th>thinness_till19</th>\n",
       "      <th>thinness_till9</th>\n",
       "      <th>school</th>\n",
       "      <th>population</th>\n",
       "    </tr>\n",
       "  </thead>\n",
       "  <tbody>\n",
       "    <tr>\n",
       "      <th>1</th>\n",
       "      <td>59.9</td>\n",
       "      <td>2014</td>\n",
       "      <td>271.0</td>\n",
       "      <td>64</td>\n",
       "      <td>0.01</td>\n",
       "      <td>62.0</td>\n",
       "      <td>492</td>\n",
       "      <td>18.6</td>\n",
       "      <td>58.0</td>\n",
       "      <td>62.0</td>\n",
       "      <td>0.1</td>\n",
       "      <td>612.696514</td>\n",
       "      <td>8.18</td>\n",
       "      <td>17.5</td>\n",
       "      <td>17.5</td>\n",
       "      <td>10.0</td>\n",
       "      <td>327582.0</td>\n",
       "    </tr>\n",
       "    <tr>\n",
       "      <th>3</th>\n",
       "      <td>59.5</td>\n",
       "      <td>2012</td>\n",
       "      <td>272.0</td>\n",
       "      <td>69</td>\n",
       "      <td>0.01</td>\n",
       "      <td>67.0</td>\n",
       "      <td>2787</td>\n",
       "      <td>17.6</td>\n",
       "      <td>67.0</td>\n",
       "      <td>67.0</td>\n",
       "      <td>0.1</td>\n",
       "      <td>669.959000</td>\n",
       "      <td>8.52</td>\n",
       "      <td>17.9</td>\n",
       "      <td>18.0</td>\n",
       "      <td>9.8</td>\n",
       "      <td>3696958.0</td>\n",
       "    </tr>\n",
       "    <tr>\n",
       "      <th>4</th>\n",
       "      <td>59.2</td>\n",
       "      <td>2011</td>\n",
       "      <td>275.0</td>\n",
       "      <td>71</td>\n",
       "      <td>0.01</td>\n",
       "      <td>68.0</td>\n",
       "      <td>3013</td>\n",
       "      <td>17.2</td>\n",
       "      <td>68.0</td>\n",
       "      <td>68.0</td>\n",
       "      <td>0.1</td>\n",
       "      <td>63.537231</td>\n",
       "      <td>7.87</td>\n",
       "      <td>18.2</td>\n",
       "      <td>18.2</td>\n",
       "      <td>9.5</td>\n",
       "      <td>2978599.0</td>\n",
       "    </tr>\n",
       "    <tr>\n",
       "      <th>5</th>\n",
       "      <td>58.8</td>\n",
       "      <td>2010</td>\n",
       "      <td>279.0</td>\n",
       "      <td>74</td>\n",
       "      <td>0.01</td>\n",
       "      <td>66.0</td>\n",
       "      <td>1989</td>\n",
       "      <td>16.7</td>\n",
       "      <td>66.0</td>\n",
       "      <td>66.0</td>\n",
       "      <td>0.1</td>\n",
       "      <td>553.328940</td>\n",
       "      <td>9.20</td>\n",
       "      <td>18.4</td>\n",
       "      <td>18.4</td>\n",
       "      <td>9.2</td>\n",
       "      <td>2883167.0</td>\n",
       "    </tr>\n",
       "    <tr>\n",
       "      <th>6</th>\n",
       "      <td>58.6</td>\n",
       "      <td>2009</td>\n",
       "      <td>281.0</td>\n",
       "      <td>77</td>\n",
       "      <td>0.01</td>\n",
       "      <td>63.0</td>\n",
       "      <td>2861</td>\n",
       "      <td>16.2</td>\n",
       "      <td>63.0</td>\n",
       "      <td>63.0</td>\n",
       "      <td>0.1</td>\n",
       "      <td>445.893298</td>\n",
       "      <td>9.42</td>\n",
       "      <td>18.6</td>\n",
       "      <td>18.7</td>\n",
       "      <td>8.9</td>\n",
       "      <td>284331.0</td>\n",
       "    </tr>\n",
       "  </tbody>\n",
       "</table>\n",
       "</div>"
      ],
      "text/plain": [
       "   life_expectancy  year  adult_mortality  inf_death  alcohol  hepatitisB  \\\n",
       "1             59.9  2014            271.0         64     0.01        62.0   \n",
       "3             59.5  2012            272.0         69     0.01        67.0   \n",
       "4             59.2  2011            275.0         71     0.01        68.0   \n",
       "5             58.8  2010            279.0         74     0.01        66.0   \n",
       "6             58.6  2009            281.0         77     0.01        63.0   \n",
       "\n",
       "   measles   bmi  polio  diphtheria  hiv         gdp  total_expenditure  \\\n",
       "1      492  18.6   58.0        62.0  0.1  612.696514               8.18   \n",
       "3     2787  17.6   67.0        67.0  0.1  669.959000               8.52   \n",
       "4     3013  17.2   68.0        68.0  0.1   63.537231               7.87   \n",
       "5     1989  16.7   66.0        66.0  0.1  553.328940               9.20   \n",
       "6     2861  16.2   63.0        63.0  0.1  445.893298               9.42   \n",
       "\n",
       "   thinness_till19  thinness_till9  school  population  \n",
       "1             17.5            17.5    10.0    327582.0  \n",
       "3             17.9            18.0     9.8   3696958.0  \n",
       "4             18.2            18.2     9.5   2978599.0  \n",
       "5             18.4            18.4     9.2   2883167.0  \n",
       "6             18.6            18.7     8.9    284331.0  "
      ]
     },
     "execution_count": 64,
     "metadata": {},
     "output_type": "execute_result"
    }
   ],
   "source": [
    "# Amostra dos dados\n",
    "novo_df_dsa.head()"
   ]
  },
  {
   "cell_type": "code",
   "execution_count": 65,
   "id": "725c9c68",
   "metadata": {},
   "outputs": [],
   "source": [
    "# Criando a nova variável\n",
    "novo_df_dsa['lifestyle'] = 0\n",
    "novo_df_dsa.lifestyle = novo_df_dsa['bmi'] * novo_df_dsa['alcohol']"
   ]
  },
  {
   "cell_type": "code",
   "execution_count": 66,
   "id": "42be07c8",
   "metadata": {},
   "outputs": [
    {
     "data": {
      "text/html": [
       "<div>\n",
       "<style scoped>\n",
       "    .dataframe tbody tr th:only-of-type {\n",
       "        vertical-align: middle;\n",
       "    }\n",
       "\n",
       "    .dataframe tbody tr th {\n",
       "        vertical-align: top;\n",
       "    }\n",
       "\n",
       "    .dataframe thead th {\n",
       "        text-align: right;\n",
       "    }\n",
       "</style>\n",
       "<table border=\"1\" class=\"dataframe\">\n",
       "  <thead>\n",
       "    <tr style=\"text-align: right;\">\n",
       "      <th></th>\n",
       "      <th>life_expectancy</th>\n",
       "      <th>year</th>\n",
       "      <th>adult_mortality</th>\n",
       "      <th>inf_death</th>\n",
       "      <th>alcohol</th>\n",
       "      <th>hepatitisB</th>\n",
       "      <th>measles</th>\n",
       "      <th>bmi</th>\n",
       "      <th>polio</th>\n",
       "      <th>diphtheria</th>\n",
       "      <th>hiv</th>\n",
       "      <th>gdp</th>\n",
       "      <th>total_expenditure</th>\n",
       "      <th>thinness_till19</th>\n",
       "      <th>thinness_till9</th>\n",
       "      <th>school</th>\n",
       "      <th>population</th>\n",
       "      <th>lifestyle</th>\n",
       "    </tr>\n",
       "  </thead>\n",
       "  <tbody>\n",
       "    <tr>\n",
       "      <th>1</th>\n",
       "      <td>59.9</td>\n",
       "      <td>2014</td>\n",
       "      <td>271.0</td>\n",
       "      <td>64</td>\n",
       "      <td>0.01</td>\n",
       "      <td>62.0</td>\n",
       "      <td>492</td>\n",
       "      <td>18.6</td>\n",
       "      <td>58.0</td>\n",
       "      <td>62.0</td>\n",
       "      <td>0.1</td>\n",
       "      <td>612.696514</td>\n",
       "      <td>8.18</td>\n",
       "      <td>17.5</td>\n",
       "      <td>17.5</td>\n",
       "      <td>10.0</td>\n",
       "      <td>327582.0</td>\n",
       "      <td>0.186</td>\n",
       "    </tr>\n",
       "    <tr>\n",
       "      <th>3</th>\n",
       "      <td>59.5</td>\n",
       "      <td>2012</td>\n",
       "      <td>272.0</td>\n",
       "      <td>69</td>\n",
       "      <td>0.01</td>\n",
       "      <td>67.0</td>\n",
       "      <td>2787</td>\n",
       "      <td>17.6</td>\n",
       "      <td>67.0</td>\n",
       "      <td>67.0</td>\n",
       "      <td>0.1</td>\n",
       "      <td>669.959000</td>\n",
       "      <td>8.52</td>\n",
       "      <td>17.9</td>\n",
       "      <td>18.0</td>\n",
       "      <td>9.8</td>\n",
       "      <td>3696958.0</td>\n",
       "      <td>0.176</td>\n",
       "    </tr>\n",
       "    <tr>\n",
       "      <th>4</th>\n",
       "      <td>59.2</td>\n",
       "      <td>2011</td>\n",
       "      <td>275.0</td>\n",
       "      <td>71</td>\n",
       "      <td>0.01</td>\n",
       "      <td>68.0</td>\n",
       "      <td>3013</td>\n",
       "      <td>17.2</td>\n",
       "      <td>68.0</td>\n",
       "      <td>68.0</td>\n",
       "      <td>0.1</td>\n",
       "      <td>63.537231</td>\n",
       "      <td>7.87</td>\n",
       "      <td>18.2</td>\n",
       "      <td>18.2</td>\n",
       "      <td>9.5</td>\n",
       "      <td>2978599.0</td>\n",
       "      <td>0.172</td>\n",
       "    </tr>\n",
       "    <tr>\n",
       "      <th>5</th>\n",
       "      <td>58.8</td>\n",
       "      <td>2010</td>\n",
       "      <td>279.0</td>\n",
       "      <td>74</td>\n",
       "      <td>0.01</td>\n",
       "      <td>66.0</td>\n",
       "      <td>1989</td>\n",
       "      <td>16.7</td>\n",
       "      <td>66.0</td>\n",
       "      <td>66.0</td>\n",
       "      <td>0.1</td>\n",
       "      <td>553.328940</td>\n",
       "      <td>9.20</td>\n",
       "      <td>18.4</td>\n",
       "      <td>18.4</td>\n",
       "      <td>9.2</td>\n",
       "      <td>2883167.0</td>\n",
       "      <td>0.167</td>\n",
       "    </tr>\n",
       "    <tr>\n",
       "      <th>6</th>\n",
       "      <td>58.6</td>\n",
       "      <td>2009</td>\n",
       "      <td>281.0</td>\n",
       "      <td>77</td>\n",
       "      <td>0.01</td>\n",
       "      <td>63.0</td>\n",
       "      <td>2861</td>\n",
       "      <td>16.2</td>\n",
       "      <td>63.0</td>\n",
       "      <td>63.0</td>\n",
       "      <td>0.1</td>\n",
       "      <td>445.893298</td>\n",
       "      <td>9.42</td>\n",
       "      <td>18.6</td>\n",
       "      <td>18.7</td>\n",
       "      <td>8.9</td>\n",
       "      <td>284331.0</td>\n",
       "      <td>0.162</td>\n",
       "    </tr>\n",
       "  </tbody>\n",
       "</table>\n",
       "</div>"
      ],
      "text/plain": [
       "   life_expectancy  year  adult_mortality  inf_death  alcohol  hepatitisB  \\\n",
       "1             59.9  2014            271.0         64     0.01        62.0   \n",
       "3             59.5  2012            272.0         69     0.01        67.0   \n",
       "4             59.2  2011            275.0         71     0.01        68.0   \n",
       "5             58.8  2010            279.0         74     0.01        66.0   \n",
       "6             58.6  2009            281.0         77     0.01        63.0   \n",
       "\n",
       "   measles   bmi  polio  diphtheria  hiv         gdp  total_expenditure  \\\n",
       "1      492  18.6   58.0        62.0  0.1  612.696514               8.18   \n",
       "3     2787  17.6   67.0        67.0  0.1  669.959000               8.52   \n",
       "4     3013  17.2   68.0        68.0  0.1   63.537231               7.87   \n",
       "5     1989  16.7   66.0        66.0  0.1  553.328940               9.20   \n",
       "6     2861  16.2   63.0        63.0  0.1  445.893298               9.42   \n",
       "\n",
       "   thinness_till19  thinness_till9  school  population  lifestyle  \n",
       "1             17.5            17.5    10.0    327582.0      0.186  \n",
       "3             17.9            18.0     9.8   3696958.0      0.176  \n",
       "4             18.2            18.2     9.5   2978599.0      0.172  \n",
       "5             18.4            18.4     9.2   2883167.0      0.167  \n",
       "6             18.6            18.7     8.9    284331.0      0.162  "
      ]
     },
     "execution_count": 66,
     "metadata": {},
     "output_type": "execute_result"
    }
   ],
   "source": [
    "# Amostra dos dados\n",
    "novo_df_dsa.head()"
   ]
  },
  {
   "cell_type": "code",
   "execution_count": 67,
   "id": "7b3b9361",
   "metadata": {},
   "outputs": [
    {
     "data": {
      "text/plain": [
       "count    2023.000000\n",
       "mean      178.996408\n",
       "std       209.416553\n",
       "min         0.018000\n",
       "25%        18.140500\n",
       "50%        95.323000\n",
       "75%       257.394000\n",
       "max      1036.869000\n",
       "Name: lifestyle, dtype: float64"
      ]
     },
     "execution_count": 67,
     "metadata": {},
     "output_type": "execute_result"
    }
   ],
   "source": [
    "# Resumo estatístico\n",
    "novo_df_dsa.lifestyle.describe()"
   ]
  },
  {
   "cell_type": "code",
   "execution_count": 68,
   "id": "778fe322",
   "metadata": {},
   "outputs": [],
   "source": [
    "# Verifique se há valores ausentes\n",
    "valores_ausentes = novo_df_dsa.isnull().sum().sort_values(ascending = False)"
   ]
  },
  {
   "cell_type": "code",
   "execution_count": 69,
   "id": "f177641b",
   "metadata": {},
   "outputs": [
    {
     "data": {
      "text/plain": [
       "life_expectancy      0\n",
       "year                 0\n",
       "population           0\n",
       "school               0\n",
       "thinness_till9       0\n",
       "thinness_till19      0\n",
       "total_expenditure    0\n",
       "gdp                  0\n",
       "hiv                  0\n",
       "diphtheria           0\n",
       "polio                0\n",
       "bmi                  0\n",
       "measles              0\n",
       "hepatitisB           0\n",
       "alcohol              0\n",
       "inf_death            0\n",
       "adult_mortality      0\n",
       "lifestyle            0\n",
       "dtype: int64"
      ]
     },
     "execution_count": 69,
     "metadata": {},
     "output_type": "execute_result"
    }
   ],
   "source": [
    "# Visualizando valores ausentes\n",
    "valores_ausentes"
   ]
  },
  {
   "cell_type": "code",
   "execution_count": 70,
   "id": "0829230d",
   "metadata": {},
   "outputs": [
    {
     "data": {
      "text/plain": [
       "life_expectancy      float64\n",
       "year                   int64\n",
       "adult_mortality      float64\n",
       "inf_death              int64\n",
       "alcohol              float64\n",
       "hepatitisB           float64\n",
       "measles                int64\n",
       "bmi                  float64\n",
       "polio                float64\n",
       "diphtheria           float64\n",
       "hiv                  float64\n",
       "gdp                  float64\n",
       "total_expenditure    float64\n",
       "thinness_till19      float64\n",
       "thinness_till9       float64\n",
       "school               float64\n",
       "population           float64\n",
       "lifestyle            float64\n",
       "dtype: object"
      ]
     },
     "execution_count": 70,
     "metadata": {},
     "output_type": "execute_result"
    }
   ],
   "source": [
    "novo_df_dsa.dtypes"
   ]
  },
  {
   "cell_type": "markdown",
   "id": "3408cb63",
   "metadata": {},
   "source": [
    "## Análise de Correlação Para Verificar Multicolinearidade\n",
    "\n",
    "Queremos que as variáveis preditoras tenham uma alta correlação com a variável alvo, mas não queremos que as variáveis preditoras tenham alta correlação entre si. Se houver alta correlação entre as variáveis preditoras isso é chamado de multicolinearidade e fere uma das suposições da regressão.\n",
    "\n",
    "A correlação é uma medida da relação entre as variáveis. O coeficiente de correlação é um valor de -1 a +1, sendo:\n",
    "\n",
    "**-1 indica alta correlação negativa.**\n",
    "\n",
    "**+1 indica ata correlação positiva.**\n",
    "\n",
    "**0 indica que não há correlação.**\n",
    "\n",
    "Correlação não implica causalidade. Por exemplo: Sempre que aumenta o consumo de sorvete aumenta a presença de tubarões na praia. Provavelmente ambos os eventos ocorrem no verão e estão correlacionados, mas isso não significa que um evento causa o outro. Para afirmar isso teríamos que fazer uma análise de causalidade."
   ]
  },
  {
   "cell_type": "code",
   "execution_count": 71,
   "id": "19abdae3",
   "metadata": {},
   "outputs": [
    {
     "data": {
      "text/html": [
       "<div>\n",
       "<style scoped>\n",
       "    .dataframe tbody tr th:only-of-type {\n",
       "        vertical-align: middle;\n",
       "    }\n",
       "\n",
       "    .dataframe tbody tr th {\n",
       "        vertical-align: top;\n",
       "    }\n",
       "\n",
       "    .dataframe thead th {\n",
       "        text-align: right;\n",
       "    }\n",
       "</style>\n",
       "<table border=\"1\" class=\"dataframe\">\n",
       "  <thead>\n",
       "    <tr style=\"text-align: right;\">\n",
       "      <th></th>\n",
       "      <th>life_expectancy</th>\n",
       "      <th>year</th>\n",
       "      <th>adult_mortality</th>\n",
       "      <th>inf_death</th>\n",
       "      <th>alcohol</th>\n",
       "      <th>hepatitisB</th>\n",
       "      <th>measles</th>\n",
       "      <th>bmi</th>\n",
       "      <th>polio</th>\n",
       "      <th>diphtheria</th>\n",
       "      <th>hiv</th>\n",
       "      <th>gdp</th>\n",
       "      <th>total_expenditure</th>\n",
       "      <th>thinness_till19</th>\n",
       "      <th>thinness_till9</th>\n",
       "      <th>school</th>\n",
       "      <th>population</th>\n",
       "      <th>lifestyle</th>\n",
       "    </tr>\n",
       "  </thead>\n",
       "  <tbody>\n",
       "    <tr>\n",
       "      <th>life_expectancy</th>\n",
       "      <td>1.000000</td>\n",
       "      <td>0.204556</td>\n",
       "      <td>-0.658916</td>\n",
       "      <td>-0.206443</td>\n",
       "      <td>0.342425</td>\n",
       "      <td>0.257860</td>\n",
       "      <td>-0.115350</td>\n",
       "      <td>0.557954</td>\n",
       "      <td>0.452564</td>\n",
       "      <td>0.483659</td>\n",
       "      <td>-0.573127</td>\n",
       "      <td>0.360736</td>\n",
       "      <td>0.175738</td>\n",
       "      <td>-0.433580</td>\n",
       "      <td>-0.429357</td>\n",
       "      <td>0.708272</td>\n",
       "      <td>-0.105317</td>\n",
       "      <td>0.441366</td>\n",
       "    </tr>\n",
       "    <tr>\n",
       "      <th>year</th>\n",
       "      <td>0.204556</td>\n",
       "      <td>1.000000</td>\n",
       "      <td>-0.091760</td>\n",
       "      <td>-0.059838</td>\n",
       "      <td>-0.066639</td>\n",
       "      <td>-0.003178</td>\n",
       "      <td>-0.064347</td>\n",
       "      <td>0.096763</td>\n",
       "      <td>0.147489</td>\n",
       "      <td>0.228939</td>\n",
       "      <td>-0.158820</td>\n",
       "      <td>0.170945</td>\n",
       "      <td>0.070267</td>\n",
       "      <td>-0.059353</td>\n",
       "      <td>-0.055950</td>\n",
       "      <td>0.219471</td>\n",
       "      <td>0.020981</td>\n",
       "      <td>-0.017373</td>\n",
       "    </tr>\n",
       "    <tr>\n",
       "      <th>adult_mortality</th>\n",
       "      <td>-0.658916</td>\n",
       "      <td>-0.091760</td>\n",
       "      <td>1.000000</td>\n",
       "      <td>0.099370</td>\n",
       "      <td>-0.149204</td>\n",
       "      <td>-0.188950</td>\n",
       "      <td>0.035432</td>\n",
       "      <td>-0.366745</td>\n",
       "      <td>-0.228938</td>\n",
       "      <td>-0.221803</td>\n",
       "      <td>0.512978</td>\n",
       "      <td>-0.197863</td>\n",
       "      <td>-0.090963</td>\n",
       "      <td>0.299104</td>\n",
       "      <td>0.302507</td>\n",
       "      <td>-0.383901</td>\n",
       "      <td>0.096768</td>\n",
       "      <td>-0.231128</td>\n",
       "    </tr>\n",
       "    <tr>\n",
       "      <th>inf_death</th>\n",
       "      <td>-0.206443</td>\n",
       "      <td>-0.059838</td>\n",
       "      <td>0.099370</td>\n",
       "      <td>1.000000</td>\n",
       "      <td>-0.127545</td>\n",
       "      <td>-0.122515</td>\n",
       "      <td>0.480129</td>\n",
       "      <td>-0.221948</td>\n",
       "      <td>-0.183569</td>\n",
       "      <td>-0.183910</td>\n",
       "      <td>0.039115</td>\n",
       "      <td>-0.120331</td>\n",
       "      <td>-0.121871</td>\n",
       "      <td>0.321487</td>\n",
       "      <td>0.354512</td>\n",
       "      <td>-0.214215</td>\n",
       "      <td>0.111901</td>\n",
       "      <td>-0.156769</td>\n",
       "    </tr>\n",
       "    <tr>\n",
       "      <th>alcohol</th>\n",
       "      <td>0.342425</td>\n",
       "      <td>-0.066639</td>\n",
       "      <td>-0.149204</td>\n",
       "      <td>-0.127545</td>\n",
       "      <td>1.000000</td>\n",
       "      <td>0.193844</td>\n",
       "      <td>-0.045324</td>\n",
       "      <td>0.310448</td>\n",
       "      <td>0.187916</td>\n",
       "      <td>0.199958</td>\n",
       "      <td>-0.036268</td>\n",
       "      <td>0.289360</td>\n",
       "      <td>0.262657</td>\n",
       "      <td>-0.386629</td>\n",
       "      <td>-0.379482</td>\n",
       "      <td>0.464657</td>\n",
       "      <td>-0.007040</td>\n",
       "      <td>0.878858</td>\n",
       "    </tr>\n",
       "    <tr>\n",
       "      <th>hepatitisB</th>\n",
       "      <td>0.257860</td>\n",
       "      <td>-0.003178</td>\n",
       "      <td>-0.188950</td>\n",
       "      <td>-0.122515</td>\n",
       "      <td>0.193844</td>\n",
       "      <td>1.000000</td>\n",
       "      <td>-0.043089</td>\n",
       "      <td>0.115409</td>\n",
       "      <td>0.393191</td>\n",
       "      <td>0.391270</td>\n",
       "      <td>-0.090390</td>\n",
       "      <td>0.167829</td>\n",
       "      <td>0.046093</td>\n",
       "      <td>-0.086406</td>\n",
       "      <td>-0.102546</td>\n",
       "      <td>0.263879</td>\n",
       "      <td>-0.056455</td>\n",
       "      <td>0.181579</td>\n",
       "    </tr>\n",
       "    <tr>\n",
       "      <th>measles</th>\n",
       "      <td>-0.115350</td>\n",
       "      <td>-0.064347</td>\n",
       "      <td>0.035432</td>\n",
       "      <td>0.480129</td>\n",
       "      <td>-0.045324</td>\n",
       "      <td>-0.043089</td>\n",
       "      <td>1.000000</td>\n",
       "      <td>-0.142187</td>\n",
       "      <td>-0.110853</td>\n",
       "      <td>-0.123043</td>\n",
       "      <td>0.024412</td>\n",
       "      <td>-0.065666</td>\n",
       "      <td>-0.101675</td>\n",
       "      <td>0.133515</td>\n",
       "      <td>0.137056</td>\n",
       "      <td>-0.089084</td>\n",
       "      <td>-0.005326</td>\n",
       "      <td>-0.085123</td>\n",
       "    </tr>\n",
       "    <tr>\n",
       "      <th>bmi</th>\n",
       "      <td>0.557954</td>\n",
       "      <td>0.096763</td>\n",
       "      <td>-0.366745</td>\n",
       "      <td>-0.221948</td>\n",
       "      <td>0.310448</td>\n",
       "      <td>0.115409</td>\n",
       "      <td>-0.142187</td>\n",
       "      <td>1.000000</td>\n",
       "      <td>0.253961</td>\n",
       "      <td>0.273612</td>\n",
       "      <td>-0.244626</td>\n",
       "      <td>0.323198</td>\n",
       "      <td>0.200959</td>\n",
       "      <td>-0.541904</td>\n",
       "      <td>-0.550691</td>\n",
       "      <td>0.552766</td>\n",
       "      <td>-0.056945</td>\n",
       "      <td>0.599062</td>\n",
       "    </tr>\n",
       "    <tr>\n",
       "      <th>polio</th>\n",
       "      <td>0.452564</td>\n",
       "      <td>0.147489</td>\n",
       "      <td>-0.228938</td>\n",
       "      <td>-0.183569</td>\n",
       "      <td>0.187916</td>\n",
       "      <td>0.393191</td>\n",
       "      <td>-0.110853</td>\n",
       "      <td>0.253961</td>\n",
       "      <td>1.000000</td>\n",
       "      <td>0.676507</td>\n",
       "      <td>-0.143756</td>\n",
       "      <td>0.198453</td>\n",
       "      <td>0.141294</td>\n",
       "      <td>-0.166819</td>\n",
       "      <td>-0.166363</td>\n",
       "      <td>0.382712</td>\n",
       "      <td>-0.045542</td>\n",
       "      <td>0.219793</td>\n",
       "    </tr>\n",
       "    <tr>\n",
       "      <th>diphtheria</th>\n",
       "      <td>0.483659</td>\n",
       "      <td>0.228939</td>\n",
       "      <td>-0.221803</td>\n",
       "      <td>-0.183910</td>\n",
       "      <td>0.199958</td>\n",
       "      <td>0.391270</td>\n",
       "      <td>-0.123043</td>\n",
       "      <td>0.273612</td>\n",
       "      <td>0.676507</td>\n",
       "      <td>1.000000</td>\n",
       "      <td>-0.154179</td>\n",
       "      <td>0.222266</td>\n",
       "      <td>0.157976</td>\n",
       "      <td>-0.189487</td>\n",
       "      <td>-0.186992</td>\n",
       "      <td>0.430627</td>\n",
       "      <td>-0.035142</td>\n",
       "      <td>0.225132</td>\n",
       "    </tr>\n",
       "    <tr>\n",
       "      <th>hiv</th>\n",
       "      <td>-0.573127</td>\n",
       "      <td>-0.158820</td>\n",
       "      <td>0.512978</td>\n",
       "      <td>0.039115</td>\n",
       "      <td>-0.036268</td>\n",
       "      <td>-0.090390</td>\n",
       "      <td>0.024412</td>\n",
       "      <td>-0.244626</td>\n",
       "      <td>-0.143756</td>\n",
       "      <td>-0.154179</td>\n",
       "      <td>1.000000</td>\n",
       "      <td>-0.118378</td>\n",
       "      <td>0.009678</td>\n",
       "      <td>0.212890</td>\n",
       "      <td>0.215126</td>\n",
       "      <td>-0.232993</td>\n",
       "      <td>0.055527</td>\n",
       "      <td>-0.132152</td>\n",
       "    </tr>\n",
       "    <tr>\n",
       "      <th>gdp</th>\n",
       "      <td>0.360736</td>\n",
       "      <td>0.170945</td>\n",
       "      <td>-0.197863</td>\n",
       "      <td>-0.120331</td>\n",
       "      <td>0.289360</td>\n",
       "      <td>0.167829</td>\n",
       "      <td>-0.065666</td>\n",
       "      <td>0.323198</td>\n",
       "      <td>0.198453</td>\n",
       "      <td>0.222266</td>\n",
       "      <td>-0.118378</td>\n",
       "      <td>1.000000</td>\n",
       "      <td>0.065364</td>\n",
       "      <td>-0.211979</td>\n",
       "      <td>-0.211198</td>\n",
       "      <td>0.460247</td>\n",
       "      <td>-0.031481</td>\n",
       "      <td>0.333733</td>\n",
       "    </tr>\n",
       "    <tr>\n",
       "      <th>total_expenditure</th>\n",
       "      <td>0.175738</td>\n",
       "      <td>0.070267</td>\n",
       "      <td>-0.090963</td>\n",
       "      <td>-0.121871</td>\n",
       "      <td>0.262657</td>\n",
       "      <td>0.046093</td>\n",
       "      <td>-0.101675</td>\n",
       "      <td>0.200959</td>\n",
       "      <td>0.141294</td>\n",
       "      <td>0.157976</td>\n",
       "      <td>0.009678</td>\n",
       "      <td>0.065364</td>\n",
       "      <td>1.000000</td>\n",
       "      <td>-0.227917</td>\n",
       "      <td>-0.242793</td>\n",
       "      <td>0.202484</td>\n",
       "      <td>-0.003154</td>\n",
       "      <td>0.290530</td>\n",
       "    </tr>\n",
       "    <tr>\n",
       "      <th>thinness_till19</th>\n",
       "      <td>-0.433580</td>\n",
       "      <td>-0.059353</td>\n",
       "      <td>0.299104</td>\n",
       "      <td>0.321487</td>\n",
       "      <td>-0.386629</td>\n",
       "      <td>-0.086406</td>\n",
       "      <td>0.133515</td>\n",
       "      <td>-0.541904</td>\n",
       "      <td>-0.166819</td>\n",
       "      <td>-0.189487</td>\n",
       "      <td>0.212890</td>\n",
       "      <td>-0.211979</td>\n",
       "      <td>-0.227917</td>\n",
       "      <td>1.000000</td>\n",
       "      <td>0.946814</td>\n",
       "      <td>-0.424922</td>\n",
       "      <td>0.005010</td>\n",
       "      <td>-0.449094</td>\n",
       "    </tr>\n",
       "    <tr>\n",
       "      <th>thinness_till9</th>\n",
       "      <td>-0.429357</td>\n",
       "      <td>-0.055950</td>\n",
       "      <td>0.302507</td>\n",
       "      <td>0.354512</td>\n",
       "      <td>-0.379482</td>\n",
       "      <td>-0.102546</td>\n",
       "      <td>0.137056</td>\n",
       "      <td>-0.550691</td>\n",
       "      <td>-0.166363</td>\n",
       "      <td>-0.186992</td>\n",
       "      <td>0.215126</td>\n",
       "      <td>-0.211198</td>\n",
       "      <td>-0.242793</td>\n",
       "      <td>0.946814</td>\n",
       "      <td>1.000000</td>\n",
       "      <td>-0.422663</td>\n",
       "      <td>0.028971</td>\n",
       "      <td>-0.443364</td>\n",
       "    </tr>\n",
       "    <tr>\n",
       "      <th>school</th>\n",
       "      <td>0.708272</td>\n",
       "      <td>0.219471</td>\n",
       "      <td>-0.383901</td>\n",
       "      <td>-0.214215</td>\n",
       "      <td>0.464657</td>\n",
       "      <td>0.263879</td>\n",
       "      <td>-0.089084</td>\n",
       "      <td>0.552766</td>\n",
       "      <td>0.382712</td>\n",
       "      <td>0.430627</td>\n",
       "      <td>-0.232993</td>\n",
       "      <td>0.460247</td>\n",
       "      <td>0.202484</td>\n",
       "      <td>-0.424922</td>\n",
       "      <td>-0.422663</td>\n",
       "      <td>1.000000</td>\n",
       "      <td>-0.110617</td>\n",
       "      <td>0.528939</td>\n",
       "    </tr>\n",
       "    <tr>\n",
       "      <th>population</th>\n",
       "      <td>-0.105317</td>\n",
       "      <td>0.020981</td>\n",
       "      <td>0.096768</td>\n",
       "      <td>0.111901</td>\n",
       "      <td>-0.007040</td>\n",
       "      <td>-0.056455</td>\n",
       "      <td>-0.005326</td>\n",
       "      <td>-0.056945</td>\n",
       "      <td>-0.045542</td>\n",
       "      <td>-0.035142</td>\n",
       "      <td>0.055527</td>\n",
       "      <td>-0.031481</td>\n",
       "      <td>-0.003154</td>\n",
       "      <td>0.005010</td>\n",
       "      <td>0.028971</td>\n",
       "      <td>-0.110617</td>\n",
       "      <td>1.000000</td>\n",
       "      <td>-0.006494</td>\n",
       "    </tr>\n",
       "    <tr>\n",
       "      <th>lifestyle</th>\n",
       "      <td>0.441366</td>\n",
       "      <td>-0.017373</td>\n",
       "      <td>-0.231128</td>\n",
       "      <td>-0.156769</td>\n",
       "      <td>0.878858</td>\n",
       "      <td>0.181579</td>\n",
       "      <td>-0.085123</td>\n",
       "      <td>0.599062</td>\n",
       "      <td>0.219793</td>\n",
       "      <td>0.225132</td>\n",
       "      <td>-0.132152</td>\n",
       "      <td>0.333733</td>\n",
       "      <td>0.290530</td>\n",
       "      <td>-0.449094</td>\n",
       "      <td>-0.443364</td>\n",
       "      <td>0.528939</td>\n",
       "      <td>-0.006494</td>\n",
       "      <td>1.000000</td>\n",
       "    </tr>\n",
       "  </tbody>\n",
       "</table>\n",
       "</div>"
      ],
      "text/plain": [
       "                   life_expectancy      year  adult_mortality  inf_death  \\\n",
       "life_expectancy           1.000000  0.204556        -0.658916  -0.206443   \n",
       "year                      0.204556  1.000000        -0.091760  -0.059838   \n",
       "adult_mortality          -0.658916 -0.091760         1.000000   0.099370   \n",
       "inf_death                -0.206443 -0.059838         0.099370   1.000000   \n",
       "alcohol                   0.342425 -0.066639        -0.149204  -0.127545   \n",
       "hepatitisB                0.257860 -0.003178        -0.188950  -0.122515   \n",
       "measles                  -0.115350 -0.064347         0.035432   0.480129   \n",
       "bmi                       0.557954  0.096763        -0.366745  -0.221948   \n",
       "polio                     0.452564  0.147489        -0.228938  -0.183569   \n",
       "diphtheria                0.483659  0.228939        -0.221803  -0.183910   \n",
       "hiv                      -0.573127 -0.158820         0.512978   0.039115   \n",
       "gdp                       0.360736  0.170945        -0.197863  -0.120331   \n",
       "total_expenditure         0.175738  0.070267        -0.090963  -0.121871   \n",
       "thinness_till19          -0.433580 -0.059353         0.299104   0.321487   \n",
       "thinness_till9           -0.429357 -0.055950         0.302507   0.354512   \n",
       "school                    0.708272  0.219471        -0.383901  -0.214215   \n",
       "population               -0.105317  0.020981         0.096768   0.111901   \n",
       "lifestyle                 0.441366 -0.017373        -0.231128  -0.156769   \n",
       "\n",
       "                    alcohol  hepatitisB   measles       bmi     polio  \\\n",
       "life_expectancy    0.342425    0.257860 -0.115350  0.557954  0.452564   \n",
       "year              -0.066639   -0.003178 -0.064347  0.096763  0.147489   \n",
       "adult_mortality   -0.149204   -0.188950  0.035432 -0.366745 -0.228938   \n",
       "inf_death         -0.127545   -0.122515  0.480129 -0.221948 -0.183569   \n",
       "alcohol            1.000000    0.193844 -0.045324  0.310448  0.187916   \n",
       "hepatitisB         0.193844    1.000000 -0.043089  0.115409  0.393191   \n",
       "measles           -0.045324   -0.043089  1.000000 -0.142187 -0.110853   \n",
       "bmi                0.310448    0.115409 -0.142187  1.000000  0.253961   \n",
       "polio              0.187916    0.393191 -0.110853  0.253961  1.000000   \n",
       "diphtheria         0.199958    0.391270 -0.123043  0.273612  0.676507   \n",
       "hiv               -0.036268   -0.090390  0.024412 -0.244626 -0.143756   \n",
       "gdp                0.289360    0.167829 -0.065666  0.323198  0.198453   \n",
       "total_expenditure  0.262657    0.046093 -0.101675  0.200959  0.141294   \n",
       "thinness_till19   -0.386629   -0.086406  0.133515 -0.541904 -0.166819   \n",
       "thinness_till9    -0.379482   -0.102546  0.137056 -0.550691 -0.166363   \n",
       "school             0.464657    0.263879 -0.089084  0.552766  0.382712   \n",
       "population        -0.007040   -0.056455 -0.005326 -0.056945 -0.045542   \n",
       "lifestyle          0.878858    0.181579 -0.085123  0.599062  0.219793   \n",
       "\n",
       "                   diphtheria       hiv       gdp  total_expenditure  \\\n",
       "life_expectancy      0.483659 -0.573127  0.360736           0.175738   \n",
       "year                 0.228939 -0.158820  0.170945           0.070267   \n",
       "adult_mortality     -0.221803  0.512978 -0.197863          -0.090963   \n",
       "inf_death           -0.183910  0.039115 -0.120331          -0.121871   \n",
       "alcohol              0.199958 -0.036268  0.289360           0.262657   \n",
       "hepatitisB           0.391270 -0.090390  0.167829           0.046093   \n",
       "measles             -0.123043  0.024412 -0.065666          -0.101675   \n",
       "bmi                  0.273612 -0.244626  0.323198           0.200959   \n",
       "polio                0.676507 -0.143756  0.198453           0.141294   \n",
       "diphtheria           1.000000 -0.154179  0.222266           0.157976   \n",
       "hiv                 -0.154179  1.000000 -0.118378           0.009678   \n",
       "gdp                  0.222266 -0.118378  1.000000           0.065364   \n",
       "total_expenditure    0.157976  0.009678  0.065364           1.000000   \n",
       "thinness_till19     -0.189487  0.212890 -0.211979          -0.227917   \n",
       "thinness_till9      -0.186992  0.215126 -0.211198          -0.242793   \n",
       "school               0.430627 -0.232993  0.460247           0.202484   \n",
       "population          -0.035142  0.055527 -0.031481          -0.003154   \n",
       "lifestyle            0.225132 -0.132152  0.333733           0.290530   \n",
       "\n",
       "                   thinness_till19  thinness_till9    school  population  \\\n",
       "life_expectancy          -0.433580       -0.429357  0.708272   -0.105317   \n",
       "year                     -0.059353       -0.055950  0.219471    0.020981   \n",
       "adult_mortality           0.299104        0.302507 -0.383901    0.096768   \n",
       "inf_death                 0.321487        0.354512 -0.214215    0.111901   \n",
       "alcohol                  -0.386629       -0.379482  0.464657   -0.007040   \n",
       "hepatitisB               -0.086406       -0.102546  0.263879   -0.056455   \n",
       "measles                   0.133515        0.137056 -0.089084   -0.005326   \n",
       "bmi                      -0.541904       -0.550691  0.552766   -0.056945   \n",
       "polio                    -0.166819       -0.166363  0.382712   -0.045542   \n",
       "diphtheria               -0.189487       -0.186992  0.430627   -0.035142   \n",
       "hiv                       0.212890        0.215126 -0.232993    0.055527   \n",
       "gdp                      -0.211979       -0.211198  0.460247   -0.031481   \n",
       "total_expenditure        -0.227917       -0.242793  0.202484   -0.003154   \n",
       "thinness_till19           1.000000        0.946814 -0.424922    0.005010   \n",
       "thinness_till9            0.946814        1.000000 -0.422663    0.028971   \n",
       "school                   -0.424922       -0.422663  1.000000   -0.110617   \n",
       "population                0.005010        0.028971 -0.110617    1.000000   \n",
       "lifestyle                -0.449094       -0.443364  0.528939   -0.006494   \n",
       "\n",
       "                   lifestyle  \n",
       "life_expectancy     0.441366  \n",
       "year               -0.017373  \n",
       "adult_mortality    -0.231128  \n",
       "inf_death          -0.156769  \n",
       "alcohol             0.878858  \n",
       "hepatitisB          0.181579  \n",
       "measles            -0.085123  \n",
       "bmi                 0.599062  \n",
       "polio               0.219793  \n",
       "diphtheria          0.225132  \n",
       "hiv                -0.132152  \n",
       "gdp                 0.333733  \n",
       "total_expenditure   0.290530  \n",
       "thinness_till19    -0.449094  \n",
       "thinness_till9     -0.443364  \n",
       "school              0.528939  \n",
       "population         -0.006494  \n",
       "lifestyle           1.000000  "
      ]
     },
     "execution_count": 71,
     "metadata": {},
     "output_type": "execute_result"
    }
   ],
   "source": [
    "# Correlação das variáveis numéricas no conjunto de dados\n",
    "novo_df_dsa.corr()"
   ]
  },
  {
   "cell_type": "code",
   "execution_count": 72,
   "id": "94c5ec65",
   "metadata": {},
   "outputs": [],
   "source": [
    "# Função para filtrar e visualizar correlação\n",
    "def dsa_filtrar_e_visualizar_correlacao(df, threshold, drop_column = None):\n",
    "\n",
    "    # Calcula a matriz de correlação\n",
    "    corr = df.corr()\n",
    "    \n",
    "    # Aplica os filtros de limiar, excluindo a correlação perfeita\n",
    "    filtro = (abs(corr) >= threshold) & (corr != 1.0)\n",
    "    df_filtrado = corr.where(filtro).dropna(how = 'all').dropna(axis = 1, how = 'all')\n",
    "    \n",
    "    # Remove a coluna e linha especificada, se fornecido\n",
    "    if drop_column:\n",
    "        df_filtrado = df_filtrado.drop(index = drop_column, \n",
    "                                       errors = 'ignore').drop(columns = drop_column, \n",
    "                                                               errors = 'ignore')\n",
    "    \n",
    "    # Visualiza o resultado com um heatmap somente com as variáveis que satisfazem o critério de filtro\n",
    "    plt.figure(figsize = (8, 6))\n",
    "    sns.heatmap(df_filtrado, annot = True, cmap = 'coolwarm', center = 0)\n",
    "    plt.show()"
   ]
  },
  {
   "cell_type": "code",
   "execution_count": 73,
   "id": "3e4e2e68",
   "metadata": {},
   "outputs": [
    {
     "data": {
      "image/png": "[encoded data removed]",
      "text/plain": [
       "<Figure size 576x432 with 2 Axes>"
      ]
     },
     "metadata": {
      "needs_background": "light"
     },
     "output_type": "display_data"
    }
   ],
   "source": [
    "# Executa a função\n",
    "dsa_filtrar_e_visualizar_correlacao(novo_df_dsa, threshold = 0.3, drop_column = None)"
   ]
  },
  {
   "cell_type": "markdown",
   "id": "143cfc04",
   "metadata": {},
   "source": [
    "As variáveis adult_mortality, alcohol, bmi, polio, diphtheria, hiv, gdp, thinness_till19, thinness_till9, school e lifestyle atendem ao nosso critério. São as variáveis preditoras com maior correlação com a variável alvo.\n",
    "\n",
    "Agora devemos checar uma das suposições da Regressão Linear e identificar possíveis problemas de multicolinearidade (alta correlação entre as variáveis preditoras). Com base nesse critério eliminamos uma de duas variáveis preditoras altamente correlacionadas. Vamos considerar 0.65 como marca de corte. Vamos filtrar mais uma vez a matriz de correlação."
   ]
  },
  {
   "cell_type": "code",
   "execution_count": 74,
   "id": "92a48fb4",
   "metadata": {},
   "outputs": [
    {
     "data": {
      "image/png": "[encoded data removed]",
      "text/plain": [
       "<Figure size 576x432 with 2 Axes>"
      ]
     },
     "metadata": {
      "needs_background": "light"
     },
     "output_type": "display_data"
    }
   ],
   "source": [
    "# Executa a função\n",
    "dsa_filtrar_e_visualizar_correlacao(novo_df_dsa, threshold = 0.55, drop_column = 'life_expectancy')"
   ]
  },
  {
   "cell_type": "markdown",
   "id": "273d5568",
   "metadata": {},
   "source": [
    "Observedo a alta correlação entre algumas variáveis preditoras."
   ]
  },
  {
   "cell_type": "markdown",
   "id": "640d4363",
   "metadata": {},
   "source": [
    "### Decisão\n",
    "\n",
    "**Primeiro Filtro - Correlação com a Variável Alvo**\n",
    "\n",
    "As variáveis adult_mortality, alcohol, bmi, polio, diphtheria, hiv, gdp, thinness_till19, thinness_till9, school e lifestyle atendem ao nosso primeiro critério. São as variáveis preditoras com maior correlação com a variável alvo.\n",
    "\n",
    "**Segundo Filtro - Multicolinearidade**\n",
    "\n",
    "Com base no filtro de multicolinearidade, as variáveis adult_mortality, diphtheria, hiv, gdp, thinness_till19, school e lifestyle serão as variáveis mantidas para a modelagem estatística."
   ]
  },
  {
   "cell_type": "code",
   "execution_count": 75,
   "id": "6d53c62f",
   "metadata": {},
   "outputs": [],
   "source": [
    "# Preparando o novo dataset\n",
    "novo_df_final = pd.DataFrame({'life_expectancy': novo_df_dsa['life_expectancy'],\n",
    "                              'adult_mortality': novo_df_dsa['adult_mortality'],\n",
    "                              'diphtheria': novo_df_dsa['diphtheria'],\n",
    "                              'hiv': novo_df_dsa['hiv'],\n",
    "                              'gdp': novo_df_dsa['gdp'],\n",
    "                              'thinness_till19': novo_df_dsa['thinness_till19'],\n",
    "                              'school': novo_df_dsa['school'],\n",
    "                              'lifestyle': novo_df_dsa['lifestyle'],})"
   ]
  },
  {
   "cell_type": "code",
   "execution_count": 76,
   "id": "8b07ae77",
   "metadata": {},
   "outputs": [
    {
     "data": {
      "text/html": [
       "<div>\n",
       "<style scoped>\n",
       "    .dataframe tbody tr th:only-of-type {\n",
       "        vertical-align: middle;\n",
       "    }\n",
       "\n",
       "    .dataframe tbody tr th {\n",
       "        vertical-align: top;\n",
       "    }\n",
       "\n",
       "    .dataframe thead th {\n",
       "        text-align: right;\n",
       "    }\n",
       "</style>\n",
       "<table border=\"1\" class=\"dataframe\">\n",
       "  <thead>\n",
       "    <tr style=\"text-align: right;\">\n",
       "      <th></th>\n",
       "      <th>life_expectancy</th>\n",
       "      <th>adult_mortality</th>\n",
       "      <th>diphtheria</th>\n",
       "      <th>hiv</th>\n",
       "      <th>gdp</th>\n",
       "      <th>thinness_till19</th>\n",
       "      <th>school</th>\n",
       "      <th>lifestyle</th>\n",
       "    </tr>\n",
       "  </thead>\n",
       "  <tbody>\n",
       "    <tr>\n",
       "      <th>1</th>\n",
       "      <td>59.9</td>\n",
       "      <td>271.0</td>\n",
       "      <td>62.0</td>\n",
       "      <td>0.1</td>\n",
       "      <td>612.696514</td>\n",
       "      <td>17.5</td>\n",
       "      <td>10.0</td>\n",
       "      <td>0.186</td>\n",
       "    </tr>\n",
       "    <tr>\n",
       "      <th>3</th>\n",
       "      <td>59.5</td>\n",
       "      <td>272.0</td>\n",
       "      <td>67.0</td>\n",
       "      <td>0.1</td>\n",
       "      <td>669.959000</td>\n",
       "      <td>17.9</td>\n",
       "      <td>9.8</td>\n",
       "      <td>0.176</td>\n",
       "    </tr>\n",
       "    <tr>\n",
       "      <th>4</th>\n",
       "      <td>59.2</td>\n",
       "      <td>275.0</td>\n",
       "      <td>68.0</td>\n",
       "      <td>0.1</td>\n",
       "      <td>63.537231</td>\n",
       "      <td>18.2</td>\n",
       "      <td>9.5</td>\n",
       "      <td>0.172</td>\n",
       "    </tr>\n",
       "    <tr>\n",
       "      <th>5</th>\n",
       "      <td>58.8</td>\n",
       "      <td>279.0</td>\n",
       "      <td>66.0</td>\n",
       "      <td>0.1</td>\n",
       "      <td>553.328940</td>\n",
       "      <td>18.4</td>\n",
       "      <td>9.2</td>\n",
       "      <td>0.167</td>\n",
       "    </tr>\n",
       "    <tr>\n",
       "      <th>6</th>\n",
       "      <td>58.6</td>\n",
       "      <td>281.0</td>\n",
       "      <td>63.0</td>\n",
       "      <td>0.1</td>\n",
       "      <td>445.893298</td>\n",
       "      <td>18.6</td>\n",
       "      <td>8.9</td>\n",
       "      <td>0.162</td>\n",
       "    </tr>\n",
       "  </tbody>\n",
       "</table>\n",
       "</div>"
      ],
      "text/plain": [
       "   life_expectancy  adult_mortality  diphtheria  hiv         gdp  \\\n",
       "1             59.9            271.0        62.0  0.1  612.696514   \n",
       "3             59.5            272.0        67.0  0.1  669.959000   \n",
       "4             59.2            275.0        68.0  0.1   63.537231   \n",
       "5             58.8            279.0        66.0  0.1  553.328940   \n",
       "6             58.6            281.0        63.0  0.1  445.893298   \n",
       "\n",
       "   thinness_till19  school  lifestyle  \n",
       "1             17.5    10.0      0.186  \n",
       "3             17.9     9.8      0.176  \n",
       "4             18.2     9.5      0.172  \n",
       "5             18.4     9.2      0.167  \n",
       "6             18.6     8.9      0.162  "
      ]
     },
     "execution_count": 76,
     "metadata": {},
     "output_type": "execute_result"
    }
   ],
   "source": [
    "novo_df_final.head()"
   ]
  },
  {
   "cell_type": "code",
   "execution_count": 77,
   "id": "4d42897b",
   "metadata": {},
   "outputs": [],
   "source": [
    "# Verifica se há valores ausentes\n",
    "missing_values = novo_df_final.isnull().sum().sort_values(ascending = False)"
   ]
  },
  {
   "cell_type": "code",
   "execution_count": 78,
   "id": "f68bb85e",
   "metadata": {},
   "outputs": [
    {
     "data": {
      "text/plain": [
       "life_expectancy    0\n",
       "adult_mortality    0\n",
       "diphtheria         0\n",
       "hiv                0\n",
       "gdp                0\n",
       "thinness_till19    0\n",
       "school             0\n",
       "lifestyle          0\n",
       "dtype: int64"
      ]
     },
     "execution_count": 78,
     "metadata": {},
     "output_type": "execute_result"
    }
   ],
   "source": [
    "missing_values"
   ]
  },
  {
   "cell_type": "code",
   "execution_count": 79,
   "id": "5e8ef086",
   "metadata": {},
   "outputs": [
    {
     "data": {
      "text/plain": [
       "life_expectancy    2023\n",
       "adult_mortality    2023\n",
       "diphtheria         2023\n",
       "hiv                2023\n",
       "gdp                2023\n",
       "thinness_till19    2023\n",
       "school             2023\n",
       "lifestyle          2023\n",
       "dtype: int64"
      ]
     },
     "execution_count": 79,
     "metadata": {},
     "output_type": "execute_result"
    }
   ],
   "source": [
    "# Visualizando o total de linhas por coluna\n",
    "novo_df_final.count()"
   ]
  },
  {
   "cell_type": "code",
   "execution_count": 80,
   "id": "4329bab7",
   "metadata": {},
   "outputs": [
    {
     "data": {
      "text/plain": [
       "life_expectancy    float64\n",
       "adult_mortality    float64\n",
       "diphtheria         float64\n",
       "hiv                float64\n",
       "gdp                float64\n",
       "thinness_till19    float64\n",
       "school             float64\n",
       "lifestyle          float64\n",
       "dtype: object"
      ]
     },
     "execution_count": 80,
     "metadata": {},
     "output_type": "execute_result"
    }
   ],
   "source": [
    "novo_df_final.dtypes"
   ]
  },
  {
   "cell_type": "code",
   "execution_count": 81,
   "id": "862ae0cc",
   "metadata": {},
   "outputs": [
    {
     "data": {
      "text/plain": [
       "(2023, 8)"
      ]
     },
     "execution_count": 81,
     "metadata": {},
     "output_type": "execute_result"
    }
   ],
   "source": [
    "novo_df_final.shape"
   ]
  },
  {
   "cell_type": "markdown",
   "id": "bf57b2de",
   "metadata": {},
   "source": [
    "## Usando Machine Learning Para Encontrar as Variáveis Mais Relevantes\n",
    "\n",
    "O algoritmo RandomForest, que é um tipo de algoritmo de aprendizado de máquina baseado em árvores de decisão, é considerado uma boa opção para encontrar as variáveis mais relevantes (ou \"importantes\") em um dataset por várias razões:\n",
    "\n",
    "    - Redução de variância: O RandomForest combina várias árvores de decisão, cada uma construída com uma amostra aleatória do dataset. Isso ajuda a reduzir a variância e a evitar o overfitting, o que significa que o modelo pode generalizar melhor para novos dados.\n",
    "\n",
    "    - Importância de variáveis: Durante a construção das árvores, o RandomForest avalia a importância de cada variável com base em quanto ela contribui para a melhoria da pureza dos nós (por exemplo, usando o ganho de informação ou a redução da impureza de Gini). Essa avaliação é agregada em todas as árvores para fornecer uma medida de importância para cada variável.\n",
    "\n",
    "    - Robustez a ruídos e outliers: Como o RandomForest é baseado em árvores de decisão, ele é naturalmente robusto a ruídos e outliers nos dados. Isso o torna uma opção confiável para identificar variáveis importantes, mesmo em datasets com essas características.\n",
    "\n",
    "    - Facilidade de interpretação: As medidas de importância de variáveis geradas pelo RandomForest são fáceis de interpretar, o que facilita a compreensão de quais variáveis são mais relevantes para a tarefa em questão.\n",
    "\n",
    "    - Flexibilidade: O RandomForest pode lidar com diferentes tipos de dados (numéricos, categóricos) e é adequado para uma variedade de tarefas de aprendizado de máquina, como classificação e regressão.\n",
    "\n",
    "**Por essas razões, o RandomForest é frequentemente utilizado para selecionar as variáveis mais relevantes em um dataset, o que pode ajudar a simplificar o modelo e melhorar seu desempenho em tarefas de predição.**"
   ]
  },
  {
   "cell_type": "code",
   "execution_count": 82,
   "id": "5558cc97",
   "metadata": {},
   "outputs": [],
   "source": [
    "# Separando variáveis independentes (X) e dependente (y)\n",
    "X = novo_df_final.drop(\"life_expectancy\", axis = 1)\n",
    "y = novo_df_final['life_expectancy']"
   ]
  },
  {
   "cell_type": "code",
   "execution_count": 83,
   "id": "e3ef5f46",
   "metadata": {},
   "outputs": [],
   "source": [
    "# Dividindo os dados em treino e teste\n",
    "X_train, X_test, y_train, y_test = train_test_split(X, y, test_size = 0.2, random_state = 42)"
   ]
  },
  {
   "cell_type": "code",
   "execution_count": 84,
   "id": "b1639bc6",
   "metadata": {},
   "outputs": [
    {
     "data": {
      "text/html": [
       "<style>#sk-container-id-1 {color: black;background-color: white;}#sk-container-id-1 pre{padding: 0;}#sk-container-id-1 div.sk-toggleable {background-color: white;}#sk-container-id-1 label.sk-toggleable__label {cursor: pointer;display: block;width: 100%;margin-bottom: 0;padding: 0.3em;box-sizing: border-box;text-align: center;}#sk-container-id-1 label.sk-toggleable__label-arrow:before {content: \"▸\";float: left;margin-right: 0.25em;color: #696969;}#sk-container-id-1 label.sk-toggleable__label-arrow:hover:before {color: black;}#sk-container-id-1 div.sk-estimator:hover label.sk-toggleable__label-arrow:before {color: black;}#sk-container-id-1 div.sk-toggleable__content {max-height: 0;max-width: 0;overflow: hidden;text-align: left;background-color: #f0f8ff;}#sk-container-id-1 div.sk-toggleable__content pre {margin: 0.2em;color: black;border-radius: 0.25em;background-color: #f0f8ff;}#sk-container-id-1 input.sk-toggleable__control:checked~div.sk-toggleable__content {max-height: 200px;max-width: 100%;overflow: auto;}#sk-container-id-1 input.sk-toggleable__control:checked~label.sk-toggleable__label-arrow:before {content: \"▾\";}#sk-container-id-1 div.sk-estimator input.sk-toggleable__control:checked~label.sk-toggleable__label {background-color: #d4ebff;}#sk-container-id-1 div.sk-label input.sk-toggleable__control:checked~label.sk-toggleable__label {background-color: #d4ebff;}#sk-container-id-1 input.sk-hidden--visually {border: 0;clip: rect(1px 1px 1px 1px);clip: rect(1px, 1px, 1px, 1px);height: 1px;margin: -1px;overflow: hidden;padding: 0;position: absolute;width: 1px;}#sk-container-id-1 div.sk-estimator {font-family: monospace;background-color: #f0f8ff;border: 1px dotted black;border-radius: 0.25em;box-sizing: border-box;margin-bottom: 0.5em;}#sk-container-id-1 div.sk-estimator:hover {background-color: #d4ebff;}#sk-container-id-1 div.sk-parallel-item::after {content: \"\";width: 100%;border-bottom: 1px solid gray;flex-grow: 1;}#sk-container-id-1 div.sk-label:hover label.sk-toggleable__label {background-color: #d4ebff;}#sk-container-id-1 div.sk-serial::before {content: \"\";position: absolute;border-left: 1px solid gray;box-sizing: border-box;top: 0;bottom: 0;left: 50%;z-index: 0;}#sk-container-id-1 div.sk-serial {display: flex;flex-direction: column;align-items: center;background-color: white;padding-right: 0.2em;padding-left: 0.2em;position: relative;}#sk-container-id-1 div.sk-item {position: relative;z-index: 1;}#sk-container-id-1 div.sk-parallel {display: flex;align-items: stretch;justify-content: center;background-color: white;position: relative;}#sk-container-id-1 div.sk-item::before, #sk-container-id-1 div.sk-parallel-item::before {content: \"\";position: absolute;border-left: 1px solid gray;box-sizing: border-box;top: 0;bottom: 0;left: 50%;z-index: -1;}#sk-container-id-1 div.sk-parallel-item {display: flex;flex-direction: column;z-index: 1;position: relative;background-color: white;}#sk-container-id-1 div.sk-parallel-item:first-child::after {align-self: flex-end;width: 50%;}#sk-container-id-1 div.sk-parallel-item:last-child::after {align-self: flex-start;width: 50%;}#sk-container-id-1 div.sk-parallel-item:only-child::after {width: 0;}#sk-container-id-1 div.sk-dashed-wrapped {border: 1px dashed gray;margin: 0 0.4em 0.5em 0.4em;box-sizing: border-box;padding-bottom: 0.4em;background-color: white;}#sk-container-id-1 div.sk-label label {font-family: monospace;font-weight: bold;display: inline-block;line-height: 1.2em;}#sk-container-id-1 div.sk-label-container {text-align: center;}#sk-container-id-1 div.sk-container {/* jupyter's `normalize.less` sets `[hidden] { display: none; }` but bootstrap.min.css set `[hidden] { display: none !important; }` so we also need the `!important` here to be able to override the default hidden behavior on the sphinx rendered scikit-learn.org. See: https://github.com/scikit-learn/scikit-learn/issues/21755 */display: inline-block !important;position: relative;}#sk-container-id-1 div.sk-text-repr-fallback {display: none;}</style><div id=\"sk-container-id-1\" class=\"sk-top-container\"><div class=\"sk-text-repr-fallback\"><pre>RandomForestRegressor(random_state=42)</pre><b>In a Jupyter environment, please rerun this cell to show the HTML representation or trust the notebook. <br />On GitHub, the HTML representation is unable to render, please try loading this page with nbviewer.org.</b></div><div class=\"sk-container\" hidden><div class=\"sk-item\"><div class=\"sk-estimator sk-toggleable\"><input class=\"sk-toggleable__control sk-hidden--visually\" id=\"sk-estimator-id-1\" type=\"checkbox\" checked><label for=\"sk-estimator-id-1\" class=\"sk-toggleable__label sk-toggleable__label-arrow\">RandomForestRegressor</label><div class=\"sk-toggleable__content\"><pre>RandomForestRegressor(random_state=42)</pre></div></div></div></div></div>"
      ],
      "text/plain": [
       "RandomForestRegressor(random_state=42)"
      ]
     },
     "execution_count": 84,
     "metadata": {},
     "output_type": "execute_result"
    }
   ],
   "source": [
    "# Iniciando e treinado o RandomForestRegressor\n",
    "modelo = RandomForestRegressor(n_estimators = 100, random_state = 42)\n",
    "modelo.fit(X_train, y_train)"
   ]
  },
  {
   "cell_type": "code",
   "execution_count": 85,
   "id": "e1715581",
   "metadata": {},
   "outputs": [],
   "source": [
    "# Fazendo previsões com o conjunto de teste\n",
    "y_pred = modelo.predict(X_test)"
   ]
  },
  {
   "cell_type": "code",
   "execution_count": 86,
   "id": "c523bde9",
   "metadata": {},
   "outputs": [],
   "source": [
    "# Avaliando o modelo\n",
    "mse = metrics.mean_squared_error(y_test, y_pred)\n",
    "rmse = np.sqrt(mse)"
   ]
  },
  {
   "cell_type": "code",
   "execution_count": 87,
   "id": "621108d8",
   "metadata": {},
   "outputs": [
    {
     "name": "stdout",
     "output_type": "stream",
     "text": [
      "RMSE: 2.0023653247664783\n"
     ]
    }
   ],
   "source": [
    "print(f\"RMSE: {rmse}\")"
   ]
  },
  {
   "cell_type": "code",
   "execution_count": 88,
   "id": "efeef40b",
   "metadata": {},
   "outputs": [
    {
     "name": "stdout",
     "output_type": "stream",
     "text": [
      "R2 Score: 0.9535079541206163\n"
     ]
    }
   ],
   "source": [
    "print('R2 Score:', metrics.r2_score(y_test, y_pred))"
   ]
  },
  {
   "cell_type": "code",
   "execution_count": 89,
   "id": "9e3b99cb",
   "metadata": {},
   "outputs": [],
   "source": [
    "# Identificando a importância das variáveis\n",
    "importancias = modelo.feature_importances_\n",
    "variaveis = X.columns"
   ]
  },
  {
   "cell_type": "code",
   "execution_count": 90,
   "id": "70c6af7a",
   "metadata": {},
   "outputs": [],
   "source": [
    "# Dataframe das variáveis mais relevantes\n",
    "importancias_df = pd.DataFrame({'Variável': variaveis, \n",
    "                                'Importância': importancias}).sort_values(by = 'Importância', \n",
    "                                                                          ascending = False)"
   ]
  },
  {
   "cell_type": "code",
   "execution_count": 91,
   "id": "a656d8c5",
   "metadata": {},
   "outputs": [
    {
     "name": "stdout",
     "output_type": "stream",
     "text": [
      "          Variável  Importância\n",
      "2              hiv     0.607101\n",
      "0  adult_mortality     0.224181\n",
      "5           school     0.073162\n",
      "4  thinness_till19     0.037829\n",
      "6        lifestyle     0.031248\n",
      "1       diphtheria     0.017064\n",
      "3              gdp     0.009415\n"
     ]
    }
   ],
   "source": [
    "print(importancias_df)"
   ]
  },
  {
   "cell_type": "markdown",
   "id": "9932ad46",
   "metadata": {},
   "source": [
    "Os resultados mostram a importância relativa das variáveis no modelo RandomForest. A importância é uma medida de quanto cada variável contribui para a precisão do modelo. Aqui está uma interpretação dos resultados, ordenados do mais ao menos importante:\n",
    "\n",
    "**HIV**: Esta é a variável mais importante, com uma contribuição de aproximadamente 60.71% para a performance do modelo. Isso indica que a prevalência do HIV no conjunto de dados tem o maior impacto na expectativa de vida, o que é consistente com o entendimento geral de que o HIV é uma grave questão de saúde pública que pode reduzir significativamente a expectativa de vida.\n",
    "\n",
    "**Adult Mortality**: A mortalidade adulta é a segunda variável mais importante, contribuindo com cerca de 22.42% para a precisão do modelo. Isso sugere que as taxas de mortalidade entre adultos têm um impacto significativo na determinação da expectativa de vida, o que faz sentido, pois taxas mais altas de mortalidade adulta geralmente indicam condições de saúde e de vida piores.\n",
    "\n",
    "**School**: A escolaridade aparece como a terceira variável em termos de importância, com 7.32%. Isso pode refletir o papel da educação na promoção de estilos de vida saudáveis e no acesso a melhores cuidados de saúde, ambos fatores que podem contribuir para uma maior expectativa de vida.\n",
    "\n",
    "**Thinness till 19**: A magreza até os 19 anos tem uma importância de 3.78%, indicando uma relação menor, mas ainda assim relevante, com a expectativa de vida. Isso pode estar relacionado a questões nutricionais e de saúde durante os anos formativos, que podem ter efeitos duradouros na saúde geral.\n",
    "\n",
    "**Lifestyle**: O estilo de vida tem uma contribuição de 3.12%, sugerindo que fatores relacionados ao estilo de vida, possivelmente capturados por esta variável, têm um impacto moderado na expectativa de vida.\n",
    "\n",
    "**Diphtheria**: A importância da taxa de vacinação contra a difteria é relativamente baixa. No entanto, isso pode refletir altas taxas de imunização ou a eficácia dos tratamentos disponíveis.\n",
    "\n",
    "**GDP**: O Produto Interno Bruto (PIB) tem a menor importância no modelo, com apenas 0.94%. Isso pode indicar que, dentro do conjunto de dados específico e no contexto das outras variáveis incluídas, a riqueza econômica do país é menos diretamente relacionada à expectativa de vida do que os fatores de saúde e educação.\n",
    "\n",
    "Vamos remover do dataset a variável menos relevante, gdp nesse caso."
   ]
  },
  {
   "cell_type": "code",
   "execution_count": 92,
   "id": "4f99d422",
   "metadata": {},
   "outputs": [],
   "source": [
    "# Remove a coluna gdp\n",
    "novo_df_final = novo_df_final.drop('gdp', axis = 1)"
   ]
  },
  {
   "cell_type": "code",
   "execution_count": 93,
   "id": "56671bdf",
   "metadata": {},
   "outputs": [
    {
     "data": {
      "text/html": [
       "<div>\n",
       "<style scoped>\n",
       "    .dataframe tbody tr th:only-of-type {\n",
       "        vertical-align: middle;\n",
       "    }\n",
       "\n",
       "    .dataframe tbody tr th {\n",
       "        vertical-align: top;\n",
       "    }\n",
       "\n",
       "    .dataframe thead th {\n",
       "        text-align: right;\n",
       "    }\n",
       "</style>\n",
       "<table border=\"1\" class=\"dataframe\">\n",
       "  <thead>\n",
       "    <tr style=\"text-align: right;\">\n",
       "      <th></th>\n",
       "      <th>life_expectancy</th>\n",
       "      <th>adult_mortality</th>\n",
       "      <th>diphtheria</th>\n",
       "      <th>hiv</th>\n",
       "      <th>thinness_till19</th>\n",
       "      <th>school</th>\n",
       "      <th>lifestyle</th>\n",
       "    </tr>\n",
       "  </thead>\n",
       "  <tbody>\n",
       "    <tr>\n",
       "      <th>1</th>\n",
       "      <td>59.9</td>\n",
       "      <td>271.0</td>\n",
       "      <td>62.0</td>\n",
       "      <td>0.1</td>\n",
       "      <td>17.5</td>\n",
       "      <td>10.0</td>\n",
       "      <td>0.186</td>\n",
       "    </tr>\n",
       "    <tr>\n",
       "      <th>3</th>\n",
       "      <td>59.5</td>\n",
       "      <td>272.0</td>\n",
       "      <td>67.0</td>\n",
       "      <td>0.1</td>\n",
       "      <td>17.9</td>\n",
       "      <td>9.8</td>\n",
       "      <td>0.176</td>\n",
       "    </tr>\n",
       "    <tr>\n",
       "      <th>4</th>\n",
       "      <td>59.2</td>\n",
       "      <td>275.0</td>\n",
       "      <td>68.0</td>\n",
       "      <td>0.1</td>\n",
       "      <td>18.2</td>\n",
       "      <td>9.5</td>\n",
       "      <td>0.172</td>\n",
       "    </tr>\n",
       "    <tr>\n",
       "      <th>5</th>\n",
       "      <td>58.8</td>\n",
       "      <td>279.0</td>\n",
       "      <td>66.0</td>\n",
       "      <td>0.1</td>\n",
       "      <td>18.4</td>\n",
       "      <td>9.2</td>\n",
       "      <td>0.167</td>\n",
       "    </tr>\n",
       "    <tr>\n",
       "      <th>6</th>\n",
       "      <td>58.6</td>\n",
       "      <td>281.0</td>\n",
       "      <td>63.0</td>\n",
       "      <td>0.1</td>\n",
       "      <td>18.6</td>\n",
       "      <td>8.9</td>\n",
       "      <td>0.162</td>\n",
       "    </tr>\n",
       "  </tbody>\n",
       "</table>\n",
       "</div>"
      ],
      "text/plain": [
       "   life_expectancy  adult_mortality  diphtheria  hiv  thinness_till19  school  \\\n",
       "1             59.9            271.0        62.0  0.1             17.5    10.0   \n",
       "3             59.5            272.0        67.0  0.1             17.9     9.8   \n",
       "4             59.2            275.0        68.0  0.1             18.2     9.5   \n",
       "5             58.8            279.0        66.0  0.1             18.4     9.2   \n",
       "6             58.6            281.0        63.0  0.1             18.6     8.9   \n",
       "\n",
       "   lifestyle  \n",
       "1      0.186  \n",
       "3      0.176  \n",
       "4      0.172  \n",
       "5      0.167  \n",
       "6      0.162  "
      ]
     },
     "execution_count": 93,
     "metadata": {},
     "output_type": "execute_result"
    }
   ],
   "source": [
    "novo_df_final.head()"
   ]
  },
  {
   "cell_type": "markdown",
   "id": "37adf2ef",
   "metadata": {},
   "source": [
    "### Pré-processamento dos dados"
   ]
  },
  {
   "cell_type": "code",
   "execution_count": 94,
   "id": "20f5ecd9",
   "metadata": {},
   "outputs": [],
   "source": [
    "# Split dos dados em X e Y\n",
    "X = novo_df_final[['hiv', 'adult_mortality', 'school', 'thinness_till19', 'lifestyle', 'diphtheria']].values\n",
    "y = novo_df_final.life_expectancy.values.reshape(-1,1)"
   ]
  },
  {
   "cell_type": "code",
   "execution_count": 95,
   "id": "15b3452d",
   "metadata": {},
   "outputs": [],
   "source": [
    "# Split em treino e teste\n",
    "x_treino, x_teste, y_treino, y_teste = train_test_split(X, y, test_size = 0.2, random_state = 0)"
   ]
  },
  {
   "cell_type": "code",
   "execution_count": 96,
   "id": "545c9db6",
   "metadata": {},
   "outputs": [
    {
     "data": {
      "text/plain": [
       "1618"
      ]
     },
     "execution_count": 96,
     "metadata": {},
     "output_type": "execute_result"
    }
   ],
   "source": [
    "len(x_treino)"
   ]
  },
  {
   "cell_type": "code",
   "execution_count": 97,
   "id": "7373548c",
   "metadata": {},
   "outputs": [
    {
     "data": {
      "text/plain": [
       "1618"
      ]
     },
     "execution_count": 97,
     "metadata": {},
     "output_type": "execute_result"
    }
   ],
   "source": [
    "len(y_treino)"
   ]
  },
  {
   "cell_type": "code",
   "execution_count": 98,
   "id": "121643d4",
   "metadata": {},
   "outputs": [
    {
     "data": {
      "text/plain": [
       "405"
      ]
     },
     "execution_count": 98,
     "metadata": {},
     "output_type": "execute_result"
    }
   ],
   "source": [
    "len(x_teste)"
   ]
  },
  {
   "cell_type": "code",
   "execution_count": 99,
   "id": "673f8b1d",
   "metadata": {},
   "outputs": [
    {
     "data": {
      "text/plain": [
       "405"
      ]
     },
     "execution_count": 99,
     "metadata": {},
     "output_type": "execute_result"
    }
   ],
   "source": [
    "len(y_teste)"
   ]
  },
  {
   "cell_type": "code",
   "execution_count": 100,
   "id": "f3dbacc5",
   "metadata": {},
   "outputs": [],
   "source": [
    "# Criamos o padronizador\n",
    "dsa_scaler = StandardScaler()"
   ]
  },
  {
   "cell_type": "code",
   "execution_count": 101,
   "id": "6beb218f",
   "metadata": {},
   "outputs": [
    {
     "data": {
      "text/html": [
       "<style>#sk-container-id-2 {color: black;background-color: white;}#sk-container-id-2 pre{padding: 0;}#sk-container-id-2 div.sk-toggleable {background-color: white;}#sk-container-id-2 label.sk-toggleable__label {cursor: pointer;display: block;width: 100%;margin-bottom: 0;padding: 0.3em;box-sizing: border-box;text-align: center;}#sk-container-id-2 label.sk-toggleable__label-arrow:before {content: \"▸\";float: left;margin-right: 0.25em;color: #696969;}#sk-container-id-2 label.sk-toggleable__label-arrow:hover:before {color: black;}#sk-container-id-2 div.sk-estimator:hover label.sk-toggleable__label-arrow:before {color: black;}#sk-container-id-2 div.sk-toggleable__content {max-height: 0;max-width: 0;overflow: hidden;text-align: left;background-color: #f0f8ff;}#sk-container-id-2 div.sk-toggleable__content pre {margin: 0.2em;color: black;border-radius: 0.25em;background-color: #f0f8ff;}#sk-container-id-2 input.sk-toggleable__control:checked~div.sk-toggleable__content {max-height: 200px;max-width: 100%;overflow: auto;}#sk-container-id-2 input.sk-toggleable__control:checked~label.sk-toggleable__label-arrow:before {content: \"▾\";}#sk-container-id-2 div.sk-estimator input.sk-toggleable__control:checked~label.sk-toggleable__label {background-color: #d4ebff;}#sk-container-id-2 div.sk-label input.sk-toggleable__control:checked~label.sk-toggleable__label {background-color: #d4ebff;}#sk-container-id-2 input.sk-hidden--visually {border: 0;clip: rect(1px 1px 1px 1px);clip: rect(1px, 1px, 1px, 1px);height: 1px;margin: -1px;overflow: hidden;padding: 0;position: absolute;width: 1px;}#sk-container-id-2 div.sk-estimator {font-family: monospace;background-color: #f0f8ff;border: 1px dotted black;border-radius: 0.25em;box-sizing: border-box;margin-bottom: 0.5em;}#sk-container-id-2 div.sk-estimator:hover {background-color: #d4ebff;}#sk-container-id-2 div.sk-parallel-item::after {content: \"\";width: 100%;border-bottom: 1px solid gray;flex-grow: 1;}#sk-container-id-2 div.sk-label:hover label.sk-toggleable__label {background-color: #d4ebff;}#sk-container-id-2 div.sk-serial::before {content: \"\";position: absolute;border-left: 1px solid gray;box-sizing: border-box;top: 0;bottom: 0;left: 50%;z-index: 0;}#sk-container-id-2 div.sk-serial {display: flex;flex-direction: column;align-items: center;background-color: white;padding-right: 0.2em;padding-left: 0.2em;position: relative;}#sk-container-id-2 div.sk-item {position: relative;z-index: 1;}#sk-container-id-2 div.sk-parallel {display: flex;align-items: stretch;justify-content: center;background-color: white;position: relative;}#sk-container-id-2 div.sk-item::before, #sk-container-id-2 div.sk-parallel-item::before {content: \"\";position: absolute;border-left: 1px solid gray;box-sizing: border-box;top: 0;bottom: 0;left: 50%;z-index: -1;}#sk-container-id-2 div.sk-parallel-item {display: flex;flex-direction: column;z-index: 1;position: relative;background-color: white;}#sk-container-id-2 div.sk-parallel-item:first-child::after {align-self: flex-end;width: 50%;}#sk-container-id-2 div.sk-parallel-item:last-child::after {align-self: flex-start;width: 50%;}#sk-container-id-2 div.sk-parallel-item:only-child::after {width: 0;}#sk-container-id-2 div.sk-dashed-wrapped {border: 1px dashed gray;margin: 0 0.4em 0.5em 0.4em;box-sizing: border-box;padding-bottom: 0.4em;background-color: white;}#sk-container-id-2 div.sk-label label {font-family: monospace;font-weight: bold;display: inline-block;line-height: 1.2em;}#sk-container-id-2 div.sk-label-container {text-align: center;}#sk-container-id-2 div.sk-container {/* jupyter's `normalize.less` sets `[hidden] { display: none; }` but bootstrap.min.css set `[hidden] { display: none !important; }` so we also need the `!important` here to be able to override the default hidden behavior on the sphinx rendered scikit-learn.org. See: https://github.com/scikit-learn/scikit-learn/issues/21755 */display: inline-block !important;position: relative;}#sk-container-id-2 div.sk-text-repr-fallback {display: none;}</style><div id=\"sk-container-id-2\" class=\"sk-top-container\"><div class=\"sk-text-repr-fallback\"><pre>StandardScaler()</pre><b>In a Jupyter environment, please rerun this cell to show the HTML representation or trust the notebook. <br />On GitHub, the HTML representation is unable to render, please try loading this page with nbviewer.org.</b></div><div class=\"sk-container\" hidden><div class=\"sk-item\"><div class=\"sk-estimator sk-toggleable\"><input class=\"sk-toggleable__control sk-hidden--visually\" id=\"sk-estimator-id-2\" type=\"checkbox\" checked><label for=\"sk-estimator-id-2\" class=\"sk-toggleable__label sk-toggleable__label-arrow\">StandardScaler</label><div class=\"sk-toggleable__content\"><pre>StandardScaler()</pre></div></div></div></div></div>"
      ],
      "text/plain": [
       "StandardScaler()"
      ]
     },
     "execution_count": 101,
     "metadata": {},
     "output_type": "execute_result"
    }
   ],
   "source": [
    "# Fazemos o Fit somente com dados de treino\n",
    "dsa_scaler.fit(x_treino)"
   ]
  },
  {
   "cell_type": "code",
   "execution_count": 102,
   "id": "3d4216d0",
   "metadata": {},
   "outputs": [],
   "source": [
    "# Aplicamos o scaler nos dados de treino e teste\n",
    "x_treino_scaled = dsa_scaler.transform(x_treino)\n",
    "x_teste_scaled = dsa_scaler.transform(x_teste)"
   ]
  },
  {
   "cell_type": "code",
   "execution_count": 103,
   "id": "13156e7a",
   "metadata": {},
   "outputs": [
    {
     "data": {
      "text/plain": [
       "array([[-0.34334205, -0.85524839,  0.10802935, -0.86204293, -0.84891799,\n",
       "         0.70515531],\n",
       "       [ 0.64880751,  1.68585097, -2.61357537,  0.93586882, -0.47324134,\n",
       "        -0.14714147],\n",
       "       [-0.34334205, -0.22594793,  1.03910464, -0.39409329,  0.93636789,\n",
       "         0.70515531],\n",
       "       ...,\n",
       "       [-0.19070365,  1.35925199,  0.10802935,  0.66495062, -0.8494992 ,\n",
       "        -3.79307769],\n",
       "       [ 0.11457313,  0.02099276,  0.14383993, -0.29557758,  0.50064623,\n",
       "        -0.28919093],\n",
       "       [-0.05714506,  0.73791735, -1.03790948,  0.64032169, -0.84916572,\n",
       "         0.61045567]])"
      ]
     },
     "execution_count": 103,
     "metadata": {},
     "output_type": "execute_result"
    }
   ],
   "source": [
    "x_treino_scaled"
   ]
  },
  {
   "cell_type": "code",
   "execution_count": 104,
   "id": "3d06d5d2",
   "metadata": {},
   "outputs": [
    {
     "data": {
      "text/plain": [
       "(1618, 6)"
      ]
     },
     "execution_count": 104,
     "metadata": {},
     "output_type": "execute_result"
    }
   ],
   "source": [
    "x_treino_scaled.shape"
   ]
  },
  {
   "cell_type": "code",
   "execution_count": 105,
   "id": "bec2400a",
   "metadata": {},
   "outputs": [
    {
     "data": {
      "text/plain": [
       "(405, 6)"
      ]
     },
     "execution_count": 105,
     "metadata": {},
     "output_type": "execute_result"
    }
   ],
   "source": [
    "x_teste_scaled.shape"
   ]
  },
  {
   "cell_type": "markdown",
   "id": "8195dc40",
   "metadata": {},
   "source": [
    "## Modelagem Preditiva\n",
    "\n",
    "- Crição de mais de uma versão do modelo e escolher o melhor modelo de acordo com as métricas."
   ]
  },
  {
   "cell_type": "markdown",
   "id": "b3dd74a9",
   "metadata": {},
   "source": [
    "#### Versão 1 do modelo - Modelo Padrão Benchmark"
   ]
  },
  {
   "cell_type": "code",
   "execution_count": 106,
   "id": "2a220947",
   "metadata": {},
   "outputs": [],
   "source": [
    "# Cria o modelo\n",
    "modelo_dsa_v1 = LinearRegression()"
   ]
  },
  {
   "cell_type": "code",
   "execution_count": 107,
   "id": "3bf19675",
   "metadata": {},
   "outputs": [
    {
     "data": {
      "text/html": [
       "<style>#sk-container-id-3 {color: black;background-color: white;}#sk-container-id-3 pre{padding: 0;}#sk-container-id-3 div.sk-toggleable {background-color: white;}#sk-container-id-3 label.sk-toggleable__label {cursor: pointer;display: block;width: 100%;margin-bottom: 0;padding: 0.3em;box-sizing: border-box;text-align: center;}#sk-container-id-3 label.sk-toggleable__label-arrow:before {content: \"▸\";float: left;margin-right: 0.25em;color: #696969;}#sk-container-id-3 label.sk-toggleable__label-arrow:hover:before {color: black;}#sk-container-id-3 div.sk-estimator:hover label.sk-toggleable__label-arrow:before {color: black;}#sk-container-id-3 div.sk-toggleable__content {max-height: 0;max-width: 0;overflow: hidden;text-align: left;background-color: #f0f8ff;}#sk-container-id-3 div.sk-toggleable__content pre {margin: 0.2em;color: black;border-radius: 0.25em;background-color: #f0f8ff;}#sk-container-id-3 input.sk-toggleable__control:checked~div.sk-toggleable__content {max-height: 200px;max-width: 100%;overflow: auto;}#sk-container-id-3 input.sk-toggleable__control:checked~label.sk-toggleable__label-arrow:before {content: \"▾\";}#sk-container-id-3 div.sk-estimator input.sk-toggleable__control:checked~label.sk-toggleable__label {background-color: #d4ebff;}#sk-container-id-3 div.sk-label input.sk-toggleable__control:checked~label.sk-toggleable__label {background-color: #d4ebff;}#sk-container-id-3 input.sk-hidden--visually {border: 0;clip: rect(1px 1px 1px 1px);clip: rect(1px, 1px, 1px, 1px);height: 1px;margin: -1px;overflow: hidden;padding: 0;position: absolute;width: 1px;}#sk-container-id-3 div.sk-estimator {font-family: monospace;background-color: #f0f8ff;border: 1px dotted black;border-radius: 0.25em;box-sizing: border-box;margin-bottom: 0.5em;}#sk-container-id-3 div.sk-estimator:hover {background-color: #d4ebff;}#sk-container-id-3 div.sk-parallel-item::after {content: \"\";width: 100%;border-bottom: 1px solid gray;flex-grow: 1;}#sk-container-id-3 div.sk-label:hover label.sk-toggleable__label {background-color: #d4ebff;}#sk-container-id-3 div.sk-serial::before {content: \"\";position: absolute;border-left: 1px solid gray;box-sizing: border-box;top: 0;bottom: 0;left: 50%;z-index: 0;}#sk-container-id-3 div.sk-serial {display: flex;flex-direction: column;align-items: center;background-color: white;padding-right: 0.2em;padding-left: 0.2em;position: relative;}#sk-container-id-3 div.sk-item {position: relative;z-index: 1;}#sk-container-id-3 div.sk-parallel {display: flex;align-items: stretch;justify-content: center;background-color: white;position: relative;}#sk-container-id-3 div.sk-item::before, #sk-container-id-3 div.sk-parallel-item::before {content: \"\";position: absolute;border-left: 1px solid gray;box-sizing: border-box;top: 0;bottom: 0;left: 50%;z-index: -1;}#sk-container-id-3 div.sk-parallel-item {display: flex;flex-direction: column;z-index: 1;position: relative;background-color: white;}#sk-container-id-3 div.sk-parallel-item:first-child::after {align-self: flex-end;width: 50%;}#sk-container-id-3 div.sk-parallel-item:last-child::after {align-self: flex-start;width: 50%;}#sk-container-id-3 div.sk-parallel-item:only-child::after {width: 0;}#sk-container-id-3 div.sk-dashed-wrapped {border: 1px dashed gray;margin: 0 0.4em 0.5em 0.4em;box-sizing: border-box;padding-bottom: 0.4em;background-color: white;}#sk-container-id-3 div.sk-label label {font-family: monospace;font-weight: bold;display: inline-block;line-height: 1.2em;}#sk-container-id-3 div.sk-label-container {text-align: center;}#sk-container-id-3 div.sk-container {/* jupyter's `normalize.less` sets `[hidden] { display: none; }` but bootstrap.min.css set `[hidden] { display: none !important; }` so we also need the `!important` here to be able to override the default hidden behavior on the sphinx rendered scikit-learn.org. See: https://github.com/scikit-learn/scikit-learn/issues/21755 */display: inline-block !important;position: relative;}#sk-container-id-3 div.sk-text-repr-fallback {display: none;}</style><div id=\"sk-container-id-3\" class=\"sk-top-container\"><div class=\"sk-text-repr-fallback\"><pre>LinearRegression()</pre><b>In a Jupyter environment, please rerun this cell to show the HTML representation or trust the notebook. <br />On GitHub, the HTML representation is unable to render, please try loading this page with nbviewer.org.</b></div><div class=\"sk-container\" hidden><div class=\"sk-item\"><div class=\"sk-estimator sk-toggleable\"><input class=\"sk-toggleable__control sk-hidden--visually\" id=\"sk-estimator-id-3\" type=\"checkbox\" checked><label for=\"sk-estimator-id-3\" class=\"sk-toggleable__label sk-toggleable__label-arrow\">LinearRegression</label><div class=\"sk-toggleable__content\"><pre>LinearRegression()</pre></div></div></div></div></div>"
      ],
      "text/plain": [
       "LinearRegression()"
      ]
     },
     "execution_count": 107,
     "metadata": {},
     "output_type": "execute_result"
    }
   ],
   "source": [
    "# Treinamento do modelo\n",
    "modelo_dsa_v1.fit(x_treino_scaled, y_treino)"
   ]
  },
  {
   "cell_type": "code",
   "execution_count": 108,
   "id": "06de6bf9",
   "metadata": {},
   "outputs": [
    {
     "name": "stdout",
     "output_type": "stream",
     "text": [
      "Coeficientes:  [[-2.60945231 -2.55990637  3.69012812 -0.50572504  0.51432364  1.65310184]]\n"
     ]
    }
   ],
   "source": [
    "# o que o modelo aprender\n",
    "print('Coeficientes: ', modelo_dsa_v1.coef_)"
   ]
  },
  {
   "cell_type": "code",
   "execution_count": 109,
   "id": "8695cd8a",
   "metadata": {},
   "outputs": [],
   "source": [
    "# Previsões com dados de treino\n",
    "y_pred_treino_v1 = modelo_dsa_v1.predict(x_treino_scaled)"
   ]
  },
  {
   "cell_type": "code",
   "execution_count": 110,
   "id": "aafda639",
   "metadata": {},
   "outputs": [
    {
     "name": "stdout",
     "output_type": "stream",
     "text": [
      "Mean Absolute Error: 3.2946474021136094\n",
      "Mean Squared Error: 19.412560335553625\n",
      "Root Mean Squared Error: 4.405968717042102\n",
      "R2 Score: 0.7690571526327722\n"
     ]
    }
   ],
   "source": [
    "# Print das métricas em treino\n",
    "print('Mean Absolute Error:', metrics.mean_absolute_error(y_treino, y_pred_treino_v1))\n",
    "print('Mean Squared Error:', metrics.mean_squared_error(y_treino, y_pred_treino_v1))\n",
    "print('Root Mean Squared Error:', np.sqrt(metrics.mean_squared_error(y_treino, y_pred_treino_v1)))\n",
    "print('R2 Score:', metrics.r2_score(y_treino, y_pred_treino_v1))"
   ]
  },
  {
   "cell_type": "markdown",
   "id": "c1b95753",
   "metadata": {},
   "source": [
    "### Avaliação do modelo"
   ]
  },
  {
   "cell_type": "code",
   "execution_count": 111,
   "id": "818ac788",
   "metadata": {},
   "outputs": [],
   "source": [
    "# Previsões com dados de teste com padronização\n",
    "y_pred_teste_v1 = modelo_dsa_v1.predict(x_teste_scaled)"
   ]
  },
  {
   "cell_type": "code",
   "execution_count": 112,
   "id": "b2e56f58",
   "metadata": {},
   "outputs": [],
   "source": [
    "# Dataframe com as previsões e valores reais\n",
    "df_previsoes = pd.DataFrame({'Valor_Real': y_teste.flatten(), 'Valor_Previsto': y_pred_teste_v1.flatten()})"
   ]
  },
  {
   "cell_type": "code",
   "execution_count": 113,
   "id": "945e5950",
   "metadata": {},
   "outputs": [
    {
     "data": {
      "text/html": [
       "<div>\n",
       "<style scoped>\n",
       "    .dataframe tbody tr th:only-of-type {\n",
       "        vertical-align: middle;\n",
       "    }\n",
       "\n",
       "    .dataframe tbody tr th {\n",
       "        vertical-align: top;\n",
       "    }\n",
       "\n",
       "    .dataframe thead th {\n",
       "        text-align: right;\n",
       "    }\n",
       "</style>\n",
       "<table border=\"1\" class=\"dataframe\">\n",
       "  <thead>\n",
       "    <tr style=\"text-align: right;\">\n",
       "      <th></th>\n",
       "      <th>Valor_Real</th>\n",
       "      <th>Valor_Previsto</th>\n",
       "    </tr>\n",
       "  </thead>\n",
       "  <tbody>\n",
       "    <tr>\n",
       "      <th>0</th>\n",
       "      <td>56.8</td>\n",
       "      <td>57.628509</td>\n",
       "    </tr>\n",
       "    <tr>\n",
       "      <th>1</th>\n",
       "      <td>72.7</td>\n",
       "      <td>75.063364</td>\n",
       "    </tr>\n",
       "    <tr>\n",
       "      <th>2</th>\n",
       "      <td>62.3</td>\n",
       "      <td>61.993642</td>\n",
       "    </tr>\n",
       "    <tr>\n",
       "      <th>3</th>\n",
       "      <td>63.9</td>\n",
       "      <td>70.469820</td>\n",
       "    </tr>\n",
       "    <tr>\n",
       "      <th>4</th>\n",
       "      <td>69.4</td>\n",
       "      <td>70.268508</td>\n",
       "    </tr>\n",
       "  </tbody>\n",
       "</table>\n",
       "</div>"
      ],
      "text/plain": [
       "   Valor_Real  Valor_Previsto\n",
       "0        56.8       57.628509\n",
       "1        72.7       75.063364\n",
       "2        62.3       61.993642\n",
       "3        63.9       70.469820\n",
       "4        69.4       70.268508"
      ]
     },
     "execution_count": 113,
     "metadata": {},
     "output_type": "execute_result"
    }
   ],
   "source": [
    "# Visualiza\n",
    "df_previsoes.head()"
   ]
  },
  {
   "cell_type": "code",
   "execution_count": 114,
   "id": "9300af8d",
   "metadata": {},
   "outputs": [],
   "source": [
    "# Função para criar gráfico de dispersão\n",
    "def dsa_cria_scatter(x, y, title, xlabel, ylabel):\n",
    "    \n",
    "    # Figura e subplots\n",
    "    fig, ax = plt.subplots(figsize = (10, 6))\n",
    "    \n",
    "    # Scatter\n",
    "    ax.scatter(x, y, color = \"blue\", alpha = 0.3)\n",
    "\n",
    "    # Labels\n",
    "    ax.set_title(title)\n",
    "    ax.set_xlabel(xlabel)\n",
    "    ax.set_ylabel(ylabel)\n",
    "\n",
    "    ax.spines['top'].set_visible(False)\n",
    "    ax.spines['right'].set_visible(False)\n",
    "    \n",
    "    return"
   ]
  },
  {
   "cell_type": "code",
   "execution_count": 115,
   "id": "ea1d76d6",
   "metadata": {},
   "outputs": [
    {
     "data": {
      "image/png": "[encoded data removed]",
      "text/plain": [
       "<Figure size 720x432 with 1 Axes>"
      ]
     },
     "metadata": {
      "needs_background": "light"
     },
     "output_type": "display_data"
    }
   ],
   "source": [
    "# Plot das previsões\n",
    "dsa_cria_scatter(df_previsoes.Valor_Real, df_previsoes.Valor_Previsto, 'Modelo', 'Previsões', 'Reais')"
   ]
  },
  {
   "cell_type": "code",
   "execution_count": 116,
   "id": "f80a855a",
   "metadata": {},
   "outputs": [
    {
     "name": "stdout",
     "output_type": "stream",
     "text": [
      "Mean Absolute Error: 3.266189451721545\n",
      "Mean Squared Error: 17.857320129264725\n",
      "Root Mean Squared Error: 4.225792248710853\n",
      "R2 Score: 0.7895014895328252\n"
     ]
    }
   ],
   "source": [
    "# Print das métricas com dados de teste\n",
    "print('Mean Absolute Error:', metrics.mean_absolute_error(y_teste, y_pred_teste_v1))\n",
    "print('Mean Squared Error:', metrics.mean_squared_error(y_teste, y_pred_teste_v1))\n",
    "print('Root Mean Squared Error:', np.sqrt(metrics.mean_squared_error(y_teste, y_pred_teste_v1)))\n",
    "print('R2 Score:', metrics.r2_score(y_teste, y_pred_teste_v1))"
   ]
  },
  {
   "cell_type": "markdown",
   "id": "5c6685a9",
   "metadata": {},
   "source": [
    "### Versão 2 do Modelo - Regressão Lasso (Regularização L1)"
   ]
  },
  {
   "cell_type": "code",
   "execution_count": 117,
   "id": "c21b60bf",
   "metadata": {},
   "outputs": [],
   "source": [
    "# O alpha controla a força da regularização\n",
    "modelo_dsa_v2 = Lasso(alpha = 1.0)  "
   ]
  },
  {
   "cell_type": "code",
   "execution_count": 118,
   "id": "d189772b",
   "metadata": {},
   "outputs": [
    {
     "data": {
      "text/html": [
       "<style>#sk-container-id-4 {color: black;background-color: white;}#sk-container-id-4 pre{padding: 0;}#sk-container-id-4 div.sk-toggleable {background-color: white;}#sk-container-id-4 label.sk-toggleable__label {cursor: pointer;display: block;width: 100%;margin-bottom: 0;padding: 0.3em;box-sizing: border-box;text-align: center;}#sk-container-id-4 label.sk-toggleable__label-arrow:before {content: \"▸\";float: left;margin-right: 0.25em;color: #696969;}#sk-container-id-4 label.sk-toggleable__label-arrow:hover:before {color: black;}#sk-container-id-4 div.sk-estimator:hover label.sk-toggleable__label-arrow:before {color: black;}#sk-container-id-4 div.sk-toggleable__content {max-height: 0;max-width: 0;overflow: hidden;text-align: left;background-color: #f0f8ff;}#sk-container-id-4 div.sk-toggleable__content pre {margin: 0.2em;color: black;border-radius: 0.25em;background-color: #f0f8ff;}#sk-container-id-4 input.sk-toggleable__control:checked~div.sk-toggleable__content {max-height: 200px;max-width: 100%;overflow: auto;}#sk-container-id-4 input.sk-toggleable__control:checked~label.sk-toggleable__label-arrow:before {content: \"▾\";}#sk-container-id-4 div.sk-estimator input.sk-toggleable__control:checked~label.sk-toggleable__label {background-color: #d4ebff;}#sk-container-id-4 div.sk-label input.sk-toggleable__control:checked~label.sk-toggleable__label {background-color: #d4ebff;}#sk-container-id-4 input.sk-hidden--visually {border: 0;clip: rect(1px 1px 1px 1px);clip: rect(1px, 1px, 1px, 1px);height: 1px;margin: -1px;overflow: hidden;padding: 0;position: absolute;width: 1px;}#sk-container-id-4 div.sk-estimator {font-family: monospace;background-color: #f0f8ff;border: 1px dotted black;border-radius: 0.25em;box-sizing: border-box;margin-bottom: 0.5em;}#sk-container-id-4 div.sk-estimator:hover {background-color: #d4ebff;}#sk-container-id-4 div.sk-parallel-item::after {content: \"\";width: 100%;border-bottom: 1px solid gray;flex-grow: 1;}#sk-container-id-4 div.sk-label:hover label.sk-toggleable__label {background-color: #d4ebff;}#sk-container-id-4 div.sk-serial::before {content: \"\";position: absolute;border-left: 1px solid gray;box-sizing: border-box;top: 0;bottom: 0;left: 50%;z-index: 0;}#sk-container-id-4 div.sk-serial {display: flex;flex-direction: column;align-items: center;background-color: white;padding-right: 0.2em;padding-left: 0.2em;position: relative;}#sk-container-id-4 div.sk-item {position: relative;z-index: 1;}#sk-container-id-4 div.sk-parallel {display: flex;align-items: stretch;justify-content: center;background-color: white;position: relative;}#sk-container-id-4 div.sk-item::before, #sk-container-id-4 div.sk-parallel-item::before {content: \"\";position: absolute;border-left: 1px solid gray;box-sizing: border-box;top: 0;bottom: 0;left: 50%;z-index: -1;}#sk-container-id-4 div.sk-parallel-item {display: flex;flex-direction: column;z-index: 1;position: relative;background-color: white;}#sk-container-id-4 div.sk-parallel-item:first-child::after {align-self: flex-end;width: 50%;}#sk-container-id-4 div.sk-parallel-item:last-child::after {align-self: flex-start;width: 50%;}#sk-container-id-4 div.sk-parallel-item:only-child::after {width: 0;}#sk-container-id-4 div.sk-dashed-wrapped {border: 1px dashed gray;margin: 0 0.4em 0.5em 0.4em;box-sizing: border-box;padding-bottom: 0.4em;background-color: white;}#sk-container-id-4 div.sk-label label {font-family: monospace;font-weight: bold;display: inline-block;line-height: 1.2em;}#sk-container-id-4 div.sk-label-container {text-align: center;}#sk-container-id-4 div.sk-container {/* jupyter's `normalize.less` sets `[hidden] { display: none; }` but bootstrap.min.css set `[hidden] { display: none !important; }` so we also need the `!important` here to be able to override the default hidden behavior on the sphinx rendered scikit-learn.org. See: https://github.com/scikit-learn/scikit-learn/issues/21755 */display: inline-block !important;position: relative;}#sk-container-id-4 div.sk-text-repr-fallback {display: none;}</style><div id=\"sk-container-id-4\" class=\"sk-top-container\"><div class=\"sk-text-repr-fallback\"><pre>Lasso()</pre><b>In a Jupyter environment, please rerun this cell to show the HTML representation or trust the notebook. <br />On GitHub, the HTML representation is unable to render, please try loading this page with nbviewer.org.</b></div><div class=\"sk-container\" hidden><div class=\"sk-item\"><div class=\"sk-estimator sk-toggleable\"><input class=\"sk-toggleable__control sk-hidden--visually\" id=\"sk-estimator-id-4\" type=\"checkbox\" checked><label for=\"sk-estimator-id-4\" class=\"sk-toggleable__label sk-toggleable__label-arrow\">Lasso</label><div class=\"sk-toggleable__content\"><pre>Lasso()</pre></div></div></div></div></div>"
      ],
      "text/plain": [
       "Lasso()"
      ]
     },
     "execution_count": 118,
     "metadata": {},
     "output_type": "execute_result"
    }
   ],
   "source": [
    "# Treina o modelo\n",
    "modelo_dsa_v2.fit(x_treino_scaled, y_treino)"
   ]
  },
  {
   "cell_type": "code",
   "execution_count": 119,
   "id": "8f4ba41a",
   "metadata": {},
   "outputs": [],
   "source": [
    "# Previsões com dados de treino\n",
    "y_pred_treino_v2 = modelo_dsa_v2.predict(x_treino_scaled)"
   ]
  },
  {
   "cell_type": "code",
   "execution_count": 120,
   "id": "996ba1f0",
   "metadata": {},
   "outputs": [
    {
     "name": "stdout",
     "output_type": "stream",
     "text": [
      "Mean Absolute Error: 3.5248340682223116\n",
      "Mean Squared Error: 21.865597110276294\n",
      "Root Mean Squared Error: 4.676066414228555\n",
      "R2 Score: 0.7398744334211583\n"
     ]
    }
   ],
   "source": [
    "# Print das métricas em treino\n",
    "print('Mean Absolute Error:', metrics.mean_absolute_error(y_treino, y_pred_treino_v2))\n",
    "print('Mean Squared Error:', metrics.mean_squared_error(y_treino, y_pred_treino_v2))\n",
    "print('Root Mean Squared Error:', np.sqrt(metrics.mean_squared_error(y_treino, y_pred_treino_v2)))\n",
    "print('R2 Score:', metrics.r2_score(y_treino, y_pred_treino_v2))"
   ]
  },
  {
   "cell_type": "code",
   "execution_count": 121,
   "id": "6905ee5c",
   "metadata": {},
   "outputs": [],
   "source": [
    "# Previsões com dados de teste com padronização \n",
    "y_pred_teste_v2 = modelo_dsa_v2.predict(x_teste_scaled)"
   ]
  },
  {
   "cell_type": "code",
   "execution_count": 122,
   "id": "d521076d",
   "metadata": {},
   "outputs": [
    {
     "name": "stdout",
     "output_type": "stream",
     "text": [
      "Mean Absolute Error: 3.562012369887744\n",
      "Mean Squared Error: 21.2369395003075\n",
      "Root Mean Squared Error: 4.608355400824409\n",
      "R2 Score: 0.7496632137780741\n"
     ]
    }
   ],
   "source": [
    "# Print das métricas com dados de teste\n",
    "print('Mean Absolute Error:', metrics.mean_absolute_error(y_teste, y_pred_teste_v2))\n",
    "print('Mean Squared Error:', metrics.mean_squared_error(y_teste, y_pred_teste_v2))\n",
    "print('Root Mean Squared Error:', np.sqrt(metrics.mean_squared_error(y_teste, y_pred_teste_v2)))\n",
    "print('R2 Score:', metrics.r2_score(y_teste, y_pred_teste_v2))"
   ]
  },
  {
   "cell_type": "markdown",
   "id": "b3132cc2",
   "metadata": {},
   "source": [
    "### Versão 3 do Modelo - Regressão Ridge (Regularização L2)\n",
    "\n",
    "A regressão Ridge adiciona um termo de penalidade igual ao quadrado do tamanho dos coeficientes à função de custo. Isso força o modelo a manter os coeficientes pequenos, o que pode ajudar na redução do overfitting."
   ]
  },
  {
   "cell_type": "code",
   "execution_count": 123,
   "id": "c7c8e535",
   "metadata": {},
   "outputs": [],
   "source": [
    "# Cria o modelo com regularização Ridge\n",
    "# O alpha é o parâmetro de regularização\n",
    "modelo_dsa_v3 = Ridge(alpha = 1.0)  "
   ]
  },
  {
   "cell_type": "code",
   "execution_count": 124,
   "id": "2710a465",
   "metadata": {},
   "outputs": [
    {
     "data": {
      "text/html": [
       "<style>#sk-container-id-5 {color: black;background-color: white;}#sk-container-id-5 pre{padding: 0;}#sk-container-id-5 div.sk-toggleable {background-color: white;}#sk-container-id-5 label.sk-toggleable__label {cursor: pointer;display: block;width: 100%;margin-bottom: 0;padding: 0.3em;box-sizing: border-box;text-align: center;}#sk-container-id-5 label.sk-toggleable__label-arrow:before {content: \"▸\";float: left;margin-right: 0.25em;color: #696969;}#sk-container-id-5 label.sk-toggleable__label-arrow:hover:before {color: black;}#sk-container-id-5 div.sk-estimator:hover label.sk-toggleable__label-arrow:before {color: black;}#sk-container-id-5 div.sk-toggleable__content {max-height: 0;max-width: 0;overflow: hidden;text-align: left;background-color: #f0f8ff;}#sk-container-id-5 div.sk-toggleable__content pre {margin: 0.2em;color: black;border-radius: 0.25em;background-color: #f0f8ff;}#sk-container-id-5 input.sk-toggleable__control:checked~div.sk-toggleable__content {max-height: 200px;max-width: 100%;overflow: auto;}#sk-container-id-5 input.sk-toggleable__control:checked~label.sk-toggleable__label-arrow:before {content: \"▾\";}#sk-container-id-5 div.sk-estimator input.sk-toggleable__control:checked~label.sk-toggleable__label {background-color: #d4ebff;}#sk-container-id-5 div.sk-label input.sk-toggleable__control:checked~label.sk-toggleable__label {background-color: #d4ebff;}#sk-container-id-5 input.sk-hidden--visually {border: 0;clip: rect(1px 1px 1px 1px);clip: rect(1px, 1px, 1px, 1px);height: 1px;margin: -1px;overflow: hidden;padding: 0;position: absolute;width: 1px;}#sk-container-id-5 div.sk-estimator {font-family: monospace;background-color: #f0f8ff;border: 1px dotted black;border-radius: 0.25em;box-sizing: border-box;margin-bottom: 0.5em;}#sk-container-id-5 div.sk-estimator:hover {background-color: #d4ebff;}#sk-container-id-5 div.sk-parallel-item::after {content: \"\";width: 100%;border-bottom: 1px solid gray;flex-grow: 1;}#sk-container-id-5 div.sk-label:hover label.sk-toggleable__label {background-color: #d4ebff;}#sk-container-id-5 div.sk-serial::before {content: \"\";position: absolute;border-left: 1px solid gray;box-sizing: border-box;top: 0;bottom: 0;left: 50%;z-index: 0;}#sk-container-id-5 div.sk-serial {display: flex;flex-direction: column;align-items: center;background-color: white;padding-right: 0.2em;padding-left: 0.2em;position: relative;}#sk-container-id-5 div.sk-item {position: relative;z-index: 1;}#sk-container-id-5 div.sk-parallel {display: flex;align-items: stretch;justify-content: center;background-color: white;position: relative;}#sk-container-id-5 div.sk-item::before, #sk-container-id-5 div.sk-parallel-item::before {content: \"\";position: absolute;border-left: 1px solid gray;box-sizing: border-box;top: 0;bottom: 0;left: 50%;z-index: -1;}#sk-container-id-5 div.sk-parallel-item {display: flex;flex-direction: column;z-index: 1;position: relative;background-color: white;}#sk-container-id-5 div.sk-parallel-item:first-child::after {align-self: flex-end;width: 50%;}#sk-container-id-5 div.sk-parallel-item:last-child::after {align-self: flex-start;width: 50%;}#sk-container-id-5 div.sk-parallel-item:only-child::after {width: 0;}#sk-container-id-5 div.sk-dashed-wrapped {border: 1px dashed gray;margin: 0 0.4em 0.5em 0.4em;box-sizing: border-box;padding-bottom: 0.4em;background-color: white;}#sk-container-id-5 div.sk-label label {font-family: monospace;font-weight: bold;display: inline-block;line-height: 1.2em;}#sk-container-id-5 div.sk-label-container {text-align: center;}#sk-container-id-5 div.sk-container {/* jupyter's `normalize.less` sets `[hidden] { display: none; }` but bootstrap.min.css set `[hidden] { display: none !important; }` so we also need the `!important` here to be able to override the default hidden behavior on the sphinx rendered scikit-learn.org. See: https://github.com/scikit-learn/scikit-learn/issues/21755 */display: inline-block !important;position: relative;}#sk-container-id-5 div.sk-text-repr-fallback {display: none;}</style><div id=\"sk-container-id-5\" class=\"sk-top-container\"><div class=\"sk-text-repr-fallback\"><pre>Ridge()</pre><b>In a Jupyter environment, please rerun this cell to show the HTML representation or trust the notebook. <br />On GitHub, the HTML representation is unable to render, please try loading this page with nbviewer.org.</b></div><div class=\"sk-container\" hidden><div class=\"sk-item\"><div class=\"sk-estimator sk-toggleable\"><input class=\"sk-toggleable__control sk-hidden--visually\" id=\"sk-estimator-id-5\" type=\"checkbox\" checked><label for=\"sk-estimator-id-5\" class=\"sk-toggleable__label sk-toggleable__label-arrow\">Ridge</label><div class=\"sk-toggleable__content\"><pre>Ridge()</pre></div></div></div></div></div>"
      ],
      "text/plain": [
       "Ridge()"
      ]
     },
     "execution_count": 124,
     "metadata": {},
     "output_type": "execute_result"
    }
   ],
   "source": [
    "# Treinamento do modelo\n",
    "modelo_dsa_v3.fit(x_treino_scaled, y_treino)"
   ]
  },
  {
   "cell_type": "code",
   "execution_count": 126,
   "id": "f5ed4a79",
   "metadata": {},
   "outputs": [],
   "source": [
    "# Previsões com dados de treino\n",
    "y_pred_treino_v3 = modelo_dsa_v3.predict(x_treino_scaled)"
   ]
  },
  {
   "cell_type": "code",
   "execution_count": 127,
   "id": "33b3c7b0",
   "metadata": {},
   "outputs": [
    {
     "name": "stdout",
     "output_type": "stream",
     "text": [
      "Mean Absolute Error: 3.2947409386562523\n",
      "Mean Squared Error: 19.41256839691876\n",
      "Root Mean Squared Error: 4.405969631865245\n",
      "R2 Score: 0.7690570567301923\n"
     ]
    }
   ],
   "source": [
    "# Print das métricas em treino\n",
    "print('Mean Absolute Error:', metrics.mean_absolute_error(y_treino, y_pred_treino_v3))\n",
    "print('Mean Squared Error:', metrics.mean_squared_error(y_treino, y_pred_treino_v3))\n",
    "print('Root Mean Squared Error:', np.sqrt(metrics.mean_squared_error(y_treino, y_pred_treino_v3)))\n",
    "print('R2 Score:', metrics.r2_score(y_treino, y_pred_treino_v3))"
   ]
  },
  {
   "cell_type": "code",
   "execution_count": 128,
   "id": "86608745",
   "metadata": {},
   "outputs": [],
   "source": [
    "# Previsões com dados de teste com padronização \n",
    "y_pred_teste_v3 = modelo_dsa_v3.predict(x_teste_scaled)"
   ]
  },
  {
   "cell_type": "code",
   "execution_count": 129,
   "id": "4d662549",
   "metadata": {},
   "outputs": [
    {
     "name": "stdout",
     "output_type": "stream",
     "text": [
      "Mean Absolute Error: 3.2662971013103372\n",
      "Mean Squared Error: 17.857929844510906\n",
      "Root Mean Squared Error: 4.225864390217805\n",
      "R2 Score: 0.7894943023317109\n"
     ]
    }
   ],
   "source": [
    "# Print das métricas com dados de teste\n",
    "print('Mean Absolute Error:', metrics.mean_absolute_error(y_teste, y_pred_teste_v3))\n",
    "print('Mean Squared Error:', metrics.mean_squared_error(y_teste, y_pred_teste_v3))\n",
    "print('Root Mean Squared Error:', np.sqrt(metrics.mean_squared_error(y_teste, y_pred_teste_v3)))\n",
    "print('R2 Score:', metrics.r2_score(y_teste, y_pred_teste_v3))"
   ]
  },
  {
   "cell_type": "markdown",
   "id": "baf40e3b",
   "metadata": {},
   "source": [
    "### Versão 4 do modelo - Regressão Elastic Net\n",
    "\n",
    "Elastic net é um combinação de regularizações L1 e L2. Ela pode ser útil quando há múltiplas características correlacionadas. Elastic net tem dois parâmetros para ajustar: um para a regularização L1 e outro para a L2."
   ]
  },
  {
   "cell_type": "code",
   "execution_count": 130,
   "id": "8ee70e9f",
   "metadata": {},
   "outputs": [],
   "source": [
    "# Cria o modelo de regularização Elastic Net\n",
    "# alpha é a força da regularização: l1_ratio é a mistura entre L1 e L2\n",
    "modelo_dsa_v4 = ElasticNet(alpha = 1.0, l1_ratio = 0.5)"
   ]
  },
  {
   "cell_type": "code",
   "execution_count": 131,
   "id": "d65a35ec",
   "metadata": {},
   "outputs": [],
   "source": [
    "?ElasticNet"
   ]
  },
  {
   "cell_type": "code",
   "execution_count": 132,
   "id": "831f736d",
   "metadata": {},
   "outputs": [
    {
     "data": {
      "text/html": [
       "<style>#sk-container-id-6 {color: black;background-color: white;}#sk-container-id-6 pre{padding: 0;}#sk-container-id-6 div.sk-toggleable {background-color: white;}#sk-container-id-6 label.sk-toggleable__label {cursor: pointer;display: block;width: 100%;margin-bottom: 0;padding: 0.3em;box-sizing: border-box;text-align: center;}#sk-container-id-6 label.sk-toggleable__label-arrow:before {content: \"▸\";float: left;margin-right: 0.25em;color: #696969;}#sk-container-id-6 label.sk-toggleable__label-arrow:hover:before {color: black;}#sk-container-id-6 div.sk-estimator:hover label.sk-toggleable__label-arrow:before {color: black;}#sk-container-id-6 div.sk-toggleable__content {max-height: 0;max-width: 0;overflow: hidden;text-align: left;background-color: #f0f8ff;}#sk-container-id-6 div.sk-toggleable__content pre {margin: 0.2em;color: black;border-radius: 0.25em;background-color: #f0f8ff;}#sk-container-id-6 input.sk-toggleable__control:checked~div.sk-toggleable__content {max-height: 200px;max-width: 100%;overflow: auto;}#sk-container-id-6 input.sk-toggleable__control:checked~label.sk-toggleable__label-arrow:before {content: \"▾\";}#sk-container-id-6 div.sk-estimator input.sk-toggleable__control:checked~label.sk-toggleable__label {background-color: #d4ebff;}#sk-container-id-6 div.sk-label input.sk-toggleable__control:checked~label.sk-toggleable__label {background-color: #d4ebff;}#sk-container-id-6 input.sk-hidden--visually {border: 0;clip: rect(1px 1px 1px 1px);clip: rect(1px, 1px, 1px, 1px);height: 1px;margin: -1px;overflow: hidden;padding: 0;position: absolute;width: 1px;}#sk-container-id-6 div.sk-estimator {font-family: monospace;background-color: #f0f8ff;border: 1px dotted black;border-radius: 0.25em;box-sizing: border-box;margin-bottom: 0.5em;}#sk-container-id-6 div.sk-estimator:hover {background-color: #d4ebff;}#sk-container-id-6 div.sk-parallel-item::after {content: \"\";width: 100%;border-bottom: 1px solid gray;flex-grow: 1;}#sk-container-id-6 div.sk-label:hover label.sk-toggleable__label {background-color: #d4ebff;}#sk-container-id-6 div.sk-serial::before {content: \"\";position: absolute;border-left: 1px solid gray;box-sizing: border-box;top: 0;bottom: 0;left: 50%;z-index: 0;}#sk-container-id-6 div.sk-serial {display: flex;flex-direction: column;align-items: center;background-color: white;padding-right: 0.2em;padding-left: 0.2em;position: relative;}#sk-container-id-6 div.sk-item {position: relative;z-index: 1;}#sk-container-id-6 div.sk-parallel {display: flex;align-items: stretch;justify-content: center;background-color: white;position: relative;}#sk-container-id-6 div.sk-item::before, #sk-container-id-6 div.sk-parallel-item::before {content: \"\";position: absolute;border-left: 1px solid gray;box-sizing: border-box;top: 0;bottom: 0;left: 50%;z-index: -1;}#sk-container-id-6 div.sk-parallel-item {display: flex;flex-direction: column;z-index: 1;position: relative;background-color: white;}#sk-container-id-6 div.sk-parallel-item:first-child::after {align-self: flex-end;width: 50%;}#sk-container-id-6 div.sk-parallel-item:last-child::after {align-self: flex-start;width: 50%;}#sk-container-id-6 div.sk-parallel-item:only-child::after {width: 0;}#sk-container-id-6 div.sk-dashed-wrapped {border: 1px dashed gray;margin: 0 0.4em 0.5em 0.4em;box-sizing: border-box;padding-bottom: 0.4em;background-color: white;}#sk-container-id-6 div.sk-label label {font-family: monospace;font-weight: bold;display: inline-block;line-height: 1.2em;}#sk-container-id-6 div.sk-label-container {text-align: center;}#sk-container-id-6 div.sk-container {/* jupyter's `normalize.less` sets `[hidden] { display: none; }` but bootstrap.min.css set `[hidden] { display: none !important; }` so we also need the `!important` here to be able to override the default hidden behavior on the sphinx rendered scikit-learn.org. See: https://github.com/scikit-learn/scikit-learn/issues/21755 */display: inline-block !important;position: relative;}#sk-container-id-6 div.sk-text-repr-fallback {display: none;}</style><div id=\"sk-container-id-6\" class=\"sk-top-container\"><div class=\"sk-text-repr-fallback\"><pre>ElasticNet()</pre><b>In a Jupyter environment, please rerun this cell to show the HTML representation or trust the notebook. <br />On GitHub, the HTML representation is unable to render, please try loading this page with nbviewer.org.</b></div><div class=\"sk-container\" hidden><div class=\"sk-item\"><div class=\"sk-estimator sk-toggleable\"><input class=\"sk-toggleable__control sk-hidden--visually\" id=\"sk-estimator-id-6\" type=\"checkbox\" checked><label for=\"sk-estimator-id-6\" class=\"sk-toggleable__label sk-toggleable__label-arrow\">ElasticNet</label><div class=\"sk-toggleable__content\"><pre>ElasticNet()</pre></div></div></div></div></div>"
      ],
      "text/plain": [
       "ElasticNet()"
      ]
     },
     "execution_count": 132,
     "metadata": {},
     "output_type": "execute_result"
    }
   ],
   "source": [
    "# Treinamento do modelo\n",
    "modelo_dsa_v4.fit(x_treino_scaled, y_treino)"
   ]
  },
  {
   "cell_type": "code",
   "execution_count": 136,
   "id": "7c7064a0",
   "metadata": {},
   "outputs": [],
   "source": [
    "# Previsões com dados de treino\n",
    "y_pred_treino_v4 = modelo_dsa_v4.predict(x_treino_scaled)"
   ]
  },
  {
   "cell_type": "code",
   "execution_count": 137,
   "id": "3c1bfcdb",
   "metadata": {},
   "outputs": [
    {
     "name": "stdout",
     "output_type": "stream",
     "text": [
      "Mean Absolute Error: 3.7600839612120556\n",
      "Mean Squared Error: 23.780726049354367\n",
      "Root Mean Squared Error: 4.876548579615953\n",
      "R2 Score: 0.7170909714449432\n"
     ]
    }
   ],
   "source": [
    "# Print das métricas em treino\n",
    "print('Mean Absolute Error:', metrics.mean_absolute_error(y_treino, y_pred_treino_v4))\n",
    "print('Mean Squared Error:', metrics.mean_squared_error(y_treino, y_pred_treino_v4))\n",
    "print('Root Mean Squared Error:', np.sqrt(metrics.mean_squared_error(y_treino, y_pred_treino_v4)))\n",
    "print('R2 Score:', metrics.r2_score(y_treino, y_pred_treino_v4))"
   ]
  },
  {
   "cell_type": "code",
   "execution_count": 138,
   "id": "610da68a",
   "metadata": {},
   "outputs": [],
   "source": [
    "# Previsões com dados de teste com padronização \n",
    "y_pred_teste_v4 = modelo_dsa_v4.predict(x_teste_scaled)"
   ]
  },
  {
   "cell_type": "code",
   "execution_count": 139,
   "id": "497ea1b2",
   "metadata": {},
   "outputs": [
    {
     "name": "stdout",
     "output_type": "stream",
     "text": [
      "Mean Absolute Error: 3.7892029277347117\n",
      "Mean Squared Error: 23.216197494635214\n",
      "Root Mean Squared Error: 4.818318949035567\n",
      "R2 Score: 0.7263321172518123\n"
     ]
    }
   ],
   "source": [
    "# Print das métricas com dados de teste\n",
    "print('Mean Absolute Error:', metrics.mean_absolute_error(y_teste, y_pred_teste_v4))\n",
    "print('Mean Squared Error:', metrics.mean_squared_error(y_teste, y_pred_teste_v4))\n",
    "print('Root Mean Squared Error:', np.sqrt(metrics.mean_squared_error(y_teste, y_pred_teste_v4)))\n",
    "print('R2 Score:', metrics.r2_score(y_teste, y_pred_teste_v4))"
   ]
  },
  {
   "cell_type": "markdown",
   "id": "50355f09",
   "metadata": {},
   "source": [
    "### Versão 5 do modelo - Otimização de Hiperparâmetros"
   ]
  },
  {
   "cell_type": "code",
   "execution_count": 143,
   "id": "49a9d8e6",
   "metadata": {},
   "outputs": [],
   "source": [
    "# Definição do modelo\n",
    "modelo_dsa_v5 = Ridge()"
   ]
  },
  {
   "cell_type": "code",
   "execution_count": 144,
   "id": "61c5a28f",
   "metadata": {},
   "outputs": [],
   "source": [
    "# Definição do espaço de hiperplano para otimização\n",
    "parametros = {'alpha': [0.01, 0.1, 1, 10, 100]}"
   ]
  },
  {
   "cell_type": "code",
   "execution_count": 145,
   "id": "c91d01cd",
   "metadata": {},
   "outputs": [],
   "source": [
    "# Configuração do GridSearchCV\n",
    "grid_search_dsa = GridSearchCV(estimator = modelo_dsa_v5, \n",
    "                               param_grid = parametros, \n",
    "                               cv = 5, \n",
    "                               scoring = 'neg_mean_squared_error', \n",
    "                               verbose = 1)"
   ]
  },
  {
   "cell_type": "code",
   "execution_count": 146,
   "id": "c25012c6",
   "metadata": {},
   "outputs": [
    {
     "name": "stdout",
     "output_type": "stream",
     "text": [
      "Fitting 5 folds for each of 5 candidates, totalling 25 fits\n"
     ]
    },
    {
     "data": {
      "text/html": [
       "<style>#sk-container-id-7 {color: black;background-color: white;}#sk-container-id-7 pre{padding: 0;}#sk-container-id-7 div.sk-toggleable {background-color: white;}#sk-container-id-7 label.sk-toggleable__label {cursor: pointer;display: block;width: 100%;margin-bottom: 0;padding: 0.3em;box-sizing: border-box;text-align: center;}#sk-container-id-7 label.sk-toggleable__label-arrow:before {content: \"▸\";float: left;margin-right: 0.25em;color: #696969;}#sk-container-id-7 label.sk-toggleable__label-arrow:hover:before {color: black;}#sk-container-id-7 div.sk-estimator:hover label.sk-toggleable__label-arrow:before {color: black;}#sk-container-id-7 div.sk-toggleable__content {max-height: 0;max-width: 0;overflow: hidden;text-align: left;background-color: #f0f8ff;}#sk-container-id-7 div.sk-toggleable__content pre {margin: 0.2em;color: black;border-radius: 0.25em;background-color: #f0f8ff;}#sk-container-id-7 input.sk-toggleable__control:checked~div.sk-toggleable__content {max-height: 200px;max-width: 100%;overflow: auto;}#sk-container-id-7 input.sk-toggleable__control:checked~label.sk-toggleable__label-arrow:before {content: \"▾\";}#sk-container-id-7 div.sk-estimator input.sk-toggleable__control:checked~label.sk-toggleable__label {background-color: #d4ebff;}#sk-container-id-7 div.sk-label input.sk-toggleable__control:checked~label.sk-toggleable__label {background-color: #d4ebff;}#sk-container-id-7 input.sk-hidden--visually {border: 0;clip: rect(1px 1px 1px 1px);clip: rect(1px, 1px, 1px, 1px);height: 1px;margin: -1px;overflow: hidden;padding: 0;position: absolute;width: 1px;}#sk-container-id-7 div.sk-estimator {font-family: monospace;background-color: #f0f8ff;border: 1px dotted black;border-radius: 0.25em;box-sizing: border-box;margin-bottom: 0.5em;}#sk-container-id-7 div.sk-estimator:hover {background-color: #d4ebff;}#sk-container-id-7 div.sk-parallel-item::after {content: \"\";width: 100%;border-bottom: 1px solid gray;flex-grow: 1;}#sk-container-id-7 div.sk-label:hover label.sk-toggleable__label {background-color: #d4ebff;}#sk-container-id-7 div.sk-serial::before {content: \"\";position: absolute;border-left: 1px solid gray;box-sizing: border-box;top: 0;bottom: 0;left: 50%;z-index: 0;}#sk-container-id-7 div.sk-serial {display: flex;flex-direction: column;align-items: center;background-color: white;padding-right: 0.2em;padding-left: 0.2em;position: relative;}#sk-container-id-7 div.sk-item {position: relative;z-index: 1;}#sk-container-id-7 div.sk-parallel {display: flex;align-items: stretch;justify-content: center;background-color: white;position: relative;}#sk-container-id-7 div.sk-item::before, #sk-container-id-7 div.sk-parallel-item::before {content: \"\";position: absolute;border-left: 1px solid gray;box-sizing: border-box;top: 0;bottom: 0;left: 50%;z-index: -1;}#sk-container-id-7 div.sk-parallel-item {display: flex;flex-direction: column;z-index: 1;position: relative;background-color: white;}#sk-container-id-7 div.sk-parallel-item:first-child::after {align-self: flex-end;width: 50%;}#sk-container-id-7 div.sk-parallel-item:last-child::after {align-self: flex-start;width: 50%;}#sk-container-id-7 div.sk-parallel-item:only-child::after {width: 0;}#sk-container-id-7 div.sk-dashed-wrapped {border: 1px dashed gray;margin: 0 0.4em 0.5em 0.4em;box-sizing: border-box;padding-bottom: 0.4em;background-color: white;}#sk-container-id-7 div.sk-label label {font-family: monospace;font-weight: bold;display: inline-block;line-height: 1.2em;}#sk-container-id-7 div.sk-label-container {text-align: center;}#sk-container-id-7 div.sk-container {/* jupyter's `normalize.less` sets `[hidden] { display: none; }` but bootstrap.min.css set `[hidden] { display: none !important; }` so we also need the `!important` here to be able to override the default hidden behavior on the sphinx rendered scikit-learn.org. See: https://github.com/scikit-learn/scikit-learn/issues/21755 */display: inline-block !important;position: relative;}#sk-container-id-7 div.sk-text-repr-fallback {display: none;}</style><div id=\"sk-container-id-7\" class=\"sk-top-container\"><div class=\"sk-text-repr-fallback\"><pre>GridSearchCV(cv=5, estimator=Ridge(),\n",
       "             param_grid={&#x27;alpha&#x27;: [0.01, 0.1, 1, 10, 100]},\n",
       "             scoring=&#x27;neg_mean_squared_error&#x27;, verbose=1)</pre><b>In a Jupyter environment, please rerun this cell to show the HTML representation or trust the notebook. <br />On GitHub, the HTML representation is unable to render, please try loading this page with nbviewer.org.</b></div><div class=\"sk-container\" hidden><div class=\"sk-item sk-dashed-wrapped\"><div class=\"sk-label-container\"><div class=\"sk-label sk-toggleable\"><input class=\"sk-toggleable__control sk-hidden--visually\" id=\"sk-estimator-id-7\" type=\"checkbox\" ><label for=\"sk-estimator-id-7\" class=\"sk-toggleable__label sk-toggleable__label-arrow\">GridSearchCV</label><div class=\"sk-toggleable__content\"><pre>GridSearchCV(cv=5, estimator=Ridge(),\n",
       "             param_grid={&#x27;alpha&#x27;: [0.01, 0.1, 1, 10, 100]},\n",
       "             scoring=&#x27;neg_mean_squared_error&#x27;, verbose=1)</pre></div></div></div><div class=\"sk-parallel\"><div class=\"sk-parallel-item\"><div class=\"sk-item\"><div class=\"sk-label-container\"><div class=\"sk-label sk-toggleable\"><input class=\"sk-toggleable__control sk-hidden--visually\" id=\"sk-estimator-id-8\" type=\"checkbox\" ><label for=\"sk-estimator-id-8\" class=\"sk-toggleable__label sk-toggleable__label-arrow\">estimator: Ridge</label><div class=\"sk-toggleable__content\"><pre>Ridge()</pre></div></div></div><div class=\"sk-serial\"><div class=\"sk-item\"><div class=\"sk-estimator sk-toggleable\"><input class=\"sk-toggleable__control sk-hidden--visually\" id=\"sk-estimator-id-9\" type=\"checkbox\" ><label for=\"sk-estimator-id-9\" class=\"sk-toggleable__label sk-toggleable__label-arrow\">Ridge</label><div class=\"sk-toggleable__content\"><pre>Ridge()</pre></div></div></div></div></div></div></div></div></div></div>"
      ],
      "text/plain": [
       "GridSearchCV(cv=5, estimator=Ridge(),\n",
       "             param_grid={'alpha': [0.01, 0.1, 1, 10, 100]},\n",
       "             scoring='neg_mean_squared_error', verbose=1)"
      ]
     },
     "execution_count": 146,
     "metadata": {},
     "output_type": "execute_result"
    }
   ],
   "source": [
    "# Treinamento com otimização de hiperparâmetros\n",
    "grid_search_dsa.fit(x_treino_scaled, y_treino)"
   ]
  },
  {
   "cell_type": "code",
   "execution_count": 147,
   "id": "bc8cee6b",
   "metadata": {},
   "outputs": [],
   "source": [
    "# Melhor modelo\n",
    "melhor_modelo = grid_search_dsa.best_estimator_"
   ]
  },
  {
   "cell_type": "code",
   "execution_count": 148,
   "id": "37f0069a",
   "metadata": {},
   "outputs": [],
   "source": [
    "# Previsões com dados de treino\n",
    "y_pred_treino_v5 = melhor_modelo.predict(x_treino_scaled)"
   ]
  },
  {
   "cell_type": "code",
   "execution_count": 149,
   "id": "d8314d85",
   "metadata": {},
   "outputs": [
    {
     "name": "stdout",
     "output_type": "stream",
     "text": [
      "Mean Absolute Error: 3.295747537684254\n",
      "Mean Squared Error: 19.41335480629512\n",
      "Root Mean Squared Error: 4.406058874583398\n",
      "R2 Score: 0.7690477011574377\n"
     ]
    }
   ],
   "source": [
    "# Métricas em treino\n",
    "print('Mean Absolute Error:', metrics.mean_absolute_error(y_treino, y_pred_treino_v5))\n",
    "print('Mean Squared Error:', metrics.mean_squared_error(y_treino, y_pred_treino_v5))\n",
    "print('Root Mean Squared Error:', np.sqrt(metrics.mean_squared_error(y_treino, y_pred_treino_v5)))\n",
    "print('R2 Score:', metrics.r2_score(y_treino, y_pred_treino_v5))"
   ]
  },
  {
   "cell_type": "code",
   "execution_count": 150,
   "id": "a0a36057",
   "metadata": {},
   "outputs": [],
   "source": [
    "# Previsões com dados de teste\n",
    "y_pred_teste_v5 = melhor_modelo.predict(x_teste_scaled)"
   ]
  },
  {
   "cell_type": "code",
   "execution_count": 151,
   "id": "de1b9fff",
   "metadata": {},
   "outputs": [
    {
     "name": "stdout",
     "output_type": "stream",
     "text": [
      "Mean Absolute Error: 3.2672750615943604\n",
      "Mean Squared Error: 17.8642215366659\n",
      "Root Mean Squared Error: 4.226608751311848\n",
      "R2 Score: 0.7894201371256577\n"
     ]
    }
   ],
   "source": [
    "# Métricas com dados de teste\n",
    "print('Mean Absolute Error:', metrics.mean_absolute_error(y_teste, y_pred_teste_v5))\n",
    "print('Mean Squared Error:', metrics.mean_squared_error(y_teste, y_pred_teste_v5))\n",
    "print('Root Mean Squared Error:', np.sqrt(metrics.mean_squared_error(y_teste, y_pred_teste_v5)))\n",
    "print('R2 Score:', metrics.r2_score(y_teste, y_pred_teste_v5))"
   ]
  },
  {
   "cell_type": "code",
   "execution_count": 152,
   "id": "ce867cdd",
   "metadata": {},
   "outputs": [
    {
     "name": "stdout",
     "output_type": "stream",
     "text": [
      "Melhor alpha: 10\n"
     ]
    }
   ],
   "source": [
    "# Imprime o melhor hiperparâmetro\n",
    "print('Melhor alpha:', grid_search_dsa.best_params_['alpha'])"
   ]
  },
  {
   "cell_type": "markdown",
   "id": "6f58292d",
   "metadata": {},
   "source": [
    "### Seleção do modelo "
   ]
  },
  {
   "cell_type": "code",
   "execution_count": 153,
   "id": "b522af12",
   "metadata": {},
   "outputs": [
    {
     "name": "stdout",
     "output_type": "stream",
     "text": [
      "RMSE V1: 4.225792248710853\n",
      "RMSE V2: 4.608355400824409\n",
      "RMSE V3: 4.225864390217805\n",
      "RMSE V4: 4.818318949035567\n",
      "RMSE V5: 4.226608751311848\n"
     ]
    }
   ],
   "source": [
    "print('RMSE V1:', np.sqrt(metrics.mean_squared_error(y_teste, y_pred_teste_v1)))\n",
    "print('RMSE V2:', np.sqrt(metrics.mean_squared_error(y_teste, y_pred_teste_v2)))\n",
    "print('RMSE V3:', np.sqrt(metrics.mean_squared_error(y_teste, y_pred_teste_v3)))\n",
    "print('RMSE V4:', np.sqrt(metrics.mean_squared_error(y_teste, y_pred_teste_v4)))\n",
    "print('RMSE V5:', np.sqrt(metrics.mean_squared_error(y_teste, y_pred_teste_v5)))"
   ]
  },
  {
   "cell_type": "code",
   "execution_count": 154,
   "id": "feeba16b",
   "metadata": {},
   "outputs": [
    {
     "name": "stdout",
     "output_type": "stream",
     "text": [
      "R2 Score Modelo V1: 0.7895014895328252\n",
      "R2 Score Modelo V2: 0.7496632137780741\n",
      "R2 Score Modelo V3: 0.7894943023317109\n",
      "R2 Score Modelo V4: 0.7263321172518123\n",
      "R2 Score Modelo V5: 0.7894201371256577\n"
     ]
    }
   ],
   "source": [
    "print('R2 Score Modelo V1:', metrics.r2_score(y_teste, y_pred_teste_v1))\n",
    "print('R2 Score Modelo V2:', metrics.r2_score(y_teste, y_pred_teste_v2))\n",
    "print('R2 Score Modelo V3:', metrics.r2_score(y_teste, y_pred_teste_v3))\n",
    "print('R2 Score Modelo V4:', metrics.r2_score(y_teste, y_pred_teste_v4))\n",
    "print('R2 Score Modelo V5:', metrics.r2_score(y_teste, y_pred_teste_v5))"
   ]
  },
  {
   "cell_type": "markdown",
   "id": "6de32aa6",
   "metadata": {},
   "source": [
    "> O modelo v1 que apresenta a melhor performance geral, ao mesmo tempo que é o modelo mais simples. "
   ]
  },
  {
   "cell_type": "markdown",
   "id": "26a19e27",
   "metadata": {},
   "source": [
    "#### Plotando os resíduos e validando uma das suposições da Regressão Linear."
   ]
  },
  {
   "cell_type": "code",
   "execution_count": 155,
   "id": "d208e60d",
   "metadata": {},
   "outputs": [
    {
     "data": {
      "image/png": "[encoded data removed]",
      "text/plain": [
       "<Figure size 720x360 with 1 Axes>"
      ]
     },
     "metadata": {
      "needs_background": "light"
     },
     "output_type": "display_data"
    },
    {
     "data": {
      "image/png": "[encoded data removed]",
      "text/plain": [
       "<Figure size 720x360 with 1 Axes>"
      ]
     },
     "metadata": {
      "needs_background": "light"
     },
     "output_type": "display_data"
    }
   ],
   "source": [
    "# Calculando os resíduos para o conjunto de treino\n",
    "residuos_treino = y_treino - y_pred_treino_v1\n",
    "\n",
    "# Calculando os resíduos para o conjunto de teste\n",
    "residuos_teste = y_teste - y_pred_teste_v1\n",
    "\n",
    "# Plotando os resíduos do conjunto de treino\n",
    "plt.figure(figsize = (10, 5))\n",
    "plt.scatter(y_pred_treino_v1, residuos_treino, color = 'blue', label = 'Treino', alpha = 0.5)\n",
    "plt.axhline(y = 0, color = 'red', linestyle = '--')\n",
    "plt.xlabel('Valores Previstos')\n",
    "plt.ylabel('Resíduos')\n",
    "plt.title('Resíduos vs. Valores Previstos (Treino)')\n",
    "plt.legend()\n",
    "plt.show()\n",
    "\n",
    "# Plotando os resíduos do conjunto de teste\n",
    "plt.figure(figsize = (10, 5))\n",
    "plt.scatter(y_pred_teste_v1, residuos_teste, color = 'green', label = 'Teste', alpha = 0.5)\n",
    "plt.axhline(y = 0, color = 'red', linestyle = '--')\n",
    "plt.xlabel('Valores Previstos')\n",
    "plt.ylabel('Resíduos')\n",
    "plt.title('Resíduos vs. Valores Previstos (Teste)')\n",
    "plt.legend()\n",
    "plt.show()"
   ]
  },
  {
   "cell_type": "markdown",
   "id": "e332c0cf",
   "metadata": {},
   "source": [
    "Pelos gráficos:\n",
    "\n",
    "**Distribuição dos Resíduos**: Idealmente, os resíduos devem estar distribuídos aleatoriamente ao redor da linha horizontal y=0, indicando que o modelo está fazendo boas previsões em média em todas as faixas de valores.\n",
    "\n",
    "**Padrões nos Resíduos**: Se você notar padrões específicos, como uma forma curvilínea ou uma dispersão crescente ou decrescente dos resíduos conforme os valores previstos aumentam, isso pode indicar problemas no modelo, como a necessidade de transformação nas variáveis ou a presença de heteroscedasticidade.\n",
    "\n",
    "Nosso modelo está pronto para o deploy."
   ]
  },
  {
   "cell_type": "code",
   "execution_count": 156,
   "id": "ca6766e2",
   "metadata": {},
   "outputs": [
    {
     "data": {
      "text/plain": [
       "['dsa_scaler.pkl']"
      ]
     },
     "execution_count": 156,
     "metadata": {},
     "output_type": "execute_result"
    }
   ],
   "source": [
    "# Salva o scaler\n",
    "joblib.dump(dsa_scaler, 'dsa_scaler.pkl')"
   ]
  },
  {
   "cell_type": "code",
   "execution_count": 157,
   "id": "4ed6d606",
   "metadata": {},
   "outputs": [
    {
     "data": {
      "text/plain": [
       "['modelo_dsa_v1.pkl']"
      ]
     },
     "execution_count": 157,
     "metadata": {},
     "output_type": "execute_result"
    }
   ],
   "source": [
    "# Salva o modelo\n",
    "joblib.dump(modelo_dsa_v1, 'modelo_dsa_v1.pkl')"
   ]
  },
  {
   "cell_type": "markdown",
   "id": "8a256c58",
   "metadata": {},
   "source": [
    "## Deploy e Uso do Modelo Para Previsão com Novos Dados"
   ]
  },
  {
   "cell_type": "code",
   "execution_count": 158,
   "id": "1d84fd8b",
   "metadata": {},
   "outputs": [],
   "source": [
    "# Carrega padronizador e modelo\n",
    "scaler_final = joblib.load('dsa_scaler.pkl')\n",
    "modelo_final = joblib.load('modelo_dsa_v1.pkl')"
   ]
  },
  {
   "cell_type": "code",
   "execution_count": 159,
   "id": "c9672732",
   "metadata": {},
   "outputs": [],
   "source": [
    "# Carregando os novos dados\n",
    "novos_dados = pd.read_csv('novos_dados.csv')"
   ]
  },
  {
   "cell_type": "code",
   "execution_count": 160,
   "id": "6ab42eec",
   "metadata": {},
   "outputs": [
    {
     "data": {
      "text/html": [
       "<div>\n",
       "<style scoped>\n",
       "    .dataframe tbody tr th:only-of-type {\n",
       "        vertical-align: middle;\n",
       "    }\n",
       "\n",
       "    .dataframe tbody tr th {\n",
       "        vertical-align: top;\n",
       "    }\n",
       "\n",
       "    .dataframe thead th {\n",
       "        text-align: right;\n",
       "    }\n",
       "</style>\n",
       "<table border=\"1\" class=\"dataframe\">\n",
       "  <thead>\n",
       "    <tr style=\"text-align: right;\">\n",
       "      <th></th>\n",
       "      <th>hiv</th>\n",
       "      <th>adult_mortality</th>\n",
       "      <th>school</th>\n",
       "      <th>thinness_till19</th>\n",
       "      <th>lifestyle</th>\n",
       "      <th>diphtheria</th>\n",
       "    </tr>\n",
       "  </thead>\n",
       "  <tbody>\n",
       "    <tr>\n",
       "      <th>0</th>\n",
       "      <td>0.1</td>\n",
       "      <td>44.2</td>\n",
       "      <td>9.3</td>\n",
       "      <td>12.7</td>\n",
       "      <td>0.922</td>\n",
       "      <td>98.0</td>\n",
       "    </tr>\n",
       "  </tbody>\n",
       "</table>\n",
       "</div>"
      ],
      "text/plain": [
       "   hiv  adult_mortality  school  thinness_till19  lifestyle  diphtheria\n",
       "0  0.1             44.2     9.3             12.7      0.922        98.0"
      ]
     },
     "execution_count": 160,
     "metadata": {},
     "output_type": "execute_result"
    }
   ],
   "source": [
    "# Visualiza\n",
    "novos_dados"
   ]
  },
  {
   "cell_type": "code",
   "execution_count": 161,
   "id": "912bf668",
   "metadata": {},
   "outputs": [],
   "source": [
    "# Os novos dados precisam ser padronizados\n",
    "novos_dados_scaled = scaler_final.transform(novos_dados)"
   ]
  },
  {
   "cell_type": "code",
   "execution_count": 162,
   "id": "b7d375ed",
   "metadata": {},
   "outputs": [
    {
     "data": {
      "text/plain": [
       "array([[-0.34334205, -1.02890346, -0.89466713,  1.89639702, -0.84601198,\n",
       "         0.65780549]])"
      ]
     },
     "execution_count": 162,
     "metadata": {},
     "output_type": "execute_result"
    }
   ],
   "source": [
    "# Visualiza\n",
    "novos_dados_scaled"
   ]
  },
  {
   "cell_type": "code",
   "execution_count": 163,
   "id": "978e9a0d",
   "metadata": {},
   "outputs": [],
   "source": [
    "# Previsão\n",
    "previsao = modelo_final.predict(novos_dados_scaled)"
   ]
  },
  {
   "cell_type": "code",
   "execution_count": 164,
   "id": "9566c11f",
   "metadata": {},
   "outputs": [
    {
     "data": {
      "text/plain": [
       "numpy.ndarray"
      ]
     },
     "execution_count": 164,
     "metadata": {},
     "output_type": "execute_result"
    }
   ],
   "source": [
    "type(previsao)"
   ]
  },
  {
   "cell_type": "code",
   "execution_count": 165,
   "id": "5904b5c5",
   "metadata": {},
   "outputs": [
    {
     "name": "stdout",
     "output_type": "stream",
     "text": [
      "De acordo com os dados de entrada a expectativa de vida (em anos) é de aproximadamente: [[68.12]]\n"
     ]
    }
   ],
   "source": [
    "print('De acordo com os dados de entrada a expectativa de vida (em anos) é de aproximadamente:', \n",
    "      np.round(previsao, 2))"
   ]
  },
  {
   "cell_type": "markdown",
   "id": "159c4f0f",
   "metadata": {},
   "source": [
    "# Fim"
   ]
  }
 ],
 "metadata": {
  "kernelspec": {
   "display_name": "Python 3 (ipykernel)",
   "language": "python",
   "name": "python3"
  },
  "language_info": {
   "codemirror_mode": {
    "name": "ipython",
    "version": 3
   },
   "file_extension": ".py",
   "mimetype": "text/x-python",
   "name": "python",
   "nbconvert_exporter": "python",
   "pygments_lexer": "ipython3",
   "version": "3.9.12"
  }
 },
 "nbformat": 4,
 "nbformat_minor": 5
}
